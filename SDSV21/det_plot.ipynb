{
 "cells": [
  {
   "cell_type": "code",
   "execution_count": 1,
   "metadata": {},
   "outputs": [
    {
     "name": "stderr",
     "output_type": "stream",
     "text": [
      "\n",
      "Bad key \"text.kerning_factor\" on line 4 in\n",
      "/opt/conda/lib/python3.7/site-packages/matplotlib/mpl-data/stylelib/_classic_test_patch.mplstyle.\n",
      "You probably need to get an updated matplotlibrc file from\n",
      "https://github.com/matplotlib/matplotlib/blob/v3.1.3/matplotlibrc.template\n",
      "or from the matplotlib source distribution\n"
     ]
    }
   ],
   "source": [
    "from scipy.stats import norm\n",
    "import matplotlib.pyplot as plt\n",
    "import numpy as np"
   ]
  },
  {
   "cell_type": "code",
   "execution_count": 2,
   "metadata": {},
   "outputs": [],
   "source": [
    "import os\n",
    "import glob\n",
    "import sys\n",
    "import time\n",
    "from sklearn import metrics\n",
    "import numpy\n",
    "import pdb\n",
    "import argparse\n",
    "\n",
    "def compute_c_norm(fnr, fpr, p_target, c_miss=1, c_fa=1):\n",
    "    \"\"\" computes normalized minimum detection cost function (DCF) given\n",
    "        the costs for false accepts and false rejects as well as a priori\n",
    "        probability for target speakers\n",
    "    \"\"\"\n",
    "\n",
    "    dcf = c_miss * fnr * p_target + c_fa * fpr * (1 - p_target)\n",
    "    c_det, c_det_ind = min(dcf), numpy.argmin(dcf)\n",
    "    c_def = min(c_miss * p_target, c_fa * (1 - p_target))\n",
    "\n",
    "    return c_det/c_def, c_det_ind\n",
    "\n",
    "def tuneThresholdfromScore_my(scores, labels, target_fa=None, target_fr=None):\n",
    "    \n",
    "    fpr, tpr, thresholds = metrics.roc_curve(labels, scores, pos_label=1)\n",
    "    fnr = 1 - tpr\n",
    "\n",
    "    ## compute minc@0.01 and minc@0.001\n",
    "    minc_s, ind_1 = compute_c_norm(fnr, fpr, p_target=0.01)\n",
    "    minc_ss, ind_2 = compute_c_norm(fnr, fpr, p_target=0.001)\n",
    "    \n",
    "    fnr = fnr\n",
    "    fpr = fpr\n",
    "\n",
    "    tunedThreshold = []\n",
    "    if target_fr:\n",
    "        for tfr in target_fr:\n",
    "            idx = numpy.nanargmin(numpy.absolute((tfr - fnr)))\n",
    "            tunedThreshold.append([thresholds[idx], fpr[idx], fnr[idx]])\n",
    "    if target_fa:\n",
    "        for tfa in target_fa:\n",
    "            idx = numpy.nanargmin(numpy.absolute((tfa - fpr))) # numpy.where(fpr<=tfa)[0][-1]\n",
    "            tunedThreshold.append([thresholds[idx], fpr[idx], fnr[idx]])\n",
    "    \n",
    "    idxE = numpy.nanargmin(numpy.absolute((fnr - fpr)))\n",
    "    eer  = max(fpr[idxE],fnr[idxE])\n",
    "    \n",
    "    return (tunedThreshold, eer, fpr, fnr, minc_s, minc_ss, ind_1, ind_2)"
   ]
  },
  {
   "cell_type": "code",
   "execution_count": 78,
   "metadata": {},
   "outputs": [],
   "source": [
    "SCORE_PATH_1 = '/workspace/LOGS_OUTPUT/server9_nvme1/ASV_LOGS_202102/train_logs_201120/030802/result/eval_scores.txt'"
   ]
  },
  {
   "cell_type": "code",
   "execution_count": 79,
   "metadata": {},
   "outputs": [],
   "source": [
    "SCORE_PATH_2 = '/workspace/LOGS_OUTPUT/server9_nvme1/ASV_LOGS_202102/train_logs_201120/ECAPA-1024+DAT+(sdsv)0.01/result/model000000056.sdsvdevsc'"
   ]
  },
  {
   "cell_type": "code",
   "execution_count": 108,
   "metadata": {},
   "outputs": [],
   "source": [
    "SCORE_PATH_3 = '/workspace/LOGS_OUTPUT/server9_nvme1/ASV_LOGS_202102/train_logs_201120/040100/result/eval_scores.txt'\n",
    "SCORE_PATH_4 = '/workspace/LOGS_OUTPUT/server9_nvme1/ASV_LOGS_202102/train_logs_201120/040101/result/eval_scores.txt'\n",
    "SCORE_PATH_5 = '/workspace/LOGS_OUTPUT/server9_nvme1/ASV_LOGS_202102/train_logs_201120/040102/result/eval_scores.txt'\n",
    "SCORE_PATH_6 = '/workspace/LOGS_OUTPUT/server9_nvme1/ASV_LOGS_202102/train_logs_201120/040103/result/eval_scores.txt'"
   ]
  },
  {
   "cell_type": "code",
   "execution_count": 80,
   "metadata": {},
   "outputs": [],
   "source": [
    "KEYS = '/workspace/DATASET/server9_ssd/sdsv21/task2_devtriallist.txt'"
   ]
  },
  {
   "cell_type": "code",
   "execution_count": 109,
   "metadata": {},
   "outputs": [],
   "source": [
    "KEYS_2 = '/workspace/DATASET/server9_ssd/sdsv21/task2_devtriallist_FA.txt'"
   ]
  },
  {
   "cell_type": "code",
   "execution_count": 110,
   "metadata": {},
   "outputs": [],
   "source": [
    "KEYS_3 = '/workspace/DATASET/server9_ssd/sdsv21/task2_devtriallist_EN.txt'"
   ]
  },
  {
   "cell_type": "code",
   "execution_count": 118,
   "metadata": {},
   "outputs": [],
   "source": [
    "with open(SCORE_PATH_1, 'r') as f:\n",
    "    lines = f.readlines()\n",
    "    \n",
    "scores = []\n",
    "for i in lines:\n",
    "    scores.append(float(i.split(' ')[0]))\n",
    "scores = numpy.array(scores)"
   ]
  },
  {
   "cell_type": "code",
   "execution_count": 119,
   "metadata": {},
   "outputs": [],
   "source": [
    "with open(SCORE_PATH_2, 'r') as f:\n",
    "    lines = f.readlines()\n",
    "    \n",
    "scores_2 = []\n",
    "for i in lines:\n",
    "    scores_2.append(float(i.split(' ')[0]))\n",
    "scores_2 = numpy.array(scores_2)"
   ]
  },
  {
   "cell_type": "code",
   "execution_count": 120,
   "metadata": {},
   "outputs": [],
   "source": [
    "with open(SCORE_PATH_3, 'r') as f:\n",
    "    lines = f.readlines()\n",
    "    \n",
    "scores_3 = []\n",
    "for i in lines:\n",
    "    scores_3.append(float(i.split(' ')[0]))\n",
    "scores_3 = numpy.array(scores_3)"
   ]
  },
  {
   "cell_type": "code",
   "execution_count": 121,
   "metadata": {},
   "outputs": [],
   "source": [
    "with open(SCORE_PATH_4, 'r') as f:\n",
    "    lines = f.readlines()\n",
    "    \n",
    "scores_4 = []\n",
    "for i in lines:\n",
    "    scores_4.append(float(i.split(' ')[0]))\n",
    "scores_4 = numpy.array(scores_4)"
   ]
  },
  {
   "cell_type": "code",
   "execution_count": 122,
   "metadata": {},
   "outputs": [],
   "source": [
    "with open(SCORE_PATH_5, 'r') as f:\n",
    "    lines = f.readlines()\n",
    "    \n",
    "scores_5 = []\n",
    "for i in lines:\n",
    "    scores_5.append(float(i.split(' ')[0]))\n",
    "scores_5 = numpy.array(scores_5)"
   ]
  },
  {
   "cell_type": "code",
   "execution_count": 123,
   "metadata": {},
   "outputs": [],
   "source": [
    "with open(SCORE_PATH_6, 'r') as f:\n",
    "    lines = f.readlines()\n",
    "    \n",
    "scores_6 = []\n",
    "for i in lines:\n",
    "    scores_6.append(float(i.split(' ')[0]))\n",
    "scores_6 = numpy.array(scores_6)"
   ]
  },
  {
   "cell_type": "code",
   "execution_count": 124,
   "metadata": {},
   "outputs": [],
   "source": [
    "with open(KEYS, 'r') as f:\n",
    "    lines = f.readlines()\n",
    "\n",
    "keys = []\n",
    "for i in lines:\n",
    "    keys.append(int(i.split(' ')[0]))\n",
    "keys = numpy.array(keys)"
   ]
  },
  {
   "cell_type": "code",
   "execution_count": 125,
   "metadata": {},
   "outputs": [],
   "source": [
    "with open(KEYS_2, 'r') as f:\n",
    "    lines = f.readlines()\n",
    "\n",
    "keys_2 = []\n",
    "for i in lines:\n",
    "    keys_2.append(int(i.split(' ')[0]))\n",
    "keys_2 = numpy.array(keys_2)"
   ]
  },
  {
   "cell_type": "code",
   "execution_count": 126,
   "metadata": {},
   "outputs": [],
   "source": [
    "with open(KEYS_3, 'r') as f:\n",
    "    lines = f.readlines()\n",
    "\n",
    "keys_3 = []\n",
    "for i in lines:\n",
    "    keys_3.append(int(i.split(' ')[0]))\n",
    "keys_3 = numpy.array(keys_3)"
   ]
  },
  {
   "cell_type": "code",
   "execution_count": null,
   "metadata": {},
   "outputs": [],
   "source": []
  },
  {
   "cell_type": "code",
   "execution_count": 127,
   "metadata": {},
   "outputs": [],
   "source": [
    "tunedThreshold, eer, fpr, fnr, minc_s_1, minc_ss, ind_1, ind_2 = tuneThresholdfromScore_my(scores, keys)"
   ]
  },
  {
   "cell_type": "code",
   "execution_count": 128,
   "metadata": {},
   "outputs": [],
   "source": [
    "tunedThreshold, eer_2, fpr_2, fnr_2, minc_s_2, minc_ss, ind_1_2, ind_2 = tuneThresholdfromScore_my(scores_2, keys)"
   ]
  },
  {
   "cell_type": "code",
   "execution_count": 130,
   "metadata": {},
   "outputs": [],
   "source": [
    "tunedThreshold, eer_3, fpr_3, fnr_3, minc_s_3, minc_ss, ind_1_3, ind_3 = tuneThresholdfromScore_my(scores_3, keys_3)"
   ]
  },
  {
   "cell_type": "code",
   "execution_count": 131,
   "metadata": {},
   "outputs": [],
   "source": [
    "tunedThreshold, eer_4, fpr_4, fnr_4, minc_s_4, minc_ss, ind_1_4, ind_4 = tuneThresholdfromScore_my(scores_4, keys_2)"
   ]
  },
  {
   "cell_type": "code",
   "execution_count": 132,
   "metadata": {},
   "outputs": [],
   "source": [
    "tunedThreshold, eer_5, fpr_5, fnr_5, minc_s_5, minc_ss, ind_1_5, ind_5 = tuneThresholdfromScore_my(scores_5, keys_3)"
   ]
  },
  {
   "cell_type": "code",
   "execution_count": 133,
   "metadata": {},
   "outputs": [],
   "source": [
    "tunedThreshold, eer_6, fpr_6, fnr_6, minc_s_6, minc_ss, ind_1_6, ind_6 = tuneThresholdfromScore_my(scores_6, keys_2)"
   ]
  },
  {
   "cell_type": "code",
   "execution_count": 153,
   "metadata": {},
   "outputs": [],
   "source": [
    "from scipy.interpolate import make_interp_spline, interp1d\n",
    "# xnew = np.linspace(T.min(),T.max(),300) #300 represents number of points to make between T.min and T.max\n",
    "# power_smooth = spline(T,power,xnew)\n",
    "# plt.plot(xnew,power_smooth)\n",
    "# plt.show()\n",
    "# X_Y_Spline = make_interp_spline(x, y)\n",
    " \n",
    "# # Returns evenly spaced numbers\n",
    "# # over a specified interval.\n",
    "# X_ = np.linspace(x.min(), x.max(), 500)\n",
    "# Y_ = X_Y_Spline(X_)"
   ]
  },
  {
   "cell_type": "code",
   "execution_count": 194,
   "metadata": {},
   "outputs": [
    {
     "data": {
      "image/png": "[encoded data removed]",
      "text/plain": [
       "<Figure size 432x432 with 1 Axes>"
      ]
     },
     "metadata": {
      "needs_background": "light"
     },
     "output_type": "display_data"
    }
   ],
   "source": [
    "plt.figure(figsize=(6, 6))\n",
    "# p_miss = norm.ppf(fnr)\n",
    "# p_fa = norm.ppf(fpr)\n",
    "\n",
    "xytick = [0.0001, 0.0002, 0.0005, 0.001, 0.002, 0.005, 0.01, 0.02, 0.05, 0.1, 0.2, 0.4]\n",
    "xtick_labels = map(str, [x * 100 for x in xytick])\n",
    "ytick_labels = map(str, [x * 100 for x in xytick])\n",
    "\n",
    "a = norm.ppf(xytick)\n",
    "\n",
    "plt.yticks(a, xtick_labels)\n",
    "plt.xticks(a, ytick_labels)\n",
    "plt.ylim(norm.ppf([0.003, 0.2]))\n",
    "plt.xlim(norm.ppf([0.002, 0.2]))\n",
    "\n",
    "plt.xlabel(\"false-alarm rate [%]\", fontsize=12)\n",
    "plt.ylabel(\"false-reject rate [%]\", fontsize=12)\n",
    "\n",
    "plt.plot(norm.ppf(fpr), norm.ppf(fnr), 'blue', alpha=0.4, linewidth=2.5, label='Pre Overall')\n",
    "plt.plot(norm.ppf(fpr_5), norm.ppf(fnr_5), 'blue', alpha=0.4, linewidth=1.25, label='Pre FA-EN')\n",
    "plt.plot(norm.ppf(fpr_6), norm.ppf(fnr_6), 'blue', alpha=0.4, linestyle= '--', label='Pre FA-FA')\n",
    "\n",
    "# plt.plot(norm.ppf(eer), norm.ppf(eer), 'ro')\n",
    "# plt.plot(norm.ppf(fpr[ind_1]), norm.ppf(fnr[ind_1]), 'rs')\n",
    "\n",
    "plt.plot(norm.ppf(fpr_2), norm.ppf(fnr_2), 'red', linewidth=2.5, label='DAT+ Overall')\n",
    "plt.plot(norm.ppf(fpr_3), norm.ppf(fnr_3), 'red', linewidth=1.25, label='DAT+ FA-EN')\n",
    "plt.plot(norm.ppf(fpr_4), norm.ppf(fnr_4), 'red', linestyle= '--', label='DAT+ FA-FA')\n",
    "\n",
    "# plt.plot(norm.ppf(eer_2), norm.ppf(eer_2), 'bo')\n",
    "# plt.plot(norm.ppf(fpr_2[ind_1_2]), norm.ppf(fnr_2[ind_1_2]), 'bs')\n",
    "\n",
    "plt.legend()\n",
    "plt.grid()\n",
    "plt.savefig('det.png', dpi=300, bbox_inches='tight')\n",
    "plt.show()\n"
   ]
  },
  {
   "cell_type": "code",
   "execution_count": null,
   "metadata": {},
   "outputs": [],
   "source": []
  },
  {
   "cell_type": "code",
   "execution_count": 13,
   "metadata": {},
   "outputs": [],
   "source": [
    "import numpy as np\n",
    "import torch\n",
    "a = torch.tensor([[0], [1], [2]])"
   ]
  },
  {
   "cell_type": "code",
   "execution_count": 14,
   "metadata": {},
   "outputs": [
    {
     "data": {
      "text/plain": [
       "torch.Size([3, 1])"
      ]
     },
     "execution_count": 14,
     "metadata": {},
     "output_type": "execute_result"
    }
   ],
   "source": [
    "a.shape"
   ]
  },
  {
   "cell_type": "code",
   "execution_count": 16,
   "metadata": {},
   "outputs": [
    {
     "ename": "SyntaxError",
     "evalue": "can't use starred expression here (<ipython-input-16-6dee6dca304b>, line 4)",
     "output_type": "error",
     "traceback": [
      "\u001b[0;36m  File \u001b[0;32m\"<ipython-input-16-6dee6dca304b>\"\u001b[0;36m, line \u001b[0;32m4\u001b[0m\n\u001b[0;31mSyntaxError\u001b[0m\u001b[0;31m:\u001b[0m can't use starred expression here\n"
     ]
    }
   ],
   "source": [
    "b, _ = *a.shape"
   ]
  },
  {
   "cell_type": "code",
   "execution_count": 34,
   "metadata": {},
   "outputs": [],
   "source": [
    "a = torch.randn(1, 3, 2)"
   ]
  },
  {
   "cell_type": "code",
   "execution_count": 68,
   "metadata": {},
   "outputs": [],
   "source": [
    "a = torch.tensor([[[0, 9], [0, 4.5], [0, 9]]], dtype=torch.float)"
   ]
  },
  {
   "cell_type": "code",
   "execution_count": 58,
   "metadata": {},
   "outputs": [
    {
     "data": {
      "text/plain": [
       "tensor([[[ 0., 10.],\n",
       "         [ 0., 10.],\n",
       "         [ 0., 10.]]])"
      ]
     },
     "execution_count": 58,
     "metadata": {},
     "output_type": "execute_result"
    }
   ],
   "source": [
    "a"
   ]
  },
  {
   "cell_type": "code",
   "execution_count": 71,
   "metadata": {},
   "outputs": [
    {
     "data": {
      "text/plain": [
       "tensor([[[0.0000, 1.0000, 2.0000, 3.0000, 4.0000, 5.0000, 6.0000, 7.0000,\n",
       "          8.0000, 9.0000],\n",
       "         [0.0000, 0.5000, 1.0000, 1.5000, 2.0000, 2.5000, 3.0000, 3.5000,\n",
       "          4.0000, 4.5000],\n",
       "         [0.0000, 1.0000, 2.0000, 3.0000, 4.0000, 5.0000, 6.0000, 7.0000,\n",
       "          8.0000, 9.0000]]])"
      ]
     },
     "execution_count": 71,
     "metadata": {},
     "output_type": "execute_result"
    }
   ],
   "source": [
    "torch.nn.functional.interpolate(a, size=[10], mode='linear', align_corners=True)"
   ]
  },
  {
   "cell_type": "code",
   "execution_count": null,
   "metadata": {},
   "outputs": [],
   "source": [
    "res = torch.from_numpy(np.interp(x.numpy(), fx.numpy(), fp.numpy()))"
   ]
  },
  {
   "cell_type": "code",
   "execution_count": 32,
   "metadata": {},
   "outputs": [
    {
     "name": "stderr",
     "output_type": "stream",
     "text": [
      "/opt/conda/lib/python3.7/site-packages/torch/nn/functional.py:2941: UserWarning: nn.functional.upsample is deprecated. Use nn.functional.interpolate instead.\n",
      "  warnings.warn(\"nn.functional.upsample is deprecated. Use nn.functional.interpolate instead.\")\n"
     ]
    },
    {
     "ename": "NotImplementedError",
     "evalue": "Input Error: Only 3D, 4D and 5D input Tensors supported (got 1D) for the modes: nearest | linear | bilinear | bicubic | trilinear (got nearest)",
     "output_type": "error",
     "traceback": [
      "\u001b[0;31m---------------------------------------------------------------------------\u001b[0m",
      "\u001b[0;31mNotImplementedError\u001b[0m                       Traceback (most recent call last)",
      "\u001b[0;32m<ipython-input-32-31d3b601298b>\u001b[0m in \u001b[0;36m<module>\u001b[0;34m\u001b[0m\n\u001b[0;32m----> 1\u001b[0;31m \u001b[0mtorch\u001b[0m\u001b[0;34m.\u001b[0m\u001b[0mnn\u001b[0m\u001b[0;34m.\u001b[0m\u001b[0mfunctional\u001b[0m\u001b[0;34m.\u001b[0m\u001b[0mupsample\u001b[0m\u001b[0;34m(\u001b[0m\u001b[0ma\u001b[0m\u001b[0;34m,\u001b[0m \u001b[0msize\u001b[0m\u001b[0;34m=\u001b[0m\u001b[0;34m[\u001b[0m\u001b[0;36m10\u001b[0m\u001b[0;34m]\u001b[0m\u001b[0;34m,\u001b[0m \u001b[0mmode\u001b[0m\u001b[0;34m=\u001b[0m\u001b[0;34m'nearest'\u001b[0m\u001b[0;34m)\u001b[0m\u001b[0;34m\u001b[0m\u001b[0;34m\u001b[0m\u001b[0m\n\u001b[0m",
      "\u001b[0;32m/opt/conda/lib/python3.7/site-packages/torch/nn/functional.py\u001b[0m in \u001b[0;36mupsample\u001b[0;34m(input, size, scale_factor, mode, align_corners)\u001b[0m\n\u001b[1;32m   2940\u001b[0m     \"\"\"\n\u001b[1;32m   2941\u001b[0m     \u001b[0mwarnings\u001b[0m\u001b[0;34m.\u001b[0m\u001b[0mwarn\u001b[0m\u001b[0;34m(\u001b[0m\u001b[0;34m\"nn.functional.upsample is deprecated. Use nn.functional.interpolate instead.\"\u001b[0m\u001b[0;34m)\u001b[0m\u001b[0;34m\u001b[0m\u001b[0;34m\u001b[0m\u001b[0m\n\u001b[0;32m-> 2942\u001b[0;31m     \u001b[0;32mreturn\u001b[0m \u001b[0minterpolate\u001b[0m\u001b[0;34m(\u001b[0m\u001b[0minput\u001b[0m\u001b[0;34m,\u001b[0m \u001b[0msize\u001b[0m\u001b[0;34m,\u001b[0m \u001b[0mscale_factor\u001b[0m\u001b[0;34m,\u001b[0m \u001b[0mmode\u001b[0m\u001b[0;34m,\u001b[0m \u001b[0malign_corners\u001b[0m\u001b[0;34m)\u001b[0m\u001b[0;34m\u001b[0m\u001b[0;34m\u001b[0m\u001b[0m\n\u001b[0m\u001b[1;32m   2943\u001b[0m \u001b[0;34m\u001b[0m\u001b[0m\n\u001b[1;32m   2944\u001b[0m \u001b[0;34m@\u001b[0m\u001b[0m_overload\u001b[0m  \u001b[0;31m# noqa: F811\u001b[0m\u001b[0;34m\u001b[0m\u001b[0;34m\u001b[0m\u001b[0m\n",
      "\u001b[0;32m/opt/conda/lib/python3.7/site-packages/torch/nn/functional.py\u001b[0m in \u001b[0;36minterpolate\u001b[0;34m(input, size, scale_factor, mode, align_corners, recompute_scale_factor)\u001b[0m\n\u001b[1;32m   3177\u001b[0m         raise NotImplementedError(\"Input Error: Only 3D, 4D and 5D input Tensors supported\"\n\u001b[1;32m   3178\u001b[0m                                   \u001b[0;34m\" (got {}D) for the modes: nearest | linear | bilinear | bicubic | trilinear\"\u001b[0m\u001b[0;34m\u001b[0m\u001b[0;34m\u001b[0m\u001b[0m\n\u001b[0;32m-> 3179\u001b[0;31m                                   \" (got {})\".format(input.dim(), mode))\n\u001b[0m\u001b[1;32m   3180\u001b[0m \u001b[0;34m\u001b[0m\u001b[0m\n\u001b[1;32m   3181\u001b[0m \u001b[0;34m@\u001b[0m\u001b[0m_overload\u001b[0m  \u001b[0;31m# noqa: F811\u001b[0m\u001b[0;34m\u001b[0m\u001b[0;34m\u001b[0m\u001b[0m\n",
      "\u001b[0;31mNotImplementedError\u001b[0m: Input Error: Only 3D, 4D and 5D input Tensors supported (got 1D) for the modes: nearest | linear | bilinear | bicubic | trilinear (got nearest)"
     ]
    }
   ],
   "source": [
    "torch.nn.functional.upsample(a, size=[10], mode='nearest')"
   ]
  }
 ],
 "metadata": {
  "kernelspec": {
   "display_name": "Python 3",
   "language": "python",
   "name": "python3"
  },
  "language_info": {
   "codemirror_mode": {
    "name": "ipython",
    "version": 3
   },
   "file_extension": ".py",
   "mimetype": "text/x-python",
   "name": "python",
   "nbconvert_exporter": "python",
   "pygments_lexer": "ipython3",
   "version": "3.7.7"
  }
 },
 "nbformat": 4,
 "nbformat_minor": 4
}
