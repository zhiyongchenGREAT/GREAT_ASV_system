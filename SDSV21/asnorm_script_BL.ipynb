{
 "cells": [
  {
   "cell_type": "code",
   "execution_count": 1,
   "metadata": {},
   "outputs": [
    {
     "name": "stderr",
     "output_type": "stream",
     "text": [
      "\n",
      "Bad key \"text.kerning_factor\" on line 4 in\n",
      "/opt/conda/lib/python3.7/site-packages/matplotlib/mpl-data/stylelib/_classic_test_patch.mplstyle.\n",
      "You probably need to get an updated matplotlibrc file from\n",
      "https://github.com/matplotlib/matplotlib/blob/v3.1.3/matplotlibrc.template\n",
      "or from the matplotlib source distribution\n"
     ]
    }
   ],
   "source": [
    "import os\n",
    "import matplotlib.pyplot as plt\n",
    "%matplotlib inline"
   ]
  },
  {
   "cell_type": "code",
   "execution_count": 2,
   "metadata": {},
   "outputs": [],
   "source": [
    "from sklearn import manifold"
   ]
  },
  {
   "cell_type": "code",
   "execution_count": 3,
   "metadata": {},
   "outputs": [],
   "source": [
    "import torch\n",
    "import sys\n",
    "import os\n",
    "import importlib\n",
    "import torch\n",
    "import numpy\n",
    "import torch.nn.functional as F\n",
    "from scipy.io import wavfile\n",
    "from collections import defaultdict\n",
    "import pickle\n",
    "import random\n",
    "# from asnorm import *"
   ]
  },
  {
   "cell_type": "code",
   "execution_count": 4,
   "metadata": {},
   "outputs": [],
   "source": [
    "# make cohort set"
   ]
  },
  {
   "cell_type": "code",
   "execution_count": 5,
   "metadata": {},
   "outputs": [],
   "source": [
    "os.environ['CUDA_VISIBLE_DEVICES'] = '6'"
   ]
  },
  {
   "cell_type": "code",
   "execution_count": 6,
   "metadata": {},
   "outputs": [],
   "source": [
    "sys.path.append('/workspace/GREAT_ASV_system/train_dist')"
   ]
  },
  {
   "cell_type": "code",
   "execution_count": 7,
   "metadata": {},
   "outputs": [],
   "source": [
    "# from DatasetLoader import loadWAV"
   ]
  },
  {
   "cell_type": "code",
   "execution_count": 8,
   "metadata": {},
   "outputs": [],
   "source": [
    "SpeakerNetModel = importlib.import_module('models.'+'EPACA-TDNN').__getattribute__('MainModel')"
   ]
  },
  {
   "cell_type": "code",
   "execution_count": 9,
   "metadata": {},
   "outputs": [
    {
     "name": "stdout",
     "output_type": "stream",
     "text": [
      "EPACA-TDNN.py, Embedding size is 192, Channels 1024, Spec_aug False.\n"
     ]
    }
   ],
   "source": [
    "# EPACA-TDNN\n",
    "S = SpeakerNetModel(n_mels=40, nOut=192, spec_aug=False)"
   ]
  },
  {
   "cell_type": "code",
   "execution_count": 10,
   "metadata": {},
   "outputs": [],
   "source": [
    "model_path = '/workspace/LOGS_OUTPUT/server9_nvme1/ASV_LOGS_202102/train_logs_201120/ECAPA-1024+BLDAT+(sdsv:)/model/model000000015.model'"
   ]
  },
  {
   "cell_type": "code",
   "execution_count": 11,
   "metadata": {},
   "outputs": [],
   "source": [
    "# train_list = '/workspace/DATASET/server9_ssd/sdsv21/sdsv21_pretrain_10960.txt'\n",
    "# train_list_FA = '/workspace/DATASET/server9_ssd/sdsv21/sdsv21_normal_FA1417.txt'\n",
    "# train_list_EN = '/workspace/DATASET/server9_ssd/sdsv21/sdsv21_normal_EN9543.txt'\n",
    "# train_path = '/workspace/DATASET/server9_ssd/sdsv21'\n",
    "test_list = '/workspace/DATASET/server9_ssd/sdsv21/task2_testtriallist.txt'\n",
    "enroll_list = '/workspace/DATASET/server9_ssd/sdsv21/sdsv20_enrolllist.txt'\n",
    "test_path = '/workspace/DATASET/server9_ssd/sdsv21'\n",
    "score_file = '/workspace/LOGS_OUTPUT/server9_nvme1/ASV_LOGS_202102/train_logs_201120/032900/result/eval_scores.txt'\n",
    "result_path = '/workspace/LOGS_OUTPUT/server9_nvme1/ASV_LOGS_202102/train_logs_201120/032900/result'\n",
    "out_path_1 = '/workspace/LOGS_OUTPUT/server9_nvme1/ASV_LOGS_202102/train_logs_201120/032900/result/eval_scores_as1.txt'"
   ]
  },
  {
   "cell_type": "code",
   "execution_count": 12,
   "metadata": {},
   "outputs": [
    {
     "data": {
      "text/plain": [
       "ECAPA_TDNN(\n",
       "  (instancenorm): InstanceNorm1d(40, eps=1e-05, momentum=0.1, affine=False, track_running_stats=False)\n",
       "  (torchfb): Sequential(\n",
       "    (0): PreEmphasis()\n",
       "    (1): MelSpectrogram(\n",
       "      (spectrogram): Spectrogram()\n",
       "      (mel_scale): MelScale()\n",
       "    )\n",
       "  )\n",
       "  (layer1): Conv1dReluBn(\n",
       "    (conv): Conv1d(40, 1024, kernel_size=(5,), stride=(1,), padding=(2,), bias=False)\n",
       "    (bn): BatchNorm1d(1024, eps=1e-05, momentum=0.1, affine=True, track_running_stats=True)\n",
       "  )\n",
       "  (layer2): Sequential(\n",
       "    (0): Conv1dReluBn(\n",
       "      (conv): Conv1d(1024, 1024, kernel_size=(1,), stride=(1,), bias=False)\n",
       "      (bn): BatchNorm1d(1024, eps=1e-05, momentum=0.1, affine=True, track_running_stats=True)\n",
       "    )\n",
       "    (1): Res2Conv1dReluBn(\n",
       "      (convs): ModuleList(\n",
       "        (0): Conv1d(128, 128, kernel_size=(3,), stride=(1,), padding=(2,), dilation=(2,), bias=False)\n",
       "        (1): Conv1d(128, 128, kernel_size=(3,), stride=(1,), padding=(2,), dilation=(2,), bias=False)\n",
       "        (2): Conv1d(128, 128, kernel_size=(3,), stride=(1,), padding=(2,), dilation=(2,), bias=False)\n",
       "        (3): Conv1d(128, 128, kernel_size=(3,), stride=(1,), padding=(2,), dilation=(2,), bias=False)\n",
       "        (4): Conv1d(128, 128, kernel_size=(3,), stride=(1,), padding=(2,), dilation=(2,), bias=False)\n",
       "        (5): Conv1d(128, 128, kernel_size=(3,), stride=(1,), padding=(2,), dilation=(2,), bias=False)\n",
       "        (6): Conv1d(128, 128, kernel_size=(3,), stride=(1,), padding=(2,), dilation=(2,), bias=False)\n",
       "      )\n",
       "      (bns): ModuleList(\n",
       "        (0): BatchNorm1d(128, eps=1e-05, momentum=0.1, affine=True, track_running_stats=True)\n",
       "        (1): BatchNorm1d(128, eps=1e-05, momentum=0.1, affine=True, track_running_stats=True)\n",
       "        (2): BatchNorm1d(128, eps=1e-05, momentum=0.1, affine=True, track_running_stats=True)\n",
       "        (3): BatchNorm1d(128, eps=1e-05, momentum=0.1, affine=True, track_running_stats=True)\n",
       "        (4): BatchNorm1d(128, eps=1e-05, momentum=0.1, affine=True, track_running_stats=True)\n",
       "        (5): BatchNorm1d(128, eps=1e-05, momentum=0.1, affine=True, track_running_stats=True)\n",
       "        (6): BatchNorm1d(128, eps=1e-05, momentum=0.1, affine=True, track_running_stats=True)\n",
       "      )\n",
       "    )\n",
       "    (2): Conv1dReluBn(\n",
       "      (conv): Conv1d(1024, 1024, kernel_size=(1,), stride=(1,), bias=False)\n",
       "      (bn): BatchNorm1d(1024, eps=1e-05, momentum=0.1, affine=True, track_running_stats=True)\n",
       "    )\n",
       "    (3): SE_Connect(\n",
       "      (linear1): Linear(in_features=1024, out_features=512, bias=True)\n",
       "      (linear2): Linear(in_features=512, out_features=1024, bias=True)\n",
       "    )\n",
       "  )\n",
       "  (layer3): Sequential(\n",
       "    (0): Conv1dReluBn(\n",
       "      (conv): Conv1d(1024, 1024, kernel_size=(1,), stride=(1,), bias=False)\n",
       "      (bn): BatchNorm1d(1024, eps=1e-05, momentum=0.1, affine=True, track_running_stats=True)\n",
       "    )\n",
       "    (1): Res2Conv1dReluBn(\n",
       "      (convs): ModuleList(\n",
       "        (0): Conv1d(128, 128, kernel_size=(3,), stride=(1,), padding=(3,), dilation=(3,), bias=False)\n",
       "        (1): Conv1d(128, 128, kernel_size=(3,), stride=(1,), padding=(3,), dilation=(3,), bias=False)\n",
       "        (2): Conv1d(128, 128, kernel_size=(3,), stride=(1,), padding=(3,), dilation=(3,), bias=False)\n",
       "        (3): Conv1d(128, 128, kernel_size=(3,), stride=(1,), padding=(3,), dilation=(3,), bias=False)\n",
       "        (4): Conv1d(128, 128, kernel_size=(3,), stride=(1,), padding=(3,), dilation=(3,), bias=False)\n",
       "        (5): Conv1d(128, 128, kernel_size=(3,), stride=(1,), padding=(3,), dilation=(3,), bias=False)\n",
       "        (6): Conv1d(128, 128, kernel_size=(3,), stride=(1,), padding=(3,), dilation=(3,), bias=False)\n",
       "      )\n",
       "      (bns): ModuleList(\n",
       "        (0): BatchNorm1d(128, eps=1e-05, momentum=0.1, affine=True, track_running_stats=True)\n",
       "        (1): BatchNorm1d(128, eps=1e-05, momentum=0.1, affine=True, track_running_stats=True)\n",
       "        (2): BatchNorm1d(128, eps=1e-05, momentum=0.1, affine=True, track_running_stats=True)\n",
       "        (3): BatchNorm1d(128, eps=1e-05, momentum=0.1, affine=True, track_running_stats=True)\n",
       "        (4): BatchNorm1d(128, eps=1e-05, momentum=0.1, affine=True, track_running_stats=True)\n",
       "        (5): BatchNorm1d(128, eps=1e-05, momentum=0.1, affine=True, track_running_stats=True)\n",
       "        (6): BatchNorm1d(128, eps=1e-05, momentum=0.1, affine=True, track_running_stats=True)\n",
       "      )\n",
       "    )\n",
       "    (2): Conv1dReluBn(\n",
       "      (conv): Conv1d(1024, 1024, kernel_size=(1,), stride=(1,), bias=False)\n",
       "      (bn): BatchNorm1d(1024, eps=1e-05, momentum=0.1, affine=True, track_running_stats=True)\n",
       "    )\n",
       "    (3): SE_Connect(\n",
       "      (linear1): Linear(in_features=1024, out_features=512, bias=True)\n",
       "      (linear2): Linear(in_features=512, out_features=1024, bias=True)\n",
       "    )\n",
       "  )\n",
       "  (layer4): Sequential(\n",
       "    (0): Conv1dReluBn(\n",
       "      (conv): Conv1d(1024, 1024, kernel_size=(1,), stride=(1,), bias=False)\n",
       "      (bn): BatchNorm1d(1024, eps=1e-05, momentum=0.1, affine=True, track_running_stats=True)\n",
       "    )\n",
       "    (1): Res2Conv1dReluBn(\n",
       "      (convs): ModuleList(\n",
       "        (0): Conv1d(128, 128, kernel_size=(3,), stride=(1,), padding=(4,), dilation=(4,), bias=False)\n",
       "        (1): Conv1d(128, 128, kernel_size=(3,), stride=(1,), padding=(4,), dilation=(4,), bias=False)\n",
       "        (2): Conv1d(128, 128, kernel_size=(3,), stride=(1,), padding=(4,), dilation=(4,), bias=False)\n",
       "        (3): Conv1d(128, 128, kernel_size=(3,), stride=(1,), padding=(4,), dilation=(4,), bias=False)\n",
       "        (4): Conv1d(128, 128, kernel_size=(3,), stride=(1,), padding=(4,), dilation=(4,), bias=False)\n",
       "        (5): Conv1d(128, 128, kernel_size=(3,), stride=(1,), padding=(4,), dilation=(4,), bias=False)\n",
       "        (6): Conv1d(128, 128, kernel_size=(3,), stride=(1,), padding=(4,), dilation=(4,), bias=False)\n",
       "      )\n",
       "      (bns): ModuleList(\n",
       "        (0): BatchNorm1d(128, eps=1e-05, momentum=0.1, affine=True, track_running_stats=True)\n",
       "        (1): BatchNorm1d(128, eps=1e-05, momentum=0.1, affine=True, track_running_stats=True)\n",
       "        (2): BatchNorm1d(128, eps=1e-05, momentum=0.1, affine=True, track_running_stats=True)\n",
       "        (3): BatchNorm1d(128, eps=1e-05, momentum=0.1, affine=True, track_running_stats=True)\n",
       "        (4): BatchNorm1d(128, eps=1e-05, momentum=0.1, affine=True, track_running_stats=True)\n",
       "        (5): BatchNorm1d(128, eps=1e-05, momentum=0.1, affine=True, track_running_stats=True)\n",
       "        (6): BatchNorm1d(128, eps=1e-05, momentum=0.1, affine=True, track_running_stats=True)\n",
       "      )\n",
       "    )\n",
       "    (2): Conv1dReluBn(\n",
       "      (conv): Conv1d(1024, 1024, kernel_size=(1,), stride=(1,), bias=False)\n",
       "      (bn): BatchNorm1d(1024, eps=1e-05, momentum=0.1, affine=True, track_running_stats=True)\n",
       "    )\n",
       "    (3): SE_Connect(\n",
       "      (linear1): Linear(in_features=1024, out_features=512, bias=True)\n",
       "      (linear2): Linear(in_features=512, out_features=1024, bias=True)\n",
       "    )\n",
       "  )\n",
       "  (conv): Conv1d(3072, 3072, kernel_size=(1,), stride=(1,))\n",
       "  (pooling): AttentiveStatsPool(\n",
       "    (linear1): Conv1d(3072, 128, kernel_size=(1,), stride=(1,))\n",
       "    (linear2): Conv1d(128, 3072, kernel_size=(1,), stride=(1,))\n",
       "  )\n",
       "  (bn1): BatchNorm1d(6144, eps=1e-05, momentum=0.1, affine=True, track_running_stats=True)\n",
       "  (linear): Linear(in_features=6144, out_features=192, bias=True)\n",
       "  (bn2): BatchNorm1d(192, eps=1e-05, momentum=0.1, affine=True, track_running_stats=True)\n",
       ")"
      ]
     },
     "execution_count": 12,
     "metadata": {},
     "output_type": "execute_result"
    }
   ],
   "source": [
    "S.cuda()"
   ]
  },
  {
   "cell_type": "code",
   "execution_count": 13,
   "metadata": {},
   "outputs": [],
   "source": [
    "loaded_state = torch.load(model_path, map_location=\"cuda:0\")"
   ]
  },
  {
   "cell_type": "code",
   "execution_count": 14,
   "metadata": {},
   "outputs": [
    {
     "name": "stdout",
     "output_type": "stream",
     "text": [
      "pass __L__ classerfier W\n",
      "pass DA_module params:DA_module.backbone.torchfb.0.flipped_filter\n",
      "pass DA_module params:DA_module.backbone.torchfb.1.spectrogram.window\n",
      "pass DA_module params:DA_module.backbone.torchfb.1.mel_scale.fb\n",
      "pass DA_module params:DA_module.backbone.layer1.conv.weight\n",
      "pass DA_module params:DA_module.backbone.layer1.bn.weight\n",
      "pass DA_module params:DA_module.backbone.layer1.bn.bias\n",
      "pass DA_module params:DA_module.backbone.layer1.bn.running_mean\n",
      "pass DA_module params:DA_module.backbone.layer1.bn.running_var\n",
      "pass DA_module params:DA_module.backbone.layer1.bn.num_batches_tracked\n",
      "pass DA_module params:DA_module.backbone.layer2.0.conv.weight\n",
      "pass DA_module params:DA_module.backbone.layer2.0.bn.weight\n",
      "pass DA_module params:DA_module.backbone.layer2.0.bn.bias\n",
      "pass DA_module params:DA_module.backbone.layer2.0.bn.running_mean\n",
      "pass DA_module params:DA_module.backbone.layer2.0.bn.running_var\n",
      "pass DA_module params:DA_module.backbone.layer2.0.bn.num_batches_tracked\n",
      "pass DA_module params:DA_module.backbone.layer2.1.convs.0.weight\n",
      "pass DA_module params:DA_module.backbone.layer2.1.convs.1.weight\n",
      "pass DA_module params:DA_module.backbone.layer2.1.convs.2.weight\n",
      "pass DA_module params:DA_module.backbone.layer2.1.convs.3.weight\n",
      "pass DA_module params:DA_module.backbone.layer2.1.convs.4.weight\n",
      "pass DA_module params:DA_module.backbone.layer2.1.convs.5.weight\n",
      "pass DA_module params:DA_module.backbone.layer2.1.convs.6.weight\n",
      "pass DA_module params:DA_module.backbone.layer2.1.bns.0.weight\n",
      "pass DA_module params:DA_module.backbone.layer2.1.bns.0.bias\n",
      "pass DA_module params:DA_module.backbone.layer2.1.bns.0.running_mean\n",
      "pass DA_module params:DA_module.backbone.layer2.1.bns.0.running_var\n",
      "pass DA_module params:DA_module.backbone.layer2.1.bns.0.num_batches_tracked\n",
      "pass DA_module params:DA_module.backbone.layer2.1.bns.1.weight\n",
      "pass DA_module params:DA_module.backbone.layer2.1.bns.1.bias\n",
      "pass DA_module params:DA_module.backbone.layer2.1.bns.1.running_mean\n",
      "pass DA_module params:DA_module.backbone.layer2.1.bns.1.running_var\n",
      "pass DA_module params:DA_module.backbone.layer2.1.bns.1.num_batches_tracked\n",
      "pass DA_module params:DA_module.backbone.layer2.1.bns.2.weight\n",
      "pass DA_module params:DA_module.backbone.layer2.1.bns.2.bias\n",
      "pass DA_module params:DA_module.backbone.layer2.1.bns.2.running_mean\n",
      "pass DA_module params:DA_module.backbone.layer2.1.bns.2.running_var\n",
      "pass DA_module params:DA_module.backbone.layer2.1.bns.2.num_batches_tracked\n",
      "pass DA_module params:DA_module.backbone.layer2.1.bns.3.weight\n",
      "pass DA_module params:DA_module.backbone.layer2.1.bns.3.bias\n",
      "pass DA_module params:DA_module.backbone.layer2.1.bns.3.running_mean\n",
      "pass DA_module params:DA_module.backbone.layer2.1.bns.3.running_var\n",
      "pass DA_module params:DA_module.backbone.layer2.1.bns.3.num_batches_tracked\n",
      "pass DA_module params:DA_module.backbone.layer2.1.bns.4.weight\n",
      "pass DA_module params:DA_module.backbone.layer2.1.bns.4.bias\n",
      "pass DA_module params:DA_module.backbone.layer2.1.bns.4.running_mean\n",
      "pass DA_module params:DA_module.backbone.layer2.1.bns.4.running_var\n",
      "pass DA_module params:DA_module.backbone.layer2.1.bns.4.num_batches_tracked\n",
      "pass DA_module params:DA_module.backbone.layer2.1.bns.5.weight\n",
      "pass DA_module params:DA_module.backbone.layer2.1.bns.5.bias\n",
      "pass DA_module params:DA_module.backbone.layer2.1.bns.5.running_mean\n",
      "pass DA_module params:DA_module.backbone.layer2.1.bns.5.running_var\n",
      "pass DA_module params:DA_module.backbone.layer2.1.bns.5.num_batches_tracked\n",
      "pass DA_module params:DA_module.backbone.layer2.1.bns.6.weight\n",
      "pass DA_module params:DA_module.backbone.layer2.1.bns.6.bias\n",
      "pass DA_module params:DA_module.backbone.layer2.1.bns.6.running_mean\n",
      "pass DA_module params:DA_module.backbone.layer2.1.bns.6.running_var\n",
      "pass DA_module params:DA_module.backbone.layer2.1.bns.6.num_batches_tracked\n",
      "pass DA_module params:DA_module.backbone.layer2.2.conv.weight\n",
      "pass DA_module params:DA_module.backbone.layer2.2.bn.weight\n",
      "pass DA_module params:DA_module.backbone.layer2.2.bn.bias\n",
      "pass DA_module params:DA_module.backbone.layer2.2.bn.running_mean\n",
      "pass DA_module params:DA_module.backbone.layer2.2.bn.running_var\n",
      "pass DA_module params:DA_module.backbone.layer2.2.bn.num_batches_tracked\n",
      "pass DA_module params:DA_module.backbone.layer2.3.linear1.weight\n",
      "pass DA_module params:DA_module.backbone.layer2.3.linear1.bias\n",
      "pass DA_module params:DA_module.backbone.layer2.3.linear2.weight\n",
      "pass DA_module params:DA_module.backbone.layer2.3.linear2.bias\n",
      "pass DA_module params:DA_module.backbone.layer3.0.conv.weight\n",
      "pass DA_module params:DA_module.backbone.layer3.0.bn.weight\n",
      "pass DA_module params:DA_module.backbone.layer3.0.bn.bias\n",
      "pass DA_module params:DA_module.backbone.layer3.0.bn.running_mean\n",
      "pass DA_module params:DA_module.backbone.layer3.0.bn.running_var\n",
      "pass DA_module params:DA_module.backbone.layer3.0.bn.num_batches_tracked\n",
      "pass DA_module params:DA_module.backbone.layer3.1.convs.0.weight\n",
      "pass DA_module params:DA_module.backbone.layer3.1.convs.1.weight\n",
      "pass DA_module params:DA_module.backbone.layer3.1.convs.2.weight\n",
      "pass DA_module params:DA_module.backbone.layer3.1.convs.3.weight\n",
      "pass DA_module params:DA_module.backbone.layer3.1.convs.4.weight\n",
      "pass DA_module params:DA_module.backbone.layer3.1.convs.5.weight\n",
      "pass DA_module params:DA_module.backbone.layer3.1.convs.6.weight\n",
      "pass DA_module params:DA_module.backbone.layer3.1.bns.0.weight\n",
      "pass DA_module params:DA_module.backbone.layer3.1.bns.0.bias\n",
      "pass DA_module params:DA_module.backbone.layer3.1.bns.0.running_mean\n",
      "pass DA_module params:DA_module.backbone.layer3.1.bns.0.running_var\n",
      "pass DA_module params:DA_module.backbone.layer3.1.bns.0.num_batches_tracked\n",
      "pass DA_module params:DA_module.backbone.layer3.1.bns.1.weight\n",
      "pass DA_module params:DA_module.backbone.layer3.1.bns.1.bias\n",
      "pass DA_module params:DA_module.backbone.layer3.1.bns.1.running_mean\n",
      "pass DA_module params:DA_module.backbone.layer3.1.bns.1.running_var\n",
      "pass DA_module params:DA_module.backbone.layer3.1.bns.1.num_batches_tracked\n",
      "pass DA_module params:DA_module.backbone.layer3.1.bns.2.weight\n",
      "pass DA_module params:DA_module.backbone.layer3.1.bns.2.bias\n",
      "pass DA_module params:DA_module.backbone.layer3.1.bns.2.running_mean\n",
      "pass DA_module params:DA_module.backbone.layer3.1.bns.2.running_var\n",
      "pass DA_module params:DA_module.backbone.layer3.1.bns.2.num_batches_tracked\n",
      "pass DA_module params:DA_module.backbone.layer3.1.bns.3.weight\n",
      "pass DA_module params:DA_module.backbone.layer3.1.bns.3.bias\n",
      "pass DA_module params:DA_module.backbone.layer3.1.bns.3.running_mean\n",
      "pass DA_module params:DA_module.backbone.layer3.1.bns.3.running_var\n",
      "pass DA_module params:DA_module.backbone.layer3.1.bns.3.num_batches_tracked\n",
      "pass DA_module params:DA_module.backbone.layer3.1.bns.4.weight\n",
      "pass DA_module params:DA_module.backbone.layer3.1.bns.4.bias\n",
      "pass DA_module params:DA_module.backbone.layer3.1.bns.4.running_mean\n",
      "pass DA_module params:DA_module.backbone.layer3.1.bns.4.running_var\n",
      "pass DA_module params:DA_module.backbone.layer3.1.bns.4.num_batches_tracked\n",
      "pass DA_module params:DA_module.backbone.layer3.1.bns.5.weight\n",
      "pass DA_module params:DA_module.backbone.layer3.1.bns.5.bias\n",
      "pass DA_module params:DA_module.backbone.layer3.1.bns.5.running_mean\n",
      "pass DA_module params:DA_module.backbone.layer3.1.bns.5.running_var\n",
      "pass DA_module params:DA_module.backbone.layer3.1.bns.5.num_batches_tracked\n",
      "pass DA_module params:DA_module.backbone.layer3.1.bns.6.weight\n",
      "pass DA_module params:DA_module.backbone.layer3.1.bns.6.bias\n",
      "pass DA_module params:DA_module.backbone.layer3.1.bns.6.running_mean\n",
      "pass DA_module params:DA_module.backbone.layer3.1.bns.6.running_var\n",
      "pass DA_module params:DA_module.backbone.layer3.1.bns.6.num_batches_tracked\n",
      "pass DA_module params:DA_module.backbone.layer3.2.conv.weight\n",
      "pass DA_module params:DA_module.backbone.layer3.2.bn.weight\n",
      "pass DA_module params:DA_module.backbone.layer3.2.bn.bias\n",
      "pass DA_module params:DA_module.backbone.layer3.2.bn.running_mean\n",
      "pass DA_module params:DA_module.backbone.layer3.2.bn.running_var\n",
      "pass DA_module params:DA_module.backbone.layer3.2.bn.num_batches_tracked\n",
      "pass DA_module params:DA_module.backbone.layer3.3.linear1.weight\n",
      "pass DA_module params:DA_module.backbone.layer3.3.linear1.bias\n",
      "pass DA_module params:DA_module.backbone.layer3.3.linear2.weight\n",
      "pass DA_module params:DA_module.backbone.layer3.3.linear2.bias\n",
      "pass DA_module params:DA_module.backbone.layer4.0.conv.weight\n",
      "pass DA_module params:DA_module.backbone.layer4.0.bn.weight\n",
      "pass DA_module params:DA_module.backbone.layer4.0.bn.bias\n",
      "pass DA_module params:DA_module.backbone.layer4.0.bn.running_mean\n",
      "pass DA_module params:DA_module.backbone.layer4.0.bn.running_var\n",
      "pass DA_module params:DA_module.backbone.layer4.0.bn.num_batches_tracked\n",
      "pass DA_module params:DA_module.backbone.layer4.1.convs.0.weight\n",
      "pass DA_module params:DA_module.backbone.layer4.1.convs.1.weight\n",
      "pass DA_module params:DA_module.backbone.layer4.1.convs.2.weight\n",
      "pass DA_module params:DA_module.backbone.layer4.1.convs.3.weight\n",
      "pass DA_module params:DA_module.backbone.layer4.1.convs.4.weight\n",
      "pass DA_module params:DA_module.backbone.layer4.1.convs.5.weight\n",
      "pass DA_module params:DA_module.backbone.layer4.1.convs.6.weight\n",
      "pass DA_module params:DA_module.backbone.layer4.1.bns.0.weight\n",
      "pass DA_module params:DA_module.backbone.layer4.1.bns.0.bias\n",
      "pass DA_module params:DA_module.backbone.layer4.1.bns.0.running_mean\n",
      "pass DA_module params:DA_module.backbone.layer4.1.bns.0.running_var\n",
      "pass DA_module params:DA_module.backbone.layer4.1.bns.0.num_batches_tracked\n",
      "pass DA_module params:DA_module.backbone.layer4.1.bns.1.weight\n",
      "pass DA_module params:DA_module.backbone.layer4.1.bns.1.bias\n",
      "pass DA_module params:DA_module.backbone.layer4.1.bns.1.running_mean\n",
      "pass DA_module params:DA_module.backbone.layer4.1.bns.1.running_var\n",
      "pass DA_module params:DA_module.backbone.layer4.1.bns.1.num_batches_tracked\n",
      "pass DA_module params:DA_module.backbone.layer4.1.bns.2.weight\n",
      "pass DA_module params:DA_module.backbone.layer4.1.bns.2.bias\n",
      "pass DA_module params:DA_module.backbone.layer4.1.bns.2.running_mean\n",
      "pass DA_module params:DA_module.backbone.layer4.1.bns.2.running_var\n",
      "pass DA_module params:DA_module.backbone.layer4.1.bns.2.num_batches_tracked\n",
      "pass DA_module params:DA_module.backbone.layer4.1.bns.3.weight\n",
      "pass DA_module params:DA_module.backbone.layer4.1.bns.3.bias\n",
      "pass DA_module params:DA_module.backbone.layer4.1.bns.3.running_mean\n",
      "pass DA_module params:DA_module.backbone.layer4.1.bns.3.running_var\n",
      "pass DA_module params:DA_module.backbone.layer4.1.bns.3.num_batches_tracked\n",
      "pass DA_module params:DA_module.backbone.layer4.1.bns.4.weight\n",
      "pass DA_module params:DA_module.backbone.layer4.1.bns.4.bias\n",
      "pass DA_module params:DA_module.backbone.layer4.1.bns.4.running_mean\n",
      "pass DA_module params:DA_module.backbone.layer4.1.bns.4.running_var\n",
      "pass DA_module params:DA_module.backbone.layer4.1.bns.4.num_batches_tracked\n",
      "pass DA_module params:DA_module.backbone.layer4.1.bns.5.weight\n",
      "pass DA_module params:DA_module.backbone.layer4.1.bns.5.bias\n",
      "pass DA_module params:DA_module.backbone.layer4.1.bns.5.running_mean\n",
      "pass DA_module params:DA_module.backbone.layer4.1.bns.5.running_var\n",
      "pass DA_module params:DA_module.backbone.layer4.1.bns.5.num_batches_tracked\n",
      "pass DA_module params:DA_module.backbone.layer4.1.bns.6.weight\n",
      "pass DA_module params:DA_module.backbone.layer4.1.bns.6.bias\n",
      "pass DA_module params:DA_module.backbone.layer4.1.bns.6.running_mean\n",
      "pass DA_module params:DA_module.backbone.layer4.1.bns.6.running_var\n",
      "pass DA_module params:DA_module.backbone.layer4.1.bns.6.num_batches_tracked\n",
      "pass DA_module params:DA_module.backbone.layer4.2.conv.weight\n",
      "pass DA_module params:DA_module.backbone.layer4.2.bn.weight\n",
      "pass DA_module params:DA_module.backbone.layer4.2.bn.bias\n",
      "pass DA_module params:DA_module.backbone.layer4.2.bn.running_mean\n",
      "pass DA_module params:DA_module.backbone.layer4.2.bn.running_var\n",
      "pass DA_module params:DA_module.backbone.layer4.2.bn.num_batches_tracked\n",
      "pass DA_module params:DA_module.backbone.layer4.3.linear1.weight\n",
      "pass DA_module params:DA_module.backbone.layer4.3.linear1.bias\n",
      "pass DA_module params:DA_module.backbone.layer4.3.linear2.weight\n",
      "pass DA_module params:DA_module.backbone.layer4.3.linear2.bias\n",
      "pass DA_module params:DA_module.backbone.conv.weight\n",
      "pass DA_module params:DA_module.backbone.conv.bias\n",
      "pass DA_module params:DA_module.backbone.pooling.linear1.weight\n",
      "pass DA_module params:DA_module.backbone.pooling.linear1.bias\n",
      "pass DA_module params:DA_module.backbone.pooling.linear2.weight\n",
      "pass DA_module params:DA_module.backbone.pooling.linear2.bias\n",
      "pass DA_module params:DA_module.backbone.bn1.weight\n",
      "pass DA_module params:DA_module.backbone.bn1.bias\n",
      "pass DA_module params:DA_module.backbone.bn1.running_mean\n",
      "pass DA_module params:DA_module.backbone.bn1.running_var\n",
      "pass DA_module params:DA_module.backbone.bn1.num_batches_tracked\n",
      "pass DA_module params:DA_module.backbone.linear.weight\n",
      "pass DA_module params:DA_module.backbone.linear.bias\n",
      "pass DA_module params:DA_module.backbone.bn2.weight\n",
      "pass DA_module params:DA_module.backbone.bn2.bias\n",
      "pass DA_module params:DA_module.backbone.bn2.running_mean\n",
      "pass DA_module params:DA_module.backbone.bn2.running_var\n",
      "pass DA_module params:DA_module.backbone.bn2.num_batches_tracked\n",
      "pass DA_module params:DA_module.metrics.W\n",
      "pass DA_module params:DA_module.layer_d1.linear.weight\n",
      "pass DA_module params:DA_module.layer_d1.linear.bias\n",
      "pass DA_module params:DA_module.layer_d1.batchnorm.weight\n",
      "pass DA_module params:DA_module.layer_d1.batchnorm.bias\n",
      "pass DA_module params:DA_module.layer_d1.batchnorm.running_mean\n",
      "pass DA_module params:DA_module.layer_d1.batchnorm.running_var\n",
      "pass DA_module params:DA_module.layer_d1.batchnorm.num_batches_tracked\n",
      "pass DA_module params:DA_module.layer_d2.linear.weight\n",
      "pass DA_module params:DA_module.layer_d2.linear.bias\n"
     ]
    }
   ],
   "source": [
    "# self_state = self.__model__.module.state_dict()\n",
    "# loaded_state = torch.load(path, map_location=\"cuda:%d\"%self.gpu)\n",
    "# loaded_state = torch.load(path, map_location=\"cpu\")\n",
    "self_state = S.state_dict()\n",
    "\n",
    "for name, param in loaded_state['model'].items():\n",
    "    origname = name\n",
    "\n",
    "    ## pass spk clf weight\n",
    "    if '__L__' in name:\n",
    "        print('pass __L__ classerfier W')\n",
    "        continue\n",
    "\n",
    "    ## pass DA weight\n",
    "    if 'DA_module' in name:\n",
    "        print('pass DA_module params:'+name)\n",
    "        continue\n",
    "\n",
    "    if name not in self_state:\n",
    "        name = name.replace(\"__S__.\", \"\")\n",
    "\n",
    "        if name not in self_state:\n",
    "            print(\"#%s is not in the model.\"%origname)\n",
    "            continue\n",
    "\n",
    "    if self_state[name].size() != loaded_state['model'][origname].size():\n",
    "        print(\"#Wrong parameter length: %s, model: %s, loaded: %s\"%(origname, self_state[name].size(), loaded_state['model'][origname].size()))\n",
    "        continue\n",
    "\n",
    "    self_state[name].copy_(param)"
   ]
  },
  {
   "cell_type": "code",
   "execution_count": 15,
   "metadata": {},
   "outputs": [
    {
     "data": {
      "text/plain": [
       "ECAPA_TDNN(\n",
       "  (instancenorm): InstanceNorm1d(40, eps=1e-05, momentum=0.1, affine=False, track_running_stats=False)\n",
       "  (torchfb): Sequential(\n",
       "    (0): PreEmphasis()\n",
       "    (1): MelSpectrogram(\n",
       "      (spectrogram): Spectrogram()\n",
       "      (mel_scale): MelScale()\n",
       "    )\n",
       "  )\n",
       "  (layer1): Conv1dReluBn(\n",
       "    (conv): Conv1d(40, 1024, kernel_size=(5,), stride=(1,), padding=(2,), bias=False)\n",
       "    (bn): BatchNorm1d(1024, eps=1e-05, momentum=0.1, affine=True, track_running_stats=True)\n",
       "  )\n",
       "  (layer2): Sequential(\n",
       "    (0): Conv1dReluBn(\n",
       "      (conv): Conv1d(1024, 1024, kernel_size=(1,), stride=(1,), bias=False)\n",
       "      (bn): BatchNorm1d(1024, eps=1e-05, momentum=0.1, affine=True, track_running_stats=True)\n",
       "    )\n",
       "    (1): Res2Conv1dReluBn(\n",
       "      (convs): ModuleList(\n",
       "        (0): Conv1d(128, 128, kernel_size=(3,), stride=(1,), padding=(2,), dilation=(2,), bias=False)\n",
       "        (1): Conv1d(128, 128, kernel_size=(3,), stride=(1,), padding=(2,), dilation=(2,), bias=False)\n",
       "        (2): Conv1d(128, 128, kernel_size=(3,), stride=(1,), padding=(2,), dilation=(2,), bias=False)\n",
       "        (3): Conv1d(128, 128, kernel_size=(3,), stride=(1,), padding=(2,), dilation=(2,), bias=False)\n",
       "        (4): Conv1d(128, 128, kernel_size=(3,), stride=(1,), padding=(2,), dilation=(2,), bias=False)\n",
       "        (5): Conv1d(128, 128, kernel_size=(3,), stride=(1,), padding=(2,), dilation=(2,), bias=False)\n",
       "        (6): Conv1d(128, 128, kernel_size=(3,), stride=(1,), padding=(2,), dilation=(2,), bias=False)\n",
       "      )\n",
       "      (bns): ModuleList(\n",
       "        (0): BatchNorm1d(128, eps=1e-05, momentum=0.1, affine=True, track_running_stats=True)\n",
       "        (1): BatchNorm1d(128, eps=1e-05, momentum=0.1, affine=True, track_running_stats=True)\n",
       "        (2): BatchNorm1d(128, eps=1e-05, momentum=0.1, affine=True, track_running_stats=True)\n",
       "        (3): BatchNorm1d(128, eps=1e-05, momentum=0.1, affine=True, track_running_stats=True)\n",
       "        (4): BatchNorm1d(128, eps=1e-05, momentum=0.1, affine=True, track_running_stats=True)\n",
       "        (5): BatchNorm1d(128, eps=1e-05, momentum=0.1, affine=True, track_running_stats=True)\n",
       "        (6): BatchNorm1d(128, eps=1e-05, momentum=0.1, affine=True, track_running_stats=True)\n",
       "      )\n",
       "    )\n",
       "    (2): Conv1dReluBn(\n",
       "      (conv): Conv1d(1024, 1024, kernel_size=(1,), stride=(1,), bias=False)\n",
       "      (bn): BatchNorm1d(1024, eps=1e-05, momentum=0.1, affine=True, track_running_stats=True)\n",
       "    )\n",
       "    (3): SE_Connect(\n",
       "      (linear1): Linear(in_features=1024, out_features=512, bias=True)\n",
       "      (linear2): Linear(in_features=512, out_features=1024, bias=True)\n",
       "    )\n",
       "  )\n",
       "  (layer3): Sequential(\n",
       "    (0): Conv1dReluBn(\n",
       "      (conv): Conv1d(1024, 1024, kernel_size=(1,), stride=(1,), bias=False)\n",
       "      (bn): BatchNorm1d(1024, eps=1e-05, momentum=0.1, affine=True, track_running_stats=True)\n",
       "    )\n",
       "    (1): Res2Conv1dReluBn(\n",
       "      (convs): ModuleList(\n",
       "        (0): Conv1d(128, 128, kernel_size=(3,), stride=(1,), padding=(3,), dilation=(3,), bias=False)\n",
       "        (1): Conv1d(128, 128, kernel_size=(3,), stride=(1,), padding=(3,), dilation=(3,), bias=False)\n",
       "        (2): Conv1d(128, 128, kernel_size=(3,), stride=(1,), padding=(3,), dilation=(3,), bias=False)\n",
       "        (3): Conv1d(128, 128, kernel_size=(3,), stride=(1,), padding=(3,), dilation=(3,), bias=False)\n",
       "        (4): Conv1d(128, 128, kernel_size=(3,), stride=(1,), padding=(3,), dilation=(3,), bias=False)\n",
       "        (5): Conv1d(128, 128, kernel_size=(3,), stride=(1,), padding=(3,), dilation=(3,), bias=False)\n",
       "        (6): Conv1d(128, 128, kernel_size=(3,), stride=(1,), padding=(3,), dilation=(3,), bias=False)\n",
       "      )\n",
       "      (bns): ModuleList(\n",
       "        (0): BatchNorm1d(128, eps=1e-05, momentum=0.1, affine=True, track_running_stats=True)\n",
       "        (1): BatchNorm1d(128, eps=1e-05, momentum=0.1, affine=True, track_running_stats=True)\n",
       "        (2): BatchNorm1d(128, eps=1e-05, momentum=0.1, affine=True, track_running_stats=True)\n",
       "        (3): BatchNorm1d(128, eps=1e-05, momentum=0.1, affine=True, track_running_stats=True)\n",
       "        (4): BatchNorm1d(128, eps=1e-05, momentum=0.1, affine=True, track_running_stats=True)\n",
       "        (5): BatchNorm1d(128, eps=1e-05, momentum=0.1, affine=True, track_running_stats=True)\n",
       "        (6): BatchNorm1d(128, eps=1e-05, momentum=0.1, affine=True, track_running_stats=True)\n",
       "      )\n",
       "    )\n",
       "    (2): Conv1dReluBn(\n",
       "      (conv): Conv1d(1024, 1024, kernel_size=(1,), stride=(1,), bias=False)\n",
       "      (bn): BatchNorm1d(1024, eps=1e-05, momentum=0.1, affine=True, track_running_stats=True)\n",
       "    )\n",
       "    (3): SE_Connect(\n",
       "      (linear1): Linear(in_features=1024, out_features=512, bias=True)\n",
       "      (linear2): Linear(in_features=512, out_features=1024, bias=True)\n",
       "    )\n",
       "  )\n",
       "  (layer4): Sequential(\n",
       "    (0): Conv1dReluBn(\n",
       "      (conv): Conv1d(1024, 1024, kernel_size=(1,), stride=(1,), bias=False)\n",
       "      (bn): BatchNorm1d(1024, eps=1e-05, momentum=0.1, affine=True, track_running_stats=True)\n",
       "    )\n",
       "    (1): Res2Conv1dReluBn(\n",
       "      (convs): ModuleList(\n",
       "        (0): Conv1d(128, 128, kernel_size=(3,), stride=(1,), padding=(4,), dilation=(4,), bias=False)\n",
       "        (1): Conv1d(128, 128, kernel_size=(3,), stride=(1,), padding=(4,), dilation=(4,), bias=False)\n",
       "        (2): Conv1d(128, 128, kernel_size=(3,), stride=(1,), padding=(4,), dilation=(4,), bias=False)\n",
       "        (3): Conv1d(128, 128, kernel_size=(3,), stride=(1,), padding=(4,), dilation=(4,), bias=False)\n",
       "        (4): Conv1d(128, 128, kernel_size=(3,), stride=(1,), padding=(4,), dilation=(4,), bias=False)\n",
       "        (5): Conv1d(128, 128, kernel_size=(3,), stride=(1,), padding=(4,), dilation=(4,), bias=False)\n",
       "        (6): Conv1d(128, 128, kernel_size=(3,), stride=(1,), padding=(4,), dilation=(4,), bias=False)\n",
       "      )\n",
       "      (bns): ModuleList(\n",
       "        (0): BatchNorm1d(128, eps=1e-05, momentum=0.1, affine=True, track_running_stats=True)\n",
       "        (1): BatchNorm1d(128, eps=1e-05, momentum=0.1, affine=True, track_running_stats=True)\n",
       "        (2): BatchNorm1d(128, eps=1e-05, momentum=0.1, affine=True, track_running_stats=True)\n",
       "        (3): BatchNorm1d(128, eps=1e-05, momentum=0.1, affine=True, track_running_stats=True)\n",
       "        (4): BatchNorm1d(128, eps=1e-05, momentum=0.1, affine=True, track_running_stats=True)\n",
       "        (5): BatchNorm1d(128, eps=1e-05, momentum=0.1, affine=True, track_running_stats=True)\n",
       "        (6): BatchNorm1d(128, eps=1e-05, momentum=0.1, affine=True, track_running_stats=True)\n",
       "      )\n",
       "    )\n",
       "    (2): Conv1dReluBn(\n",
       "      (conv): Conv1d(1024, 1024, kernel_size=(1,), stride=(1,), bias=False)\n",
       "      (bn): BatchNorm1d(1024, eps=1e-05, momentum=0.1, affine=True, track_running_stats=True)\n",
       "    )\n",
       "    (3): SE_Connect(\n",
       "      (linear1): Linear(in_features=1024, out_features=512, bias=True)\n",
       "      (linear2): Linear(in_features=512, out_features=1024, bias=True)\n",
       "    )\n",
       "  )\n",
       "  (conv): Conv1d(3072, 3072, kernel_size=(1,), stride=(1,))\n",
       "  (pooling): AttentiveStatsPool(\n",
       "    (linear1): Conv1d(3072, 128, kernel_size=(1,), stride=(1,))\n",
       "    (linear2): Conv1d(128, 3072, kernel_size=(1,), stride=(1,))\n",
       "  )\n",
       "  (bn1): BatchNorm1d(6144, eps=1e-05, momentum=0.1, affine=True, track_running_stats=True)\n",
       "  (linear): Linear(in_features=6144, out_features=192, bias=True)\n",
       "  (bn2): BatchNorm1d(192, eps=1e-05, momentum=0.1, affine=True, track_running_stats=True)\n",
       ")"
      ]
     },
     "execution_count": 15,
     "metadata": {},
     "output_type": "execute_result"
    }
   ],
   "source": [
    "S.eval()"
   ]
  },
  {
   "cell_type": "code",
   "execution_count": 16,
   "metadata": {},
   "outputs": [],
   "source": [
    "def loadWAV(filename, max_frames):\n",
    "\n",
    "    # Maximum audio length\n",
    "    max_audio = max_frames * 160 + 240\n",
    "\n",
    "    # Read wav file and convert to torch tensor\n",
    "    sample_rate, audio  = wavfile.read(filename)\n",
    "\n",
    "    audiosize = audio.shape[0]\n",
    "\n",
    "    if audiosize <= max_audio:\n",
    "        shortage    = max_audio - audiosize + 1 \n",
    "        audio       = numpy.pad(audio, (0, shortage), 'wrap')\n",
    "        audiosize   = audio.shape[0]\n",
    "\n",
    "    \n",
    "    feats = []\n",
    "\n",
    "    feats.append(audio)\n",
    "\n",
    "    feat = numpy.stack(feats,axis=0).astype(numpy.float)\n",
    "\n",
    "    return feat"
   ]
  },
  {
   "cell_type": "code",
   "execution_count": 17,
   "metadata": {},
   "outputs": [
    {
     "data": {
      "text/plain": [
       "torch.Size([192, 10960])"
      ]
     },
     "execution_count": 17,
     "metadata": {},
     "output_type": "execute_result"
    }
   ],
   "source": [
    "loaded_state['model']['__L__.W'].size()"
   ]
  },
  {
   "cell_type": "code",
   "execution_count": 18,
   "metadata": {},
   "outputs": [],
   "source": [
    "W_matrix = loaded_state['model']['__L__.W']"
   ]
  },
  {
   "cell_type": "code",
   "execution_count": 19,
   "metadata": {},
   "outputs": [],
   "source": [
    "W_matrix = W_matrix.t()"
   ]
  },
  {
   "cell_type": "code",
   "execution_count": 20,
   "metadata": {},
   "outputs": [
    {
     "data": {
      "text/plain": [
       "torch.Size([10960, 192])"
      ]
     },
     "execution_count": 20,
     "metadata": {},
     "output_type": "execute_result"
    }
   ],
   "source": [
    "W_matrix.size()"
   ]
  },
  {
   "cell_type": "code",
   "execution_count": null,
   "metadata": {},
   "outputs": [],
   "source": []
  },
  {
   "cell_type": "code",
   "execution_count": 21,
   "metadata": {},
   "outputs": [],
   "source": [
    "EN_list = [i for i in range(829, 10372)]\n",
    "FA_list = [i for i in range(0, 829)] + [i for i in range(10372, 10960)]"
   ]
  },
  {
   "cell_type": "code",
   "execution_count": 22,
   "metadata": {},
   "outputs": [],
   "source": [
    "cohort_FA_spk_dict_mean = {}\n",
    "cohort_EN_spk_dict_mean = {}"
   ]
  },
  {
   "cell_type": "code",
   "execution_count": 23,
   "metadata": {},
   "outputs": [
    {
     "name": "stdout",
     "output_type": "stream",
     "text": [
      "1416\n"
     ]
    }
   ],
   "source": [
    "for count, label_num in enumerate(FA_list):\n",
    "    cohort_FA_spk_dict_mean[label_num] = F.normalize(W_matrix[label_num], p=2, dim=0).detach().cpu()\n",
    "print(count)"
   ]
  },
  {
   "cell_type": "code",
   "execution_count": 24,
   "metadata": {},
   "outputs": [
    {
     "name": "stdout",
     "output_type": "stream",
     "text": [
      "9542\n"
     ]
    }
   ],
   "source": [
    "for count, label_num in enumerate(EN_list):\n",
    "    cohort_EN_spk_dict_mean[label_num] = F.normalize(W_matrix[label_num], p=2, dim=0).detach().cpu()\n",
    "print(count)"
   ]
  },
  {
   "cell_type": "code",
   "execution_count": 25,
   "metadata": {},
   "outputs": [],
   "source": [
    "cohort_FA_spk_dict_mean_nm = cohort_FA_spk_dict_mean\n",
    "cohort_EN_spk_dict_mean_nm = cohort_EN_spk_dict_mean"
   ]
  },
  {
   "cell_type": "code",
   "execution_count": 26,
   "metadata": {},
   "outputs": [
    {
     "data": {
      "text/plain": [
       "10960"
      ]
     },
     "execution_count": 26,
     "metadata": {},
     "output_type": "execute_result"
    }
   ],
   "source": [
    "1417 + 9543"
   ]
  },
  {
   "cell_type": "code",
   "execution_count": 27,
   "metadata": {},
   "outputs": [],
   "source": [
    "# plot embs"
   ]
  },
  {
   "cell_type": "code",
   "execution_count": 28,
   "metadata": {},
   "outputs": [],
   "source": [
    "out_list = numpy.zeros([0, 192])\n",
    "for i in cohort_FA_spk_dict_mean:\n",
    "    out_list = numpy.append(out_list, cohort_FA_spk_dict_mean[i][None, :].detach().cpu().numpy(), axis=0)\n",
    "\n",
    "out_list_2 = numpy.zeros([0, 192])\n",
    "for i in cohort_EN_spk_dict_mean:\n",
    "    out_list_2 = numpy.append(out_list_2, cohort_EN_spk_dict_mean[i][None, :].detach().cpu().numpy(), axis=0)\n",
    "\n",
    "\n",
    "out_label = len(out_list)*[0] +2000*[1]\n",
    "out_list_f = numpy.append(out_list, out_list_2[:2000], axis=0)"
   ]
  },
  {
   "cell_type": "code",
   "execution_count": 29,
   "metadata": {},
   "outputs": [
    {
     "data": {
      "text/plain": [
       "(3417, 192)"
      ]
     },
     "execution_count": 29,
     "metadata": {},
     "output_type": "execute_result"
    }
   ],
   "source": [
    "out_list_f.shape"
   ]
  },
  {
   "cell_type": "code",
   "execution_count": 30,
   "metadata": {},
   "outputs": [],
   "source": [
    "tsne = manifold.TSNE(n_components=2, init='pca', random_state=0)\n",
    "Y = tsne.fit_transform(out_list_f)"
   ]
  },
  {
   "cell_type": "code",
   "execution_count": 31,
   "metadata": {},
   "outputs": [
    {
     "data": {
      "text/plain": [
       "Text(0.5, 1.0, 'protos')"
      ]
     },
     "execution_count": 31,
     "metadata": {},
     "output_type": "execute_result"
    },
    {
     "data": {
      "image/png": "[encoded data removed]",
      "text/plain": [
       "<Figure size 432x288 with 1 Axes>"
      ]
     },
     "metadata": {
      "needs_background": "light"
     },
     "output_type": "display_data"
    }
   ],
   "source": [
    "fig = plt.figure()\n",
    "Y1 = Y[0:out_list.shape[0]]\n",
    "out_label_1 = out_label[0:out_list.shape[0]]\n",
    "Y2 = Y[out_list.shape[0]:]\n",
    "out_label_2 = out_label[out_list.shape[0]:]\n",
    "a = plt.scatter(Y1[:, 0], Y1[:, 1], color='b', s=1)\n",
    "b = plt.scatter(Y2[:, 0], Y2[:, 1], color='r', s=1)\n",
    "plt.legend([a, b],['FA', 'EN'], scatterpoints=5)\n",
    "plt.title('protos')"
   ]
  },
  {
   "cell_type": "code",
   "execution_count": 32,
   "metadata": {},
   "outputs": [],
   "source": [
    "# enroll sdsv21"
   ]
  },
  {
   "cell_type": "code",
   "execution_count": 33,
   "metadata": {},
   "outputs": [],
   "source": [
    "enrollfilename = enroll_list\n",
    "enroll_files = {}\n",
    "## Read all enroll lines\n",
    "with open(enrollfilename) as listfile:\n",
    "    while True:\n",
    "        line = listfile.readline()\n",
    "        if (not line):\n",
    "            break\n",
    "\n",
    "        data = line.split();\n",
    "\n",
    "        ## Enroll file should have line length >= 2\n",
    "        assert len(data) >= 2\n",
    "\n",
    "        enroll_files[data[0]] = data[1:]"
   ]
  },
  {
   "cell_type": "code",
   "execution_count": 34,
   "metadata": {},
   "outputs": [
    {
     "data": {
      "text/plain": [
       "15555"
      ]
     },
     "execution_count": 34,
     "metadata": {},
     "output_type": "execute_result"
    }
   ],
   "source": [
    "len(enroll_files)"
   ]
  },
  {
   "cell_type": "code",
   "execution_count": 35,
   "metadata": {},
   "outputs": [],
   "source": [
    "enroll_dict = {}"
   ]
  },
  {
   "cell_type": "code",
   "execution_count": 36,
   "metadata": {},
   "outputs": [
    {
     "name": "stdout",
     "output_type": "stream",
     "text": [
      "15555\r"
     ]
    }
   ],
   "source": [
    "for count, enroll_id in enumerate(enroll_files):\n",
    "    for file in enroll_files[enroll_id]:\n",
    "        wavline = file\n",
    "        wavline = os.path.join(test_path, wavline)\n",
    "        raw_inp = loadWAV(wavline, max_frames=0)\n",
    "        raw_inp = torch.FloatTensor(raw_inp).cuda()\n",
    "\n",
    "        ref_feat = S.forward(raw_inp).detach().cpu()\n",
    "\n",
    "        if enroll_id not in enroll_dict.keys():\n",
    "            enroll_dict[enroll_id] = ref_feat\n",
    "        else:\n",
    "            enroll_dict[enroll_id] = torch.cat([enroll_dict[enroll_id], ref_feat], axis=0)\n",
    "\n",
    "    print(count+1, end='\\r')\n"
   ]
  },
  {
   "cell_type": "code",
   "execution_count": 37,
   "metadata": {},
   "outputs": [],
   "source": [
    "enroll_dict_nm = {}\n",
    "for i in enroll_dict:\n",
    "    enroll_dict_nm[i] = F.normalize(torch.mean(enroll_dict[i], dim=0).squeeze(0), p=2, dim=0)"
   ]
  },
  {
   "cell_type": "code",
   "execution_count": 38,
   "metadata": {},
   "outputs": [
    {
     "data": {
      "text/plain": [
       "15555"
      ]
     },
     "execution_count": 38,
     "metadata": {},
     "output_type": "execute_result"
    }
   ],
   "source": [
    "len(enroll_dict_nm)"
   ]
  },
  {
   "cell_type": "code",
   "execution_count": 39,
   "metadata": {},
   "outputs": [],
   "source": [
    "# test sdsv21"
   ]
  },
  {
   "cell_type": "code",
   "execution_count": 40,
   "metadata": {},
   "outputs": [],
   "source": [
    "listfilename = test_list\n",
    "files = []\n",
    "with open(listfilename) as listfile:\n",
    "    while True:\n",
    "        line = listfile.readline()\n",
    "        if (not line):\n",
    "            break\n",
    "\n",
    "        data = line.split()\n",
    "\n",
    "        if len(data) == 2: data = [random.randint(0,1)] + data\n",
    "\n",
    "        files.append(data[2])\n",
    "\n",
    "setfiles = list(set(files))\n",
    "setfiles.sort()"
   ]
  },
  {
   "cell_type": "code",
   "execution_count": 41,
   "metadata": {},
   "outputs": [
    {
     "data": {
      "text/plain": [
       "69350"
      ]
     },
     "execution_count": 41,
     "metadata": {},
     "output_type": "execute_result"
    }
   ],
   "source": [
    "len(setfiles)"
   ]
  },
  {
   "cell_type": "code",
   "execution_count": 42,
   "metadata": {},
   "outputs": [],
   "source": [
    "test_dict = {}"
   ]
  },
  {
   "cell_type": "code",
   "execution_count": 43,
   "metadata": {},
   "outputs": [
    {
     "name": "stdout",
     "output_type": "stream",
     "text": [
      "69\r"
     ]
    }
   ],
   "source": [
    "for count, line in enumerate(setfiles):\n",
    "    wavline = line\n",
    "    wavline = os.path.join(test_path, wavline)\n",
    "    raw_inp = loadWAV(wavline, max_frames=0)\n",
    "    raw_inp = torch.FloatTensor(raw_inp).cuda()\n",
    "    \n",
    "    ref_feat = S.forward(raw_inp).detach().cpu()\n",
    "\n",
    "    test_dict[line] = ref_feat\n",
    "    \n",
    "    if ((count+1) % 1000) == 0:\n",
    "        print((count+1)//1000, end='\\r')"
   ]
  },
  {
   "cell_type": "code",
   "execution_count": 44,
   "metadata": {},
   "outputs": [
    {
     "data": {
      "text/plain": [
       "69350"
      ]
     },
     "execution_count": 44,
     "metadata": {},
     "output_type": "execute_result"
    }
   ],
   "source": [
    "len(test_dict)"
   ]
  },
  {
   "cell_type": "code",
   "execution_count": 45,
   "metadata": {},
   "outputs": [],
   "source": [
    "test_dict_nm = {}\n",
    "for i in test_dict:\n",
    "    test_dict_nm[i] = F.normalize(test_dict[i].squeeze(0), p=2, dim=0)"
   ]
  },
  {
   "cell_type": "code",
   "execution_count": 46,
   "metadata": {},
   "outputs": [],
   "source": [
    "### optional\n",
    "# import pickle\n",
    "# with open('tmp_chort_dict', 'wb') as f:\n",
    "#     pickle.dump(cohort_spk_dict, f)\n",
    "# import pickle\n",
    "# with open('tmp_test_dict', 'wb') as f:\n",
    "#     pickle.dump(test_dict, f)"
   ]
  },
  {
   "cell_type": "code",
   "execution_count": 47,
   "metadata": {},
   "outputs": [
    {
     "data": {
      "text/plain": [
       "220"
      ]
     },
     "execution_count": 47,
     "metadata": {},
     "output_type": "execute_result"
    }
   ],
   "source": [
    "15555 * 1417 // 100000"
   ]
  },
  {
   "cell_type": "code",
   "execution_count": 48,
   "metadata": {},
   "outputs": [
    {
     "data": {
      "text/plain": [
       "985"
      ]
     },
     "execution_count": 48,
     "metadata": {},
     "output_type": "execute_result"
    }
   ],
   "source": [
    "69542 * 1417 // 100000"
   ]
  },
  {
   "cell_type": "code",
   "execution_count": 49,
   "metadata": {},
   "outputs": [
    {
     "name": "stdout",
     "output_type": "stream",
     "text": [
      "22041435\n"
     ]
    }
   ],
   "source": [
    "count = 0\n",
    "cohort2enroll = {}\n",
    "for i in cohort_FA_spk_dict_mean_nm:\n",
    "    cohort_emb = cohort_FA_spk_dict_mean_nm[i]\n",
    "    for j in enroll_dict_nm:\n",
    "        enroll_emb = enroll_dict_nm[j]\n",
    "        score = F.cosine_similarity(cohort_emb, enroll_emb, dim=0).numpy().astype(numpy.float16)\n",
    "        cohort2enroll[str(i)+\" \"+j] = score\n",
    "\n",
    "        count += 1\n",
    "        if (count % 100000) == 0:\n",
    "            print(count // 100000, end='\\r')\n",
    "                \n",
    "print(count)"
   ]
  },
  {
   "cell_type": "code",
   "execution_count": 50,
   "metadata": {},
   "outputs": [
    {
     "name": "stdout",
     "output_type": "stream",
     "text": [
      "98268950\n"
     ]
    }
   ],
   "source": [
    "count = 0\n",
    "cohort2test = {}\n",
    "for i in cohort_FA_spk_dict_mean_nm:\n",
    "    cohort_emb = cohort_FA_spk_dict_mean_nm[i]\n",
    "    for j in test_dict_nm:\n",
    "        test_emb = test_dict_nm[j]\n",
    "        score = F.cosine_similarity(cohort_emb, test_emb, dim=0).numpy().astype(numpy.float16)\n",
    "        cohort2test[str(i)+\" \"+j] = score\n",
    "\n",
    "        count += 1\n",
    "        if (count % 100000) == 0:\n",
    "            print(count // 100000, end='\\r')\n",
    "                \n",
    "print(count)"
   ]
  },
  {
   "cell_type": "code",
   "execution_count": 51,
   "metadata": {},
   "outputs": [
    {
     "data": {
      "text/plain": [
       "98268950"
      ]
     },
     "execution_count": 51,
     "metadata": {},
     "output_type": "execute_result"
    }
   ],
   "source": [
    "len(cohort2test)"
   ]
  },
  {
   "cell_type": "code",
   "execution_count": 52,
   "metadata": {},
   "outputs": [],
   "source": [
    "cohort2enroll_save_path = os.path.join(result_path, 'tmp_cohort2enroll.txt')\n",
    "cohort2test_save_path = os.path.join(result_path, 'tmp_cohort2test.txt')"
   ]
  },
  {
   "cell_type": "code",
   "execution_count": 53,
   "metadata": {},
   "outputs": [
    {
     "name": "stdout",
     "output_type": "stream",
     "text": [
      "220\r"
     ]
    }
   ],
   "source": [
    "with open(cohort2enroll_save_path, 'w') as f:\n",
    "    for count, i in enumerate(cohort2enroll):\n",
    "        line = '%s %.4f\\n'%(i, cohort2enroll[i])\n",
    "        f.write(line)\n",
    "        if (count % 100000) == 0:\n",
    "            print(count // 100000, end='\\r')"
   ]
  },
  {
   "cell_type": "code",
   "execution_count": 54,
   "metadata": {},
   "outputs": [
    {
     "name": "stdout",
     "output_type": "stream",
     "text": [
      "982\r"
     ]
    }
   ],
   "source": [
    "with open(cohort2test_save_path, 'w') as f:\n",
    "    for count, i in enumerate(cohort2test):\n",
    "        line = '%s %.4f\\n'%(i, cohort2test[i])\n",
    "        f.write(line)\n",
    "        if (count % 100000) == 0:\n",
    "            print(count // 100000, end='\\r')"
   ]
  },
  {
   "cell_type": "code",
   "execution_count": 55,
   "metadata": {},
   "outputs": [],
   "source": [
    "cohort2enroll = None\n",
    "cohort2test = None"
   ]
  },
  {
   "cell_type": "code",
   "execution_count": 56,
   "metadata": {},
   "outputs": [],
   "source": [
    "## optional\n",
    "# import pickle\n",
    "# with open('tmp_chort_dict', 'wb') as f:\n",
    "#     pickle.dump(cohort2test, f)\n",
    "# import pickle\n",
    "# with open('tmp_test_dict', 'wb') as f:\n",
    "#     pickle.dump(test_dict, f)"
   ]
  },
  {
   "cell_type": "code",
   "execution_count": 57,
   "metadata": {},
   "outputs": [],
   "source": [
    "import torch\n",
    "import sys\n",
    "import os\n",
    "import torch\n",
    "import numpy\n",
    "import torch.nn.functional as F\n",
    "from scipy.io import wavfile\n",
    "from collections import defaultdict\n",
    "\n",
    "def as_norm_1(file_score_path, out_path, cohort2enroll_path, cohort2test_path, top_num=1000, hold_name=True, dict_sep=' '):\n",
    "    # operation: norm_score = 0.5* ((score-mean_e_e)/str_e_e+(score-mean_t_t)/str_t_t)\n",
    "    print('Score norm operation start, method: Adaptive_score_norm_type_1')\n",
    "    print('')\n",
    "    \n",
    "    file_scores_as_norm_path = out_path\n",
    "    enroll_dict = defaultdict(list)\n",
    "    test_dict = defaultdict(list)\n",
    "\n",
    "    with open(cohort2enroll_path, 'r') as f:\n",
    "        for count, i in enumerate(f):\n",
    "            cohort_utt, enroll_utt, score = i.strip().split(dict_sep)\n",
    "            score = float(score)\n",
    "            enroll_dict[enroll_utt].append([cohort_utt, score])\n",
    "            if ((count+1) % 100000) == 0:\n",
    "                print('read c2e:', (count+1)//100000, end='\\r')\n",
    "    \n",
    "    with open(cohort2test_path, 'r') as f:\n",
    "        for count, i in enumerate(f):\n",
    "            cohort_utt, test_utt, score = i.strip().split(dict_sep)\n",
    "            score = float(score)\n",
    "            test_dict[test_utt].append([cohort_utt, score])\n",
    "            if ((count+1) % 100000) == 0:\n",
    "                print('read c2t:', (count+1)//100000, end='\\r')\n",
    "                \n",
    "        \n",
    "    mean_e_e = {}\n",
    "    str_e_e = {}\n",
    "    mean_t_t = {}\n",
    "    str_t_t = {}\n",
    "    \n",
    "    print('')\n",
    "    print('calculate enroll statistics')\n",
    "    print('')\n",
    "    \n",
    "    for count, key in enumerate(enroll_dict):\n",
    "        enroll_dict[key] = sorted(enroll_dict[key],key = lambda x:x[1], reverse = True)\n",
    "        tmp_score_list = []\n",
    "        for i in range(top_num):\n",
    "            tmp_score_list.append(enroll_dict[key][i][1])\n",
    "        mean_e_e[key] = numpy.mean(tmp_score_list)\n",
    "        str_e_e[key] = numpy.std(tmp_score_list, ddof=1)\n",
    "        if ((count+1) % 1000) == 0:\n",
    "            print('cal e:', (count+1)//1000, end='\\r')\n",
    "\n",
    "    for count, key in enumerate(test_dict):\n",
    "        test_dict[key] = sorted(test_dict[key],key = lambda x:x[1], reverse = True)\n",
    "        tmp_score_list = []\n",
    "        for i in range(top_num):\n",
    "            tmp_score_list.append(test_dict[key][i][1])\n",
    "        mean_t_t[key] = numpy.mean(tmp_score_list)\n",
    "        str_t_t[key] = numpy.std(tmp_score_list, ddof=1)\n",
    "        if ((count+1) % 1000) == 0:\n",
    "            print('cal t:', (count+1)//1000, end='\\r')\n",
    "\n",
    "    print('')\n",
    "    print('Scoring...')\n",
    "    print('')\n",
    "    \n",
    "    file_scores = open(file_score_path)\n",
    "    with open(file_scores_as_norm_path,'w') as f:\n",
    "        for count, line in enumerate(file_scores):\n",
    "            enroll_utt = line.split(' ')[1].strip()\n",
    "            test_utt = line.split(' ')[2].strip()\n",
    "            score = float(line.split(' ')[0].strip())\n",
    "            norm_score = 0.5 * ((score-mean_e_e[enroll_utt])/str_e_e[enroll_utt]+(score-mean_t_t[test_utt])/str_t_t[test_utt])\n",
    "            if hold_name:\n",
    "                f.write('%.4f %s %s\\n'%(norm_score, enroll_utt, test_utt))\n",
    "            else:\n",
    "                f.write('%.4f\\n'%(norm_score))\n",
    "            \n",
    "            if ((count+1) % 10000) == 0:\n",
    "                print((count+1)//10000, end='\\r')\n",
    "                \n",
    "    file_scores.close()\n",
    "    print('')\n",
    "    print('Adaptive_score_norm_type_1 is finished')"
   ]
  },
  {
   "cell_type": "code",
   "execution_count": 58,
   "metadata": {
    "scrolled": true
   },
   "outputs": [
    {
     "name": "stdout",
     "output_type": "stream",
     "text": [
      "Score norm operation start, method: Adaptive_score_norm_type_1\n",
      "\n",
      "read c2t: 982\n",
      "calculate enroll statistics\n",
      "\n",
      "cal t: 69\n",
      "Scoring...\n",
      "\n",
      "461\n",
      "Adaptive_score_norm_type_1 is finished\n"
     ]
    }
   ],
   "source": [
    "as_norm_1(score_file, out_path_1, cohort2enroll_save_path, cohort2test_save_path, top_num=100, hold_name=True)"
   ]
  },
  {
   "cell_type": "code",
   "execution_count": 59,
   "metadata": {
    "scrolled": false
   },
   "outputs": [],
   "source": [
    "# as_norm_2(score_file, out_path_2, cohort2test, cohort2test, top_num=1000, hold_name=True)"
   ]
  },
  {
   "cell_type": "code",
   "execution_count": 60,
   "metadata": {},
   "outputs": [],
   "source": [
    "# get asnormed score_file & scoring"
   ]
  }
 ],
 "metadata": {
  "kernelspec": {
   "display_name": "Python 3",
   "language": "python",
   "name": "python3"
  },
  "language_info": {
   "codemirror_mode": {
    "name": "ipython",
    "version": 3
   },
   "file_extension": ".py",
   "mimetype": "text/x-python",
   "name": "python",
   "nbconvert_exporter": "python",
   "pygments_lexer": "ipython3",
   "version": "3.7.7"
  }
 },
 "nbformat": 4,
 "nbformat_minor": 4
}
