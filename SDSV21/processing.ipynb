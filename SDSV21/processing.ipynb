{
 "cells": [
  {
   "cell_type": "code",
   "execution_count": 1,
   "metadata": {},
   "outputs": [],
   "source": [
    "import os\n",
    "import numpy as np"
   ]
  },
  {
   "cell_type": "code",
   "execution_count": null,
   "metadata": {},
   "outputs": [],
   "source": []
  },
  {
   "cell_type": "code",
   "execution_count": null,
   "metadata": {},
   "outputs": [],
   "source": [
    "# TASK2 dev"
   ]
  },
  {
   "cell_type": "code",
   "execution_count": 2,
   "metadata": {},
   "outputs": [],
   "source": [
    "ORI_TASK2_DEV = '/workspace/DATASET/server9_ssd/sdsv21/task2_dev_trials.txt'"
   ]
  },
  {
   "cell_type": "code",
   "execution_count": 4,
   "metadata": {},
   "outputs": [],
   "source": [
    "OUT_TASK2_DEVLIST = '/workspace/DATASET/server9_ssd/sdsv21/task2_devtriallist.txt'"
   ]
  },
  {
   "cell_type": "code",
   "execution_count": 7,
   "metadata": {
    "scrolled": true
   },
   "outputs": [
    {
     "name": "stdout",
     "output_type": "stream",
     "text": [
      "7071\n"
     ]
    }
   ],
   "source": [
    "with open(ORI_TASK2_DEV, 'r') as f:\n",
    "    with open(OUT_TASK2_DEVLIST, 'w') as of:\n",
    "        for count, line in enumerate(f):\n",
    "            model, wav, label = line.split(' ')[0], line.split(' ')[1], line.split(' ')[2]\n",
    "            if label == 'imp':\n",
    "                label = 0\n",
    "            else:\n",
    "                label = 1\n",
    "            wav = 'task2_evaluation/'+wav+'.wav'\n",
    "            \n",
    "            out = str(label) + ' ' + model + ' ' + wav + '\\n'\n",
    "            \n",
    "            of.write(out)\n",
    "            \n",
    "print(count+1)"
   ]
  },
  {
   "cell_type": "code",
   "execution_count": null,
   "metadata": {},
   "outputs": [],
   "source": []
  },
  {
   "cell_type": "code",
   "execution_count": null,
   "metadata": {},
   "outputs": [],
   "source": [
    "# TASK2 dev EN"
   ]
  },
  {
   "cell_type": "code",
   "execution_count": 483,
   "metadata": {},
   "outputs": [],
   "source": [
    "ORI_TASK2_DEV = '/workspace/DATASET/server9_ssd/sdsv21/task2_dev_trials.txt'"
   ]
  },
  {
   "cell_type": "code",
   "execution_count": 484,
   "metadata": {},
   "outputs": [],
   "source": [
    "OUT_TASK2_DEVLIST = '/workspace/DATASET/server9_ssd/sdsv21/task2_devtriallist_EN.txt'"
   ]
  },
  {
   "cell_type": "code",
   "execution_count": 485,
   "metadata": {
    "scrolled": true
   },
   "outputs": [
    {
     "name": "stdout",
     "output_type": "stream",
     "text": [
      "7071\n"
     ]
    }
   ],
   "source": [
    "with open(ORI_TASK2_DEV, 'r') as f:\n",
    "    with open(OUT_TASK2_DEVLIST, 'w') as of:\n",
    "        for count, line in enumerate(f):\n",
    "            model, wav, label, lang = line.split(' ')[0], line.split(' ')[1], line.split(' ')[2], line.split(' ')[3]\n",
    "            if lang == 'EN':\n",
    "                if label == 'imp':\n",
    "                    label = 0\n",
    "                else:\n",
    "                    label = 1\n",
    "                wav = 'task2_evaluation/'+wav+'.wav'\n",
    "\n",
    "                out = str(label) + ' ' + model + ' ' + wav + '\\n'\n",
    "\n",
    "                of.write(out)\n",
    "            \n",
    "print(count+1)"
   ]
  },
  {
   "cell_type": "code",
   "execution_count": null,
   "metadata": {},
   "outputs": [],
   "source": [
    "# TASK2 dev FA"
   ]
  },
  {
   "cell_type": "code",
   "execution_count": 486,
   "metadata": {},
   "outputs": [],
   "source": [
    "ORI_TASK2_DEV = '/workspace/DATASET/server9_ssd/sdsv21/task2_dev_trials.txt'"
   ]
  },
  {
   "cell_type": "code",
   "execution_count": 487,
   "metadata": {},
   "outputs": [],
   "source": [
    "OUT_TASK2_DEVLIST = '/workspace/DATASET/server9_ssd/sdsv21/task2_devtriallist_FA.txt'"
   ]
  },
  {
   "cell_type": "code",
   "execution_count": 488,
   "metadata": {
    "scrolled": true
   },
   "outputs": [
    {
     "name": "stdout",
     "output_type": "stream",
     "text": [
      "7071\n"
     ]
    }
   ],
   "source": [
    "with open(ORI_TASK2_DEV, 'r') as f:\n",
    "    with open(OUT_TASK2_DEVLIST, 'w') as of:\n",
    "        for count, line in enumerate(f):\n",
    "            model, wav, label, lang = line.split(' ')[0], line.split(' ')[1], line.split(' ')[2], line.split(' ')[3]\n",
    "            if lang == 'FA':\n",
    "                if label == 'imp':\n",
    "                    label = 0\n",
    "                else:\n",
    "                    label = 1\n",
    "                wav = 'task2_evaluation/'+wav+'.wav'\n",
    "\n",
    "                out = str(label) + ' ' + model + ' ' + wav + '\\n'\n",
    "\n",
    "                of.write(out)\n",
    "            \n",
    "print(count+1)"
   ]
  },
  {
   "cell_type": "code",
   "execution_count": null,
   "metadata": {},
   "outputs": [],
   "source": []
  },
  {
   "cell_type": "code",
   "execution_count": null,
   "metadata": {},
   "outputs": [],
   "source": []
  },
  {
   "cell_type": "code",
   "execution_count": null,
   "metadata": {},
   "outputs": [],
   "source": [
    "# TASK2 test"
   ]
  },
  {
   "cell_type": "code",
   "execution_count": 167,
   "metadata": {},
   "outputs": [],
   "source": [
    "ORI_TASK2_DEV = '/workspace/DATASET/server9_ssd/sdsv21/task2_test_trials.txt'"
   ]
  },
  {
   "cell_type": "code",
   "execution_count": 168,
   "metadata": {},
   "outputs": [],
   "source": [
    "OUT_TASK2_DEVLIST = '/workspace/DATASET/server9_ssd/sdsv21/task2_testtriallist.txt'"
   ]
  },
  {
   "cell_type": "code",
   "execution_count": 169,
   "metadata": {},
   "outputs": [
    {
     "name": "stdout",
     "output_type": "stream",
     "text": [
      "4619310\n"
     ]
    }
   ],
   "source": [
    "with open(ORI_TASK2_DEV, 'r') as f:\n",
    "    with open(OUT_TASK2_DEVLIST, 'w') as of:\n",
    "        for count, line in enumerate(f):\n",
    "            line = line[:-1]\n",
    "            model, wav = line.split(' ')[0], line.split(' ')[1]\n",
    "\n",
    "            wav = 'task2_evaluation/'+wav+'.wav'\n",
    "            \n",
    "            out = model + ' ' + wav + '\\n'\n",
    "            \n",
    "            of.write(out)\n",
    "            \n",
    "print(count+1)"
   ]
  },
  {
   "cell_type": "code",
   "execution_count": null,
   "metadata": {},
   "outputs": [],
   "source": []
  },
  {
   "cell_type": "code",
   "execution_count": null,
   "metadata": {},
   "outputs": [],
   "source": [
    "# TASK1 dev"
   ]
  },
  {
   "cell_type": "code",
   "execution_count": 15,
   "metadata": {},
   "outputs": [],
   "source": [
    "ORI_TASK1_DEV = '/workspace/DATASET/server9_ssd/sdsv21/task1_dev_trials.txt'"
   ]
  },
  {
   "cell_type": "code",
   "execution_count": 16,
   "metadata": {},
   "outputs": [],
   "source": [
    "OUT_TASK1_DEVLIST = '/workspace/DATASET/server9_ssd/sdsv21/task1_devtriallist.txt'"
   ]
  },
  {
   "cell_type": "code",
   "execution_count": 18,
   "metadata": {},
   "outputs": [
    {
     "name": "stdout",
     "output_type": "stream",
     "text": [
      "7033\n"
     ]
    }
   ],
   "source": [
    "with open(ORI_TASK1_DEV, 'r') as f:\n",
    "    with open(OUT_TASK1_DEVLIST, 'w') as of:\n",
    "        for count, line in enumerate(f):\n",
    "            model, wav, label = line.split(' ')[0], line.split(' ')[1], line.split(' ')[2]\n",
    "            if label == 'TC':\n",
    "                label = 1\n",
    "            else:\n",
    "                label = 0\n",
    "            wav = 'task2_evaluation/'+wav+'.wav'\n",
    "            \n",
    "            out = str(label) + ' ' + model + ' ' + wav + '\\n'\n",
    "            \n",
    "            of.write(out)\n",
    "            \n",
    "print(count+1)"
   ]
  },
  {
   "cell_type": "code",
   "execution_count": null,
   "metadata": {},
   "outputs": [],
   "source": []
  },
  {
   "cell_type": "code",
   "execution_count": null,
   "metadata": {},
   "outputs": [],
   "source": [
    "# TASK1 dev TW-IC"
   ]
  },
  {
   "cell_type": "code",
   "execution_count": 463,
   "metadata": {},
   "outputs": [],
   "source": [
    "ORI_TASK1_DEV = '/workspace/DATASET/server9_ssd/sdsv21/task1_dev_trials.txt'"
   ]
  },
  {
   "cell_type": "code",
   "execution_count": 464,
   "metadata": {},
   "outputs": [],
   "source": [
    "OUT_TASK1_DEVLIST = '/workspace/DATASET/server9_ssd/sdsv21/task1_TWIC_devtriallist.txt'"
   ]
  },
  {
   "cell_type": "code",
   "execution_count": 465,
   "metadata": {},
   "outputs": [
    {
     "name": "stdout",
     "output_type": "stream",
     "text": [
      "7033\n"
     ]
    }
   ],
   "source": [
    "with open(ORI_TASK1_DEV, 'r') as f:\n",
    "    with open(OUT_TASK1_DEVLIST, 'w') as of:\n",
    "        for count, line in enumerate(f):\n",
    "            model, wav, label = line.split(' ')[0], line.split(' ')[1], line.split(' ')[2]\n",
    "            if label == 'TW':\n",
    "                label = 1\n",
    "            elif label == 'IC':\n",
    "                label = 0\n",
    "            else:\n",
    "                continue\n",
    "            wav = 'task2_evaluation/'+wav+'.wav'\n",
    "            \n",
    "            out = str(label) + ' ' + model + ' ' + wav + '\\n'\n",
    "            \n",
    "            of.write(out)\n",
    "            \n",
    "print(count+1)"
   ]
  },
  {
   "cell_type": "code",
   "execution_count": null,
   "metadata": {},
   "outputs": [],
   "source": []
  },
  {
   "cell_type": "code",
   "execution_count": null,
   "metadata": {},
   "outputs": [],
   "source": []
  },
  {
   "cell_type": "code",
   "execution_count": null,
   "metadata": {},
   "outputs": [],
   "source": [
    "# TASK1 dev TC-IC"
   ]
  },
  {
   "cell_type": "code",
   "execution_count": 466,
   "metadata": {},
   "outputs": [],
   "source": [
    "ORI_TASK1_DEV = '/workspace/DATASET/server9_ssd/sdsv21/task1_dev_trials.txt'"
   ]
  },
  {
   "cell_type": "code",
   "execution_count": 467,
   "metadata": {},
   "outputs": [],
   "source": [
    "OUT_TASK1_DEVLIST = '/workspace/DATASET/server9_ssd/sdsv21/task1_TCIC_devtriallist.txt'"
   ]
  },
  {
   "cell_type": "code",
   "execution_count": 468,
   "metadata": {},
   "outputs": [
    {
     "name": "stdout",
     "output_type": "stream",
     "text": [
      "7033\n"
     ]
    }
   ],
   "source": [
    "with open(ORI_TASK1_DEV, 'r') as f:\n",
    "    with open(OUT_TASK1_DEVLIST, 'w') as of:\n",
    "        for count, line in enumerate(f):\n",
    "            model, wav, label = line.split(' ')[0], line.split(' ')[1], line.split(' ')[2]\n",
    "            if label == 'TC':\n",
    "                label = 1\n",
    "            elif label == 'IC':\n",
    "                label = 0\n",
    "            else:\n",
    "                continue\n",
    "            wav = 'task2_evaluation/'+wav+'.wav'\n",
    "            \n",
    "            out = str(label) + ' ' + model + ' ' + wav + '\\n'\n",
    "            \n",
    "            of.write(out)\n",
    "            \n",
    "print(count+1)"
   ]
  },
  {
   "cell_type": "code",
   "execution_count": null,
   "metadata": {},
   "outputs": [],
   "source": []
  },
  {
   "cell_type": "code",
   "execution_count": null,
   "metadata": {},
   "outputs": [],
   "source": [
    "# TASK1 dev asv"
   ]
  },
  {
   "cell_type": "code",
   "execution_count": 224,
   "metadata": {},
   "outputs": [],
   "source": [
    "ORI_TASK1_DEV = '/workspace/DATASET/server9_ssd/sdsv21/task1_dev_trials.txt'"
   ]
  },
  {
   "cell_type": "code",
   "execution_count": 225,
   "metadata": {},
   "outputs": [],
   "source": [
    "OUT_TASK1_DEVLIST = '/workspace/DATASET/server9_ssd/sdsv21/task1_asv_devtriallist.txt'"
   ]
  },
  {
   "cell_type": "code",
   "execution_count": 226,
   "metadata": {},
   "outputs": [
    {
     "name": "stdout",
     "output_type": "stream",
     "text": [
      "7033\n"
     ]
    }
   ],
   "source": [
    "with open(ORI_TASK1_DEV, 'r') as f:\n",
    "    with open(OUT_TASK1_DEVLIST, 'w') as of:\n",
    "        for count, line in enumerate(f):\n",
    "            model, wav, label = line.split(' ')[0], line.split(' ')[1], line.split(' ')[2]\n",
    "            if (label == 'TC') or (label == 'TW'):\n",
    "                label = 1\n",
    "            else:\n",
    "                label = 0\n",
    "            wav = 'task2_evaluation/'+wav+'.wav'\n",
    "            \n",
    "            out = str(label) + ' ' + model + ' ' + wav + '\\n'\n",
    "            \n",
    "            of.write(out)\n",
    "            \n",
    "print(count+1)"
   ]
  },
  {
   "cell_type": "code",
   "execution_count": null,
   "metadata": {},
   "outputs": [],
   "source": []
  },
  {
   "cell_type": "code",
   "execution_count": null,
   "metadata": {},
   "outputs": [],
   "source": [
    "# TASK2 test"
   ]
  },
  {
   "cell_type": "code",
   "execution_count": 170,
   "metadata": {},
   "outputs": [],
   "source": [
    "ORI_TASK1_DEV = '/workspace/DATASET/server9_ssd/sdsv21/task1_test_trials.txt'"
   ]
  },
  {
   "cell_type": "code",
   "execution_count": 171,
   "metadata": {},
   "outputs": [],
   "source": [
    "OUT_TASK1_DEVLIST = '/workspace/DATASET/server9_ssd/sdsv21/task1_testtriallist.txt'"
   ]
  },
  {
   "cell_type": "code",
   "execution_count": 172,
   "metadata": {},
   "outputs": [
    {
     "name": "stdout",
     "output_type": "stream",
     "text": [
      "3779551\n"
     ]
    }
   ],
   "source": [
    "with open(ORI_TASK1_DEV, 'r') as f:\n",
    "    with open(OUT_TASK1_DEVLIST, 'w') as of:\n",
    "        for count, line in enumerate(f):\n",
    "            line = line[:-1]\n",
    "            model, wav = line.split(' ')[0], line.split(' ')[1]\n",
    "            \n",
    "            wav = 'task2_evaluation/'+wav+'.wav'\n",
    "            \n",
    "            out = model + ' ' + wav + '\\n'\n",
    "            \n",
    "            of.write(out)\n",
    "            \n",
    "print(count+1)"
   ]
  },
  {
   "cell_type": "code",
   "execution_count": null,
   "metadata": {},
   "outputs": [],
   "source": [
    "# Make task1 enroll"
   ]
  },
  {
   "cell_type": "code",
   "execution_count": 35,
   "metadata": {},
   "outputs": [],
   "source": [
    "ORI_ENROLL = '/workspace/DATASET/server9_ssd/sdsv21/T1_model_enrollment.txt'"
   ]
  },
  {
   "cell_type": "code",
   "execution_count": 36,
   "metadata": {},
   "outputs": [],
   "source": [
    "with open(ORI_ENROLL, 'r') as f:\n",
    "    lines = f.readlines()"
   ]
  },
  {
   "cell_type": "code",
   "execution_count": 39,
   "metadata": {},
   "outputs": [],
   "source": [
    "lines = lines[1:]"
   ]
  },
  {
   "cell_type": "code",
   "execution_count": 41,
   "metadata": {},
   "outputs": [],
   "source": [
    "OUT_ENROLL = '/workspace/DATASET/server9_ssd/sdsv21/sdsv20_enrolllist.txt'"
   ]
  },
  {
   "cell_type": "code",
   "execution_count": 53,
   "metadata": {},
   "outputs": [],
   "source": [
    "with open(OUT_ENROLL, 'w') as f:\n",
    "    for i in lines:\n",
    "        data = i[:-1].split(' ')\n",
    "        enroll_wav = data[2:]\n",
    "        outline = data[0]\n",
    "        for j in enroll_wav:\n",
    "            out_wav = 'task1_enrollment/wav/enrollment/'+j+'.wav'\n",
    "            assert os.path.exists('/workspace/DATASET/server9_ssd/sdsv21/'+out_wav)\n",
    "            outline += ' '+out_wav\n",
    "        outline += '\\n'\n",
    "        f.write(outline)"
   ]
  },
  {
   "cell_type": "code",
   "execution_count": null,
   "metadata": {},
   "outputs": [],
   "source": []
  },
  {
   "cell_type": "code",
   "execution_count": null,
   "metadata": {},
   "outputs": [],
   "source": [
    "# train set librispeech"
   ]
  },
  {
   "cell_type": "code",
   "execution_count": 50,
   "metadata": {},
   "outputs": [],
   "source": [
    "import librosa\n",
    "import glob\n",
    "import soundfile as sf"
   ]
  },
  {
   "cell_type": "code",
   "execution_count": 43,
   "metadata": {},
   "outputs": [],
   "source": [
    "LIBRISPEECH_DIR = '/workspace/DATASET/server9_ssd/lbrispeech'"
   ]
  },
  {
   "cell_type": "code",
   "execution_count": 84,
   "metadata": {},
   "outputs": [],
   "source": [
    "dirs = glob.glob(LIBRISPEECH_DIR+'/*/*/*/*.flac')"
   ]
  },
  {
   "cell_type": "code",
   "execution_count": 49,
   "metadata": {},
   "outputs": [
    {
     "data": {
      "text/plain": [
       "281241"
      ]
     },
     "execution_count": 49,
     "metadata": {},
     "output_type": "execute_result"
    }
   ],
   "source": [
    "len(dirs)"
   ]
  },
  {
   "cell_type": "code",
   "execution_count": 51,
   "metadata": {
    "scrolled": true
   },
   "outputs": [
    {
     "name": "stdout",
     "output_type": "stream",
     "text": [
      "281240\r"
     ]
    }
   ],
   "source": [
    "for count, i in enumerate(dirs):\n",
    "    a, b = librosa.load(i, sr=16000)\n",
    "    sf.write(i[:-5]+'.wav', a, 16000)\n",
    "    print(count, end='\\r')"
   ]
  },
  {
   "cell_type": "code",
   "execution_count": 147,
   "metadata": {},
   "outputs": [],
   "source": [
    "dirs = glob.glob(LIBRISPEECH_DIR+'/*/*/*/*.wav')"
   ]
  },
  {
   "cell_type": "code",
   "execution_count": 148,
   "metadata": {},
   "outputs": [
    {
     "data": {
      "text/plain": [
       "281241"
      ]
     },
     "execution_count": 148,
     "metadata": {},
     "output_type": "execute_result"
    }
   ],
   "source": [
    "len(dirs)"
   ]
  },
  {
   "cell_type": "code",
   "execution_count": 96,
   "metadata": {},
   "outputs": [],
   "source": [
    "LIBRISPEECH_OUTDIR = '/workspace/DATASET/server9_ssd/sdsv21/librispeech_train2338.txt'"
   ]
  },
  {
   "cell_type": "code",
   "execution_count": 149,
   "metadata": {},
   "outputs": [],
   "source": [
    "spk_2_utt = {}"
   ]
  },
  {
   "cell_type": "code",
   "execution_count": 150,
   "metadata": {},
   "outputs": [],
   "source": [
    "for count, i in enumerate(dirs):\n",
    "    spk_lab = i.split('/')[-3]\n",
    "    wav_path = i.split('/')[-4]+'/'+i.split('/')[-3]+'/'+i.split('/')[-2]+'/'+i.split('/')[-1]\n",
    "    if spk_lab not in spk_2_utt:\n",
    "        spk_2_utt[spk_lab] = [wav_path]\n",
    "    else:\n",
    "        spk_2_utt[spk_lab].append(wav_path)"
   ]
  },
  {
   "cell_type": "code",
   "execution_count": 151,
   "metadata": {},
   "outputs": [
    {
     "data": {
      "text/plain": [
       "2338"
      ]
     },
     "execution_count": 151,
     "metadata": {},
     "output_type": "execute_result"
    }
   ],
   "source": [
    "len(spk_2_utt)"
   ]
  },
  {
   "cell_type": "code",
   "execution_count": 152,
   "metadata": {},
   "outputs": [
    {
     "name": "stdout",
     "output_type": "stream",
     "text": [
      "281241\n"
     ]
    }
   ],
   "source": [
    "count = 0\n",
    "count_list = []\n",
    "for i in spk_2_utt:\n",
    "    count += len(spk_2_utt[i])\n",
    "    count_list.append(len(spk_2_utt[i]))\n",
    "print(count)"
   ]
  },
  {
   "cell_type": "code",
   "execution_count": 153,
   "metadata": {},
   "outputs": [
    {
     "data": {
      "text/plain": [
       "16"
      ]
     },
     "execution_count": 153,
     "metadata": {},
     "output_type": "execute_result"
    }
   ],
   "source": [
    "min(count_list)"
   ]
  },
  {
   "cell_type": "code",
   "execution_count": 154,
   "metadata": {},
   "outputs": [
    {
     "data": {
      "text/plain": [
       "240"
      ]
     },
     "execution_count": 154,
     "metadata": {},
     "output_type": "execute_result"
    }
   ],
   "source": [
    "max(count_list)"
   ]
  },
  {
   "cell_type": "code",
   "execution_count": null,
   "metadata": {},
   "outputs": [],
   "source": []
  },
  {
   "cell_type": "code",
   "execution_count": null,
   "metadata": {},
   "outputs": [],
   "source": [
    "# librispeech utt distribution is acceptable"
   ]
  },
  {
   "cell_type": "code",
   "execution_count": 98,
   "metadata": {},
   "outputs": [
    {
     "name": "stdout",
     "output_type": "stream",
     "text": [
      "281241\n"
     ]
    }
   ],
   "source": [
    "count = 0\n",
    "with open(LIBRISPEECH_OUTDIR, 'w') as f:\n",
    "    for i in spk_2_utt:\n",
    "        for j in spk_2_utt[i]:\n",
    "            line = 'libri'+i+' '+j+'\\n'\n",
    "            f.write(line)\n",
    "            count += 1\n",
    "print(count)  "
   ]
  },
  {
   "cell_type": "code",
   "execution_count": null,
   "metadata": {},
   "outputs": [],
   "source": []
  },
  {
   "cell_type": "code",
   "execution_count": null,
   "metadata": {},
   "outputs": [],
   "source": [
    "# train set farsi"
   ]
  },
  {
   "cell_type": "code",
   "execution_count": 62,
   "metadata": {},
   "outputs": [],
   "source": [
    "FARSI_DIR = '/workspace/DATASET/server9_ssd/mozila_farsi/cv-corpus-6.1-2020-12-11/fa/clips'"
   ]
  },
  {
   "cell_type": "code",
   "execution_count": 63,
   "metadata": {},
   "outputs": [],
   "source": [
    "dirs = glob.glob(FARSI_DIR+'/*.mp3')"
   ]
  },
  {
   "cell_type": "code",
   "execution_count": 68,
   "metadata": {},
   "outputs": [
    {
     "data": {
      "text/plain": [
       "285867"
      ]
     },
     "execution_count": 68,
     "metadata": {},
     "output_type": "execute_result"
    }
   ],
   "source": [
    "len(dirs)"
   ]
  },
  {
   "cell_type": "code",
   "execution_count": 69,
   "metadata": {},
   "outputs": [
    {
     "name": "stdout",
     "output_type": "stream",
     "text": [
      "285866\r"
     ]
    }
   ],
   "source": [
    "import warnings\n",
    "\n",
    "warnings.filterwarnings('ignore')\n",
    "for count, i in enumerate(dirs):\n",
    "    a, b = librosa.load(i, sr=16000)\n",
    "    sf.write(i[:-4]+'.wav', a, 16000)\n",
    "    print(count, end='\\r')"
   ]
  },
  {
   "cell_type": "code",
   "execution_count": 70,
   "metadata": {
    "scrolled": true
   },
   "outputs": [
    {
     "data": {
      "text/plain": [
       "285866"
      ]
     },
     "execution_count": 70,
     "metadata": {},
     "output_type": "execute_result"
    }
   ],
   "source": [
    "count"
   ]
  },
  {
   "cell_type": "code",
   "execution_count": 99,
   "metadata": {},
   "outputs": [],
   "source": [
    "dirs = glob.glob(FARSI_DIR+'/*.wav')"
   ]
  },
  {
   "cell_type": "code",
   "execution_count": 100,
   "metadata": {},
   "outputs": [
    {
     "data": {
      "text/plain": [
       "285867"
      ]
     },
     "execution_count": 100,
     "metadata": {},
     "output_type": "execute_result"
    }
   ],
   "source": [
    "len(dirs)"
   ]
  },
  {
   "cell_type": "code",
   "execution_count": 101,
   "metadata": {},
   "outputs": [],
   "source": [
    "FARSI_list = '/workspace/DATASET/server9_ssd/mozila_farsi/cv-corpus-6.1-2020-12-11/fa/validated.tsv'"
   ]
  },
  {
   "cell_type": "code",
   "execution_count": 102,
   "metadata": {},
   "outputs": [],
   "source": [
    "with open(FARSI_list, 'r') as f:\n",
    "    FaList = f.readlines()"
   ]
  },
  {
   "cell_type": "code",
   "execution_count": 116,
   "metadata": {},
   "outputs": [
    {
     "data": {
      "text/plain": [
       "251660"
      ]
     },
     "execution_count": 116,
     "metadata": {},
     "output_type": "execute_result"
    }
   ],
   "source": [
    "len(FaList)"
   ]
  },
  {
   "cell_type": "code",
   "execution_count": 111,
   "metadata": {},
   "outputs": [],
   "source": [
    "spk_2_utt = {}"
   ]
  },
  {
   "cell_type": "code",
   "execution_count": 112,
   "metadata": {},
   "outputs": [],
   "source": [
    "for count, i in enumerate(FaList):\n",
    "    if count == 0:\n",
    "        continue\n",
    "    spk_lab = i.split('\\t')[0]\n",
    "    wav_path = 'clips/'+i.split('\\t')[1][:-4]+'.wav'\n",
    "    if spk_lab not in spk_2_utt:\n",
    "        spk_2_utt[spk_lab] = [wav_path]\n",
    "    else:\n",
    "        spk_2_utt[spk_lab].append(wav_path)"
   ]
  },
  {
   "cell_type": "code",
   "execution_count": 113,
   "metadata": {},
   "outputs": [
    {
     "data": {
      "text/plain": [
       "3463"
      ]
     },
     "execution_count": 113,
     "metadata": {},
     "output_type": "execute_result"
    }
   ],
   "source": [
    "len(spk_2_utt)"
   ]
  },
  {
   "cell_type": "code",
   "execution_count": 141,
   "metadata": {},
   "outputs": [
    {
     "name": "stdout",
     "output_type": "stream",
     "text": [
      "251659\n"
     ]
    }
   ],
   "source": [
    "count = 0\n",
    "count_list = []\n",
    "for i in spk_2_utt:\n",
    "    count += len(spk_2_utt[i])\n",
    "    if len(spk_2_utt[i]) > 20:        \n",
    "        count_list.append(len(spk_2_utt[i]))\n",
    "print(count)"
   ]
  },
  {
   "cell_type": "code",
   "execution_count": 142,
   "metadata": {},
   "outputs": [
    {
     "data": {
      "text/plain": [
       "829"
      ]
     },
     "execution_count": 142,
     "metadata": {},
     "output_type": "execute_result"
    }
   ],
   "source": [
    "len(count_list)"
   ]
  },
  {
   "cell_type": "code",
   "execution_count": null,
   "metadata": {},
   "outputs": [],
   "source": []
  },
  {
   "cell_type": "code",
   "execution_count": null,
   "metadata": {},
   "outputs": [],
   "source": [
    "# only select 829 out of 3463 spks in Farsi"
   ]
  },
  {
   "cell_type": "code",
   "execution_count": 118,
   "metadata": {},
   "outputs": [],
   "source": [
    "FA_OUTDIR = '/workspace/DATASET/server9_ssd/sdsv21/MozilaFA_train3463.txt'"
   ]
  },
  {
   "cell_type": "code",
   "execution_count": 119,
   "metadata": {},
   "outputs": [
    {
     "name": "stdout",
     "output_type": "stream",
     "text": [
      "251659\n"
     ]
    }
   ],
   "source": [
    "count = 0\n",
    "with open(FA_OUTDIR, 'w') as f:\n",
    "    for i in spk_2_utt:\n",
    "        for j in spk_2_utt[i]:\n",
    "            line = i+' '+j+'\\n'\n",
    "            f.write(line)\n",
    "            count += 1\n",
    "print(count)  "
   ]
  },
  {
   "cell_type": "code",
   "execution_count": 143,
   "metadata": {},
   "outputs": [],
   "source": [
    "FA_OUTDIR_PART = '/workspace/DATASET/server9_ssd/sdsv21/MozilaFA_train829.txt'"
   ]
  },
  {
   "cell_type": "code",
   "execution_count": 146,
   "metadata": {},
   "outputs": [
    {
     "name": "stdout",
     "output_type": "stream",
     "text": [
      "829\n"
     ]
    }
   ],
   "source": [
    "count_spk = 0\n",
    "with open(FA_OUTDIR_PART, 'w') as f:\n",
    "    for i in spk_2_utt:\n",
    "        if len(spk_2_utt[i]) <= 20:\n",
    "            continue\n",
    "        count_spk+=1\n",
    "        for j in spk_2_utt[i]:\n",
    "            line = i+' '+j+'\\n'\n",
    "            f.write(line)\n",
    "print(count_spk)  "
   ]
  },
  {
   "cell_type": "code",
   "execution_count": null,
   "metadata": {},
   "outputs": [],
   "source": []
  },
  {
   "cell_type": "code",
   "execution_count": 141,
   "metadata": {},
   "outputs": [],
   "source": [
    "# Make T1 train list"
   ]
  },
  {
   "cell_type": "code",
   "execution_count": 142,
   "metadata": {},
   "outputs": [],
   "source": [
    "T1_ORI_LIST = '/workspace/DATASET/server9_ssd/sdsv21/T1_train_labels.txt'\n",
    "T1_OUT_PATH = '/workspace/DATASET/server9_ssd/sdsv21/T1_sdsv20_trainlist.txt'"
   ]
  },
  {
   "cell_type": "code",
   "execution_count": 143,
   "metadata": {},
   "outputs": [],
   "source": [
    "with open(T1_ORI_LIST, 'r') as f:\n",
    "    lines = f.readlines()"
   ]
  },
  {
   "cell_type": "code",
   "execution_count": 146,
   "metadata": {},
   "outputs": [],
   "source": [
    "lines = lines[1:]"
   ]
  },
  {
   "cell_type": "code",
   "execution_count": 147,
   "metadata": {},
   "outputs": [
    {
     "data": {
      "text/plain": [
       "'trn_000001 spk_000018 09\\n'"
      ]
     },
     "execution_count": 147,
     "metadata": {},
     "output_type": "execute_result"
    }
   ],
   "source": [
    "lines[0]"
   ]
  },
  {
   "cell_type": "code",
   "execution_count": 148,
   "metadata": {},
   "outputs": [],
   "source": [
    "spk2train = {}\n",
    "for i in lines:\n",
    "    data = i.split(' ')\n",
    "    label = data[1]\n",
    "    wav = data[0]\n",
    "    if label not in spk2train:\n",
    "        spk2train[label] = [wav]\n",
    "    else:\n",
    "        spk2train[label].append(wav)"
   ]
  },
  {
   "cell_type": "code",
   "execution_count": 150,
   "metadata": {},
   "outputs": [],
   "source": [
    "with open(T1_OUT_PATH, 'w') as f:\n",
    "    for i in spk2train:\n",
    "        for j in spk2train[i]:\n",
    "            label = i\n",
    "            wav = 'task1_train/wav/train/'+j+'.wav'\n",
    "            line = label + ' ' + wav + '\\n'\n",
    "            f.write(line)"
   ]
  },
  {
   "cell_type": "code",
   "execution_count": 151,
   "metadata": {},
   "outputs": [
    {
     "data": {
      "text/plain": [
       "963"
      ]
     },
     "execution_count": 151,
     "metadata": {},
     "output_type": "execute_result"
    }
   ],
   "source": [
    "len(spk2train)"
   ]
  },
  {
   "cell_type": "code",
   "execution_count": null,
   "metadata": {},
   "outputs": [],
   "source": []
  },
  {
   "cell_type": "code",
   "execution_count": null,
   "metadata": {},
   "outputs": [],
   "source": [
    "# combine list"
   ]
  },
  {
   "cell_type": "code",
   "execution_count": 160,
   "metadata": {},
   "outputs": [
    {
     "data": {
      "text/plain": [
       "10960"
      ]
     },
     "execution_count": 160,
     "metadata": {},
     "output_type": "execute_result"
    }
   ],
   "source": [
    "588 + 829 + 2338 + 1211 + 5994"
   ]
  },
  {
   "cell_type": "code",
   "execution_count": 155,
   "metadata": {},
   "outputs": [],
   "source": [
    "SDSV_TRAIN_LIST = '/workspace/DATASET/server9_ssd/sdsv20/sdsv20_trainlist.txt'"
   ]
  },
  {
   "cell_type": "code",
   "execution_count": 156,
   "metadata": {},
   "outputs": [],
   "source": [
    "FARSI_TRAIN_LIST = '/workspace/DATASET/server9_ssd/sdsv21/MozilaFA_train829.txt'"
   ]
  },
  {
   "cell_type": "code",
   "execution_count": 157,
   "metadata": {},
   "outputs": [],
   "source": [
    "LIBRI_TRAIN_LIST = '/workspace/DATASET/server9_ssd/sdsv21/librispeech_train2338.txt'"
   ]
  },
  {
   "cell_type": "code",
   "execution_count": 158,
   "metadata": {},
   "outputs": [],
   "source": [
    "VOXCELEB1_TRAIN_LIST = '/workspace/DATASET/server9_ssd/voxceleb/vox1_trainlist.txt'"
   ]
  },
  {
   "cell_type": "code",
   "execution_count": 159,
   "metadata": {},
   "outputs": [],
   "source": [
    "VOXCELEB2_TRAIN_LIST = '/workspace/DATASET/server9_ssd/voxceleb/vox2_trainlist.txt'"
   ]
  },
  {
   "cell_type": "code",
   "execution_count": 161,
   "metadata": {},
   "outputs": [],
   "source": [
    "OUT = '/workspace/DATASET/server9_ssd/sdsv21/sdsv21_pretrain_10960.txt'"
   ]
  },
  {
   "cell_type": "code",
   "execution_count": 162,
   "metadata": {},
   "outputs": [],
   "source": [
    "with open(SDSV_TRAIN_LIST, 'r') as f:\n",
    "    listline_SDSV = f.readlines()\n",
    "with open(FARSI_TRAIN_LIST, 'r') as f:\n",
    "    listline_FARSI = f.readlines()\n",
    "with open(LIBRI_TRAIN_LIST, 'r') as f:\n",
    "    listline_LIBRI = f.readlines()\n",
    "with open(VOXCELEB1_TRAIN_LIST, 'r') as f:\n",
    "    listline_VOXCELEB1 = f.readlines()\n",
    "with open(VOXCELEB2_TRAIN_LIST, 'r') as f:\n",
    "    listline_VOXCELEB2 = f.readlines()\n",
    "    \n",
    "whole_list = listline_SDSV + listline_FARSI + listline_LIBRI + listline_VOXCELEB1 + listline_VOXCELEB2\n",
    "    "
   ]
  },
  {
   "cell_type": "code",
   "execution_count": 164,
   "metadata": {},
   "outputs": [],
   "source": [
    "spk_2_utt = {}\n",
    "for count, i in enumerate(whole_list):\n",
    "    spk_lab = i.split(' ')[0]\n",
    "    wav_path =  i.split(' ')[1]\n",
    "    if spk_lab not in spk_2_utt:\n",
    "        spk_2_utt[spk_lab] = [wav_path]\n",
    "    else:\n",
    "        spk_2_utt[spk_lab].append(wav_path)"
   ]
  },
  {
   "cell_type": "code",
   "execution_count": 165,
   "metadata": {},
   "outputs": [
    {
     "data": {
      "text/plain": [
       "10960"
      ]
     },
     "execution_count": 165,
     "metadata": {},
     "output_type": "execute_result"
    }
   ],
   "source": [
    "len(spk_2_utt)"
   ]
  },
  {
   "cell_type": "code",
   "execution_count": 166,
   "metadata": {},
   "outputs": [
    {
     "name": "stdout",
     "output_type": "stream",
     "text": [
      "1840208\n"
     ]
    }
   ],
   "source": [
    "with open(OUT, 'w') as f:\n",
    "    for count, line in enumerate(whole_list):\n",
    "        f.write(line)\n",
    "print(count+1)"
   ]
  },
  {
   "cell_type": "code",
   "execution_count": null,
   "metadata": {},
   "outputs": [],
   "source": []
  },
  {
   "cell_type": "code",
   "execution_count": 251,
   "metadata": {},
   "outputs": [],
   "source": [
    "# make vox2 and sdsv588 train set"
   ]
  },
  {
   "cell_type": "code",
   "execution_count": 258,
   "metadata": {},
   "outputs": [],
   "source": [
    "ORI_VOX2 = '/workspace/DATASET/server9_ssd/sdsv21/vox2_trainlist.txt'\n",
    "ORI_SDSV = '/workspace/DATASET/server9_ssd/sdsv21/sdsv20_trainlist.txt'"
   ]
  },
  {
   "cell_type": "code",
   "execution_count": 254,
   "metadata": {},
   "outputs": [
    {
     "data": {
      "text/plain": [
       "6582"
      ]
     },
     "execution_count": 254,
     "metadata": {},
     "output_type": "execute_result"
    }
   ],
   "source": [
    "588+5994"
   ]
  },
  {
   "cell_type": "code",
   "execution_count": 257,
   "metadata": {},
   "outputs": [],
   "source": [
    "OUT = '/workspace/DATASET/server9_ssd/sdsv21/vox2_sdsv6582trainlist.txt'"
   ]
  },
  {
   "cell_type": "code",
   "execution_count": 259,
   "metadata": {},
   "outputs": [],
   "source": [
    "with open(ORI_VOX2, 'r') as f:\n",
    "    lines_vox2 = f.readlines()\n",
    "with open(ORI_SDSV, 'r') as f:\n",
    "    lines_sdsv = f.readlines()"
   ]
  },
  {
   "cell_type": "code",
   "execution_count": 265,
   "metadata": {},
   "outputs": [
    {
     "name": "stdout",
     "output_type": "stream",
     "text": [
      "1092008\n",
      "85763\n"
     ]
    }
   ],
   "source": [
    "with open(OUT, 'w') as f:\n",
    "    for count, line in enumerate(lines_vox2):\n",
    "        f.write(line)\n",
    "    print(count)\n",
    "    for count, line in enumerate(lines_sdsv):\n",
    "        f.write(line)\n",
    "    print(count)"
   ]
  },
  {
   "cell_type": "code",
   "execution_count": 262,
   "metadata": {},
   "outputs": [],
   "source": [
    "OUT1 = '/workspace/DATASET/server9_ssd/sdsv21/vox2_sdsv6582DAtrainlist.txt'"
   ]
  },
  {
   "cell_type": "code",
   "execution_count": 266,
   "metadata": {},
   "outputs": [
    {
     "name": "stdout",
     "output_type": "stream",
     "text": [
      "1092008\n",
      "85763\n"
     ]
    }
   ],
   "source": [
    "with open(OUT1, 'w') as f:\n",
    "    for count, line in enumerate(lines_vox2):\n",
    "        data = line.split(' ')\n",
    "        line = data[0]+' 0 '+data[1]\n",
    "        f.write(line)\n",
    "    print(count)\n",
    "    for count, line in enumerate(lines_sdsv):\n",
    "        data = line.split(' ')\n",
    "        line = data[0]+' 1 '+data[1]\n",
    "        f.write(line)\n",
    "    print(count)"
   ]
  },
  {
   "cell_type": "code",
   "execution_count": 268,
   "metadata": {},
   "outputs": [],
   "source": [
    "OUT_VOX2 = '/workspace/DATASET/server9_ssd/sdsv21/vox2_5994DAtrainlist.txt'\n",
    "OUT_SDSV = '/workspace/DATASET/server9_ssd/sdsv21/sdsv_588DAtrainlist.txt'"
   ]
  },
  {
   "cell_type": "code",
   "execution_count": 269,
   "metadata": {},
   "outputs": [
    {
     "name": "stdout",
     "output_type": "stream",
     "text": [
      "1092008\n",
      "85763\n"
     ]
    }
   ],
   "source": [
    "with open(OUT_VOX2, 'w') as f:\n",
    "    for count, line in enumerate(lines_vox2):\n",
    "        data = line.split(' ')\n",
    "        line = data[0]+' 0 '+data[1]\n",
    "        f.write(line)\n",
    "    print(count)\n",
    "\n",
    "with open(OUT_SDSV, 'w') as f:\n",
    "    for count, line in enumerate(lines_sdsv):\n",
    "        data = line.split(' ')\n",
    "        line = data[0]+' 1 '+data[1]\n",
    "        f.write(line)\n",
    "    print(count)"
   ]
  },
  {
   "cell_type": "code",
   "execution_count": null,
   "metadata": {},
   "outputs": [],
   "source": []
  },
  {
   "cell_type": "code",
   "execution_count": null,
   "metadata": {},
   "outputs": [],
   "source": []
  },
  {
   "cell_type": "code",
   "execution_count": null,
   "metadata": {},
   "outputs": [],
   "source": [
    "# combine list DA_whole"
   ]
  },
  {
   "cell_type": "code",
   "execution_count": 183,
   "metadata": {},
   "outputs": [
    {
     "data": {
      "text/plain": [
       "10960"
      ]
     },
     "execution_count": 183,
     "metadata": {},
     "output_type": "execute_result"
    }
   ],
   "source": [
    "588 + 829 + 2338 + 1211 + 5994"
   ]
  },
  {
   "cell_type": "code",
   "execution_count": 184,
   "metadata": {},
   "outputs": [],
   "source": [
    "SDSV_TRAIN_LIST = '/workspace/DATASET/server9_ssd/sdsv20/sdsv20_trainlist.txt'"
   ]
  },
  {
   "cell_type": "code",
   "execution_count": 185,
   "metadata": {},
   "outputs": [],
   "source": [
    "FARSI_TRAIN_LIST = '/workspace/DATASET/server9_ssd/sdsv21/MozilaFA_train829.txt'"
   ]
  },
  {
   "cell_type": "code",
   "execution_count": 186,
   "metadata": {},
   "outputs": [],
   "source": [
    "LIBRI_TRAIN_LIST = '/workspace/DATASET/server9_ssd/sdsv21/librispeech_train2338.txt'"
   ]
  },
  {
   "cell_type": "code",
   "execution_count": 187,
   "metadata": {},
   "outputs": [],
   "source": [
    "VOXCELEB1_TRAIN_LIST = '/workspace/DATASET/server9_ssd/voxceleb/vox1_trainlist.txt'"
   ]
  },
  {
   "cell_type": "code",
   "execution_count": 188,
   "metadata": {},
   "outputs": [],
   "source": [
    "VOXCELEB2_TRAIN_LIST = '/workspace/DATASET/server9_ssd/voxceleb/vox2_trainlist.txt'"
   ]
  },
  {
   "cell_type": "code",
   "execution_count": 198,
   "metadata": {},
   "outputs": [],
   "source": [
    "OUT = '/workspace/DATASET/server9_ssd/sdsv21/sdsv21_DA_10960.txt'"
   ]
  },
  {
   "cell_type": "code",
   "execution_count": 214,
   "metadata": {},
   "outputs": [],
   "source": [
    "OUT_1 = '/workspace/DATASET/server9_ssd/sdsv21/sdsv21_DA_EN9543.txt'\n",
    "OUT_2 = '/workspace/DATASET/server9_ssd/sdsv21/sdsv21_DA_FA1417.txt'"
   ]
  },
  {
   "cell_type": "code",
   "execution_count": 191,
   "metadata": {},
   "outputs": [],
   "source": [
    "with open(SDSV_TRAIN_LIST, 'r') as f:\n",
    "    listline_SDSV = f.readlines()\n",
    "with open(FARSI_TRAIN_LIST, 'r') as f:\n",
    "    listline_FARSI = f.readlines()\n",
    "with open(LIBRI_TRAIN_LIST, 'r') as f:\n",
    "    listline_LIBRI = f.readlines()\n",
    "with open(VOXCELEB1_TRAIN_LIST, 'r') as f:\n",
    "    listline_VOXCELEB1 = f.readlines()\n",
    "with open(VOXCELEB2_TRAIN_LIST, 'r') as f:\n",
    "    listline_VOXCELEB2 = f.spk_2_utt_FA = {}\n",
    "for count, i in enumerate(whole_list_FA):\n",
    "    spk_lab = i.split(' ')[0]\n",
    "    wav_path =  i.split(' ')[1]\n",
    "    if spk_lab not in spk_2_utt:\n",
    "        spk_2_utt_FA[spk_lab] = [wav_path]\n",
    "    else:\n",
    "        spk_2_utt_FA[spk_lab].append(wav_path)readlines()\n",
    "    \n",
    "whole_list_EN = listline_LIBRI + listline_VOXCELEB1 + listline_VOXCELEB2\n",
    "whole_list_FA = listline_SDSV + listline_FARSI"
   ]
  },
  {
   "cell_type": "code",
   "execution_count": 193,
   "metadata": {},
   "outputs": [],
   "source": [
    "spk_2_utt_FA = {}\n",
    "for count, i in enumerate(whole_list_FA):\n",
    "    spk_lab = i.split(' ')[0]\n",
    "    wav_path =  i.split(' ')[1]\n",
    "    if spk_lab not in spk_2_utt_FA:\n",
    "        spk_2_utt_FA[spk_lab] = [wav_path]\n",
    "    else:\n",
    "        spk_2_utt_FA[spk_lab].append(wav_path)"
   ]
  },
  {
   "cell_type": "code",
   "execution_count": 194,
   "metadata": {},
   "outputs": [],
   "source": [
    "spk_2_utt_EN = {}\n",
    "for count, i in enumerate(whole_list_EN):\n",
    "    spk_lab = i.split(' ')[0]\n",
    "    wav_path =  i.split(' ')[1]\n",
    "    if spk_lab not in spk_2_utt_EN:\n",
    "        spk_2_utt_EN[spk_lab] = [wav_path]\n",
    "    else:\n",
    "        spk_2_utt_EN[spk_lab].append(wav_path)"
   ]
  },
  {
   "cell_type": "code",
   "execution_count": 195,
   "metadata": {},
   "outputs": [
    {
     "data": {
      "text/plain": [
       "1417"
      ]
     },
     "execution_count": 195,
     "metadata": {},
     "output_type": "execute_result"
    }
   ],
   "source": [
    "len(spk_2_utt_FA)"
   ]
  },
  {
   "cell_type": "code",
   "execution_count": 196,
   "metadata": {},
   "outputs": [
    {
     "data": {
      "text/plain": [
       "9543"
      ]
     },
     "execution_count": 196,
     "metadata": {},
     "output_type": "execute_result"
    }
   ],
   "source": [
    "len(spk_2_utt_EN)"
   ]
  },
  {
   "cell_type": "code",
   "execution_count": 197,
   "metadata": {},
   "outputs": [
    {
     "data": {
      "text/plain": [
       "10960"
      ]
     },
     "execution_count": 197,
     "metadata": {},
     "output_type": "execute_result"
    }
   ],
   "source": [
    "1417 + 9543"
   ]
  },
  {
   "cell_type": "code",
   "execution_count": 213,
   "metadata": {},
   "outputs": [
    {
     "data": {
      "text/plain": [
       "6.734650670430487"
      ]
     },
     "execution_count": 213,
     "metadata": {},
     "output_type": "execute_result"
    }
   ],
   "source": [
    "9543/1417"
   ]
  },
  {
   "cell_type": "code",
   "execution_count": 210,
   "metadata": {},
   "outputs": [
    {
     "name": "stdout",
     "output_type": "stream",
     "text": [
      "318316\n",
      "1521892\n"
     ]
    }
   ],
   "source": [
    "with open(OUT, 'w') as f:\n",
    "    for count, line in enumerate(whole_list_FA):\n",
    "        label, wav = line.split(' ')[0], line.split(' ')[1]\n",
    "        f.write(label+' '+'1'+' '+wav)\n",
    "    print(count+1)\n",
    "    for count, line in enumerate(whole_list_EN):\n",
    "        label, wav = line.split(' ')[0], line.split(' ')[1]\n",
    "        f.write(label+' '+'0'+' '+wav)\n",
    "    print(count+1)"
   ]
  },
  {
   "cell_type": "code",
   "execution_count": null,
   "metadata": {},
   "outputs": [],
   "source": [
    "1840208"
   ]
  },
  {
   "cell_type": "code",
   "execution_count": 211,
   "metadata": {},
   "outputs": [
    {
     "data": {
      "text/plain": [
       "1840208"
      ]
     },
     "execution_count": 211,
     "metadata": {},
     "output_type": "execute_result"
    }
   ],
   "source": [
    "1521892 + 318316"
   ]
  },
  {
   "cell_type": "code",
   "execution_count": 215,
   "metadata": {},
   "outputs": [
    {
     "name": "stdout",
     "output_type": "stream",
     "text": [
      "1521892\n",
      "318316\n"
     ]
    }
   ],
   "source": [
    "with open(OUT_1, 'w') as f:\n",
    "    for count, line in enumerate(whole_list_EN):\n",
    "        label, wav = line.split(' ')[0], line.split(' ')[1]\n",
    "        f.write(label+' '+'0'+' '+wav)\n",
    "    print(count+1)\n",
    "with open(OUT_2, 'w') as f:\n",
    "    for count, line in enumerate(whole_list_FA):\n",
    "        label, wav = line.split(' ')[0], line.split(' ')[1]\n",
    "        f.write(label+' '+'1'+' '+wav)\n",
    "    print(count+1)"
   ]
  },
  {
   "cell_type": "code",
   "execution_count": 219,
   "metadata": {},
   "outputs": [],
   "source": [
    "OUT_3 = '/workspace/DATASET/server9_ssd/sdsv21/sdsv21_normal_FA1417.txt'\n",
    "OUT_4 = '/workspace/DATASET/server9_ssd/sdsv21/sdsv21_normal_EN9543.txt' "
   ]
  },
  {
   "cell_type": "code",
   "execution_count": 220,
   "metadata": {},
   "outputs": [
    {
     "name": "stdout",
     "output_type": "stream",
     "text": [
      "1521892\n",
      "318316\n"
     ]
    }
   ],
   "source": [
    "with open(OUT_4, 'w') as f:\n",
    "    for count, line in enumerate(whole_list_EN):\n",
    "        label, wav = line.split(' ')[0], line.split(' ')[1]\n",
    "        f.write(label+' '+wav)\n",
    "    print(count+1)\n",
    "with open(OUT_3, 'w') as f:\n",
    "    for count, line in enumerate(whole_list_FA):\n",
    "        label, wav = line.split(' ')[0], line.split(' ')[1]\n",
    "        f.write(label+' '+wav)\n",
    "    print(count+1)"
   ]
  },
  {
   "cell_type": "code",
   "execution_count": null,
   "metadata": {},
   "outputs": [],
   "source": []
  },
  {
   "cell_type": "code",
   "execution_count": null,
   "metadata": {},
   "outputs": [],
   "source": [
    "# Make FA only on sdsv"
   ]
  },
  {
   "cell_type": "code",
   "execution_count": 284,
   "metadata": {},
   "outputs": [],
   "source": [
    "OUT = '/workspace/DATASET/server9_ssd/sdsv21/sdsv21_SDSVDA_10960.txt'"
   ]
  },
  {
   "cell_type": "code",
   "execution_count": 285,
   "metadata": {},
   "outputs": [],
   "source": [
    "whole_list_EN = listline_LIBRI + listline_VOXCELEB1 + listline_VOXCELEB2 + listline_FARSI\n",
    "whole_list_FA = listline_SDSV "
   ]
  },
  {
   "cell_type": "code",
   "execution_count": 286,
   "metadata": {},
   "outputs": [
    {
     "name": "stdout",
     "output_type": "stream",
     "text": [
      "85764\n",
      "1754444\n"
     ]
    }
   ],
   "source": [
    "with open(OUT, 'w') as f:\n",
    "    for count, line in enumerate(whole_list_FA):\n",
    "        label, wav = line.split(' ')[0], line.split(' ')[1]\n",
    "        f.write(label+' '+'1'+' '+wav)\n",
    "    print(count+1)\n",
    "    for count, line in enumerate(whole_list_EN):\n",
    "        label, wav = line.split(' ')[0], line.split(' ')[1]\n",
    "        f.write(label+' '+'0'+' '+wav)\n",
    "    print(count+1)"
   ]
  },
  {
   "cell_type": "code",
   "execution_count": 287,
   "metadata": {},
   "outputs": [
    {
     "data": {
      "text/plain": [
       "1840208"
      ]
     },
     "execution_count": 287,
     "metadata": {},
     "output_type": "execute_result"
    }
   ],
   "source": [
    "85764 + 1754444"
   ]
  },
  {
   "cell_type": "code",
   "execution_count": 288,
   "metadata": {},
   "outputs": [
    {
     "data": {
      "text/plain": [
       "10372"
      ]
     },
     "execution_count": 288,
     "metadata": {},
     "output_type": "execute_result"
    }
   ],
   "source": [
    "10960 - 588"
   ]
  },
  {
   "cell_type": "code",
   "execution_count": 289,
   "metadata": {},
   "outputs": [
    {
     "data": {
      "text/plain": [
       "17.639455782312925"
      ]
     },
     "execution_count": 289,
     "metadata": {},
     "output_type": "execute_result"
    }
   ],
   "source": [
    "10372 / 588"
   ]
  },
  {
   "cell_type": "code",
   "execution_count": null,
   "metadata": {},
   "outputs": [],
   "source": [
    "# Make FA only on sdsv seperate source domain"
   ]
  },
  {
   "cell_type": "code",
   "execution_count": 311,
   "metadata": {},
   "outputs": [
    {
     "data": {
      "text/plain": [
       "10372"
      ]
     },
     "execution_count": 311,
     "metadata": {},
     "output_type": "execute_result"
    }
   ],
   "source": [
    "10960 - 588"
   ]
  },
  {
   "cell_type": "code",
   "execution_count": 312,
   "metadata": {},
   "outputs": [],
   "source": [
    "OUT = '/workspace/DATASET/server9_ssd/sdsv21/sdsv21_EN&MOZILA_10372DA.txt'"
   ]
  },
  {
   "cell_type": "code",
   "execution_count": 314,
   "metadata": {},
   "outputs": [],
   "source": [
    "whole_list_EN = listline_LIBRI + listline_VOXCELEB1 + listline_VOXCELEB2 + listline_FARSI"
   ]
  },
  {
   "cell_type": "code",
   "execution_count": 315,
   "metadata": {},
   "outputs": [
    {
     "name": "stdout",
     "output_type": "stream",
     "text": [
      "1754444\n"
     ]
    }
   ],
   "source": [
    "with open(OUT, 'w') as f:\n",
    "    for count, line in enumerate(whole_list_EN):\n",
    "        label, wav = line.split(' ')[0], line.split(' ')[1]\n",
    "        f.write(label+' '+'0'+' '+wav)\n",
    "    print(count+1)"
   ]
  },
  {
   "cell_type": "code",
   "execution_count": null,
   "metadata": {},
   "outputs": [],
   "source": [
    "# TASK1 Make FA only on sdsv"
   ]
  },
  {
   "cell_type": "code",
   "execution_count": 152,
   "metadata": {},
   "outputs": [
    {
     "data": {
      "text/plain": [
       "11335"
      ]
     },
     "execution_count": 152,
     "metadata": {},
     "output_type": "execute_result"
    }
   ],
   "source": [
    "963 + 829 + 2338 + 1211 + 5994"
   ]
  },
  {
   "cell_type": "code",
   "execution_count": 271,
   "metadata": {},
   "outputs": [],
   "source": [
    "SDSV_TRAIN_LIST = '/workspace/DATASET/server9_ssd/sdsv21/T1_sdsv20_trainlist963.txt'"
   ]
  },
  {
   "cell_type": "code",
   "execution_count": 272,
   "metadata": {},
   "outputs": [],
   "source": [
    "FARSI_TRAIN_LIST = '/workspace/DATASET/server9_ssd/sdsv21/MozilaFA_train829.txt'"
   ]
  },
  {
   "cell_type": "code",
   "execution_count": 273,
   "metadata": {},
   "outputs": [],
   "source": [
    "LIBRI_TRAIN_LIST = '/workspace/DATASET/server9_ssd/sdsv21/librispeech_train2338.txt'"
   ]
  },
  {
   "cell_type": "code",
   "execution_count": 274,
   "metadata": {},
   "outputs": [],
   "source": [
    "VOXCELEB1_TRAIN_LIST = '/workspace/DATASET/server9_ssd/voxceleb/vox1_trainlist.txt'"
   ]
  },
  {
   "cell_type": "code",
   "execution_count": 275,
   "metadata": {},
   "outputs": [],
   "source": [
    "VOXCELEB2_TRAIN_LIST = '/workspace/DATASET/server9_ssd/voxceleb/vox2_trainlist.txt'"
   ]
  },
  {
   "cell_type": "code",
   "execution_count": 276,
   "metadata": {},
   "outputs": [],
   "source": [
    "OUT = '/workspace/DATASET/server9_ssd/sdsv21/T1_sdsv21_SDSVDA_11335.txt'"
   ]
  },
  {
   "cell_type": "code",
   "execution_count": 277,
   "metadata": {},
   "outputs": [],
   "source": [
    "OUT_1_NODA = '/workspace/DATASET/server9_ssd/sdsv21/T1_sdsv21_11335.txt'"
   ]
  },
  {
   "cell_type": "code",
   "execution_count": 278,
   "metadata": {},
   "outputs": [],
   "source": [
    "with open(SDSV_TRAIN_LIST, 'r') as f:\n",
    "    listline_SDSV = f.readlines()\n",
    "with open(FARSI_TRAIN_LIST, 'r') as f:\n",
    "    listline_FARSI = f.readlines()\n",
    "with open(LIBRI_TRAIN_LIST, 'r') as f:\n",
    "    listline_LIBRI = f.readlines()\n",
    "with open(VOXCELEB1_TRAIN_LIST, 'r') as f:\n",
    "    listline_VOXCELEB1 = f.readlines()\n",
    "with open(VOXCELEB2_TRAIN_LIST, 'r') as f:\n",
    "    listline_VOXCELEB2 = f.readlines()\n",
    "\n",
    "whole_list_EN = listline_LIBRI + listline_VOXCELEB1 + listline_VOXCELEB2 + listline_FARSI\n",
    "whole_list_FA = listline_SDSV"
   ]
  },
  {
   "cell_type": "code",
   "execution_count": 162,
   "metadata": {},
   "outputs": [
    {
     "name": "stdout",
     "output_type": "stream",
     "text": [
      "101063\n",
      "1754444\n"
     ]
    }
   ],
   "source": [
    "with open(OUT, 'w') as f:\n",
    "    for count, line in enumerate(whole_list_FA):\n",
    "        label, wav = line.split(' ')[0], line.split(' ')[1]\n",
    "        f.write(label+' '+'1'+' '+wav)\n",
    "    print(count+1)\n",
    "    for count, line in enumerate(whole_list_EN):\n",
    "        label, wav = line.split(' ')[0], line.split(' ')[1]\n",
    "        f.write(label+' '+'0'+' '+wav)\n",
    "    print(count+1)"
   ]
  },
  {
   "cell_type": "code",
   "execution_count": 163,
   "metadata": {},
   "outputs": [
    {
     "data": {
      "text/plain": [
       "1855507"
      ]
     },
     "execution_count": 163,
     "metadata": {},
     "output_type": "execute_result"
    }
   ],
   "source": [
    "101063 + 1754444"
   ]
  },
  {
   "cell_type": "code",
   "execution_count": 164,
   "metadata": {},
   "outputs": [
    {
     "data": {
      "text/plain": [
       "11.770508826583592"
      ]
     },
     "execution_count": 164,
     "metadata": {},
     "output_type": "execute_result"
    }
   ],
   "source": [
    "11335 / 963"
   ]
  },
  {
   "cell_type": "code",
   "execution_count": 279,
   "metadata": {},
   "outputs": [
    {
     "name": "stdout",
     "output_type": "stream",
     "text": [
      "101063\n",
      "1754444\n"
     ]
    }
   ],
   "source": [
    "with open(OUT_1_NODA, 'w') as f:\n",
    "    for count, line in enumerate(whole_list_FA):\n",
    "        f.write(line)\n",
    "    print(count+1)\n",
    "    for count, line in enumerate(whole_list_EN):\n",
    "        f.write(line)\n",
    "    print(count+1)"
   ]
  },
  {
   "cell_type": "code",
   "execution_count": null,
   "metadata": {},
   "outputs": [],
   "source": []
  },
  {
   "cell_type": "code",
   "execution_count": null,
   "metadata": {},
   "outputs": [],
   "source": [
    "## Postprocessiing"
   ]
  },
  {
   "cell_type": "code",
   "execution_count": 22,
   "metadata": {},
   "outputs": [],
   "source": [
    "ORI_PATH = '/workspace/LOGS_OUTPUT/server9_nvme1/ASV_LOGS_202102/train_logs_201120/041800/result/'"
   ]
  },
  {
   "cell_type": "code",
   "execution_count": 23,
   "metadata": {},
   "outputs": [],
   "source": [
    "ORI_SCORES = ORI_PATH + 'eval_scores.txt'"
   ]
  },
  {
   "cell_type": "code",
   "execution_count": 24,
   "metadata": {},
   "outputs": [],
   "source": [
    "OUT1 = ORI_PATH + 'answer.txt'\n",
    "OUT2 = ORI_PATH + 'metadata'"
   ]
  },
  {
   "cell_type": "code",
   "execution_count": 25,
   "metadata": {},
   "outputs": [],
   "source": [
    "with open(OUT1, 'w') as of:\n",
    "    with open(ORI_SCORES, 'r') as f:\n",
    "        lines = f.readlines()\n",
    "    for i in lines:\n",
    "        of.write(i.split(' ')[0]+'\\n')"
   ]
  },
  {
   "cell_type": "code",
   "execution_count": 26,
   "metadata": {},
   "outputs": [],
   "source": [
    "with open(OUT2, 'w') as of:\n",
    "    line = 'public-description: 041800.'\n",
    "    of.write(line+'\\n')\n",
    "    line = 'fused-systems-count: 1'\n",
    "    of.write(line+'\\n')"
   ]
  },
  {
   "cell_type": "code",
   "execution_count": null,
   "metadata": {},
   "outputs": [],
   "source": []
  },
  {
   "cell_type": "code",
   "execution_count": null,
   "metadata": {},
   "outputs": [],
   "source": [
    "## Postprocessiing"
   ]
  },
  {
   "cell_type": "code",
   "execution_count": null,
   "metadata": {},
   "outputs": [],
   "source": [
    "/workspace/LOGS_OUTPUT/server9_nvme1/ASV_LOGS_202102/train_logs_201120/031801/result/eval_scores.txt"
   ]
  },
  {
   "cell_type": "code",
   "execution_count": 477,
   "metadata": {},
   "outputs": [],
   "source": [
    "ORI_PATH = '/workspace/LOGS_OUTPUT/server9_nvme1/ASV_LOGS_202102/train_logs_201120/032900/result/'"
   ]
  },
  {
   "cell_type": "code",
   "execution_count": 478,
   "metadata": {},
   "outputs": [],
   "source": [
    "ORI_SCORES = ORI_PATH + 'eval_scores_as1.txt'"
   ]
  },
  {
   "cell_type": "code",
   "execution_count": 479,
   "metadata": {},
   "outputs": [],
   "source": [
    "OUT1 = ORI_PATH + 'answer.txt'\n",
    "OUT2 = ORI_PATH + 'metadata'"
   ]
  },
  {
   "cell_type": "code",
   "execution_count": 480,
   "metadata": {},
   "outputs": [],
   "source": [
    "with open(OUT1, 'w') as of:\n",
    "    with open(ORI_SCORES, 'r') as f:\n",
    "        lines = f.readlines()\n",
    "    for i in lines:\n",
    "        of.write(i.split(' ')[0]+'\\n')"
   ]
  },
  {
   "cell_type": "code",
   "execution_count": 481,
   "metadata": {},
   "outputs": [],
   "source": [
    "with open(OUT2, 'w') as of:\n",
    "    line = 'public-description: ECAPA-1024  + BLDAT+(sdsv:) asnorm.'\n",
    "    of.write(line+'\\n')\n",
    "    line = 'fused-systems-count: 1'\n",
    "    of.write(line+'\\n')"
   ]
  },
  {
   "cell_type": "code",
   "execution_count": null,
   "metadata": {},
   "outputs": [],
   "source": []
  },
  {
   "cell_type": "code",
   "execution_count": null,
   "metadata": {},
   "outputs": [],
   "source": [
    "## Postprocessing TASK1"
   ]
  },
  {
   "cell_type": "code",
   "execution_count": 447,
   "metadata": {},
   "outputs": [],
   "source": [
    "ORI_PATH = '/workspace/LOGS_OUTPUT/server9_nvme1/ASV_LOGS_202102/train_logs_201120/033000/result/'"
   ]
  },
  {
   "cell_type": "code",
   "execution_count": 448,
   "metadata": {},
   "outputs": [],
   "source": [
    "ORI_SCORES = ORI_PATH + 'eval_scores.txt'\n",
    "ORI_KWS = '/workspace/DATASET/server9_ssd/sdsv21/kws_output/out.txt'"
   ]
  },
  {
   "cell_type": "code",
   "execution_count": 449,
   "metadata": {},
   "outputs": [],
   "source": [
    "OUT1 = ORI_PATH + 'answer.txt'\n",
    "OUT2 = ORI_PATH + 'metadata'"
   ]
  },
  {
   "cell_type": "code",
   "execution_count": 450,
   "metadata": {},
   "outputs": [
    {
     "name": "stdout",
     "output_type": "stream",
     "text": [
      "3779551\n"
     ]
    }
   ],
   "source": [
    "4with open(ORI_SCORES, 'r') as f:\n",
    "    lines = f.readlines()\n",
    "print(len(lines))"
   ]
  },
  {
   "cell_type": "code",
   "execution_count": 451,
   "metadata": {},
   "outputs": [],
   "source": [
    "ASV_scores = []\n",
    "for count, i in enumerate(lines):\n",
    "    ASV_scores.append(float(i.split(' ')[0]))"
   ]
  },
  {
   "cell_type": "code",
   "execution_count": 452,
   "metadata": {},
   "outputs": [
    {
     "data": {
      "text/plain": [
       "0.9531"
      ]
     },
     "execution_count": 452,
     "metadata": {},
     "output_type": "execute_result"
    }
   ],
   "source": [
    "max(ASV_scores)"
   ]
  },
  {
   "cell_type": "code",
   "execution_count": 453,
   "metadata": {},
   "outputs": [
    {
     "data": {
      "text/plain": [
       "-0.4736"
      ]
     },
     "execution_count": 453,
     "metadata": {},
     "output_type": "execute_result"
    }
   ],
   "source": [
    "min(ASV_scores)"
   ]
  },
  {
   "cell_type": "code",
   "execution_count": 454,
   "metadata": {},
   "outputs": [
    {
     "name": "stdout",
     "output_type": "stream",
     "text": [
      "3779551\n",
      "3779551\n",
      "3779551\n"
     ]
    }
   ],
   "source": [
    "with open(OUT1, 'w') as of:\n",
    "    with open(ORI_SCORES, 'r') as f:\n",
    "        lines = f.readlines()\n",
    "    print(len(lines))\n",
    "    with open(ORI_KWS, 'r') as f:\n",
    "        lines_KWS = f.readlines()\n",
    "    print(len(lines_KWS))\n",
    "    for count, i in enumerate(lines):\n",
    "        ASV_score = float(i.split(' ')[0])\n",
    "        line_KWS = lines_KWS[count][:-1]\n",
    "        out_score = float(line_KWS.split(' ')[-1]) * 2 + ASV_score\n",
    "        of.write('%.4f'%out_score+'\\n')\n",
    "        \n",
    "print(count+1)      "
   ]
  },
  {
   "cell_type": "code",
   "execution_count": 455,
   "metadata": {},
   "outputs": [],
   "source": [
    "with open(OUT2, 'w') as of:\n",
    "    line = 'public-description: 033000_check.'\n",
    "    of.write(line+'\\n')\n",
    "    line = 'fused-systems-count: 1'\n",
    "    of.write(line+'\\n')"
   ]
  },
  {
   "cell_type": "code",
   "execution_count": null,
   "metadata": {},
   "outputs": [],
   "source": []
  },
  {
   "cell_type": "code",
   "execution_count": null,
   "metadata": {},
   "outputs": [],
   "source": [
    "## Postprocessing TASK1 DEV"
   ]
  },
  {
   "cell_type": "code",
   "execution_count": 439,
   "metadata": {},
   "outputs": [],
   "source": [
    "ORI_PATH = '/workspace/LOGS_OUTPUT/server9_nvme1/ASV_LOGS_202102/train_logs_201120/033001/'"
   ]
  },
  {
   "cell_type": "code",
   "execution_count": 440,
   "metadata": {},
   "outputs": [],
   "source": [
    "ORI_SCORES = ORI_PATH + 'eval_scores.txt'\n",
    "ORI_KWS = '/workspace/DATASET/server9_ssd/sdsv21/kws_output/whole/T1_dev_trails_Mobilenetv2.txt'"
   ]
  },
  {
   "cell_type": "code",
   "execution_count": 441,
   "metadata": {},
   "outputs": [],
   "source": [
    "OUT1 = ORI_PATH + 'eval_scores_T1.txt'"
   ]
  },
  {
   "cell_type": "code",
   "execution_count": 442,
   "metadata": {},
   "outputs": [
    {
     "name": "stdout",
     "output_type": "stream",
     "text": [
      "7033\n"
     ]
    }
   ],
   "source": [
    "with open(ORI_SCORES, 'r') as f:\n",
    "    lines = f.readlines()\n",
    "print(len(lines))"
   ]
  },
  {
   "cell_type": "code",
   "execution_count": 443,
   "metadata": {},
   "outputs": [],
   "source": [
    "ASV_scores = []\n",
    "for count, i in enumerate(lines):\n",
    "    ASV_scores.append(float(i.split(' ')[0]))"
   ]
  },
  {
   "cell_type": "code",
   "execution_count": 444,
   "metadata": {},
   "outputs": [
    {
     "data": {
      "text/plain": [
       "0.9271"
      ]
     },
     "execution_count": 444,
     "metadata": {},
     "output_type": "execute_result"
    }
   ],
   "source": [
    "max(ASV_scores)"
   ]
  },
  {
   "cell_type": "code",
   "execution_count": 445,
   "metadata": {},
   "outputs": [
    {
     "data": {
      "text/plain": [
       "-0.3662"
      ]
     },
     "execution_count": 445,
     "metadata": {},
     "output_type": "execute_result"
    }
   ],
   "source": [
    "min(ASV_scores)"
   ]
  },
  {
   "cell_type": "code",
   "execution_count": 446,
   "metadata": {},
   "outputs": [
    {
     "name": "stdout",
     "output_type": "stream",
     "text": [
      "7033\n",
      "7033\n",
      "7033\n"
     ]
    }
   ],
   "source": [
    "with open(OUT1, 'w') as of:\n",
    "    with open(ORI_SCORES, 'r') as f:\n",
    "        lines = f.readlines()\n",
    "    print(len(lines))\n",
    "    with open(ORI_KWS, 'r') as f:\n",
    "        lines_KWS = f.readlines()\n",
    "    print(len(lines_KWS))\n",
    "    for count, i in enumerate(lines):\n",
    "        ASV_score = float(i.split(' ')[0])\n",
    "        line_KWS = lines_KWS[count][:-1]\n",
    "        out_score = float(line_KWS.split(' ')[-1])*2 + ASV_score\n",
    "        of.write('%.4f'%(out_score)+' '+i.split(' ')[1]+' '+i.split(' ')[2])\n",
    "        \n",
    "print(count+1)      "
   ]
  },
  {
   "cell_type": "code",
   "execution_count": null,
   "metadata": {},
   "outputs": [],
   "source": []
  }
 ],
 "metadata": {
  "kernelspec": {
   "display_name": "Python 3",
   "language": "python",
   "name": "python3"
  },
  "language_info": {
   "codemirror_mode": {
    "name": "ipython",
    "version": 3
   },
   "file_extension": ".py",
   "mimetype": "text/x-python",
   "name": "python",
   "nbconvert_exporter": "python",
   "pygments_lexer": "ipython3",
   "version": "3.7.7"
  }
 },
 "nbformat": 4,
 "nbformat_minor": 4
}
