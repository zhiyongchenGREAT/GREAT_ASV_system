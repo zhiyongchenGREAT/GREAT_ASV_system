{
 "cells": [
  {
   "cell_type": "code",
   "execution_count": 3,
   "metadata": {},
   "outputs": [],
   "source": [
    "import os\n",
    "import matplotlib.pyplot as plt\n",
    "%matplotlib inline"
   ]
  },
  {
   "cell_type": "code",
   "execution_count": 73,
   "metadata": {},
   "outputs": [],
   "source": [
    "import torch\n",
    "import sys\n",
    "import os\n",
    "import torch\n",
    "import numpy\n",
    "import importlib\n",
    "import torch.nn.functional as F\n",
    "from scipy.io import wavfile\n",
    "from collections import defaultdict\n",
    "\n",
    "from sklearn import manifold"
   ]
  },
  {
   "cell_type": "code",
   "execution_count": 14,
   "metadata": {},
   "outputs": [],
   "source": [
    "os.environ['CUDA_VISIBLE_DEVICES'] = '5'"
   ]
  },
  {
   "cell_type": "code",
   "execution_count": 8,
   "metadata": {},
   "outputs": [],
   "source": [
    "sys.path.append('/workspace/GREAT_ASV_system/train_dist')\n",
    "sys.path.append('/workspace/GREAT_ASV_system/DA-exp')"
   ]
  },
  {
   "cell_type": "code",
   "execution_count": 19,
   "metadata": {},
   "outputs": [],
   "source": [
    "SpeakerNetModel = importlib.import_module('models.'+'EPACA-TDNNL').__getattribute__('MainModel')"
   ]
  },
  {
   "cell_type": "code",
   "execution_count": 21,
   "metadata": {},
   "outputs": [
    {
     "name": "stdout",
     "output_type": "stream",
     "text": [
      "EPACA-TDNNL.py, Embedding size is 192, Channels 512, Spec_aug False.\n"
     ]
    }
   ],
   "source": [
    "# EPACA-TDNN\n",
    "S = SpeakerNetModel(n_mels=40, nOut=192, spec_aug=False)"
   ]
  },
  {
   "cell_type": "code",
   "execution_count": 22,
   "metadata": {},
   "outputs": [],
   "source": [
    "model_path = '/workspace/LOGS_OUTPUT/tmp_logs/train_logs_201120/epaca_tdnnl_aldatest_beta0/model/model000000120.model'"
   ]
  },
  {
   "cell_type": "code",
   "execution_count": 23,
   "metadata": {},
   "outputs": [
    {
     "data": {
      "text/plain": [
       "ECAPA_TDNN(\n",
       "  (instancenorm): InstanceNorm1d(40, eps=1e-05, momentum=0.1, affine=False, track_running_stats=False)\n",
       "  (torchfb): Sequential(\n",
       "    (0): PreEmphasis()\n",
       "    (1): MelSpectrogram(\n",
       "      (spectrogram): Spectrogram()\n",
       "      (mel_scale): MelScale()\n",
       "    )\n",
       "  )\n",
       "  (layer1): Conv1dReluBn(\n",
       "    (conv): Conv1d(40, 512, kernel_size=(5,), stride=(1,), padding=(2,), bias=False)\n",
       "    (bn): BatchNorm1d(512, eps=1e-05, momentum=0.1, affine=True, track_running_stats=True)\n",
       "  )\n",
       "  (layer2): Sequential(\n",
       "    (0): Conv1dReluBn(\n",
       "      (conv): Conv1d(512, 512, kernel_size=(1,), stride=(1,), bias=False)\n",
       "      (bn): BatchNorm1d(512, eps=1e-05, momentum=0.1, affine=True, track_running_stats=True)\n",
       "    )\n",
       "    (1): Res2Conv1dReluBn(\n",
       "      (convs): ModuleList(\n",
       "        (0): Conv1d(64, 64, kernel_size=(3,), stride=(1,), padding=(2,), dilation=(2,), bias=False)\n",
       "        (1): Conv1d(64, 64, kernel_size=(3,), stride=(1,), padding=(2,), dilation=(2,), bias=False)\n",
       "        (2): Conv1d(64, 64, kernel_size=(3,), stride=(1,), padding=(2,), dilation=(2,), bias=False)\n",
       "        (3): Conv1d(64, 64, kernel_size=(3,), stride=(1,), padding=(2,), dilation=(2,), bias=False)\n",
       "        (4): Conv1d(64, 64, kernel_size=(3,), stride=(1,), padding=(2,), dilation=(2,), bias=False)\n",
       "        (5): Conv1d(64, 64, kernel_size=(3,), stride=(1,), padding=(2,), dilation=(2,), bias=False)\n",
       "        (6): Conv1d(64, 64, kernel_size=(3,), stride=(1,), padding=(2,), dilation=(2,), bias=False)\n",
       "      )\n",
       "      (bns): ModuleList(\n",
       "        (0): BatchNorm1d(64, eps=1e-05, momentum=0.1, affine=True, track_running_stats=True)\n",
       "        (1): BatchNorm1d(64, eps=1e-05, momentum=0.1, affine=True, track_running_stats=True)\n",
       "        (2): BatchNorm1d(64, eps=1e-05, momentum=0.1, affine=True, track_running_stats=True)\n",
       "        (3): BatchNorm1d(64, eps=1e-05, momentum=0.1, affine=True, track_running_stats=True)\n",
       "        (4): BatchNorm1d(64, eps=1e-05, momentum=0.1, affine=True, track_running_stats=True)\n",
       "        (5): BatchNorm1d(64, eps=1e-05, momentum=0.1, affine=True, track_running_stats=True)\n",
       "        (6): BatchNorm1d(64, eps=1e-05, momentum=0.1, affine=True, track_running_stats=True)\n",
       "      )\n",
       "    )\n",
       "    (2): Conv1dReluBn(\n",
       "      (conv): Conv1d(512, 512, kernel_size=(1,), stride=(1,), bias=False)\n",
       "      (bn): BatchNorm1d(512, eps=1e-05, momentum=0.1, affine=True, track_running_stats=True)\n",
       "    )\n",
       "    (3): SE_Connect(\n",
       "      (linear1): Linear(in_features=512, out_features=256, bias=True)\n",
       "      (linear2): Linear(in_features=256, out_features=512, bias=True)\n",
       "    )\n",
       "  )\n",
       "  (layer3): Sequential(\n",
       "    (0): Conv1dReluBn(\n",
       "      (conv): Conv1d(512, 512, kernel_size=(1,), stride=(1,), bias=False)\n",
       "      (bn): BatchNorm1d(512, eps=1e-05, momentum=0.1, affine=True, track_running_stats=True)\n",
       "    )\n",
       "    (1): Res2Conv1dReluBn(\n",
       "      (convs): ModuleList(\n",
       "        (0): Conv1d(64, 64, kernel_size=(3,), stride=(1,), padding=(3,), dilation=(3,), bias=False)\n",
       "        (1): Conv1d(64, 64, kernel_size=(3,), stride=(1,), padding=(3,), dilation=(3,), bias=False)\n",
       "        (2): Conv1d(64, 64, kernel_size=(3,), stride=(1,), padding=(3,), dilation=(3,), bias=False)\n",
       "        (3): Conv1d(64, 64, kernel_size=(3,), stride=(1,), padding=(3,), dilation=(3,), bias=False)\n",
       "        (4): Conv1d(64, 64, kernel_size=(3,), stride=(1,), padding=(3,), dilation=(3,), bias=False)\n",
       "        (5): Conv1d(64, 64, kernel_size=(3,), stride=(1,), padding=(3,), dilation=(3,), bias=False)\n",
       "        (6): Conv1d(64, 64, kernel_size=(3,), stride=(1,), padding=(3,), dilation=(3,), bias=False)\n",
       "      )\n",
       "      (bns): ModuleList(\n",
       "        (0): BatchNorm1d(64, eps=1e-05, momentum=0.1, affine=True, track_running_stats=True)\n",
       "        (1): BatchNorm1d(64, eps=1e-05, momentum=0.1, affine=True, track_running_stats=True)\n",
       "        (2): BatchNorm1d(64, eps=1e-05, momentum=0.1, affine=True, track_running_stats=True)\n",
       "        (3): BatchNorm1d(64, eps=1e-05, momentum=0.1, affine=True, track_running_stats=True)\n",
       "        (4): BatchNorm1d(64, eps=1e-05, momentum=0.1, affine=True, track_running_stats=True)\n",
       "        (5): BatchNorm1d(64, eps=1e-05, momentum=0.1, affine=True, track_running_stats=True)\n",
       "        (6): BatchNorm1d(64, eps=1e-05, momentum=0.1, affine=True, track_running_stats=True)\n",
       "      )\n",
       "    )\n",
       "    (2): Conv1dReluBn(\n",
       "      (conv): Conv1d(512, 512, kernel_size=(1,), stride=(1,), bias=False)\n",
       "      (bn): BatchNorm1d(512, eps=1e-05, momentum=0.1, affine=True, track_running_stats=True)\n",
       "    )\n",
       "    (3): SE_Connect(\n",
       "      (linear1): Linear(in_features=512, out_features=256, bias=True)\n",
       "      (linear2): Linear(in_features=256, out_features=512, bias=True)\n",
       "    )\n",
       "  )\n",
       "  (layer4): Sequential(\n",
       "    (0): Conv1dReluBn(\n",
       "      (conv): Conv1d(512, 512, kernel_size=(1,), stride=(1,), bias=False)\n",
       "      (bn): BatchNorm1d(512, eps=1e-05, momentum=0.1, affine=True, track_running_stats=True)\n",
       "    )\n",
       "    (1): Res2Conv1dReluBn(\n",
       "      (convs): ModuleList(\n",
       "        (0): Conv1d(64, 64, kernel_size=(3,), stride=(1,), padding=(4,), dilation=(4,), bias=False)\n",
       "        (1): Conv1d(64, 64, kernel_size=(3,), stride=(1,), padding=(4,), dilation=(4,), bias=False)\n",
       "        (2): Conv1d(64, 64, kernel_size=(3,), stride=(1,), padding=(4,), dilation=(4,), bias=False)\n",
       "        (3): Conv1d(64, 64, kernel_size=(3,), stride=(1,), padding=(4,), dilation=(4,), bias=False)\n",
       "        (4): Conv1d(64, 64, kernel_size=(3,), stride=(1,), padding=(4,), dilation=(4,), bias=False)\n",
       "        (5): Conv1d(64, 64, kernel_size=(3,), stride=(1,), padding=(4,), dilation=(4,), bias=False)\n",
       "        (6): Conv1d(64, 64, kernel_size=(3,), stride=(1,), padding=(4,), dilation=(4,), bias=False)\n",
       "      )\n",
       "      (bns): ModuleList(\n",
       "        (0): BatchNorm1d(64, eps=1e-05, momentum=0.1, affine=True, track_running_stats=True)\n",
       "        (1): BatchNorm1d(64, eps=1e-05, momentum=0.1, affine=True, track_running_stats=True)\n",
       "        (2): BatchNorm1d(64, eps=1e-05, momentum=0.1, affine=True, track_running_stats=True)\n",
       "        (3): BatchNorm1d(64, eps=1e-05, momentum=0.1, affine=True, track_running_stats=True)\n",
       "        (4): BatchNorm1d(64, eps=1e-05, momentum=0.1, affine=True, track_running_stats=True)\n",
       "        (5): BatchNorm1d(64, eps=1e-05, momentum=0.1, affine=True, track_running_stats=True)\n",
       "        (6): BatchNorm1d(64, eps=1e-05, momentum=0.1, affine=True, track_running_stats=True)\n",
       "      )\n",
       "    )\n",
       "    (2): Conv1dReluBn(\n",
       "      (conv): Conv1d(512, 512, kernel_size=(1,), stride=(1,), bias=False)\n",
       "      (bn): BatchNorm1d(512, eps=1e-05, momentum=0.1, affine=True, track_running_stats=True)\n",
       "    )\n",
       "    (3): SE_Connect(\n",
       "      (linear1): Linear(in_features=512, out_features=256, bias=True)\n",
       "      (linear2): Linear(in_features=256, out_features=512, bias=True)\n",
       "    )\n",
       "  )\n",
       "  (conv): Conv1d(1536, 1536, kernel_size=(1,), stride=(1,))\n",
       "  (pooling): AttentiveStatsPool(\n",
       "    (linear1): Conv1d(1536, 128, kernel_size=(1,), stride=(1,))\n",
       "    (linear2): Conv1d(128, 1536, kernel_size=(1,), stride=(1,))\n",
       "  )\n",
       "  (bn1): BatchNorm1d(3072, eps=1e-05, momentum=0.1, affine=True, track_running_stats=True)\n",
       "  (linear): Linear(in_features=3072, out_features=192, bias=True)\n",
       "  (bn2): BatchNorm1d(192, eps=1e-05, momentum=0.1, affine=True, track_running_stats=True)\n",
       ")"
      ]
     },
     "execution_count": 23,
     "metadata": {},
     "output_type": "execute_result"
    }
   ],
   "source": [
    "S.cuda()"
   ]
  },
  {
   "cell_type": "code",
   "execution_count": 24,
   "metadata": {},
   "outputs": [],
   "source": [
    "loaded_state = torch.load(model_path, map_location=\"cuda:0\")"
   ]
  },
  {
   "cell_type": "code",
   "execution_count": 25,
   "metadata": {},
   "outputs": [
    {
     "name": "stdout",
     "output_type": "stream",
     "text": [
      "#__L__.W is not in the model.\n",
      "#DA_module.backbone.torchfb.0.flipped_filter is not in the model.\n",
      "#DA_module.backbone.torchfb.1.spectrogram.window is not in the model.\n",
      "#DA_module.backbone.torchfb.1.mel_scale.fb is not in the model.\n",
      "#DA_module.backbone.layer1.conv.weight is not in the model.\n",
      "#DA_module.backbone.layer1.bn.weight is not in the model.\n",
      "#DA_module.backbone.layer1.bn.bias is not in the model.\n",
      "#DA_module.backbone.layer1.bn.running_mean is not in the model.\n",
      "#DA_module.backbone.layer1.bn.running_var is not in the model.\n",
      "#DA_module.backbone.layer1.bn.num_batches_tracked is not in the model.\n",
      "#DA_module.backbone.layer2.0.conv.weight is not in the model.\n",
      "#DA_module.backbone.layer2.0.bn.weight is not in the model.\n",
      "#DA_module.backbone.layer2.0.bn.bias is not in the model.\n",
      "#DA_module.backbone.layer2.0.bn.running_mean is not in the model.\n",
      "#DA_module.backbone.layer2.0.bn.running_var is not in the model.\n",
      "#DA_module.backbone.layer2.0.bn.num_batches_tracked is not in the model.\n",
      "#DA_module.backbone.layer2.1.convs.0.weight is not in the model.\n",
      "#DA_module.backbone.layer2.1.convs.1.weight is not in the model.\n",
      "#DA_module.backbone.layer2.1.convs.2.weight is not in the model.\n",
      "#DA_module.backbone.layer2.1.convs.3.weight is not in the model.\n",
      "#DA_module.backbone.layer2.1.convs.4.weight is not in the model.\n",
      "#DA_module.backbone.layer2.1.convs.5.weight is not in the model.\n",
      "#DA_module.backbone.layer2.1.convs.6.weight is not in the model.\n",
      "#DA_module.backbone.layer2.1.bns.0.weight is not in the model.\n",
      "#DA_module.backbone.layer2.1.bns.0.bias is not in the model.\n",
      "#DA_module.backbone.layer2.1.bns.0.running_mean is not in the model.\n",
      "#DA_module.backbone.layer2.1.bns.0.running_var is not in the model.\n",
      "#DA_module.backbone.layer2.1.bns.0.num_batches_tracked is not in the model.\n",
      "#DA_module.backbone.layer2.1.bns.1.weight is not in the model.\n",
      "#DA_module.backbone.layer2.1.bns.1.bias is not in the model.\n",
      "#DA_module.backbone.layer2.1.bns.1.running_mean is not in the model.\n",
      "#DA_module.backbone.layer2.1.bns.1.running_var is not in the model.\n",
      "#DA_module.backbone.layer2.1.bns.1.num_batches_tracked is not in the model.\n",
      "#DA_module.backbone.layer2.1.bns.2.weight is not in the model.\n",
      "#DA_module.backbone.layer2.1.bns.2.bias is not in the model.\n",
      "#DA_module.backbone.layer2.1.bns.2.running_mean is not in the model.\n",
      "#DA_module.backbone.layer2.1.bns.2.running_var is not in the model.\n",
      "#DA_module.backbone.layer2.1.bns.2.num_batches_tracked is not in the model.\n",
      "#DA_module.backbone.layer2.1.bns.3.weight is not in the model.\n",
      "#DA_module.backbone.layer2.1.bns.3.bias is not in the model.\n",
      "#DA_module.backbone.layer2.1.bns.3.running_mean is not in the model.\n",
      "#DA_module.backbone.layer2.1.bns.3.running_var is not in the model.\n",
      "#DA_module.backbone.layer2.1.bns.3.num_batches_tracked is not in the model.\n",
      "#DA_module.backbone.layer2.1.bns.4.weight is not in the model.\n",
      "#DA_module.backbone.layer2.1.bns.4.bias is not in the model.\n",
      "#DA_module.backbone.layer2.1.bns.4.running_mean is not in the model.\n",
      "#DA_module.backbone.layer2.1.bns.4.running_var is not in the model.\n",
      "#DA_module.backbone.layer2.1.bns.4.num_batches_tracked is not in the model.\n",
      "#DA_module.backbone.layer2.1.bns.5.weight is not in the model.\n",
      "#DA_module.backbone.layer2.1.bns.5.bias is not in the model.\n",
      "#DA_module.backbone.layer2.1.bns.5.running_mean is not in the model.\n",
      "#DA_module.backbone.layer2.1.bns.5.running_var is not in the model.\n",
      "#DA_module.backbone.layer2.1.bns.5.num_batches_tracked is not in the model.\n",
      "#DA_module.backbone.layer2.1.bns.6.weight is not in the model.\n",
      "#DA_module.backbone.layer2.1.bns.6.bias is not in the model.\n",
      "#DA_module.backbone.layer2.1.bns.6.running_mean is not in the model.\n",
      "#DA_module.backbone.layer2.1.bns.6.running_var is not in the model.\n",
      "#DA_module.backbone.layer2.1.bns.6.num_batches_tracked is not in the model.\n",
      "#DA_module.backbone.layer2.2.conv.weight is not in the model.\n",
      "#DA_module.backbone.layer2.2.bn.weight is not in the model.\n",
      "#DA_module.backbone.layer2.2.bn.bias is not in the model.\n",
      "#DA_module.backbone.layer2.2.bn.running_mean is not in the model.\n",
      "#DA_module.backbone.layer2.2.bn.running_var is not in the model.\n",
      "#DA_module.backbone.layer2.2.bn.num_batches_tracked is not in the model.\n",
      "#DA_module.backbone.layer2.3.linear1.weight is not in the model.\n",
      "#DA_module.backbone.layer2.3.linear1.bias is not in the model.\n",
      "#DA_module.backbone.layer2.3.linear2.weight is not in the model.\n",
      "#DA_module.backbone.layer2.3.linear2.bias is not in the model.\n",
      "#DA_module.backbone.layer3.0.conv.weight is not in the model.\n",
      "#DA_module.backbone.layer3.0.bn.weight is not in the model.\n",
      "#DA_module.backbone.layer3.0.bn.bias is not in the model.\n",
      "#DA_module.backbone.layer3.0.bn.running_mean is not in the model.\n",
      "#DA_module.backbone.layer3.0.bn.running_var is not in the model.\n",
      "#DA_module.backbone.layer3.0.bn.num_batches_tracked is not in the model.\n",
      "#DA_module.backbone.layer3.1.convs.0.weight is not in the model.\n",
      "#DA_module.backbone.layer3.1.convs.1.weight is not in the model.\n",
      "#DA_module.backbone.layer3.1.convs.2.weight is not in the model.\n",
      "#DA_module.backbone.layer3.1.convs.3.weight is not in the model.\n",
      "#DA_module.backbone.layer3.1.convs.4.weight is not in the model.\n",
      "#DA_module.backbone.layer3.1.convs.5.weight is not in the model.\n",
      "#DA_module.backbone.layer3.1.convs.6.weight is not in the model.\n",
      "#DA_module.backbone.layer3.1.bns.0.weight is not in the model.\n",
      "#DA_module.backbone.layer3.1.bns.0.bias is not in the model.\n",
      "#DA_module.backbone.layer3.1.bns.0.running_mean is not in the model.\n",
      "#DA_module.backbone.layer3.1.bns.0.running_var is not in the model.\n",
      "#DA_module.backbone.layer3.1.bns.0.num_batches_tracked is not in the model.\n",
      "#DA_module.backbone.layer3.1.bns.1.weight is not in the model.\n",
      "#DA_module.backbone.layer3.1.bns.1.bias is not in the model.\n",
      "#DA_module.backbone.layer3.1.bns.1.running_mean is not in the model.\n",
      "#DA_module.backbone.layer3.1.bns.1.running_var is not in the model.\n",
      "#DA_module.backbone.layer3.1.bns.1.num_batches_tracked is not in the model.\n",
      "#DA_module.backbone.layer3.1.bns.2.weight is not in the model.\n",
      "#DA_module.backbone.layer3.1.bns.2.bias is not in the model.\n",
      "#DA_module.backbone.layer3.1.bns.2.running_mean is not in the model.\n",
      "#DA_module.backbone.layer3.1.bns.2.running_var is not in the model.\n",
      "#DA_module.backbone.layer3.1.bns.2.num_batches_tracked is not in the model.\n",
      "#DA_module.backbone.layer3.1.bns.3.weight is not in the model.\n",
      "#DA_module.backbone.layer3.1.bns.3.bias is not in the model.\n",
      "#DA_module.backbone.layer3.1.bns.3.running_mean is not in the model.\n",
      "#DA_module.backbone.layer3.1.bns.3.running_var is not in the model.\n",
      "#DA_module.backbone.layer3.1.bns.3.num_batches_tracked is not in the model.\n",
      "#DA_module.backbone.layer3.1.bns.4.weight is not in the model.\n",
      "#DA_module.backbone.layer3.1.bns.4.bias is not in the model.\n",
      "#DA_module.backbone.layer3.1.bns.4.running_mean is not in the model.\n",
      "#DA_module.backbone.layer3.1.bns.4.running_var is not in the model.\n",
      "#DA_module.backbone.layer3.1.bns.4.num_batches_tracked is not in the model.\n",
      "#DA_module.backbone.layer3.1.bns.5.weight is not in the model.\n",
      "#DA_module.backbone.layer3.1.bns.5.bias is not in the model.\n",
      "#DA_module.backbone.layer3.1.bns.5.running_mean is not in the model.\n",
      "#DA_module.backbone.layer3.1.bns.5.running_var is not in the model.\n",
      "#DA_module.backbone.layer3.1.bns.5.num_batches_tracked is not in the model.\n",
      "#DA_module.backbone.layer3.1.bns.6.weight is not in the model.\n",
      "#DA_module.backbone.layer3.1.bns.6.bias is not in the model.\n",
      "#DA_module.backbone.layer3.1.bns.6.running_mean is not in the model.\n",
      "#DA_module.backbone.layer3.1.bns.6.running_var is not in the model.\n",
      "#DA_module.backbone.layer3.1.bns.6.num_batches_tracked is not in the model.\n",
      "#DA_module.backbone.layer3.2.conv.weight is not in the model.\n",
      "#DA_module.backbone.layer3.2.bn.weight is not in the model.\n",
      "#DA_module.backbone.layer3.2.bn.bias is not in the model.\n",
      "#DA_module.backbone.layer3.2.bn.running_mean is not in the model.\n",
      "#DA_module.backbone.layer3.2.bn.running_var is not in the model.\n",
      "#DA_module.backbone.layer3.2.bn.num_batches_tracked is not in the model.\n",
      "#DA_module.backbone.layer3.3.linear1.weight is not in the model.\n",
      "#DA_module.backbone.layer3.3.linear1.bias is not in the model.\n",
      "#DA_module.backbone.layer3.3.linear2.weight is not in the model.\n",
      "#DA_module.backbone.layer3.3.linear2.bias is not in the model.\n",
      "#DA_module.backbone.layer4.0.conv.weight is not in the model.\n",
      "#DA_module.backbone.layer4.0.bn.weight is not in the model.\n",
      "#DA_module.backbone.layer4.0.bn.bias is not in the model.\n",
      "#DA_module.backbone.layer4.0.bn.running_mean is not in the model.\n",
      "#DA_module.backbone.layer4.0.bn.running_var is not in the model.\n",
      "#DA_module.backbone.layer4.0.bn.num_batches_tracked is not in the model.\n",
      "#DA_module.backbone.layer4.1.convs.0.weight is not in the model.\n",
      "#DA_module.backbone.layer4.1.convs.1.weight is not in the model.\n",
      "#DA_module.backbone.layer4.1.convs.2.weight is not in the model.\n",
      "#DA_module.backbone.layer4.1.convs.3.weight is not in the model.\n",
      "#DA_module.backbone.layer4.1.convs.4.weight is not in the model.\n",
      "#DA_module.backbone.layer4.1.convs.5.weight is not in the model.\n",
      "#DA_module.backbone.layer4.1.convs.6.weight is not in the model.\n",
      "#DA_module.backbone.layer4.1.bns.0.weight is not in the model.\n",
      "#DA_module.backbone.layer4.1.bns.0.bias is not in the model.\n",
      "#DA_module.backbone.layer4.1.bns.0.running_mean is not in the model.\n",
      "#DA_module.backbone.layer4.1.bns.0.running_var is not in the model.\n",
      "#DA_module.backbone.layer4.1.bns.0.num_batches_tracked is not in the model.\n",
      "#DA_module.backbone.layer4.1.bns.1.weight is not in the model.\n",
      "#DA_module.backbone.layer4.1.bns.1.bias is not in the model.\n",
      "#DA_module.backbone.layer4.1.bns.1.running_mean is not in the model.\n",
      "#DA_module.backbone.layer4.1.bns.1.running_var is not in the model.\n",
      "#DA_module.backbone.layer4.1.bns.1.num_batches_tracked is not in the model.\n",
      "#DA_module.backbone.layer4.1.bns.2.weight is not in the model.\n",
      "#DA_module.backbone.layer4.1.bns.2.bias is not in the model.\n",
      "#DA_module.backbone.layer4.1.bns.2.running_mean is not in the model.\n",
      "#DA_module.backbone.layer4.1.bns.2.running_var is not in the model.\n",
      "#DA_module.backbone.layer4.1.bns.2.num_batches_tracked is not in the model.\n",
      "#DA_module.backbone.layer4.1.bns.3.weight is not in the model.\n",
      "#DA_module.backbone.layer4.1.bns.3.bias is not in the model.\n",
      "#DA_module.backbone.layer4.1.bns.3.running_mean is not in the model.\n",
      "#DA_module.backbone.layer4.1.bns.3.running_var is not in the model.\n",
      "#DA_module.backbone.layer4.1.bns.3.num_batches_tracked is not in the model.\n",
      "#DA_module.backbone.layer4.1.bns.4.weight is not in the model.\n",
      "#DA_module.backbone.layer4.1.bns.4.bias is not in the model.\n",
      "#DA_module.backbone.layer4.1.bns.4.running_mean is not in the model.\n",
      "#DA_module.backbone.layer4.1.bns.4.running_var is not in the model.\n",
      "#DA_module.backbone.layer4.1.bns.4.num_batches_tracked is not in the model.\n",
      "#DA_module.backbone.layer4.1.bns.5.weight is not in the model.\n",
      "#DA_module.backbone.layer4.1.bns.5.bias is not in the model.\n",
      "#DA_module.backbone.layer4.1.bns.5.running_mean is not in the model.\n",
      "#DA_module.backbone.layer4.1.bns.5.running_var is not in the model.\n",
      "#DA_module.backbone.layer4.1.bns.5.num_batches_tracked is not in the model.\n",
      "#DA_module.backbone.layer4.1.bns.6.weight is not in the model.\n",
      "#DA_module.backbone.layer4.1.bns.6.bias is not in the model.\n",
      "#DA_module.backbone.layer4.1.bns.6.running_mean is not in the model.\n",
      "#DA_module.backbone.layer4.1.bns.6.running_var is not in the model.\n",
      "#DA_module.backbone.layer4.1.bns.6.num_batches_tracked is not in the model.\n",
      "#DA_module.backbone.layer4.2.conv.weight is not in the model.\n",
      "#DA_module.backbone.layer4.2.bn.weight is not in the model.\n",
      "#DA_module.backbone.layer4.2.bn.bias is not in the model.\n",
      "#DA_module.backbone.layer4.2.bn.running_mean is not in the model.\n",
      "#DA_module.backbone.layer4.2.bn.running_var is not in the model.\n",
      "#DA_module.backbone.layer4.2.bn.num_batches_tracked is not in the model.\n",
      "#DA_module.backbone.layer4.3.linear1.weight is not in the model.\n",
      "#DA_module.backbone.layer4.3.linear1.bias is not in the model.\n",
      "#DA_module.backbone.layer4.3.linear2.weight is not in the model.\n",
      "#DA_module.backbone.layer4.3.linear2.bias is not in the model.\n",
      "#DA_module.backbone.conv.weight is not in the model.\n",
      "#DA_module.backbone.conv.bias is not in the model.\n",
      "#DA_module.backbone.pooling.linear1.weight is not in the model.\n",
      "#DA_module.backbone.pooling.linear1.bias is not in the model.\n",
      "#DA_module.backbone.pooling.linear2.weight is not in the model.\n",
      "#DA_module.backbone.pooling.linear2.bias is not in the model.\n",
      "#DA_module.backbone.bn1.weight is not in the model.\n",
      "#DA_module.backbone.bn1.bias is not in the model.\n",
      "#DA_module.backbone.bn1.running_mean is not in the model.\n",
      "#DA_module.backbone.bn1.running_var is not in the model.\n",
      "#DA_module.backbone.bn1.num_batches_tracked is not in the model.\n",
      "#DA_module.backbone.linear.weight is not in the model.\n",
      "#DA_module.backbone.linear.bias is not in the model.\n",
      "#DA_module.backbone.bn2.weight is not in the model.\n",
      "#DA_module.backbone.bn2.bias is not in the model.\n",
      "#DA_module.backbone.bn2.running_mean is not in the model.\n",
      "#DA_module.backbone.bn2.running_var is not in the model.\n",
      "#DA_module.backbone.bn2.num_batches_tracked is not in the model.\n",
      "#DA_module.metrics.W is not in the model.\n",
      "#DA_module.layer_d1.linear.weight is not in the model.\n",
      "#DA_module.layer_d1.linear.bias is not in the model.\n",
      "#DA_module.layer_d1.batchnorm.weight is not in the model.\n",
      "#DA_module.layer_d1.batchnorm.bias is not in the model.\n",
      "#DA_module.layer_d1.batchnorm.running_mean is not in the model.\n",
      "#DA_module.layer_d1.batchnorm.running_var is not in the model.\n",
      "#DA_module.layer_d1.batchnorm.num_batches_tracked is not in the model.\n",
      "#DA_module.layer_d2.linear.weight is not in the model.\n",
      "#DA_module.layer_d2.linear.bias is not in the model.\n"
     ]
    }
   ],
   "source": [
    "self_state = S.state_dict()\n",
    "\n",
    "for name, param in loaded_state['model'].items():\n",
    "    origname = name\n",
    "    if name not in self_state:\n",
    "        name = name.replace(\"__S__.\", \"\")\n",
    "\n",
    "        if name not in self_state:\n",
    "            print(\"#%s is not in the model.\"%origname)\n",
    "            continue\n",
    "\n",
    "    if self_state[name].size() != loaded_state['model'][origname].size():\n",
    "        print(\"#Wrong parameter length: %s, model: %s, loaded: %s\"%(origname, self_state[name].size(), loaded_state[origname].size()))\n",
    "        continue\n",
    "\n",
    "    self_state[name].copy_(param)"
   ]
  },
  {
   "cell_type": "code",
   "execution_count": 28,
   "metadata": {},
   "outputs": [
    {
     "data": {
      "text/plain": [
       "ECAPA_TDNN(\n",
       "  (instancenorm): InstanceNorm1d(40, eps=1e-05, momentum=0.1, affine=False, track_running_stats=False)\n",
       "  (torchfb): Sequential(\n",
       "    (0): PreEmphasis()\n",
       "    (1): MelSpectrogram(\n",
       "      (spectrogram): Spectrogram()\n",
       "      (mel_scale): MelScale()\n",
       "    )\n",
       "  )\n",
       "  (layer1): Conv1dReluBn(\n",
       "    (conv): Conv1d(40, 512, kernel_size=(5,), stride=(1,), padding=(2,), bias=False)\n",
       "    (bn): BatchNorm1d(512, eps=1e-05, momentum=0.1, affine=True, track_running_stats=True)\n",
       "  )\n",
       "  (layer2): Sequential(\n",
       "    (0): Conv1dReluBn(\n",
       "      (conv): Conv1d(512, 512, kernel_size=(1,), stride=(1,), bias=False)\n",
       "      (bn): BatchNorm1d(512, eps=1e-05, momentum=0.1, affine=True, track_running_stats=True)\n",
       "    )\n",
       "    (1): Res2Conv1dReluBn(\n",
       "      (convs): ModuleList(\n",
       "        (0): Conv1d(64, 64, kernel_size=(3,), stride=(1,), padding=(2,), dilation=(2,), bias=False)\n",
       "        (1): Conv1d(64, 64, kernel_size=(3,), stride=(1,), padding=(2,), dilation=(2,), bias=False)\n",
       "        (2): Conv1d(64, 64, kernel_size=(3,), stride=(1,), padding=(2,), dilation=(2,), bias=False)\n",
       "        (3): Conv1d(64, 64, kernel_size=(3,), stride=(1,), padding=(2,), dilation=(2,), bias=False)\n",
       "        (4): Conv1d(64, 64, kernel_size=(3,), stride=(1,), padding=(2,), dilation=(2,), bias=False)\n",
       "        (5): Conv1d(64, 64, kernel_size=(3,), stride=(1,), padding=(2,), dilation=(2,), bias=False)\n",
       "        (6): Conv1d(64, 64, kernel_size=(3,), stride=(1,), padding=(2,), dilation=(2,), bias=False)\n",
       "      )\n",
       "      (bns): ModuleList(\n",
       "        (0): BatchNorm1d(64, eps=1e-05, momentum=0.1, affine=True, track_running_stats=True)\n",
       "        (1): BatchNorm1d(64, eps=1e-05, momentum=0.1, affine=True, track_running_stats=True)\n",
       "        (2): BatchNorm1d(64, eps=1e-05, momentum=0.1, affine=True, track_running_stats=True)\n",
       "        (3): BatchNorm1d(64, eps=1e-05, momentum=0.1, affine=True, track_running_stats=True)\n",
       "        (4): BatchNorm1d(64, eps=1e-05, momentum=0.1, affine=True, track_running_stats=True)\n",
       "        (5): BatchNorm1d(64, eps=1e-05, momentum=0.1, affine=True, track_running_stats=True)\n",
       "        (6): BatchNorm1d(64, eps=1e-05, momentum=0.1, affine=True, track_running_stats=True)\n",
       "      )\n",
       "    )\n",
       "    (2): Conv1dReluBn(\n",
       "      (conv): Conv1d(512, 512, kernel_size=(1,), stride=(1,), bias=False)\n",
       "      (bn): BatchNorm1d(512, eps=1e-05, momentum=0.1, affine=True, track_running_stats=True)\n",
       "    )\n",
       "    (3): SE_Connect(\n",
       "      (linear1): Linear(in_features=512, out_features=256, bias=True)\n",
       "      (linear2): Linear(in_features=256, out_features=512, bias=True)\n",
       "    )\n",
       "  )\n",
       "  (layer3): Sequential(\n",
       "    (0): Conv1dReluBn(\n",
       "      (conv): Conv1d(512, 512, kernel_size=(1,), stride=(1,), bias=False)\n",
       "      (bn): BatchNorm1d(512, eps=1e-05, momentum=0.1, affine=True, track_running_stats=True)\n",
       "    )\n",
       "    (1): Res2Conv1dReluBn(\n",
       "      (convs): ModuleList(\n",
       "        (0): Conv1d(64, 64, kernel_size=(3,), stride=(1,), padding=(3,), dilation=(3,), bias=False)\n",
       "        (1): Conv1d(64, 64, kernel_size=(3,), stride=(1,), padding=(3,), dilation=(3,), bias=False)\n",
       "        (2): Conv1d(64, 64, kernel_size=(3,), stride=(1,), padding=(3,), dilation=(3,), bias=False)\n",
       "        (3): Conv1d(64, 64, kernel_size=(3,), stride=(1,), padding=(3,), dilation=(3,), bias=False)\n",
       "        (4): Conv1d(64, 64, kernel_size=(3,), stride=(1,), padding=(3,), dilation=(3,), bias=False)\n",
       "        (5): Conv1d(64, 64, kernel_size=(3,), stride=(1,), padding=(3,), dilation=(3,), bias=False)\n",
       "        (6): Conv1d(64, 64, kernel_size=(3,), stride=(1,), padding=(3,), dilation=(3,), bias=False)\n",
       "      )\n",
       "      (bns): ModuleList(\n",
       "        (0): BatchNorm1d(64, eps=1e-05, momentum=0.1, affine=True, track_running_stats=True)\n",
       "        (1): BatchNorm1d(64, eps=1e-05, momentum=0.1, affine=True, track_running_stats=True)\n",
       "        (2): BatchNorm1d(64, eps=1e-05, momentum=0.1, affine=True, track_running_stats=True)\n",
       "        (3): BatchNorm1d(64, eps=1e-05, momentum=0.1, affine=True, track_running_stats=True)\n",
       "        (4): BatchNorm1d(64, eps=1e-05, momentum=0.1, affine=True, track_running_stats=True)\n",
       "        (5): BatchNorm1d(64, eps=1e-05, momentum=0.1, affine=True, track_running_stats=True)\n",
       "        (6): BatchNorm1d(64, eps=1e-05, momentum=0.1, affine=True, track_running_stats=True)\n",
       "      )\n",
       "    )\n",
       "    (2): Conv1dReluBn(\n",
       "      (conv): Conv1d(512, 512, kernel_size=(1,), stride=(1,), bias=False)\n",
       "      (bn): BatchNorm1d(512, eps=1e-05, momentum=0.1, affine=True, track_running_stats=True)\n",
       "    )\n",
       "    (3): SE_Connect(\n",
       "      (linear1): Linear(in_features=512, out_features=256, bias=True)\n",
       "      (linear2): Linear(in_features=256, out_features=512, bias=True)\n",
       "    )\n",
       "  )\n",
       "  (layer4): Sequential(\n",
       "    (0): Conv1dReluBn(\n",
       "      (conv): Conv1d(512, 512, kernel_size=(1,), stride=(1,), bias=False)\n",
       "      (bn): BatchNorm1d(512, eps=1e-05, momentum=0.1, affine=True, track_running_stats=True)\n",
       "    )\n",
       "    (1): Res2Conv1dReluBn(\n",
       "      (convs): ModuleList(\n",
       "        (0): Conv1d(64, 64, kernel_size=(3,), stride=(1,), padding=(4,), dilation=(4,), bias=False)\n",
       "        (1): Conv1d(64, 64, kernel_size=(3,), stride=(1,), padding=(4,), dilation=(4,), bias=False)\n",
       "        (2): Conv1d(64, 64, kernel_size=(3,), stride=(1,), padding=(4,), dilation=(4,), bias=False)\n",
       "        (3): Conv1d(64, 64, kernel_size=(3,), stride=(1,), padding=(4,), dilation=(4,), bias=False)\n",
       "        (4): Conv1d(64, 64, kernel_size=(3,), stride=(1,), padding=(4,), dilation=(4,), bias=False)\n",
       "        (5): Conv1d(64, 64, kernel_size=(3,), stride=(1,), padding=(4,), dilation=(4,), bias=False)\n",
       "        (6): Conv1d(64, 64, kernel_size=(3,), stride=(1,), padding=(4,), dilation=(4,), bias=False)\n",
       "      )\n",
       "      (bns): ModuleList(\n",
       "        (0): BatchNorm1d(64, eps=1e-05, momentum=0.1, affine=True, track_running_stats=True)\n",
       "        (1): BatchNorm1d(64, eps=1e-05, momentum=0.1, affine=True, track_running_stats=True)\n",
       "        (2): BatchNorm1d(64, eps=1e-05, momentum=0.1, affine=True, track_running_stats=True)\n",
       "        (3): BatchNorm1d(64, eps=1e-05, momentum=0.1, affine=True, track_running_stats=True)\n",
       "        (4): BatchNorm1d(64, eps=1e-05, momentum=0.1, affine=True, track_running_stats=True)\n",
       "        (5): BatchNorm1d(64, eps=1e-05, momentum=0.1, affine=True, track_running_stats=True)\n",
       "        (6): BatchNorm1d(64, eps=1e-05, momentum=0.1, affine=True, track_running_stats=True)\n",
       "      )\n",
       "    )\n",
       "    (2): Conv1dReluBn(\n",
       "      (conv): Conv1d(512, 512, kernel_size=(1,), stride=(1,), bias=False)\n",
       "      (bn): BatchNorm1d(512, eps=1e-05, momentum=0.1, affine=True, track_running_stats=True)\n",
       "    )\n",
       "    (3): SE_Connect(\n",
       "      (linear1): Linear(in_features=512, out_features=256, bias=True)\n",
       "      (linear2): Linear(in_features=256, out_features=512, bias=True)\n",
       "    )\n",
       "  )\n",
       "  (conv): Conv1d(1536, 1536, kernel_size=(1,), stride=(1,))\n",
       "  (pooling): AttentiveStatsPool(\n",
       "    (linear1): Conv1d(1536, 128, kernel_size=(1,), stride=(1,))\n",
       "    (linear2): Conv1d(128, 1536, kernel_size=(1,), stride=(1,))\n",
       "  )\n",
       "  (bn1): BatchNorm1d(3072, eps=1e-05, momentum=0.1, affine=True, track_running_stats=True)\n",
       "  (linear): Linear(in_features=3072, out_features=192, bias=True)\n",
       "  (bn2): BatchNorm1d(192, eps=1e-05, momentum=0.1, affine=True, track_running_stats=True)\n",
       ")"
      ]
     },
     "execution_count": 28,
     "metadata": {},
     "output_type": "execute_result"
    }
   ],
   "source": [
    "S.eval()"
   ]
  },
  {
   "cell_type": "code",
   "execution_count": 29,
   "metadata": {},
   "outputs": [],
   "source": [
    "def loadWAV(filename):\n",
    "\n",
    "    # Maximum audio length\n",
    "    \n",
    "    max_audio = int(0*16000 + 240)\n",
    "\n",
    "    # Read wav file and convert to torch tensor\n",
    "    sample_rate, audio  = wavfile.read(filename)\n",
    "    \n",
    "    audiosize = audio.shape[0]\n",
    "\n",
    "    if audiosize <= max_audio:\n",
    "        shortage    = max_audio - audiosize + 1 \n",
    "        audio       = numpy.pad(audio, (0, shortage), 'wrap')\n",
    "        audiosize   = audio.shape[0]\n",
    "    \n",
    "    feats = []\n",
    "\n",
    "    feats.append(audio)\n",
    "\n",
    "    feat = numpy.stack(feats,axis=0).astype(numpy.float)\n",
    "\n",
    "    return feat"
   ]
  },
  {
   "cell_type": "code",
   "execution_count": 39,
   "metadata": {},
   "outputs": [],
   "source": [
    "train_list_1 = '/workspace/DATASET/server9_ssd/voxceleb/vox2_trainlist.txt'\n",
    "train_path_1 = '/workspace/DATASET/server9_ssd/voxceleb'\n",
    "train_list_2 = '/workspace/DATASET/server9_ssd/sdsv20/sdsv20_trainlist.txt'\n",
    "train_path_2 = '/workspace/DATASET/server9_ssd/sdsv20'"
   ]
  },
  {
   "cell_type": "code",
   "execution_count": 31,
   "metadata": {},
   "outputs": [],
   "source": [
    "with open(train_list_1, 'r') as f:\n",
    "    train_list_1_list = f.readlines()"
   ]
  },
  {
   "cell_type": "code",
   "execution_count": 32,
   "metadata": {},
   "outputs": [
    {
     "data": {
      "text/plain": [
       "1092009"
      ]
     },
     "execution_count": 32,
     "metadata": {},
     "output_type": "execute_result"
    }
   ],
   "source": [
    "len(train_list_1_list)"
   ]
  },
  {
   "cell_type": "code",
   "execution_count": 38,
   "metadata": {},
   "outputs": [
    {
     "name": "stdout",
     "output_type": "stream",
     "text": [
      "collect 100 classes\n",
      "count:  18395\n"
     ]
    }
   ],
   "source": [
    "emb_list = {}\n",
    "for count, line in enumerate(train_list_1_list):\n",
    "    label, wavline = line[:-1].split(' ')\n",
    "    wavline = os.path.join(train_path_1, wavline)\n",
    "    raw_inp = loadWAV(wavline)\n",
    "    raw_inp = torch.FloatTensor(raw_inp).cuda()\n",
    "    \n",
    "    ref_feat = S.forward(raw_inp).detach().cpu().numpy()\n",
    "    \n",
    "    if label not in emb_list.keys():\n",
    "        if len(emb_list) > 100:\n",
    "            print('collect 100 classes')\n",
    "            print('count: ', count)\n",
    "            break\n",
    "        emb_list[label] = ref_feat\n",
    "    else:\n",
    "        emb_list[label] = numpy.append(emb_list[label], ref_feat, axis=0)\n",
    "    \n",
    "    if ((count+1) % 1000) == 0:\n",
    "        print((count+1)//1000, end='\\r')"
   ]
  },
  {
   "cell_type": "code",
   "execution_count": 40,
   "metadata": {},
   "outputs": [],
   "source": [
    "with open(train_list_2, 'r') as f:\n",
    "    train_list_2_list = f.readlines()"
   ]
  },
  {
   "cell_type": "code",
   "execution_count": 41,
   "metadata": {},
   "outputs": [
    {
     "data": {
      "text/plain": [
       "85764"
      ]
     },
     "execution_count": 41,
     "metadata": {},
     "output_type": "execute_result"
    }
   ],
   "source": [
    "len(train_list_2_list)"
   ]
  },
  {
   "cell_type": "code",
   "execution_count": 42,
   "metadata": {},
   "outputs": [
    {
     "name": "stdout",
     "output_type": "stream",
     "text": [
      "collect 100 classes\n",
      "count:  16099\n"
     ]
    }
   ],
   "source": [
    "emb_list_2 = {}\n",
    "for count, line in enumerate(train_list_2_list):\n",
    "    label, wavline = line[:-1].split(' ')\n",
    "    wavline = os.path.join(train_path_2, wavline)\n",
    "    raw_inp = loadWAV(wavline)\n",
    "    raw_inp = torch.FloatTensor(raw_inp).cuda()\n",
    "    \n",
    "    ref_feat = S.forward(raw_inp).detach().cpu().numpy()\n",
    "    \n",
    "    if label not in emb_list_2.keys():\n",
    "        if len(emb_list_2) > 100:\n",
    "            print('collect 100 classes')\n",
    "            print('count: ', count)\n",
    "            break\n",
    "        emb_list_2[label] = ref_feat\n",
    "    else:\n",
    "        emb_list_2[label] = numpy.append(emb_list_2[label], ref_feat, axis=0)\n",
    "    \n",
    "    \n",
    "#     if label not in cohort_spk_dict.keys():\n",
    "#         cohort_spk_dict[label] = ref_feat\n",
    "#     else:\n",
    "#         cohort_spk_dict[label] = torch.cat([cohort_spk_dict[label], ref_feat], dim=0)\n",
    "    if ((count+1) % 1000) == 0:\n",
    "        print((count+1)//1000, end='\\r')"
   ]
  },
  {
   "cell_type": "code",
   "execution_count": 52,
   "metadata": {},
   "outputs": [
    {
     "data": {
      "text/plain": [
       "(164, 192)"
      ]
     },
     "execution_count": 52,
     "metadata": {},
     "output_type": "execute_result"
    }
   ],
   "source": [
    "emb_list['id00012'].shape"
   ]
  },
  {
   "cell_type": "code",
   "execution_count": 65,
   "metadata": {},
   "outputs": [],
   "source": [
    "out_list = numpy.zeros([0, 192])\n",
    "for count, i in enumerate(emb_list):\n",
    "    if count > 74:\n",
    "        break\n",
    "    out_list = numpy.append(out_list, emb_list[i][0:20], axis=0)"
   ]
  },
  {
   "cell_type": "code",
   "execution_count": 66,
   "metadata": {},
   "outputs": [
    {
     "data": {
      "text/plain": [
       "(1500, 192)"
      ]
     },
     "execution_count": 66,
     "metadata": {},
     "output_type": "execute_result"
    }
   ],
   "source": [
    "out_list.shape"
   ]
  },
  {
   "cell_type": "code",
   "execution_count": 68,
   "metadata": {},
   "outputs": [],
   "source": [
    "out_list_2 = numpy.zeros([0, 192])\n",
    "for count, i in enumerate(emb_list_2):\n",
    "    if count > 14:\n",
    "        break\n",
    "    out_list_2 = numpy.append(out_list_2, emb_list_2[i][0:20], axis=0)"
   ]
  },
  {
   "cell_type": "code",
   "execution_count": 69,
   "metadata": {},
   "outputs": [
    {
     "data": {
      "text/plain": [
       "(300, 192)"
      ]
     },
     "execution_count": 69,
     "metadata": {},
     "output_type": "execute_result"
    }
   ],
   "source": [
    "out_list_2.shape"
   ]
  },
  {
   "cell_type": "code",
   "execution_count": 71,
   "metadata": {},
   "outputs": [],
   "source": [
    "out_label = out_list.shape[0]*[0] +out_list_2.shape[0]*[1]\n",
    "out_list_f = numpy.append(out_list, out_list_2, axis=0)"
   ]
  },
  {
   "cell_type": "code",
   "execution_count": 74,
   "metadata": {},
   "outputs": [],
   "source": [
    "tsne = manifold.TSNE(n_components=2, init='pca', random_state=0)\n",
    "Y = tsne.fit_transform(out_list_f)"
   ]
  },
  {
   "cell_type": "code",
   "execution_count": 75,
   "metadata": {},
   "outputs": [
    {
     "data": {
      "text/plain": [
       "Text(0.5, 1.0, 'Emb plot for RW-B-ALDA training')"
      ]
     },
     "execution_count": 75,
     "metadata": {},
     "output_type": "execute_result"
    },
    {
     "data": {
      "image/png": "[encoded data removed]",
      "text/plain": [
       "<Figure size 432x288 with 1 Axes>"
      ]
     },
     "metadata": {
      "needs_background": "light"
     },
     "output_type": "display_data"
    }
   ],
   "source": [
    "fig = plt.figure()\n",
    "Y1 = Y[0:out_list.shape[0]]\n",
    "out_label_1 = out_label[0:out_list.shape[0]]\n",
    "Y2 = Y[out_list.shape[0]:out_list.shape[0]+out_list_2.shape[0]]\n",
    "out_label_2 = out_label[out_list.shape[0]:out_list.shape[0]+out_list_2.shape[0]]\n",
    "a = plt.scatter(Y1[:, 0], Y1[:, 1], color='b', s=1)\n",
    "b = plt.scatter(Y2[:, 0], Y2[:, 1], color='r', s=1)\n",
    "plt.legend([a, b],['Vox', 'SDSV'], scatterpoints=5)\n",
    "plt.title('Emb plot for RW-B-ALDA training')"
   ]
  },
  {
   "cell_type": "code",
   "execution_count": null,
   "metadata": {
    "collapsed": true
   },
   "outputs": [],
   "source": []
  },
  {
   "cell_type": "code",
   "execution_count": 78,
   "metadata": {},
   "outputs": [],
   "source": [
    "model_path = '/workspace/LOGS_OUTPUT/tmp_logs/train_logs_201120/datest2_0.01/model/model000000123.model'"
   ]
  },
  {
   "cell_type": "code",
   "execution_count": 79,
   "metadata": {},
   "outputs": [
    {
     "data": {
      "text/plain": [
       "ECAPA_TDNN(\n",
       "  (instancenorm): InstanceNorm1d(40, eps=1e-05, momentum=0.1, affine=False, track_running_stats=False)\n",
       "  (torchfb): Sequential(\n",
       "    (0): PreEmphasis()\n",
       "    (1): MelSpectrogram(\n",
       "      (spectrogram): Spectrogram()\n",
       "      (mel_scale): MelScale()\n",
       "    )\n",
       "  )\n",
       "  (layer1): Conv1dReluBn(\n",
       "    (conv): Conv1d(40, 512, kernel_size=(5,), stride=(1,), padding=(2,), bias=False)\n",
       "    (bn): BatchNorm1d(512, eps=1e-05, momentum=0.1, affine=True, track_running_stats=True)\n",
       "  )\n",
       "  (layer2): Sequential(\n",
       "    (0): Conv1dReluBn(\n",
       "      (conv): Conv1d(512, 512, kernel_size=(1,), stride=(1,), bias=False)\n",
       "      (bn): BatchNorm1d(512, eps=1e-05, momentum=0.1, affine=True, track_running_stats=True)\n",
       "    )\n",
       "    (1): Res2Conv1dReluBn(\n",
       "      (convs): ModuleList(\n",
       "        (0): Conv1d(64, 64, kernel_size=(3,), stride=(1,), padding=(2,), dilation=(2,), bias=False)\n",
       "        (1): Conv1d(64, 64, kernel_size=(3,), stride=(1,), padding=(2,), dilation=(2,), bias=False)\n",
       "        (2): Conv1d(64, 64, kernel_size=(3,), stride=(1,), padding=(2,), dilation=(2,), bias=False)\n",
       "        (3): Conv1d(64, 64, kernel_size=(3,), stride=(1,), padding=(2,), dilation=(2,), bias=False)\n",
       "        (4): Conv1d(64, 64, kernel_size=(3,), stride=(1,), padding=(2,), dilation=(2,), bias=False)\n",
       "        (5): Conv1d(64, 64, kernel_size=(3,), stride=(1,), padding=(2,), dilation=(2,), bias=False)\n",
       "        (6): Conv1d(64, 64, kernel_size=(3,), stride=(1,), padding=(2,), dilation=(2,), bias=False)\n",
       "      )\n",
       "      (bns): ModuleList(\n",
       "        (0): BatchNorm1d(64, eps=1e-05, momentum=0.1, affine=True, track_running_stats=True)\n",
       "        (1): BatchNorm1d(64, eps=1e-05, momentum=0.1, affine=True, track_running_stats=True)\n",
       "        (2): BatchNorm1d(64, eps=1e-05, momentum=0.1, affine=True, track_running_stats=True)\n",
       "        (3): BatchNorm1d(64, eps=1e-05, momentum=0.1, affine=True, track_running_stats=True)\n",
       "        (4): BatchNorm1d(64, eps=1e-05, momentum=0.1, affine=True, track_running_stats=True)\n",
       "        (5): BatchNorm1d(64, eps=1e-05, momentum=0.1, affine=True, track_running_stats=True)\n",
       "        (6): BatchNorm1d(64, eps=1e-05, momentum=0.1, affine=True, track_running_stats=True)\n",
       "      )\n",
       "    )\n",
       "    (2): Conv1dReluBn(\n",
       "      (conv): Conv1d(512, 512, kernel_size=(1,), stride=(1,), bias=False)\n",
       "      (bn): BatchNorm1d(512, eps=1e-05, momentum=0.1, affine=True, track_running_stats=True)\n",
       "    )\n",
       "    (3): SE_Connect(\n",
       "      (linear1): Linear(in_features=512, out_features=256, bias=True)\n",
       "      (linear2): Linear(in_features=256, out_features=512, bias=True)\n",
       "    )\n",
       "  )\n",
       "  (layer3): Sequential(\n",
       "    (0): Conv1dReluBn(\n",
       "      (conv): Conv1d(512, 512, kernel_size=(1,), stride=(1,), bias=False)\n",
       "      (bn): BatchNorm1d(512, eps=1e-05, momentum=0.1, affine=True, track_running_stats=True)\n",
       "    )\n",
       "    (1): Res2Conv1dReluBn(\n",
       "      (convs): ModuleList(\n",
       "        (0): Conv1d(64, 64, kernel_size=(3,), stride=(1,), padding=(3,), dilation=(3,), bias=False)\n",
       "        (1): Conv1d(64, 64, kernel_size=(3,), stride=(1,), padding=(3,), dilation=(3,), bias=False)\n",
       "        (2): Conv1d(64, 64, kernel_size=(3,), stride=(1,), padding=(3,), dilation=(3,), bias=False)\n",
       "        (3): Conv1d(64, 64, kernel_size=(3,), stride=(1,), padding=(3,), dilation=(3,), bias=False)\n",
       "        (4): Conv1d(64, 64, kernel_size=(3,), stride=(1,), padding=(3,), dilation=(3,), bias=False)\n",
       "        (5): Conv1d(64, 64, kernel_size=(3,), stride=(1,), padding=(3,), dilation=(3,), bias=False)\n",
       "        (6): Conv1d(64, 64, kernel_size=(3,), stride=(1,), padding=(3,), dilation=(3,), bias=False)\n",
       "      )\n",
       "      (bns): ModuleList(\n",
       "        (0): BatchNorm1d(64, eps=1e-05, momentum=0.1, affine=True, track_running_stats=True)\n",
       "        (1): BatchNorm1d(64, eps=1e-05, momentum=0.1, affine=True, track_running_stats=True)\n",
       "        (2): BatchNorm1d(64, eps=1e-05, momentum=0.1, affine=True, track_running_stats=True)\n",
       "        (3): BatchNorm1d(64, eps=1e-05, momentum=0.1, affine=True, track_running_stats=True)\n",
       "        (4): BatchNorm1d(64, eps=1e-05, momentum=0.1, affine=True, track_running_stats=True)\n",
       "        (5): BatchNorm1d(64, eps=1e-05, momentum=0.1, affine=True, track_running_stats=True)\n",
       "        (6): BatchNorm1d(64, eps=1e-05, momentum=0.1, affine=True, track_running_stats=True)\n",
       "      )\n",
       "    )\n",
       "    (2): Conv1dReluBn(\n",
       "      (conv): Conv1d(512, 512, kernel_size=(1,), stride=(1,), bias=False)\n",
       "      (bn): BatchNorm1d(512, eps=1e-05, momentum=0.1, affine=True, track_running_stats=True)\n",
       "    )\n",
       "    (3): SE_Connect(\n",
       "      (linear1): Linear(in_features=512, out_features=256, bias=True)\n",
       "      (linear2): Linear(in_features=256, out_features=512, bias=True)\n",
       "    )\n",
       "  )\n",
       "  (layer4): Sequential(\n",
       "    (0): Conv1dReluBn(\n",
       "      (conv): Conv1d(512, 512, kernel_size=(1,), stride=(1,), bias=False)\n",
       "      (bn): BatchNorm1d(512, eps=1e-05, momentum=0.1, affine=True, track_running_stats=True)\n",
       "    )\n",
       "    (1): Res2Conv1dReluBn(\n",
       "      (convs): ModuleList(\n",
       "        (0): Conv1d(64, 64, kernel_size=(3,), stride=(1,), padding=(4,), dilation=(4,), bias=False)\n",
       "        (1): Conv1d(64, 64, kernel_size=(3,), stride=(1,), padding=(4,), dilation=(4,), bias=False)\n",
       "        (2): Conv1d(64, 64, kernel_size=(3,), stride=(1,), padding=(4,), dilation=(4,), bias=False)\n",
       "        (3): Conv1d(64, 64, kernel_size=(3,), stride=(1,), padding=(4,), dilation=(4,), bias=False)\n",
       "        (4): Conv1d(64, 64, kernel_size=(3,), stride=(1,), padding=(4,), dilation=(4,), bias=False)\n",
       "        (5): Conv1d(64, 64, kernel_size=(3,), stride=(1,), padding=(4,), dilation=(4,), bias=False)\n",
       "        (6): Conv1d(64, 64, kernel_size=(3,), stride=(1,), padding=(4,), dilation=(4,), bias=False)\n",
       "      )\n",
       "      (bns): ModuleList(\n",
       "        (0): BatchNorm1d(64, eps=1e-05, momentum=0.1, affine=True, track_running_stats=True)\n",
       "        (1): BatchNorm1d(64, eps=1e-05, momentum=0.1, affine=True, track_running_stats=True)\n",
       "        (2): BatchNorm1d(64, eps=1e-05, momentum=0.1, affine=True, track_running_stats=True)\n",
       "        (3): BatchNorm1d(64, eps=1e-05, momentum=0.1, affine=True, track_running_stats=True)\n",
       "        (4): BatchNorm1d(64, eps=1e-05, momentum=0.1, affine=True, track_running_stats=True)\n",
       "        (5): BatchNorm1d(64, eps=1e-05, momentum=0.1, affine=True, track_running_stats=True)\n",
       "        (6): BatchNorm1d(64, eps=1e-05, momentum=0.1, affine=True, track_running_stats=True)\n",
       "      )\n",
       "    )\n",
       "    (2): Conv1dReluBn(\n",
       "      (conv): Conv1d(512, 512, kernel_size=(1,), stride=(1,), bias=False)\n",
       "      (bn): BatchNorm1d(512, eps=1e-05, momentum=0.1, affine=True, track_running_stats=True)\n",
       "    )\n",
       "    (3): SE_Connect(\n",
       "      (linear1): Linear(in_features=512, out_features=256, bias=True)\n",
       "      (linear2): Linear(in_features=256, out_features=512, bias=True)\n",
       "    )\n",
       "  )\n",
       "  (conv): Conv1d(1536, 1536, kernel_size=(1,), stride=(1,))\n",
       "  (pooling): AttentiveStatsPool(\n",
       "    (linear1): Conv1d(1536, 128, kernel_size=(1,), stride=(1,))\n",
       "    (linear2): Conv1d(128, 1536, kernel_size=(1,), stride=(1,))\n",
       "  )\n",
       "  (bn1): BatchNorm1d(3072, eps=1e-05, momentum=0.1, affine=True, track_running_stats=True)\n",
       "  (linear): Linear(in_features=3072, out_features=192, bias=True)\n",
       "  (bn2): BatchNorm1d(192, eps=1e-05, momentum=0.1, affine=True, track_running_stats=True)\n",
       ")"
      ]
     },
     "execution_count": 79,
     "metadata": {},
     "output_type": "execute_result"
    }
   ],
   "source": [
    "S.cuda()"
   ]
  },
  {
   "cell_type": "code",
   "execution_count": 80,
   "metadata": {},
   "outputs": [],
   "source": [
    "loaded_state = torch.load(model_path, map_location=\"cuda:0\")"
   ]
  },
  {
   "cell_type": "code",
   "execution_count": 82,
   "metadata": {},
   "outputs": [
    {
     "name": "stdout",
     "output_type": "stream",
     "text": [
      "#__L__.W is not in the model.\n",
      "#DA_module.backbone.torchfb.0.flipped_filter is not in the model.\n",
      "#DA_module.backbone.torchfb.1.spectrogram.window is not in the model.\n",
      "#DA_module.backbone.torchfb.1.mel_scale.fb is not in the model.\n",
      "#DA_module.backbone.layer1.conv.weight is not in the model.\n",
      "#DA_module.backbone.layer1.bn.weight is not in the model.\n",
      "#DA_module.backbone.layer1.bn.bias is not in the model.\n",
      "#DA_module.backbone.layer1.bn.running_mean is not in the model.\n",
      "#DA_module.backbone.layer1.bn.running_var is not in the model.\n",
      "#DA_module.backbone.layer1.bn.num_batches_tracked is not in the model.\n",
      "#DA_module.backbone.layer2.0.conv.weight is not in the model.\n",
      "#DA_module.backbone.layer2.0.bn.weight is not in the model.\n",
      "#DA_module.backbone.layer2.0.bn.bias is not in the model.\n",
      "#DA_module.backbone.layer2.0.bn.running_mean is not in the model.\n",
      "#DA_module.backbone.layer2.0.bn.running_var is not in the model.\n",
      "#DA_module.backbone.layer2.0.bn.num_batches_tracked is not in the model.\n",
      "#DA_module.backbone.layer2.1.convs.0.weight is not in the model.\n",
      "#DA_module.backbone.layer2.1.convs.1.weight is not in the model.\n",
      "#DA_module.backbone.layer2.1.convs.2.weight is not in the model.\n",
      "#DA_module.backbone.layer2.1.convs.3.weight is not in the model.\n",
      "#DA_module.backbone.layer2.1.convs.4.weight is not in the model.\n",
      "#DA_module.backbone.layer2.1.convs.5.weight is not in the model.\n",
      "#DA_module.backbone.layer2.1.convs.6.weight is not in the model.\n",
      "#DA_module.backbone.layer2.1.bns.0.weight is not in the model.\n",
      "#DA_module.backbone.layer2.1.bns.0.bias is not in the model.\n",
      "#DA_module.backbone.layer2.1.bns.0.running_mean is not in the model.\n",
      "#DA_module.backbone.layer2.1.bns.0.running_var is not in the model.\n",
      "#DA_module.backbone.layer2.1.bns.0.num_batches_tracked is not in the model.\n",
      "#DA_module.backbone.layer2.1.bns.1.weight is not in the model.\n",
      "#DA_module.backbone.layer2.1.bns.1.bias is not in the model.\n",
      "#DA_module.backbone.layer2.1.bns.1.running_mean is not in the model.\n",
      "#DA_module.backbone.layer2.1.bns.1.running_var is not in the model.\n",
      "#DA_module.backbone.layer2.1.bns.1.num_batches_tracked is not in the model.\n",
      "#DA_module.backbone.layer2.1.bns.2.weight is not in the model.\n",
      "#DA_module.backbone.layer2.1.bns.2.bias is not in the model.\n",
      "#DA_module.backbone.layer2.1.bns.2.running_mean is not in the model.\n",
      "#DA_module.backbone.layer2.1.bns.2.running_var is not in the model.\n",
      "#DA_module.backbone.layer2.1.bns.2.num_batches_tracked is not in the model.\n",
      "#DA_module.backbone.layer2.1.bns.3.weight is not in the model.\n",
      "#DA_module.backbone.layer2.1.bns.3.bias is not in the model.\n",
      "#DA_module.backbone.layer2.1.bns.3.running_mean is not in the model.\n",
      "#DA_module.backbone.layer2.1.bns.3.running_var is not in the model.\n",
      "#DA_module.backbone.layer2.1.bns.3.num_batches_tracked is not in the model.\n",
      "#DA_module.backbone.layer2.1.bns.4.weight is not in the model.\n",
      "#DA_module.backbone.layer2.1.bns.4.bias is not in the model.\n",
      "#DA_module.backbone.layer2.1.bns.4.running_mean is not in the model.\n",
      "#DA_module.backbone.layer2.1.bns.4.running_var is not in the model.\n",
      "#DA_module.backbone.layer2.1.bns.4.num_batches_tracked is not in the model.\n",
      "#DA_module.backbone.layer2.1.bns.5.weight is not in the model.\n",
      "#DA_module.backbone.layer2.1.bns.5.bias is not in the model.\n",
      "#DA_module.backbone.layer2.1.bns.5.running_mean is not in the model.\n",
      "#DA_module.backbone.layer2.1.bns.5.running_var is not in the model.\n",
      "#DA_module.backbone.layer2.1.bns.5.num_batches_tracked is not in the model.\n",
      "#DA_module.backbone.layer2.1.bns.6.weight is not in the model.\n",
      "#DA_module.backbone.layer2.1.bns.6.bias is not in the model.\n",
      "#DA_module.backbone.layer2.1.bns.6.running_mean is not in the model.\n",
      "#DA_module.backbone.layer2.1.bns.6.running_var is not in the model.\n",
      "#DA_module.backbone.layer2.1.bns.6.num_batches_tracked is not in the model.\n",
      "#DA_module.backbone.layer2.2.conv.weight is not in the model.\n",
      "#DA_module.backbone.layer2.2.bn.weight is not in the model.\n",
      "#DA_module.backbone.layer2.2.bn.bias is not in the model.\n",
      "#DA_module.backbone.layer2.2.bn.running_mean is not in the model.\n",
      "#DA_module.backbone.layer2.2.bn.running_var is not in the model.\n",
      "#DA_module.backbone.layer2.2.bn.num_batches_tracked is not in the model.\n",
      "#DA_module.backbone.layer2.3.linear1.weight is not in the model.\n",
      "#DA_module.backbone.layer2.3.linear1.bias is not in the model.\n",
      "#DA_module.backbone.layer2.3.linear2.weight is not in the model.\n",
      "#DA_module.backbone.layer2.3.linear2.bias is not in the model.\n",
      "#DA_module.backbone.layer3.0.conv.weight is not in the model.\n",
      "#DA_module.backbone.layer3.0.bn.weight is not in the model.\n",
      "#DA_module.backbone.layer3.0.bn.bias is not in the model.\n",
      "#DA_module.backbone.layer3.0.bn.running_mean is not in the model.\n",
      "#DA_module.backbone.layer3.0.bn.running_var is not in the model.\n",
      "#DA_module.backbone.layer3.0.bn.num_batches_tracked is not in the model.\n",
      "#DA_module.backbone.layer3.1.convs.0.weight is not in the model.\n",
      "#DA_module.backbone.layer3.1.convs.1.weight is not in the model.\n",
      "#DA_module.backbone.layer3.1.convs.2.weight is not in the model.\n",
      "#DA_module.backbone.layer3.1.convs.3.weight is not in the model.\n",
      "#DA_module.backbone.layer3.1.convs.4.weight is not in the model.\n",
      "#DA_module.backbone.layer3.1.convs.5.weight is not in the model.\n",
      "#DA_module.backbone.layer3.1.convs.6.weight is not in the model.\n",
      "#DA_module.backbone.layer3.1.bns.0.weight is not in the model.\n",
      "#DA_module.backbone.layer3.1.bns.0.bias is not in the model.\n",
      "#DA_module.backbone.layer3.1.bns.0.running_mean is not in the model.\n",
      "#DA_module.backbone.layer3.1.bns.0.running_var is not in the model.\n",
      "#DA_module.backbone.layer3.1.bns.0.num_batches_tracked is not in the model.\n",
      "#DA_module.backbone.layer3.1.bns.1.weight is not in the model.\n",
      "#DA_module.backbone.layer3.1.bns.1.bias is not in the model.\n",
      "#DA_module.backbone.layer3.1.bns.1.running_mean is not in the model.\n",
      "#DA_module.backbone.layer3.1.bns.1.running_var is not in the model.\n",
      "#DA_module.backbone.layer3.1.bns.1.num_batches_tracked is not in the model.\n",
      "#DA_module.backbone.layer3.1.bns.2.weight is not in the model.\n",
      "#DA_module.backbone.layer3.1.bns.2.bias is not in the model.\n",
      "#DA_module.backbone.layer3.1.bns.2.running_mean is not in the model.\n",
      "#DA_module.backbone.layer3.1.bns.2.running_var is not in the model.\n",
      "#DA_module.backbone.layer3.1.bns.2.num_batches_tracked is not in the model.\n",
      "#DA_module.backbone.layer3.1.bns.3.weight is not in the model.\n",
      "#DA_module.backbone.layer3.1.bns.3.bias is not in the model.\n",
      "#DA_module.backbone.layer3.1.bns.3.running_mean is not in the model.\n",
      "#DA_module.backbone.layer3.1.bns.3.running_var is not in the model.\n",
      "#DA_module.backbone.layer3.1.bns.3.num_batches_tracked is not in the model.\n",
      "#DA_module.backbone.layer3.1.bns.4.weight is not in the model.\n",
      "#DA_module.backbone.layer3.1.bns.4.bias is not in the model.\n",
      "#DA_module.backbone.layer3.1.bns.4.running_mean is not in the model.\n",
      "#DA_module.backbone.layer3.1.bns.4.running_var is not in the model.\n",
      "#DA_module.backbone.layer3.1.bns.4.num_batches_tracked is not in the model.\n",
      "#DA_module.backbone.layer3.1.bns.5.weight is not in the model.\n",
      "#DA_module.backbone.layer3.1.bns.5.bias is not in the model.\n",
      "#DA_module.backbone.layer3.1.bns.5.running_mean is not in the model.\n",
      "#DA_module.backbone.layer3.1.bns.5.running_var is not in the model.\n",
      "#DA_module.backbone.layer3.1.bns.5.num_batches_tracked is not in the model.\n",
      "#DA_module.backbone.layer3.1.bns.6.weight is not in the model.\n",
      "#DA_module.backbone.layer3.1.bns.6.bias is not in the model.\n",
      "#DA_module.backbone.layer3.1.bns.6.running_mean is not in the model.\n",
      "#DA_module.backbone.layer3.1.bns.6.running_var is not in the model.\n",
      "#DA_module.backbone.layer3.1.bns.6.num_batches_tracked is not in the model.\n",
      "#DA_module.backbone.layer3.2.conv.weight is not in the model.\n",
      "#DA_module.backbone.layer3.2.bn.weight is not in the model.\n",
      "#DA_module.backbone.layer3.2.bn.bias is not in the model.\n",
      "#DA_module.backbone.layer3.2.bn.running_mean is not in the model.\n",
      "#DA_module.backbone.layer3.2.bn.running_var is not in the model.\n",
      "#DA_module.backbone.layer3.2.bn.num_batches_tracked is not in the model.\n",
      "#DA_module.backbone.layer3.3.linear1.weight is not in the model.\n",
      "#DA_module.backbone.layer3.3.linear1.bias is not in the model.\n",
      "#DA_module.backbone.layer3.3.linear2.weight is not in the model.\n",
      "#DA_module.backbone.layer3.3.linear2.bias is not in the model.\n",
      "#DA_module.backbone.layer4.0.conv.weight is not in the model.\n",
      "#DA_module.backbone.layer4.0.bn.weight is not in the model.\n",
      "#DA_module.backbone.layer4.0.bn.bias is not in the model.\n",
      "#DA_module.backbone.layer4.0.bn.running_mean is not in the model.\n",
      "#DA_module.backbone.layer4.0.bn.running_var is not in the model.\n",
      "#DA_module.backbone.layer4.0.bn.num_batches_tracked is not in the model.\n",
      "#DA_module.backbone.layer4.1.convs.0.weight is not in the model.\n",
      "#DA_module.backbone.layer4.1.convs.1.weight is not in the model.\n",
      "#DA_module.backbone.layer4.1.convs.2.weight is not in the model.\n",
      "#DA_module.backbone.layer4.1.convs.3.weight is not in the model.\n",
      "#DA_module.backbone.layer4.1.convs.4.weight is not in the model.\n",
      "#DA_module.backbone.layer4.1.convs.5.weight is not in the model.\n",
      "#DA_module.backbone.layer4.1.convs.6.weight is not in the model.\n",
      "#DA_module.backbone.layer4.1.bns.0.weight is not in the model.\n",
      "#DA_module.backbone.layer4.1.bns.0.bias is not in the model.\n",
      "#DA_module.backbone.layer4.1.bns.0.running_mean is not in the model.\n",
      "#DA_module.backbone.layer4.1.bns.0.running_var is not in the model.\n",
      "#DA_module.backbone.layer4.1.bns.0.num_batches_tracked is not in the model.\n",
      "#DA_module.backbone.layer4.1.bns.1.weight is not in the model.\n",
      "#DA_module.backbone.layer4.1.bns.1.bias is not in the model.\n",
      "#DA_module.backbone.layer4.1.bns.1.running_mean is not in the model.\n",
      "#DA_module.backbone.layer4.1.bns.1.running_var is not in the model.\n",
      "#DA_module.backbone.layer4.1.bns.1.num_batches_tracked is not in the model.\n",
      "#DA_module.backbone.layer4.1.bns.2.weight is not in the model.\n",
      "#DA_module.backbone.layer4.1.bns.2.bias is not in the model.\n",
      "#DA_module.backbone.layer4.1.bns.2.running_mean is not in the model.\n",
      "#DA_module.backbone.layer4.1.bns.2.running_var is not in the model.\n",
      "#DA_module.backbone.layer4.1.bns.2.num_batches_tracked is not in the model.\n",
      "#DA_module.backbone.layer4.1.bns.3.weight is not in the model.\n",
      "#DA_module.backbone.layer4.1.bns.3.bias is not in the model.\n",
      "#DA_module.backbone.layer4.1.bns.3.running_mean is not in the model.\n",
      "#DA_module.backbone.layer4.1.bns.3.running_var is not in the model.\n",
      "#DA_module.backbone.layer4.1.bns.3.num_batches_tracked is not in the model.\n",
      "#DA_module.backbone.layer4.1.bns.4.weight is not in the model.\n",
      "#DA_module.backbone.layer4.1.bns.4.bias is not in the model.\n",
      "#DA_module.backbone.layer4.1.bns.4.running_mean is not in the model.\n",
      "#DA_module.backbone.layer4.1.bns.4.running_var is not in the model.\n",
      "#DA_module.backbone.layer4.1.bns.4.num_batches_tracked is not in the model.\n",
      "#DA_module.backbone.layer4.1.bns.5.weight is not in the model.\n",
      "#DA_module.backbone.layer4.1.bns.5.bias is not in the model.\n",
      "#DA_module.backbone.layer4.1.bns.5.running_mean is not in the model.\n",
      "#DA_module.backbone.layer4.1.bns.5.running_var is not in the model.\n",
      "#DA_module.backbone.layer4.1.bns.5.num_batches_tracked is not in the model.\n",
      "#DA_module.backbone.layer4.1.bns.6.weight is not in the model.\n",
      "#DA_module.backbone.layer4.1.bns.6.bias is not in the model.\n",
      "#DA_module.backbone.layer4.1.bns.6.running_mean is not in the model.\n",
      "#DA_module.backbone.layer4.1.bns.6.running_var is not in the model.\n",
      "#DA_module.backbone.layer4.1.bns.6.num_batches_tracked is not in the model.\n",
      "#DA_module.backbone.layer4.2.conv.weight is not in the model.\n",
      "#DA_module.backbone.layer4.2.bn.weight is not in the model.\n",
      "#DA_module.backbone.layer4.2.bn.bias is not in the model.\n",
      "#DA_module.backbone.layer4.2.bn.running_mean is not in the model.\n",
      "#DA_module.backbone.layer4.2.bn.running_var is not in the model.\n",
      "#DA_module.backbone.layer4.2.bn.num_batches_tracked is not in the model.\n",
      "#DA_module.backbone.layer4.3.linear1.weight is not in the model.\n",
      "#DA_module.backbone.layer4.3.linear1.bias is not in the model.\n",
      "#DA_module.backbone.layer4.3.linear2.weight is not in the model.\n",
      "#DA_module.backbone.layer4.3.linear2.bias is not in the model.\n",
      "#DA_module.backbone.conv.weight is not in the model.\n",
      "#DA_module.backbone.conv.bias is not in the model.\n",
      "#DA_module.backbone.pooling.linear1.weight is not in the model.\n",
      "#DA_module.backbone.pooling.linear1.bias is not in the model.\n",
      "#DA_module.backbone.pooling.linear2.weight is not in the model.\n",
      "#DA_module.backbone.pooling.linear2.bias is not in the model.\n",
      "#DA_module.backbone.bn1.weight is not in the model.\n",
      "#DA_module.backbone.bn1.bias is not in the model.\n",
      "#DA_module.backbone.bn1.running_mean is not in the model.\n",
      "#DA_module.backbone.bn1.running_var is not in the model.\n",
      "#DA_module.backbone.bn1.num_batches_tracked is not in the model.\n",
      "#DA_module.backbone.linear.weight is not in the model.\n",
      "#DA_module.backbone.linear.bias is not in the model.\n",
      "#DA_module.backbone.bn2.weight is not in the model.\n",
      "#DA_module.backbone.bn2.bias is not in the model.\n",
      "#DA_module.backbone.bn2.running_mean is not in the model.\n",
      "#DA_module.backbone.bn2.running_var is not in the model.\n",
      "#DA_module.backbone.bn2.num_batches_tracked is not in the model.\n",
      "#DA_module.metrics.W is not in the model.\n",
      "#DA_module.layer_d1.linear.weight is not in the model.\n",
      "#DA_module.layer_d1.linear.bias is not in the model.\n",
      "#DA_module.layer_d1.batchnorm.weight is not in the model.\n",
      "#DA_module.layer_d1.batchnorm.bias is not in the model.\n",
      "#DA_module.layer_d1.batchnorm.running_mean is not in the model.\n",
      "#DA_module.layer_d1.batchnorm.running_var is not in the model.\n",
      "#DA_module.layer_d1.batchnorm.num_batches_tracked is not in the model.\n",
      "#DA_module.layer_d2.linear.weight is not in the model.\n",
      "#DA_module.layer_d2.linear.bias is not in the model.\n"
     ]
    }
   ],
   "source": [
    "self_state = S.state_dict()\n",
    "\n",
    "for name, param in loaded_state['model'].items():\n",
    "    origname = name\n",
    "    if name not in self_state:\n",
    "        name = name.replace(\"__S__.\", \"\")\n",
    "\n",
    "        if name not in self_state:\n",
    "            print(\"#%s is not in the model.\"%origname)\n",
    "            continue\n",
    "\n",
    "    if self_state[name].size() != loaded_state['model'][origname].size():\n",
    "        print(\"#Wrong parameter length: %s, model: %s, loaded: %s\"%(origname, self_state[name].size(), loaded_state[origname].size()))\n",
    "        continue\n",
    "\n",
    "    self_state[name].copy_(param)"
   ]
  },
  {
   "cell_type": "code",
   "execution_count": 83,
   "metadata": {},
   "outputs": [
    {
     "data": {
      "text/plain": [
       "ECAPA_TDNN(\n",
       "  (instancenorm): InstanceNorm1d(40, eps=1e-05, momentum=0.1, affine=False, track_running_stats=False)\n",
       "  (torchfb): Sequential(\n",
       "    (0): PreEmphasis()\n",
       "    (1): MelSpectrogram(\n",
       "      (spectrogram): Spectrogram()\n",
       "      (mel_scale): MelScale()\n",
       "    )\n",
       "  )\n",
       "  (layer1): Conv1dReluBn(\n",
       "    (conv): Conv1d(40, 512, kernel_size=(5,), stride=(1,), padding=(2,), bias=False)\n",
       "    (bn): BatchNorm1d(512, eps=1e-05, momentum=0.1, affine=True, track_running_stats=True)\n",
       "  )\n",
       "  (layer2): Sequential(\n",
       "    (0): Conv1dReluBn(\n",
       "      (conv): Conv1d(512, 512, kernel_size=(1,), stride=(1,), bias=False)\n",
       "      (bn): BatchNorm1d(512, eps=1e-05, momentum=0.1, affine=True, track_running_stats=True)\n",
       "    )\n",
       "    (1): Res2Conv1dReluBn(\n",
       "      (convs): ModuleList(\n",
       "        (0): Conv1d(64, 64, kernel_size=(3,), stride=(1,), padding=(2,), dilation=(2,), bias=False)\n",
       "        (1): Conv1d(64, 64, kernel_size=(3,), stride=(1,), padding=(2,), dilation=(2,), bias=False)\n",
       "        (2): Conv1d(64, 64, kernel_size=(3,), stride=(1,), padding=(2,), dilation=(2,), bias=False)\n",
       "        (3): Conv1d(64, 64, kernel_size=(3,), stride=(1,), padding=(2,), dilation=(2,), bias=False)\n",
       "        (4): Conv1d(64, 64, kernel_size=(3,), stride=(1,), padding=(2,), dilation=(2,), bias=False)\n",
       "        (5): Conv1d(64, 64, kernel_size=(3,), stride=(1,), padding=(2,), dilation=(2,), bias=False)\n",
       "        (6): Conv1d(64, 64, kernel_size=(3,), stride=(1,), padding=(2,), dilation=(2,), bias=False)\n",
       "      )\n",
       "      (bns): ModuleList(\n",
       "        (0): BatchNorm1d(64, eps=1e-05, momentum=0.1, affine=True, track_running_stats=True)\n",
       "        (1): BatchNorm1d(64, eps=1e-05, momentum=0.1, affine=True, track_running_stats=True)\n",
       "        (2): BatchNorm1d(64, eps=1e-05, momentum=0.1, affine=True, track_running_stats=True)\n",
       "        (3): BatchNorm1d(64, eps=1e-05, momentum=0.1, affine=True, track_running_stats=True)\n",
       "        (4): BatchNorm1d(64, eps=1e-05, momentum=0.1, affine=True, track_running_stats=True)\n",
       "        (5): BatchNorm1d(64, eps=1e-05, momentum=0.1, affine=True, track_running_stats=True)\n",
       "        (6): BatchNorm1d(64, eps=1e-05, momentum=0.1, affine=True, track_running_stats=True)\n",
       "      )\n",
       "    )\n",
       "    (2): Conv1dReluBn(\n",
       "      (conv): Conv1d(512, 512, kernel_size=(1,), stride=(1,), bias=False)\n",
       "      (bn): BatchNorm1d(512, eps=1e-05, momentum=0.1, affine=True, track_running_stats=True)\n",
       "    )\n",
       "    (3): SE_Connect(\n",
       "      (linear1): Linear(in_features=512, out_features=256, bias=True)\n",
       "      (linear2): Linear(in_features=256, out_features=512, bias=True)\n",
       "    )\n",
       "  )\n",
       "  (layer3): Sequential(\n",
       "    (0): Conv1dReluBn(\n",
       "      (conv): Conv1d(512, 512, kernel_size=(1,), stride=(1,), bias=False)\n",
       "      (bn): BatchNorm1d(512, eps=1e-05, momentum=0.1, affine=True, track_running_stats=True)\n",
       "    )\n",
       "    (1): Res2Conv1dReluBn(\n",
       "      (convs): ModuleList(\n",
       "        (0): Conv1d(64, 64, kernel_size=(3,), stride=(1,), padding=(3,), dilation=(3,), bias=False)\n",
       "        (1): Conv1d(64, 64, kernel_size=(3,), stride=(1,), padding=(3,), dilation=(3,), bias=False)\n",
       "        (2): Conv1d(64, 64, kernel_size=(3,), stride=(1,), padding=(3,), dilation=(3,), bias=False)\n",
       "        (3): Conv1d(64, 64, kernel_size=(3,), stride=(1,), padding=(3,), dilation=(3,), bias=False)\n",
       "        (4): Conv1d(64, 64, kernel_size=(3,), stride=(1,), padding=(3,), dilation=(3,), bias=False)\n",
       "        (5): Conv1d(64, 64, kernel_size=(3,), stride=(1,), padding=(3,), dilation=(3,), bias=False)\n",
       "        (6): Conv1d(64, 64, kernel_size=(3,), stride=(1,), padding=(3,), dilation=(3,), bias=False)\n",
       "      )\n",
       "      (bns): ModuleList(\n",
       "        (0): BatchNorm1d(64, eps=1e-05, momentum=0.1, affine=True, track_running_stats=True)\n",
       "        (1): BatchNorm1d(64, eps=1e-05, momentum=0.1, affine=True, track_running_stats=True)\n",
       "        (2): BatchNorm1d(64, eps=1e-05, momentum=0.1, affine=True, track_running_stats=True)\n",
       "        (3): BatchNorm1d(64, eps=1e-05, momentum=0.1, affine=True, track_running_stats=True)\n",
       "        (4): BatchNorm1d(64, eps=1e-05, momentum=0.1, affine=True, track_running_stats=True)\n",
       "        (5): BatchNorm1d(64, eps=1e-05, momentum=0.1, affine=True, track_running_stats=True)\n",
       "        (6): BatchNorm1d(64, eps=1e-05, momentum=0.1, affine=True, track_running_stats=True)\n",
       "      )\n",
       "    )\n",
       "    (2): Conv1dReluBn(\n",
       "      (conv): Conv1d(512, 512, kernel_size=(1,), stride=(1,), bias=False)\n",
       "      (bn): BatchNorm1d(512, eps=1e-05, momentum=0.1, affine=True, track_running_stats=True)\n",
       "    )\n",
       "    (3): SE_Connect(\n",
       "      (linear1): Linear(in_features=512, out_features=256, bias=True)\n",
       "      (linear2): Linear(in_features=256, out_features=512, bias=True)\n",
       "    )\n",
       "  )\n",
       "  (layer4): Sequential(\n",
       "    (0): Conv1dReluBn(\n",
       "      (conv): Conv1d(512, 512, kernel_size=(1,), stride=(1,), bias=False)\n",
       "      (bn): BatchNorm1d(512, eps=1e-05, momentum=0.1, affine=True, track_running_stats=True)\n",
       "    )\n",
       "    (1): Res2Conv1dReluBn(\n",
       "      (convs): ModuleList(\n",
       "        (0): Conv1d(64, 64, kernel_size=(3,), stride=(1,), padding=(4,), dilation=(4,), bias=False)\n",
       "        (1): Conv1d(64, 64, kernel_size=(3,), stride=(1,), padding=(4,), dilation=(4,), bias=False)\n",
       "        (2): Conv1d(64, 64, kernel_size=(3,), stride=(1,), padding=(4,), dilation=(4,), bias=False)\n",
       "        (3): Conv1d(64, 64, kernel_size=(3,), stride=(1,), padding=(4,), dilation=(4,), bias=False)\n",
       "        (4): Conv1d(64, 64, kernel_size=(3,), stride=(1,), padding=(4,), dilation=(4,), bias=False)\n",
       "        (5): Conv1d(64, 64, kernel_size=(3,), stride=(1,), padding=(4,), dilation=(4,), bias=False)\n",
       "        (6): Conv1d(64, 64, kernel_size=(3,), stride=(1,), padding=(4,), dilation=(4,), bias=False)\n",
       "      )\n",
       "      (bns): ModuleList(\n",
       "        (0): BatchNorm1d(64, eps=1e-05, momentum=0.1, affine=True, track_running_stats=True)\n",
       "        (1): BatchNorm1d(64, eps=1e-05, momentum=0.1, affine=True, track_running_stats=True)\n",
       "        (2): BatchNorm1d(64, eps=1e-05, momentum=0.1, affine=True, track_running_stats=True)\n",
       "        (3): BatchNorm1d(64, eps=1e-05, momentum=0.1, affine=True, track_running_stats=True)\n",
       "        (4): BatchNorm1d(64, eps=1e-05, momentum=0.1, affine=True, track_running_stats=True)\n",
       "        (5): BatchNorm1d(64, eps=1e-05, momentum=0.1, affine=True, track_running_stats=True)\n",
       "        (6): BatchNorm1d(64, eps=1e-05, momentum=0.1, affine=True, track_running_stats=True)\n",
       "      )\n",
       "    )\n",
       "    (2): Conv1dReluBn(\n",
       "      (conv): Conv1d(512, 512, kernel_size=(1,), stride=(1,), bias=False)\n",
       "      (bn): BatchNorm1d(512, eps=1e-05, momentum=0.1, affine=True, track_running_stats=True)\n",
       "    )\n",
       "    (3): SE_Connect(\n",
       "      (linear1): Linear(in_features=512, out_features=256, bias=True)\n",
       "      (linear2): Linear(in_features=256, out_features=512, bias=True)\n",
       "    )\n",
       "  )\n",
       "  (conv): Conv1d(1536, 1536, kernel_size=(1,), stride=(1,))\n",
       "  (pooling): AttentiveStatsPool(\n",
       "    (linear1): Conv1d(1536, 128, kernel_size=(1,), stride=(1,))\n",
       "    (linear2): Conv1d(128, 1536, kernel_size=(1,), stride=(1,))\n",
       "  )\n",
       "  (bn1): BatchNorm1d(3072, eps=1e-05, momentum=0.1, affine=True, track_running_stats=True)\n",
       "  (linear): Linear(in_features=3072, out_features=192, bias=True)\n",
       "  (bn2): BatchNorm1d(192, eps=1e-05, momentum=0.1, affine=True, track_running_stats=True)\n",
       ")"
      ]
     },
     "execution_count": 83,
     "metadata": {},
     "output_type": "execute_result"
    }
   ],
   "source": [
    "S.eval()"
   ]
  },
  {
   "cell_type": "code",
   "execution_count": 84,
   "metadata": {},
   "outputs": [],
   "source": [
    "def loadWAV(filename):\n",
    "\n",
    "    # Maximum audio length\n",
    "    \n",
    "    max_audio = int(0*16000 + 240)\n",
    "\n",
    "    # Read wav file and convert to torch tensor\n",
    "    sample_rate, audio  = wavfile.read(filename)\n",
    "    \n",
    "    audiosize = audio.shape[0]\n",
    "\n",
    "    if audiosize <= max_audio:\n",
    "        shortage    = max_audio - audiosize + 1 \n",
    "        audio       = numpy.pad(audio, (0, shortage), 'wrap')\n",
    "        audiosize   = audio.shape[0]\n",
    "    \n",
    "    feats = []\n",
    "\n",
    "    feats.append(audio)\n",
    "\n",
    "    feat = numpy.stack(feats,axis=0).astype(numpy.float)\n",
    "\n",
    "    return feat"
   ]
  },
  {
   "cell_type": "code",
   "execution_count": 85,
   "metadata": {},
   "outputs": [],
   "source": [
    "train_list_1 = '/workspace/DATASET/server9_ssd/voxceleb/vox2_trainlist.txt'\n",
    "train_path_1 = '/workspace/DATASET/server9_ssd/voxceleb'\n",
    "train_list_2 = '/workspace/DATASET/server9_ssd/sdsv20/sdsv20_trainlist.txt'\n",
    "train_path_2 = '/workspace/DATASET/server9_ssd/sdsv20'"
   ]
  },
  {
   "cell_type": "code",
   "execution_count": 86,
   "metadata": {},
   "outputs": [],
   "source": [
    "with open(train_list_1, 'r') as f:\n",
    "    train_list_1_list = f.readlines()"
   ]
  },
  {
   "cell_type": "code",
   "execution_count": 87,
   "metadata": {},
   "outputs": [
    {
     "data": {
      "text/plain": [
       "1092009"
      ]
     },
     "execution_count": 87,
     "metadata": {},
     "output_type": "execute_result"
    }
   ],
   "source": [
    "len(train_list_1_list)"
   ]
  },
  {
   "cell_type": "code",
   "execution_count": 88,
   "metadata": {},
   "outputs": [
    {
     "name": "stdout",
     "output_type": "stream",
     "text": [
      "collect 100 classes\n",
      "count:  18395\n"
     ]
    }
   ],
   "source": [
    "emb_list_da = {}\n",
    "for count, line in enumerate(train_list_1_list):\n",
    "    label, wavline = line[:-1].split(' ')\n",
    "    wavline = os.path.join(train_path_1, wavline)\n",
    "    raw_inp = loadWAV(wavline)\n",
    "    raw_inp = torch.FloatTensor(raw_inp).cuda()\n",
    "    \n",
    "    ref_feat = S.forward(raw_inp).detach().cpu().numpy()\n",
    "    \n",
    "    if label not in emb_list_da.keys():\n",
    "        if len(emb_list_da) > 100:\n",
    "            print('collect 100 classes')\n",
    "            print('count: ', count)\n",
    "            break\n",
    "        emb_list_da[label] = ref_feat\n",
    "    else:\n",
    "        emb_list_da[label] = numpy.append(emb_list_da[label], ref_feat, axis=0)\n",
    "    \n",
    "    if ((count+1) % 1000) == 0:\n",
    "        print((count+1)//1000, end='\\r')"
   ]
  },
  {
   "cell_type": "code",
   "execution_count": 89,
   "metadata": {},
   "outputs": [],
   "source": [
    "with open(train_list_2, 'r') as f:\n",
    "    train_list_2_list = f.readlines()"
   ]
  },
  {
   "cell_type": "code",
   "execution_count": 90,
   "metadata": {},
   "outputs": [
    {
     "data": {
      "text/plain": [
       "85764"
      ]
     },
     "execution_count": 90,
     "metadata": {},
     "output_type": "execute_result"
    }
   ],
   "source": [
    "len(train_list_2_list)"
   ]
  },
  {
   "cell_type": "code",
   "execution_count": 92,
   "metadata": {},
   "outputs": [
    {
     "name": "stdout",
     "output_type": "stream",
     "text": [
      "collect 100 classes\n",
      "count:  16099\n"
     ]
    }
   ],
   "source": [
    "emb_list_da_2 = {}\n",
    "for count, line in enumerate(train_list_2_list):\n",
    "    label, wavline = line[:-1].split(' ')\n",
    "    wavline = os.path.join(train_path_2, wavline)\n",
    "    raw_inp = loadWAV(wavline)\n",
    "    raw_inp = torch.FloatTensor(raw_inp).cuda()\n",
    "    \n",
    "    ref_feat = S.forward(raw_inp).detach().cpu().numpy()\n",
    "    \n",
    "    if label not in emb_list_da_2.keys():\n",
    "        if len(emb_list_da_2) > 100:\n",
    "            print('collect 100 classes')\n",
    "            print('count: ', count)\n",
    "            break\n",
    "        emb_list_da_2[label] = ref_feat\n",
    "    else:\n",
    "        emb_list_da_2[label] = numpy.append(emb_list_da_2[label], ref_feat, axis=0)\n",
    "    \n",
    "    \n",
    "#     if label not in cohort_spk_dict.keys():\n",
    "#         cohort_spk_dict[label] = ref_feat\n",
    "#     else:\n",
    "#         cohort_spk_dict[label] = torch.cat([cohort_spk_dict[label], ref_feat], dim=0)\n",
    "    if ((count+1) % 1000) == 0:\n",
    "        print((count+1)//1000, end='\\r')"
   ]
  },
  {
   "cell_type": "code",
   "execution_count": 93,
   "metadata": {},
   "outputs": [
    {
     "data": {
      "text/plain": [
       "(164, 192)"
      ]
     },
     "execution_count": 93,
     "metadata": {},
     "output_type": "execute_result"
    }
   ],
   "source": [
    "emb_list_da['id00012'].shape"
   ]
  },
  {
   "cell_type": "code",
   "execution_count": 94,
   "metadata": {},
   "outputs": [],
   "source": [
    "out_list = numpy.zeros([0, 192])\n",
    "for count, i in enumerate(emb_list_da):\n",
    "    if count > 74:\n",
    "        break\n",
    "    out_list = numpy.append(out_list, emb_list_da[i][0:20], axis=0)"
   ]
  },
  {
   "cell_type": "code",
   "execution_count": 95,
   "metadata": {},
   "outputs": [
    {
     "data": {
      "text/plain": [
       "(1500, 192)"
      ]
     },
     "execution_count": 95,
     "metadata": {},
     "output_type": "execute_result"
    }
   ],
   "source": [
    "out_list.shape"
   ]
  },
  {
   "cell_type": "code",
   "execution_count": 96,
   "metadata": {},
   "outputs": [],
   "source": [
    "out_list_2 = numpy.zeros([0, 192])\n",
    "for count, i in enumerate(emb_list_da_2):\n",
    "    if count > 14:\n",
    "        break\n",
    "    out_list_2 = numpy.append(out_list_2, emb_list_da_2[i][0:20], axis=0)"
   ]
  },
  {
   "cell_type": "code",
   "execution_count": 97,
   "metadata": {},
   "outputs": [
    {
     "data": {
      "text/plain": [
       "(300, 192)"
      ]
     },
     "execution_count": 97,
     "metadata": {},
     "output_type": "execute_result"
    }
   ],
   "source": [
    "out_list_2.shape"
   ]
  },
  {
   "cell_type": "code",
   "execution_count": 101,
   "metadata": {},
   "outputs": [],
   "source": [
    "out_label = out_list.shape[0]*[0] +out_list_2.shape[0]*[1]\n",
    "out_list_f = numpy.append(out_list, out_list_2, axis=0)"
   ]
  },
  {
   "cell_type": "code",
   "execution_count": 102,
   "metadata": {},
   "outputs": [],
   "source": [
    "tsne = manifold.TSNE(n_components=2, init='pca', random_state=0)\n",
    "Y = tsne.fit_transform(out_list_f)"
   ]
  },
  {
   "cell_type": "code",
   "execution_count": 103,
   "metadata": {},
   "outputs": [
    {
     "data": {
      "text/plain": [
       "Text(0.5, 1.0, 'Emb plot for MIX training')"
      ]
     },
     "execution_count": 103,
     "metadata": {},
     "output_type": "execute_result"
    },
    {
     "data": {
      "image/png": "[encoded data removed]",
      "text/plain": [
       "<Figure size 432x288 with 1 Axes>"
      ]
     },
     "metadata": {
      "needs_background": "light"
     },
     "output_type": "display_data"
    }
   ],
   "source": [
    "fig = plt.figure()\n",
    "Y1 = Y[0:out_list.shape[0]]\n",
    "out_label_1 = out_label[0:out_list.shape[0]]\n",
    "Y2 = Y[out_list.shape[0]:out_list.shape[0]+out_list_2.shape[0]]\n",
    "out_label_2 = out_label[out_list.shape[0]:out_list.shape[0]+out_list_2.shape[0]]\n",
    "a = plt.scatter(Y1[:, 0], Y1[:, 1], color='b', s=1)\n",
    "b = plt.scatter(Y2[:, 0], Y2[:, 1], color='r', s=1)\n",
    "plt.legend([a, b],['Vox', 'SDSV'], scatterpoints=5)\n",
    "plt.title('Emb plot for MIX training')"
   ]
  },
  {
   "cell_type": "code",
   "execution_count": null,
   "metadata": {},
   "outputs": [],
   "source": []
  },
  {
   "cell_type": "code",
   "execution_count": null,
   "metadata": {},
   "outputs": [],
   "source": []
  },
  {
   "cell_type": "code",
   "execution_count": 34,
   "metadata": {},
   "outputs": [
    {
     "data": {
      "text/plain": [
       "1211"
      ]
     },
     "execution_count": 34,
     "metadata": {},
     "output_type": "execute_result"
    }
   ],
   "source": [
    "len(emb_list_ori)"
   ]
  },
  {
   "cell_type": "code",
   "execution_count": 35,
   "metadata": {},
   "outputs": [
    {
     "data": {
      "text/plain": [
       "50"
      ]
     },
     "execution_count": 35,
     "metadata": {},
     "output_type": "execute_result"
    }
   ],
   "source": [
    "len(emb_list_ori_2)"
   ]
  },
  {
   "cell_type": "code",
   "execution_count": 36,
   "metadata": {},
   "outputs": [
    {
     "data": {
      "text/plain": [
       "1211"
      ]
     },
     "execution_count": 36,
     "metadata": {},
     "output_type": "execute_result"
    }
   ],
   "source": [
    "len(emb_list)"
   ]
  },
  {
   "cell_type": "code",
   "execution_count": 37,
   "metadata": {},
   "outputs": [
    {
     "data": {
      "text/plain": [
       "50"
      ]
     },
     "execution_count": 37,
     "metadata": {},
     "output_type": "execute_result"
    }
   ],
   "source": [
    "len(emb_list_2)"
   ]
  },
  {
   "cell_type": "code",
   "execution_count": 38,
   "metadata": {},
   "outputs": [],
   "source": [
    "import pickle"
   ]
  },
  {
   "cell_type": "code",
   "execution_count": 39,
   "metadata": {},
   "outputs": [],
   "source": [
    "with open('/workspace/2D_emb_list_ori', 'wb') as handle:\n",
    "    pickle.dump(emb_list_ori, handle)\n",
    "with open('/workspace/2D_emb_list_ori_2', 'wb') as handle:\n",
    "    pickle.dump(emb_list_ori_2, handle)\n",
    "\n",
    "with open('/workspace/2D_emb_list', 'wb') as handle:\n",
    "    pickle.dump(emb_list, handle)\n",
    "with open('/workspace/2D_emb_list_2', 'wb') as handle:\n",
    "    pickle.dump(emb_list_2, handle)\n"
   ]
  },
  {
   "cell_type": "code",
   "execution_count": null,
   "metadata": {},
   "outputs": [],
   "source": []
  },
  {
   "cell_type": "code",
   "execution_count": 38,
   "metadata": {},
   "outputs": [
    {
     "data": {
      "image/png": "[encoded data removed]",
      "text/plain": [
       "<Figure size 864x288 with 2 Axes>"
      ]
     },
     "metadata": {},
     "output_type": "display_data"
    }
   ],
   "source": [
    "plt.figure(figsize=(12, 4))\n",
    "\n",
    "out_list = np.zeros([0, 512])\n",
    "for i in range(75):\n",
    "    out_list = np.append(out_list, emb_list[i][0:40], axis=0)\n",
    "out_list_2 = np.zeros([0, 512])\n",
    "for i in range(15):\n",
    "    out_list_2 = np.append(out_list_2, emb_list_2[i+1211][0:40], axis=0)\n",
    "out_label = out_list.shape[0]*[0] +out_list_2.shape[0]*[1]\n",
    "out_list_f = np.append(out_list, out_list_2, axis=0)\n",
    "tsne = manifold.TSNE(n_components=2, init='pca', random_state=0)\n",
    "Y = tsne.fit_transform(out_list_f)\n",
    "\n",
    "plt.subplot(1, 2, 1)\n",
    "Y1 = Y[0:out_list.shape[0]]\n",
    "out_label_1 = out_label[0:out_list.shape[0]]\n",
    "Y2 = Y[out_list.shape[0]:out_list.shape[0]+out_list_2.shape[0]]\n",
    "out_label_2 = out_label[out_list.shape[0]:out_list.shape[0]+out_list_2.shape[0]]\n",
    "a = plt.scatter(Y1[:, 0], Y1[:, 1], color='b', s=1)\n",
    "b = plt.scatter(Y2[:, 0], Y2[:, 1], color='r', s=1)\n",
    "plt.legend([a, b],['Vox', 'SDSV'], scatterpoints=5)\n",
    "plt.title('Emb plot for RW-B-ALDA')\n",
    "\n",
    "out_list = np.zeros([0, 512])\n",
    "for i in range(75):\n",
    "    out_list = np.append(out_list, emb_list_ori[i][0:40], axis=0)\n",
    "out_list_2 = np.zeros([0, 512])\n",
    "for i in range(15):\n",
    "    out_list_2 = np.append(out_list_2, emb_list_ori_2[i+1211][0:40], axis=0)\n",
    "out_label = out_list.shape[0]*[0] +out_list_2.shape[0]*[1]\n",
    "out_list_f = np.append(out_list, out_list_2, axis=0)\n",
    "tsne = manifold.TSNE(n_components=2, init='pca', random_state=0)\n",
    "Y = tsne.fit_transform(out_list_f)\n",
    "\n",
    "plt.subplot(1, 2, 2)\n",
    "Y1 = Y[0:out_list.shape[0]]\n",
    "out_label_1 = out_label[0:out_list.shape[0]]\n",
    "Y2 = Y[out_list.shape[0]:out_list.shape[0]+out_list_2.shape[0]]\n",
    "out_label_2 = out_label[out_list.shape[0]:out_list.shape[0]+out_list_2.shape[0]]\n",
    "a = plt.scatter(Y1[:, 0], Y1[:, 1], color='b', s=1)\n",
    "b = plt.scatter(Y2[:, 0], Y2[:, 1], color='r', s=1)\n",
    "plt.legend([a, b],['Vox', 'SDSV'], scatterpoints=5)\n",
    "plt.title('Emb plot for MixData baseline')\n",
    "\n",
    "plt.savefig('emb_plot1.png', dpi=500, bbox_inches='tight')"
   ]
  }
 ],
 "metadata": {
  "kernelspec": {
   "display_name": "Python 3",
   "language": "python",
   "name": "python3"
  },
  "language_info": {
   "codemirror_mode": {
    "name": "ipython",
    "version": 3
   },
   "file_extension": ".py",
   "mimetype": "text/x-python",
   "name": "python",
   "nbconvert_exporter": "python",
   "pygments_lexer": "ipython3",
   "version": "3.7.7"
  }
 },
 "nbformat": 4,
 "nbformat_minor": 2
}
