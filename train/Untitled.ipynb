{
 "cells": [
  {
   "cell_type": "code",
   "execution_count": 1,
   "metadata": {},
   "outputs": [],
   "source": [
    "import torch\n",
    "from SpeakerNet import SpeakerNet"
   ]
  },
  {
   "cell_type": "code",
   "execution_count": 38,
   "metadata": {},
   "outputs": [
    {
     "name": "stdout",
     "output_type": "stream",
     "text": [
      "Initialised AMSoftmax m=0.300 s=15.000\n",
      "Initialised SGD optimizer\n",
      "Initialised step LR scheduler\n"
     ]
    }
   ],
   "source": [
    "s = SpeakerNet('EPACA-TDNN', 'sgd', 'steplr', 'amsoftmax', nOut=512, nClasses=5994, lr=0.01, weight_decay=5e-4, \n",
    "              test_interval=10, max_epoch=100, lr_decay=0.01)"
   ]
  },
  {
   "cell_type": "code",
   "execution_count": 34,
   "metadata": {},
   "outputs": [],
   "source": [
    "s.__scheduler__.step()"
   ]
  },
  {
   "cell_type": "code",
   "execution_count": 40,
   "metadata": {},
   "outputs": [],
   "source": [
    "a = s.__scheduler__.state_dict()"
   ]
  },
  {
   "cell_type": "code",
   "execution_count": 48,
   "metadata": {},
   "outputs": [],
   "source": [
    "a['last_epoch'] = a['last_epoch'] - 1"
   ]
  },
  {
   "cell_type": "code",
   "execution_count": 49,
   "metadata": {},
   "outputs": [
    {
     "data": {
      "text/plain": [
       "{'step_size': 10,\n",
       " 'gamma': 0.01,\n",
       " 'base_lrs': [0.01],\n",
       " 'last_epoch': 9,\n",
       " '_step_count': 1,\n",
       " '_get_lr_called_within_step': False,\n",
       " '_last_lr': [0.01]}"
      ]
     },
     "execution_count": 49,
     "metadata": {},
     "output_type": "execute_result"
    }
   ],
   "source": [
    "a"
   ]
  },
  {
   "cell_type": "code",
   "execution_count": 45,
   "metadata": {},
   "outputs": [],
   "source": [
    "s.__scheduler__.load_state_dict(a)"
   ]
  },
  {
   "cell_type": "code",
   "execution_count": 47,
   "metadata": {},
   "outputs": [
    {
     "data": {
      "text/plain": [
       "{'step_size': 10,\n",
       " 'gamma': 0.01,\n",
       " 'base_lrs': [0.01],\n",
       " 'last_epoch': 10,\n",
       " '_step_count': 1,\n",
       " '_get_lr_called_within_step': False,\n",
       " '_last_lr': [0.01]}"
      ]
     },
     "execution_count": 47,
     "metadata": {},
     "output_type": "execute_result"
    }
   ],
   "source": [
    "s.__scheduler__.state_dict()"
   ]
  },
  {
   "cell_type": "code",
   "execution_count": 8,
   "metadata": {},
   "outputs": [
    {
     "data": {
      "text/plain": [
       "{'state': {},\n",
       " 'param_groups': [{'lr': 0.01,\n",
       "   'momentum': 0.9,\n",
       "   'dampening': 0,\n",
       "   'weight_decay': 0.0005,\n",
       "   'nesterov': False,\n",
       "   'initial_lr': 0.01,\n",
       "   'params': [0,\n",
       "    1,\n",
       "    2,\n",
       "    3,\n",
       "    4,\n",
       "    5,\n",
       "    6,\n",
       "    7,\n",
       "    8,\n",
       "    9,\n",
       "    10,\n",
       "    11,\n",
       "    12,\n",
       "    13,\n",
       "    14,\n",
       "    15,\n",
       "    16,\n",
       "    17,\n",
       "    18,\n",
       "    19,\n",
       "    20,\n",
       "    21,\n",
       "    22,\n",
       "    23,\n",
       "    24,\n",
       "    25,\n",
       "    26,\n",
       "    27,\n",
       "    28,\n",
       "    29,\n",
       "    30,\n",
       "    31,\n",
       "    32,\n",
       "    33,\n",
       "    34,\n",
       "    35,\n",
       "    36,\n",
       "    37,\n",
       "    38,\n",
       "    39,\n",
       "    40,\n",
       "    41,\n",
       "    42,\n",
       "    43,\n",
       "    44,\n",
       "    45,\n",
       "    46,\n",
       "    47,\n",
       "    48,\n",
       "    49,\n",
       "    50,\n",
       "    51,\n",
       "    52,\n",
       "    53,\n",
       "    54,\n",
       "    55,\n",
       "    56,\n",
       "    57,\n",
       "    58,\n",
       "    59,\n",
       "    60,\n",
       "    61,\n",
       "    62,\n",
       "    63,\n",
       "    64,\n",
       "    65,\n",
       "    66,\n",
       "    67,\n",
       "    68,\n",
       "    69,\n",
       "    70,\n",
       "    71,\n",
       "    72,\n",
       "    73,\n",
       "    74,\n",
       "    75,\n",
       "    76,\n",
       "    77,\n",
       "    78,\n",
       "    79,\n",
       "    80,\n",
       "    81,\n",
       "    82,\n",
       "    83,\n",
       "    84,\n",
       "    85,\n",
       "    86,\n",
       "    87,\n",
       "    88,\n",
       "    89,\n",
       "    90,\n",
       "    91,\n",
       "    92,\n",
       "    93,\n",
       "    94,\n",
       "    95,\n",
       "    96,\n",
       "    97,\n",
       "    98,\n",
       "    99,\n",
       "    100,\n",
       "    101,\n",
       "    102,\n",
       "    103,\n",
       "    104,\n",
       "    105,\n",
       "    106,\n",
       "    107,\n",
       "    108]}]}"
      ]
     },
     "execution_count": 8,
     "metadata": {},
     "output_type": "execute_result"
    }
   ],
   "source": [
    "s.__optimizer__.state_dict()"
   ]
  },
  {
   "cell_type": "code",
   "execution_count": 37,
   "metadata": {},
   "outputs": [
    {
     "data": {
      "text/plain": [
       "202"
      ]
     },
     "execution_count": 37,
     "metadata": {},
     "output_type": "execute_result"
    }
   ],
   "source": [
    "len(s.state_dict().keys())"
   ]
  },
  {
   "cell_type": "code",
   "execution_count": 50,
   "metadata": {},
   "outputs": [],
   "source": [
    "import torch.nn.functional as F"
   ]
  },
  {
   "cell_type": "code",
   "execution_count": 52,
   "metadata": {},
   "outputs": [],
   "source": [
    "ref_feat = torch.randn(10, 512)"
   ]
  },
  {
   "cell_type": "code",
   "execution_count": 53,
   "metadata": {},
   "outputs": [],
   "source": [
    "com_feat = torch.randn(10, 512)"
   ]
  },
  {
   "cell_type": "code",
   "execution_count": 54,
   "metadata": {},
   "outputs": [
    {
     "data": {
      "text/plain": [
       "torch.Size([10, 512])"
      ]
     },
     "execution_count": 54,
     "metadata": {},
     "output_type": "execute_result"
    }
   ],
   "source": [
    "ref_feat.shape"
   ]
  },
  {
   "cell_type": "code",
   "execution_count": 68,
   "metadata": {},
   "outputs": [
    {
     "data": {
      "text/plain": [
       "torch.Size([10, 512])"
      ]
     },
     "execution_count": 68,
     "metadata": {},
     "output_type": "execute_result"
    }
   ],
   "source": [
    "ref_feat.shape"
   ]
  },
  {
   "cell_type": "code",
   "execution_count": 69,
   "metadata": {},
   "outputs": [
    {
     "data": {
      "text/plain": [
       "torch.Size([512, 10])"
      ]
     },
     "execution_count": 69,
     "metadata": {},
     "output_type": "execute_result"
    }
   ],
   "source": [
    "com_feat.transpose(0,1).shape"
   ]
  },
  {
   "cell_type": "code",
   "execution_count": 80,
   "metadata": {},
   "outputs": [],
   "source": [
    "a = ref_feat[1]-com_feat[0]"
   ]
  },
  {
   "cell_type": "code",
   "execution_count": 81,
   "metadata": {},
   "outputs": [
    {
     "data": {
      "text/plain": [
       "tensor(32.4549)"
      ]
     },
     "execution_count": 81,
     "metadata": {},
     "output_type": "execute_result"
    }
   ],
   "source": [
    "torch.sqrt(torch.sum(a**2))"
   ]
  },
  {
   "cell_type": "code",
   "execution_count": 63,
   "metadata": {},
   "outputs": [
    {
     "data": {
      "text/plain": [
       "tensor([29.4692, 33.3921, 31.2939, 31.5184, 31.6852, 33.6739, 30.4412, 31.7020,\n",
       "        30.7948, 30.8007])"
      ]
     },
     "execution_count": 63,
     "metadata": {},
     "output_type": "execute_result"
    }
   ],
   "source": [
    "F.pairwise_distance(ref_feat, com_feat)"
   ]
  },
  {
   "cell_type": "code",
   "execution_count": 71,
   "metadata": {},
   "outputs": [
    {
     "data": {
      "text/plain": [
       "torch.Size([10, 512, 1])"
      ]
     },
     "execution_count": 71,
     "metadata": {},
     "output_type": "execute_result"
    }
   ],
   "source": [
    "ref_feat.unsqueeze(-1).shape"
   ]
  },
  {
   "cell_type": "code",
   "execution_count": 73,
   "metadata": {},
   "outputs": [
    {
     "data": {
      "text/plain": [
       "torch.Size([1, 512, 10])"
      ]
     },
     "execution_count": 73,
     "metadata": {},
     "output_type": "execute_result"
    }
   ],
   "source": [
    "com_feat.unsqueeze(-1).transpose(0,2).shape"
   ]
  },
  {
   "cell_type": "code",
   "execution_count": 57,
   "metadata": {},
   "outputs": [
    {
     "data": {
      "text/plain": [
       "tensor([[29.4692, 30.3904, 30.5643, 31.3308, 31.2108, 33.7216, 30.0520, 30.6746,\n",
       "         30.4927, 30.6383],\n",
       "        [32.4549, 33.3921, 32.4060, 34.2440, 32.9469, 32.8640, 31.6555, 32.1605,\n",
       "         31.4750, 32.6788],\n",
       "        [31.0115, 30.8787, 31.2939, 32.4472, 31.4231, 32.5986, 30.1764, 31.4568,\n",
       "         31.5361, 31.6564],\n",
       "        [32.1484, 31.9802, 33.1354, 31.5184, 31.7081, 33.6083, 31.4724, 31.3120,\n",
       "         31.8933, 32.1574],\n",
       "        [32.7541, 29.9106, 30.7991, 32.6747, 31.6852, 32.7301, 30.3458, 32.0193,\n",
       "         31.7741, 31.3324],\n",
       "        [30.9358, 32.3993, 32.0035, 32.0844, 32.7673, 33.6739, 31.1249, 32.0505,\n",
       "         32.5397, 33.6895],\n",
       "        [31.1655, 31.4294, 32.0207, 33.9870, 31.4570, 32.0697, 30.4412, 32.4686,\n",
       "         31.8435, 30.1598],\n",
       "        [30.9397, 30.8462, 31.4230, 31.5767, 31.5441, 32.2569, 31.3480, 31.7020,\n",
       "         30.6532, 31.6458],\n",
       "        [32.6068, 31.5520, 31.7879, 34.1797, 32.2004, 31.2874, 31.1264, 31.8409,\n",
       "         30.7948, 30.6863],\n",
       "        [32.3118, 32.1022, 32.0107, 33.2171, 31.9011, 33.2003, 31.8790, 32.3376,\n",
       "         32.3323, 30.8007]])"
      ]
     },
     "execution_count": 57,
     "metadata": {},
     "output_type": "execute_result"
    }
   ],
   "source": [
    "F.pairwise_distance(ref_feat.unsqueeze(-1), com_feat.unsqueeze(-1).transpose(0,2))"
   ]
  },
  {
   "cell_type": "code",
   "execution_count": 74,
   "metadata": {},
   "outputs": [],
   "source": [
    "pdist = torch.nn.PairwiseDistance()"
   ]
  },
  {
   "cell_type": "code",
   "execution_count": 77,
   "metadata": {},
   "outputs": [
    {
     "data": {
      "text/plain": [
       "torch.Size([10, 10])"
      ]
     },
     "execution_count": 77,
     "metadata": {},
     "output_type": "execute_result"
    }
   ],
   "source": [
    "F.cosine_similarity(ref_feat.unsqueeze(-1), com_feat.unsqueeze(-1).transpose(0,2)).shape"
   ]
  },
  {
   "cell_type": "code",
   "execution_count": 75,
   "metadata": {},
   "outputs": [
    {
     "data": {
      "text/plain": [
       "tensor([[29.4692, 30.3904, 30.5643, 31.3308, 31.2108, 33.7216, 30.0520, 30.6746,\n",
       "         30.4927, 30.6383],\n",
       "        [32.4549, 33.3921, 32.4060, 34.2440, 32.9469, 32.8640, 31.6555, 32.1605,\n",
       "         31.4750, 32.6788],\n",
       "        [31.0115, 30.8787, 31.2939, 32.4472, 31.4231, 32.5986, 30.1764, 31.4568,\n",
       "         31.5361, 31.6564],\n",
       "        [32.1484, 31.9802, 33.1354, 31.5184, 31.7081, 33.6083, 31.4724, 31.3120,\n",
       "         31.8933, 32.1574],\n",
       "        [32.7541, 29.9106, 30.7991, 32.6747, 31.6852, 32.7301, 30.3458, 32.0193,\n",
       "         31.7741, 31.3324],\n",
       "        [30.9358, 32.3993, 32.0035, 32.0844, 32.7673, 33.6739, 31.1249, 32.0505,\n",
       "         32.5397, 33.6895],\n",
       "        [31.1655, 31.4294, 32.0207, 33.9870, 31.4570, 32.0697, 30.4412, 32.4686,\n",
       "         31.8435, 30.1598],\n",
       "        [30.9397, 30.8462, 31.4230, 31.5767, 31.5441, 32.2569, 31.3480, 31.7020,\n",
       "         30.6532, 31.6458],\n",
       "        [32.6068, 31.5520, 31.7879, 34.1797, 32.2004, 31.2874, 31.1264, 31.8409,\n",
       "         30.7948, 30.6863],\n",
       "        [32.3118, 32.1022, 32.0107, 33.2171, 31.9011, 33.2003, 31.8790, 32.3376,\n",
       "         32.3323, 30.8007]])"
      ]
     },
     "execution_count": 75,
     "metadata": {},
     "output_type": "execute_result"
    }
   ],
   "source": [
    "pdist(ref_feat.unsqueeze(-1), com_feat.unsqueeze(-1).transpose(0,2))"
   ]
  },
  {
   "cell_type": "code",
   "execution_count": 82,
   "metadata": {},
   "outputs": [],
   "source": [
    "listfilename = '/workspace/DATASET/server9_ssd/veri_test2.txt'"
   ]
  },
  {
   "cell_type": "code",
   "execution_count": 83,
   "metadata": {},
   "outputs": [],
   "source": [
    "lines       = []\n",
    "files       = []\n",
    "feats       = {}\n",
    "# tstart      = time.time()\n",
    "\n",
    "## Read all lines\n",
    "with open(listfilename) as listfile:\n",
    "    while True:\n",
    "        line = listfile.readline();\n",
    "        if (not line):\n",
    "            break;\n",
    "\n",
    "        data = line.split();\n",
    "\n",
    "        ## Append random label if missing\n",
    "        if len(data) == 2: data = [random.randint(0,1)] + data\n",
    "\n",
    "        files.append(data[1])\n",
    "        files.append(data[2])\n",
    "        lines.append(line)\n",
    "\n",
    "setfiles = list(set(files))\n",
    "setfiles.sort()"
   ]
  },
  {
   "cell_type": "code",
   "execution_count": 89,
   "metadata": {},
   "outputs": [
    {
     "data": {
      "text/plain": [
       "4708"
      ]
     },
     "execution_count": 89,
     "metadata": {},
     "output_type": "execute_result"
    }
   ],
   "source": [
    "len(set(files))"
   ]
  },
  {
   "cell_type": "code",
   "execution_count": 85,
   "metadata": {},
   "outputs": [
    {
     "data": {
      "text/plain": [
       "4708"
      ]
     },
     "execution_count": 85,
     "metadata": {},
     "output_type": "execute_result"
    }
   ],
   "source": [
    "len(setfiles)"
   ]
  },
  {
   "cell_type": "code",
   "execution_count": 99,
   "metadata": {},
   "outputs": [],
   "source": [
    "a = [[0, 1, 2]]"
   ]
  },
  {
   "cell_type": "code",
   "execution_count": 95,
   "metadata": {},
   "outputs": [
    {
     "data": {
      "text/plain": [
       "[2]"
      ]
     },
     "execution_count": 95,
     "metadata": {},
     "output_type": "execute_result"
    }
   ],
   "source": [
    "list(a[2:])"
   ]
  },
  {
   "cell_type": "code",
   "execution_count": 97,
   "metadata": {},
   "outputs": [],
   "source": [
    "import numpy as np"
   ]
  },
  {
   "cell_type": "code",
   "execution_count": 100,
   "metadata": {},
   "outputs": [
    {
     "data": {
      "text/plain": [
       "array([[0, 1, 2],\n",
       "       [0, 1, 2]])"
      ]
     },
     "execution_count": 100,
     "metadata": {},
     "output_type": "execute_result"
    }
   ],
   "source": [
    "np.append(a, a, axis=0)"
   ]
  }
 ],
 "metadata": {
  "kernelspec": {
   "display_name": "Python 3",
   "language": "python",
   "name": "python3"
  },
  "language_info": {
   "codemirror_mode": {
    "name": "ipython",
    "version": 3
   },
   "file_extension": ".py",
   "mimetype": "text/x-python",
   "name": "python",
   "nbconvert_exporter": "python",
   "pygments_lexer": "ipython3",
   "version": "3.7.7"
  }
 },
 "nbformat": 4,
 "nbformat_minor": 4
}
