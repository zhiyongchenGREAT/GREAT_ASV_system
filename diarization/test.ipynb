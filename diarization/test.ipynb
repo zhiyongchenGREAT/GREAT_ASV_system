{
 "cells": [
  {
   "cell_type": "code",
   "execution_count": 1,
   "metadata": {
    "pycharm": {
     "name": "#%%\n"
    }
   },
   "outputs": [
    {
     "name": "stderr",
     "output_type": "stream",
     "text": [
      "\n",
      "Bad key \"text.kerning_factor\" on line 4 in\n",
      "/opt/conda/lib/python3.7/site-packages/matplotlib/mpl-data/stylelib/_classic_test_patch.mplstyle.\n",
      "You probably need to get an updated matplotlibrc file from\n",
      "https://github.com/matplotlib/matplotlib/blob/v3.1.3/matplotlibrc.template\n",
      "or from the matplotlib source distribution\n"
     ]
    },
    {
     "name": "stdout",
     "output_type": "stream",
     "text": [
      "[{'start': 0.44, 'end': 1.49}, {'start': 1.68, 'end': 2.48}]\n"
     ]
    },
    {
     "name": "stderr",
     "output_type": "stream",
     "text": [
      "findfont: Font family ['Times New Roman'] not found. Falling back to DejaVu Sans.\n"
     ]
    },
    {
     "data": {
      "image/png": "[encoded data removed]",
      "text/plain": [
       "<Figure size 432x288 with 1 Axes>"
      ]
     },
     "metadata": {
      "needs_background": "light"
     },
     "output_type": "display_data"
    }
   ],
   "source": [
    "import librosa\n",
    "import m_mfcc_vad\n",
    "import matplotlib.pyplot as plt\n",
    "\n",
    "path = \"9q4b1sd2.wav\"\n",
    "res = m_mfcc_vad.m_mfcc(path, alpha=0.02, k=0.4, ou=10)\n",
    "print(res)\n",
    "\n",
    "# 音频读取\n",
    "y, sr = librosa.load(path, sr=16000)\n",
    "time = [i/sr for i in range(y.shape[0])]\n",
    "# 时域图\n",
    "plt.plot(time, y)\n",
    "\n",
    "for i in range(len(res)):\n",
    "    plt.axvline(res[i][\"start\"], c=\"green\")\n",
    "    plt.axvline(res[i][\"end\"], c=\"red\")\n",
    "\n",
    "plt.ylabel(\"Amplitude\", {'family': 'Times New Roman',\n",
    "                         'weight': 'normal',\n",
    "                         'size': 16,\n",
    "                         })\n",
    "plt.xlabel(\"Time(s)\", {'family': 'Times New Roman',\n",
    "                         'weight': 'normal',\n",
    "                         'size': 16,\n",
    "                         })\n",
    "plt.title(\"WaveForm\", {'family': 'Times New Roman',\n",
    "                         'weight': 'normal',\n",
    "                         'size': 16,\n",
    "                         })\n",
    "plt.grid()\n"
   ]
  },
  {
   "cell_type": "code",
   "execution_count": null,
   "metadata": {},
   "outputs": [],
   "source": []
  }
 ],
 "metadata": {
  "kernelspec": {
   "display_name": "Python 3",
   "language": "python",
   "name": "python3"
  },
  "language_info": {
   "codemirror_mode": {
    "name": "ipython",
    "version": 3
   },
   "file_extension": ".py",
   "mimetype": "text/x-python",
   "name": "python",
   "nbconvert_exporter": "python",
   "pygments_lexer": "ipython3",
   "version": "3.7.7"
  }
 },
 "nbformat": 4,
 "nbformat_minor": 1
}
