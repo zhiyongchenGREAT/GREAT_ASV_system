{
 "cells": [
  {
   "cell_type": "code",
   "execution_count": 17,
   "metadata": {
    "pycharm": {
     "name": "#%%\n"
    }
   },
   "outputs": [
    {
     "name": "stdout",
     "output_type": "stream",
     "text": [
      "[{'start': 0.44, 'end': 1.49}, {'start': 1.68, 'end': 2.48}]\n"
     ]
    },
    {
     "data": {
      "image/png": "[encoded data removed]",
      "text/plain": [
       "<Figure size 432x288 with 1 Axes>"
      ]
     },
     "metadata": {
      "needs_background": "light"
     },
     "output_type": "display_data"
    }
   ],
   "source": [
    "import librosa\n",
    "import m_mfcc_vad\n",
    "import matplotlib.pyplot as plt\n",
    "\n",
    "path = \"9q4b1sd2.wav\"\n",
    "res = m_mfcc_vad.m_mfcc(path, alpha=0.02, k=0.4, ou=10)\n",
    "print(res)\n",
    "\n",
    "# 音频读取\n",
    "y, sr = librosa.load(path, sr=16000)\n",
    "time = [i/sr for i in range(y.shape[0])]\n",
    "# 时域图\n",
    "plt.plot(time, y)\n",
    "\n",
    "for i in range(len(res)):\n",
    "    plt.axvline(res[i][\"start\"], c=\"green\")\n",
    "    plt.axvline(res[i][\"end\"], c=\"red\")\n",
    "\n",
    "plt.ylabel(\"Amplitude\", {'family': 'Times New Roman',\n",
    "                         'weight': 'normal',\n",
    "                         'size': 16,\n",
    "                         })\n",
    "plt.xlabel(\"Time(s)\", {'family': 'Times New Roman',\n",
    "                         'weight': 'normal',\n",
    "                         'size': 16,\n",
    "                         })\n",
    "plt.title(\"WaveForm\", {'family': 'Times New Roman',\n",
    "                         'weight': 'normal',\n",
    "                         'size': 16,\n",
    "                         })\n",
    "plt.grid()\n"
   ]
  },
  {
   "cell_type": "code",
   "execution_count": 1,
   "metadata": {},
   "outputs": [],
   "source": [
    "num =  [1, 2, 3]"
   ]
  },
  {
   "cell_type": "code",
   "execution_count": 5,
   "metadata": {},
   "outputs": [
    {
     "ename": "SyntaxError",
     "evalue": "invalid syntax (<ipython-input-5-a8cb6607eeb4>, line 1)",
     "output_type": "error",
     "traceback": [
      "\u001b[0;36m  File \u001b[0;32m\"<ipython-input-5-a8cb6607eeb4>\"\u001b[0;36m, line \u001b[0;32m1\u001b[0m\n\u001b[0;31m    add += for i in num\u001b[0m\n\u001b[0m           ^\u001b[0m\n\u001b[0;31mSyntaxError\u001b[0m\u001b[0;31m:\u001b[0m invalid syntax\n"
     ]
    }
   ],
   "source": [
    "add += i for i in num"
   ]
  },
  {
   "cell_type": "code",
   "execution_count": 16,
   "metadata": {},
   "outputs": [
    {
     "name": "stdout",
     "output_type": "stream",
     "text": [
      "3\n",
      "2\n"
     ]
    }
   ],
   "source": [
    "for i in range(3, 1, -1):\n",
    "    print(i)"
   ]
  },
  {
   "cell_type": "code",
   "execution_count": 3,
   "metadata": {},
   "outputs": [
    {
     "data": {
      "text/plain": [
       "[1, 2, 3]"
      ]
     },
     "execution_count": 3,
     "metadata": {},
     "output_type": "execute_result"
    }
   ],
   "source": [
    "for i in range(len_nums, 1, -1):"
   ]
  }
 ],
 "metadata": {
  "kernelspec": {
   "display_name": "Python 3",
   "language": "python",
   "name": "python3"
  },
  "language_info": {
   "codemirror_mode": {
    "name": "ipython",
    "version": 3
   },
   "file_extension": ".py",
   "mimetype": "text/x-python",
   "name": "python",
   "nbconvert_exporter": "python",
   "pygments_lexer": "ipython3",
   "version": "3.8.3"
  }
 },
 "nbformat": 4,
 "nbformat_minor": 1
}
