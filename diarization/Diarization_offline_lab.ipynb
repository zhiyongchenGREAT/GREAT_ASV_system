{
 "cells": [
  {
   "cell_type": "code",
   "execution_count": 130,
   "metadata": {},
   "outputs": [],
   "source": [
    "import librosa\n",
    "import scipy\n",
    "import glob\n",
    "import soundfile as sf\n",
    "from scipy.io import wavfile\n",
    "import librosa"
   ]
  },
  {
   "cell_type": "markdown",
   "metadata": {},
   "source": [
    "# Pre"
   ]
  },
  {
   "cell_type": "code",
   "execution_count": 141,
   "metadata": {},
   "outputs": [],
   "source": [
    "raw_wav_path = '/workspace/LOGS_OUTPUT/server9_nvme1/ASV_LOGS_202102/diarization/ML_May11.wav'\n",
    "wav, sr = librosa.load(raw_wav_path, sr=16000)\n"
   ]
  },
  {
   "cell_type": "code",
   "execution_count": 142,
   "metadata": {},
   "outputs": [],
   "source": [
    "wav = wav[:16000*60]"
   ]
  },
  {
   "cell_type": "code",
   "execution_count": 143,
   "metadata": {},
   "outputs": [],
   "source": [
    "sf.write('test.wav', wav, sr)"
   ]
  },
  {
   "cell_type": "markdown",
   "metadata": {},
   "source": [
    "## VAD"
   ]
  },
  {
   "cell_type": "code",
   "execution_count": 201,
   "metadata": {},
   "outputs": [],
   "source": [
    "import m_mfcc_vad\n",
    "import matplotlib.pyplot as plt"
   ]
  },
  {
   "cell_type": "code",
   "execution_count": 202,
   "metadata": {},
   "outputs": [],
   "source": [
    "# raw_wav_path = '/workspace/DATASET/server9_ssd/DIHARD3/eval_wav/DH_EVAL_0001.wav'\n",
    "raw_wav_path = 'test.wav'\n",
    "sad_out_path = 'sad.lab'"
   ]
  },
  {
   "cell_type": "code",
   "execution_count": 223,
   "metadata": {},
   "outputs": [],
   "source": [
    "res = m_mfcc_vad.m_mfcc(raw_wav_path, alpha=0.02, k=0.5, ou=50)"
   ]
  },
  {
   "cell_type": "code",
   "execution_count": 224,
   "metadata": {},
   "outputs": [
    {
     "data": {
      "text/plain": [
       "[{'start': 0.49, 'end': 1.97},\n",
       " {'start': 9.17, 'end': 10.57},\n",
       " {'start': 11.81, 'end': 14.47},\n",
       " {'start': 14.54, 'end': 14.61},\n",
       " {'start': 16.3, 'end': 22.79},\n",
       " {'start': 22.84, 'end': 26.37},\n",
       " {'start': 33.19, 'end': 37.82},\n",
       " {'start': 43.88, 'end': 52.25},\n",
       " {'start': 57.54, 'end': 59.49}]"
      ]
     },
     "execution_count": 224,
     "metadata": {},
     "output_type": "execute_result"
    }
   ],
   "source": [
    "res"
   ]
  },
  {
   "cell_type": "code",
   "execution_count": 225,
   "metadata": {},
   "outputs": [],
   "source": [
    "with open(sad_out_path, 'w') as f:\n",
    "    for i in res:\n",
    "        line = str(i['start']) + '\\t' + str(i['end']) + '\\t' + 'speech\\n'\n",
    "        f.write(line)"
   ]
  },
  {
   "cell_type": "code",
   "execution_count": 226,
   "metadata": {},
   "outputs": [
    {
     "data": {
      "image/png": "[encoded data removed]",
      "text/plain": [
       "<Figure size 432x288 with 1 Axes>"
      ]
     },
     "metadata": {
      "needs_background": "light"
     },
     "output_type": "display_data"
    }
   ],
   "source": [
    "# 音频读取\n",
    "y, sr = librosa.load(raw_wav_path, sr=16000)\n",
    "time = [i/sr for i in range(y.shape[0])]\n",
    "# 时域图\n",
    "plt.plot(time, y)\n",
    "\n",
    "for i in range(len(res)):\n",
    "    plt.axvline(res[i][\"start\"], c=\"blue\")\n",
    "    plt.axvline(res[i][\"end\"], c=\"red\")\n",
    "\n",
    "\n",
    "plt.grid()"
   ]
  },
  {
   "cell_type": "code",
   "execution_count": null,
   "metadata": {},
   "outputs": [],
   "source": []
  },
  {
   "cell_type": "markdown",
   "metadata": {},
   "source": [
    "## read wav and segment with oracle vad"
   ]
  },
  {
   "cell_type": "code",
   "execution_count": 81,
   "metadata": {},
   "outputs": [],
   "source": [
    "# sad_path = '/workspace/DATASET/server9_ssd/DIHARD3/LDC2020E13_Third_DIHARD_Challenge_Evaluation_Data_SCRUBBED/data/sad/DH_EVAL_0001.lab'\n",
    "# raw_wav_path = '/workspace/DATASET/server9_ssd/DIHARD3/eval_wav/DH_EVAL_0001.wav'"
   ]
  },
  {
   "cell_type": "code",
   "execution_count": 227,
   "metadata": {},
   "outputs": [],
   "source": [
    "raw_wav_path = 'test.wav'\n",
    "sad_path = 'sad.lab'"
   ]
  },
  {
   "cell_type": "code",
   "execution_count": 228,
   "metadata": {},
   "outputs": [],
   "source": [
    "with open(sad_path, 'r') as f:\n",
    "    sad = f.readlines()\n",
    "raw_wav = wavfile.read(raw_wav_path)[1]"
   ]
  },
  {
   "cell_type": "code",
   "execution_count": 229,
   "metadata": {},
   "outputs": [
    {
     "data": {
      "text/plain": [
       "['0.49\\t1.97\\tspeech\\n',\n",
       " '9.17\\t10.57\\tspeech\\n',\n",
       " '11.81\\t14.47\\tspeech\\n',\n",
       " '14.54\\t14.61\\tspeech\\n',\n",
       " '16.3\\t22.79\\tspeech\\n',\n",
       " '22.84\\t26.37\\tspeech\\n',\n",
       " '33.19\\t37.82\\tspeech\\n',\n",
       " '43.88\\t52.25\\tspeech\\n',\n",
       " '57.54\\t59.49\\tspeech\\n']"
      ]
     },
     "execution_count": 229,
     "metadata": {},
     "output_type": "execute_result"
    }
   ],
   "source": [
    "sad"
   ]
  },
  {
   "cell_type": "code",
   "execution_count": 230,
   "metadata": {},
   "outputs": [],
   "source": [
    "perspk_dict_tmpinsample = {}\n",
    "sample_len = len(raw_wav)\n",
    "start, end = None, None\n",
    "\n",
    "for count, j in enumerate(sad):\n",
    "    start = int(float(j.split('\\t')[0]) * 16000)\n",
    "    if end is not None:\n",
    "        perspk_dict_tmpinsample[str(end)+'.'+str(start)] = 'silence'\n",
    "    end = int(float(j.split('\\t')[1]) * 16000)\n",
    "    perspk_dict_tmpinsample[str(start)+'.'+str(min(end, sample_len))] = 'unknown'\n",
    "    if end >= sample_len:\n",
    "        break\n",
    "\n",
    "if end < sample_len:\n",
    "    perspk_dict_tmpinsample[str(end)+'.'+str(sample_len)] = 'silence'\n"
   ]
  },
  {
   "cell_type": "code",
   "execution_count": 231,
   "metadata": {},
   "outputs": [
    {
     "data": {
      "text/plain": [
       "{'7840.31520': 'unknown',\n",
       " '31520.146720': 'silence',\n",
       " '146720.169120': 'unknown',\n",
       " '169120.188960': 'silence',\n",
       " '188960.231520': 'unknown',\n",
       " '231520.232640': 'silence',\n",
       " '232640.233760': 'unknown',\n",
       " '233760.260800': 'silence',\n",
       " '260800.364640': 'unknown',\n",
       " '364640.365440': 'silence',\n",
       " '365440.421920': 'unknown',\n",
       " '421920.531040': 'silence',\n",
       " '531040.605120': 'unknown',\n",
       " '605120.702080': 'silence',\n",
       " '702080.836000': 'unknown',\n",
       " '836000.920640': 'silence',\n",
       " '920640.951840': 'unknown',\n",
       " '951840.960000': 'silence'}"
      ]
     },
     "execution_count": 231,
     "metadata": {},
     "output_type": "execute_result"
    }
   ],
   "source": [
    "perspk_dict_tmpinsample"
   ]
  },
  {
   "cell_type": "markdown",
   "metadata": {},
   "source": [
    "## segment to 1.5s"
   ]
  },
  {
   "cell_type": "code",
   "execution_count": 232,
   "metadata": {},
   "outputs": [],
   "source": [
    "seg_len = int(1.5 * 16000)\n",
    "seg_hop = int(0.75 * 16000)"
   ]
  },
  {
   "cell_type": "code",
   "execution_count": 233,
   "metadata": {},
   "outputs": [
    {
     "data": {
      "text/plain": [
       "24000"
      ]
     },
     "execution_count": 233,
     "metadata": {},
     "output_type": "execute_result"
    }
   ],
   "source": [
    "seg_len"
   ]
  },
  {
   "cell_type": "code",
   "execution_count": 234,
   "metadata": {
    "scrolled": true
   },
   "outputs": [
    {
     "data": {
      "text/plain": [
       "12000"
      ]
     },
     "execution_count": 234,
     "metadata": {},
     "output_type": "execute_result"
    }
   ],
   "source": [
    "seg_hop"
   ]
  },
  {
   "cell_type": "code",
   "execution_count": 235,
   "metadata": {},
   "outputs": [
    {
     "data": {
      "text/plain": [
       "{'7840.31520': 'unknown',\n",
       " '31520.146720': 'silence',\n",
       " '146720.169120': 'unknown',\n",
       " '169120.188960': 'silence',\n",
       " '188960.231520': 'unknown',\n",
       " '231520.232640': 'silence',\n",
       " '232640.233760': 'unknown',\n",
       " '233760.260800': 'silence',\n",
       " '260800.364640': 'unknown',\n",
       " '364640.365440': 'silence',\n",
       " '365440.421920': 'unknown',\n",
       " '421920.531040': 'silence',\n",
       " '531040.605120': 'unknown',\n",
       " '605120.702080': 'silence',\n",
       " '702080.836000': 'unknown',\n",
       " '836000.920640': 'silence',\n",
       " '920640.951840': 'unknown',\n",
       " '951840.960000': 'silence'}"
      ]
     },
     "execution_count": 235,
     "metadata": {},
     "output_type": "execute_result"
    }
   ],
   "source": [
    "perspk_dict_tmpinsample"
   ]
  },
  {
   "cell_type": "code",
   "execution_count": 236,
   "metadata": {},
   "outputs": [
    {
     "name": "stdout",
     "output_type": "stream",
     "text": [
      "24000\n",
      "30560\n",
      "24000\n",
      "24000\n",
      "24000\n",
      "24000\n",
      "24000\n",
      "24000\n",
      "31840\n",
      "24000\n",
      "24000\n",
      "32480\n",
      "24000\n",
      "24000\n",
      "24000\n",
      "24000\n",
      "26080\n",
      "24000\n",
      "24000\n",
      "24000\n",
      "24000\n",
      "24000\n",
      "24000\n",
      "24000\n",
      "24000\n",
      "24000\n",
      "25920\n",
      "31200\n"
     ]
    }
   ],
   "source": [
    "answer_dict_tmpinsample2 = {}\n",
    "\n",
    "# perspk_dict_tmpinsample = answer_dict_tmpinsample[i]\n",
    "perspk_dict_tmpinsample_seg = {}\n",
    "for j in perspk_dict_tmpinsample:\n",
    "    if perspk_dict_tmpinsample[j] == 'unknown':\n",
    "        start, end = j.split('.')\n",
    "        start, end = int(start), int(end)\n",
    "        if (end - start) <= seg_len:\n",
    "            perspk_dict_tmpinsample_seg[str(start)+'.'+str(end)] = 'unknown'\n",
    "        else:\n",
    "            start_tmp = start\n",
    "            end_tmp = start + seg_len\n",
    "            assert end_tmp < end\n",
    "            while(True):\n",
    "                if (end_tmp+seg_hop) > end:\n",
    "                    end_tmp = end                    \n",
    "                    perspk_dict_tmpinsample_seg[str(start_tmp)+'.'+str(end_tmp)] = 'unknown'\n",
    "                    print(end_tmp-start_tmp)\n",
    "                    break\n",
    "                else:\n",
    "                    perspk_dict_tmpinsample_seg[str(start_tmp)+'.'+str(end_tmp)] = 'unknown'\n",
    "                    start_tmp = start_tmp + seg_hop\n",
    "                    end_tmp = end_tmp + seg_hop\n",
    "                    print(end_tmp-start_tmp)\n",
    "    elif perspk_dict_tmpinsample[j] == 'silence':\n",
    "        start, end = j.split('.')\n",
    "        start, end = int(start), int(end)\n",
    "        perspk_dict_tmpinsample_seg[str(start)+'.'+str(end)] = 'silence'\n",
    "    else:\n",
    "        raise Exception"
   ]
  },
  {
   "cell_type": "code",
   "execution_count": 237,
   "metadata": {},
   "outputs": [
    {
     "data": {
      "text/plain": [
       "{'7840.31520': 'unknown',\n",
       " '31520.146720': 'silence',\n",
       " '146720.169120': 'unknown',\n",
       " '169120.188960': 'silence',\n",
       " '188960.212960': 'unknown',\n",
       " '200960.231520': 'unknown',\n",
       " '231520.232640': 'silence',\n",
       " '232640.233760': 'unknown',\n",
       " '233760.260800': 'silence',\n",
       " '260800.284800': 'unknown',\n",
       " '272800.296800': 'unknown',\n",
       " '284800.308800': 'unknown',\n",
       " '296800.320800': 'unknown',\n",
       " '308800.332800': 'unknown',\n",
       " '320800.344800': 'unknown',\n",
       " '332800.364640': 'unknown',\n",
       " '364640.365440': 'silence',\n",
       " '365440.389440': 'unknown',\n",
       " '377440.401440': 'unknown',\n",
       " '389440.421920': 'unknown',\n",
       " '421920.531040': 'silence',\n",
       " '531040.555040': 'unknown',\n",
       " '543040.567040': 'unknown',\n",
       " '555040.579040': 'unknown',\n",
       " '567040.591040': 'unknown',\n",
       " '579040.605120': 'unknown',\n",
       " '605120.702080': 'silence',\n",
       " '702080.726080': 'unknown',\n",
       " '714080.738080': 'unknown',\n",
       " '726080.750080': 'unknown',\n",
       " '738080.762080': 'unknown',\n",
       " '750080.774080': 'unknown',\n",
       " '762080.786080': 'unknown',\n",
       " '774080.798080': 'unknown',\n",
       " '786080.810080': 'unknown',\n",
       " '798080.822080': 'unknown',\n",
       " '810080.836000': 'unknown',\n",
       " '836000.920640': 'silence',\n",
       " '920640.951840': 'unknown',\n",
       " '951840.960000': 'silence'}"
      ]
     },
     "execution_count": 237,
     "metadata": {},
     "output_type": "execute_result"
    }
   ],
   "source": [
    "perspk_dict_tmpinsample_seg"
   ]
  },
  {
   "cell_type": "code",
   "execution_count": 238,
   "metadata": {},
   "outputs": [],
   "source": [
    "seg_count = []\n",
    "\n",
    "dic = perspk_dict_tmpinsample_seg\n",
    "count = 0\n",
    "for j in dic:\n",
    "    if dic[j] == 'unknown':\n",
    "        count += 1\n",
    "seg_count.append(count)"
   ]
  },
  {
   "cell_type": "code",
   "execution_count": 239,
   "metadata": {
    "scrolled": true
   },
   "outputs": [
    {
     "data": {
      "text/plain": [
       "31"
      ]
     },
     "execution_count": 239,
     "metadata": {},
     "output_type": "execute_result"
    }
   ],
   "source": [
    "max(seg_count)"
   ]
  },
  {
   "cell_type": "code",
   "execution_count": 240,
   "metadata": {},
   "outputs": [
    {
     "data": {
      "text/plain": [
       "31"
      ]
     },
     "execution_count": 240,
     "metadata": {},
     "output_type": "execute_result"
    }
   ],
   "source": [
    "min(seg_count)"
   ]
  },
  {
   "cell_type": "markdown",
   "metadata": {},
   "source": [
    "## extract embs"
   ]
  },
  {
   "cell_type": "code",
   "execution_count": 241,
   "metadata": {},
   "outputs": [],
   "source": [
    "import sys\n",
    "import os\n",
    "import importlib\n",
    "import torch\n",
    "import numpy\n",
    "import torch.nn.functional as F"
   ]
  },
  {
   "cell_type": "code",
   "execution_count": 242,
   "metadata": {},
   "outputs": [],
   "source": [
    "sys.path.append('/workspace/GREAT_ASV_system/train_dist')"
   ]
  },
  {
   "cell_type": "code",
   "execution_count": 243,
   "metadata": {},
   "outputs": [],
   "source": [
    "os.environ['CUDA_VISIBLE_DEVICES'] = \"3\""
   ]
  },
  {
   "cell_type": "code",
   "execution_count": 128,
   "metadata": {},
   "outputs": [],
   "source": [
    "# from DatasetLoader import loadWAV"
   ]
  },
  {
   "cell_type": "code",
   "execution_count": 244,
   "metadata": {},
   "outputs": [],
   "source": [
    "SpeakerNetModel = importlib.import_module('models.'+'EPACA-TDNN').__getattribute__('MainModel')"
   ]
  },
  {
   "cell_type": "code",
   "execution_count": 245,
   "metadata": {},
   "outputs": [
    {
     "name": "stdout",
     "output_type": "stream",
     "text": [
      "EPACA-TDNN.py, Embedding size is 192, Channels 1024, Spec_aug False.\n"
     ]
    }
   ],
   "source": [
    "# EPACA-TDNN\n",
    "S = SpeakerNetModel(n_mels=40, nOut=192, spec_aug=False)"
   ]
  },
  {
   "cell_type": "code",
   "execution_count": 246,
   "metadata": {},
   "outputs": [],
   "source": [
    "model_path = '/workspace/LOGS_OUTPUT/server9_nvme1/ASV_LOGS_202102/train_logs_201120/sdsv21_full_pretrain/model/model000000024.model'"
   ]
  },
  {
   "cell_type": "code",
   "execution_count": 247,
   "metadata": {},
   "outputs": [
    {
     "data": {
      "text/plain": [
       "ECAPA_TDNN(\n",
       "  (instancenorm): InstanceNorm1d(40, eps=1e-05, momentum=0.1, affine=False, track_running_stats=False)\n",
       "  (torchfb): Sequential(\n",
       "    (0): PreEmphasis()\n",
       "    (1): MelSpectrogram(\n",
       "      (spectrogram): Spectrogram()\n",
       "      (mel_scale): MelScale()\n",
       "    )\n",
       "  )\n",
       "  (layer1): Conv1dReluBn(\n",
       "    (conv): Conv1d(40, 1024, kernel_size=(5,), stride=(1,), padding=(2,), bias=False)\n",
       "    (bn): BatchNorm1d(1024, eps=1e-05, momentum=0.1, affine=True, track_running_stats=True)\n",
       "  )\n",
       "  (layer2): Sequential(\n",
       "    (0): Conv1dReluBn(\n",
       "      (conv): Conv1d(1024, 1024, kernel_size=(1,), stride=(1,), bias=False)\n",
       "      (bn): BatchNorm1d(1024, eps=1e-05, momentum=0.1, affine=True, track_running_stats=True)\n",
       "    )\n",
       "    (1): Res2Conv1dReluBn(\n",
       "      (convs): ModuleList(\n",
       "        (0): Conv1d(128, 128, kernel_size=(3,), stride=(1,), padding=(2,), dilation=(2,), bias=False)\n",
       "        (1): Conv1d(128, 128, kernel_size=(3,), stride=(1,), padding=(2,), dilation=(2,), bias=False)\n",
       "        (2): Conv1d(128, 128, kernel_size=(3,), stride=(1,), padding=(2,), dilation=(2,), bias=False)\n",
       "        (3): Conv1d(128, 128, kernel_size=(3,), stride=(1,), padding=(2,), dilation=(2,), bias=False)\n",
       "        (4): Conv1d(128, 128, kernel_size=(3,), stride=(1,), padding=(2,), dilation=(2,), bias=False)\n",
       "        (5): Conv1d(128, 128, kernel_size=(3,), stride=(1,), padding=(2,), dilation=(2,), bias=False)\n",
       "        (6): Conv1d(128, 128, kernel_size=(3,), stride=(1,), padding=(2,), dilation=(2,), bias=False)\n",
       "      )\n",
       "      (bns): ModuleList(\n",
       "        (0): BatchNorm1d(128, eps=1e-05, momentum=0.1, affine=True, track_running_stats=True)\n",
       "        (1): BatchNorm1d(128, eps=1e-05, momentum=0.1, affine=True, track_running_stats=True)\n",
       "        (2): BatchNorm1d(128, eps=1e-05, momentum=0.1, affine=True, track_running_stats=True)\n",
       "        (3): BatchNorm1d(128, eps=1e-05, momentum=0.1, affine=True, track_running_stats=True)\n",
       "        (4): BatchNorm1d(128, eps=1e-05, momentum=0.1, affine=True, track_running_stats=True)\n",
       "        (5): BatchNorm1d(128, eps=1e-05, momentum=0.1, affine=True, track_running_stats=True)\n",
       "        (6): BatchNorm1d(128, eps=1e-05, momentum=0.1, affine=True, track_running_stats=True)\n",
       "      )\n",
       "    )\n",
       "    (2): Conv1dReluBn(\n",
       "      (conv): Conv1d(1024, 1024, kernel_size=(1,), stride=(1,), bias=False)\n",
       "      (bn): BatchNorm1d(1024, eps=1e-05, momentum=0.1, affine=True, track_running_stats=True)\n",
       "    )\n",
       "    (3): SE_Connect(\n",
       "      (linear1): Linear(in_features=1024, out_features=512, bias=True)\n",
       "      (linear2): Linear(in_features=512, out_features=1024, bias=True)\n",
       "    )\n",
       "  )\n",
       "  (layer3): Sequential(\n",
       "    (0): Conv1dReluBn(\n",
       "      (conv): Conv1d(1024, 1024, kernel_size=(1,), stride=(1,), bias=False)\n",
       "      (bn): BatchNorm1d(1024, eps=1e-05, momentum=0.1, affine=True, track_running_stats=True)\n",
       "    )\n",
       "    (1): Res2Conv1dReluBn(\n",
       "      (convs): ModuleList(\n",
       "        (0): Conv1d(128, 128, kernel_size=(3,), stride=(1,), padding=(3,), dilation=(3,), bias=False)\n",
       "        (1): Conv1d(128, 128, kernel_size=(3,), stride=(1,), padding=(3,), dilation=(3,), bias=False)\n",
       "        (2): Conv1d(128, 128, kernel_size=(3,), stride=(1,), padding=(3,), dilation=(3,), bias=False)\n",
       "        (3): Conv1d(128, 128, kernel_size=(3,), stride=(1,), padding=(3,), dilation=(3,), bias=False)\n",
       "        (4): Conv1d(128, 128, kernel_size=(3,), stride=(1,), padding=(3,), dilation=(3,), bias=False)\n",
       "        (5): Conv1d(128, 128, kernel_size=(3,), stride=(1,), padding=(3,), dilation=(3,), bias=False)\n",
       "        (6): Conv1d(128, 128, kernel_size=(3,), stride=(1,), padding=(3,), dilation=(3,), bias=False)\n",
       "      )\n",
       "      (bns): ModuleList(\n",
       "        (0): BatchNorm1d(128, eps=1e-05, momentum=0.1, affine=True, track_running_stats=True)\n",
       "        (1): BatchNorm1d(128, eps=1e-05, momentum=0.1, affine=True, track_running_stats=True)\n",
       "        (2): BatchNorm1d(128, eps=1e-05, momentum=0.1, affine=True, track_running_stats=True)\n",
       "        (3): BatchNorm1d(128, eps=1e-05, momentum=0.1, affine=True, track_running_stats=True)\n",
       "        (4): BatchNorm1d(128, eps=1e-05, momentum=0.1, affine=True, track_running_stats=True)\n",
       "        (5): BatchNorm1d(128, eps=1e-05, momentum=0.1, affine=True, track_running_stats=True)\n",
       "        (6): BatchNorm1d(128, eps=1e-05, momentum=0.1, affine=True, track_running_stats=True)\n",
       "      )\n",
       "    )\n",
       "    (2): Conv1dReluBn(\n",
       "      (conv): Conv1d(1024, 1024, kernel_size=(1,), stride=(1,), bias=False)\n",
       "      (bn): BatchNorm1d(1024, eps=1e-05, momentum=0.1, affine=True, track_running_stats=True)\n",
       "    )\n",
       "    (3): SE_Connect(\n",
       "      (linear1): Linear(in_features=1024, out_features=512, bias=True)\n",
       "      (linear2): Linear(in_features=512, out_features=1024, bias=True)\n",
       "    )\n",
       "  )\n",
       "  (layer4): Sequential(\n",
       "    (0): Conv1dReluBn(\n",
       "      (conv): Conv1d(1024, 1024, kernel_size=(1,), stride=(1,), bias=False)\n",
       "      (bn): BatchNorm1d(1024, eps=1e-05, momentum=0.1, affine=True, track_running_stats=True)\n",
       "    )\n",
       "    (1): Res2Conv1dReluBn(\n",
       "      (convs): ModuleList(\n",
       "        (0): Conv1d(128, 128, kernel_size=(3,), stride=(1,), padding=(4,), dilation=(4,), bias=False)\n",
       "        (1): Conv1d(128, 128, kernel_size=(3,), stride=(1,), padding=(4,), dilation=(4,), bias=False)\n",
       "        (2): Conv1d(128, 128, kernel_size=(3,), stride=(1,), padding=(4,), dilation=(4,), bias=False)\n",
       "        (3): Conv1d(128, 128, kernel_size=(3,), stride=(1,), padding=(4,), dilation=(4,), bias=False)\n",
       "        (4): Conv1d(128, 128, kernel_size=(3,), stride=(1,), padding=(4,), dilation=(4,), bias=False)\n",
       "        (5): Conv1d(128, 128, kernel_size=(3,), stride=(1,), padding=(4,), dilation=(4,), bias=False)\n",
       "        (6): Conv1d(128, 128, kernel_size=(3,), stride=(1,), padding=(4,), dilation=(4,), bias=False)\n",
       "      )\n",
       "      (bns): ModuleList(\n",
       "        (0): BatchNorm1d(128, eps=1e-05, momentum=0.1, affine=True, track_running_stats=True)\n",
       "        (1): BatchNorm1d(128, eps=1e-05, momentum=0.1, affine=True, track_running_stats=True)\n",
       "        (2): BatchNorm1d(128, eps=1e-05, momentum=0.1, affine=True, track_running_stats=True)\n",
       "        (3): BatchNorm1d(128, eps=1e-05, momentum=0.1, affine=True, track_running_stats=True)\n",
       "        (4): BatchNorm1d(128, eps=1e-05, momentum=0.1, affine=True, track_running_stats=True)\n",
       "        (5): BatchNorm1d(128, eps=1e-05, momentum=0.1, affine=True, track_running_stats=True)\n",
       "        (6): BatchNorm1d(128, eps=1e-05, momentum=0.1, affine=True, track_running_stats=True)\n",
       "      )\n",
       "    )\n",
       "    (2): Conv1dReluBn(\n",
       "      (conv): Conv1d(1024, 1024, kernel_size=(1,), stride=(1,), bias=False)\n",
       "      (bn): BatchNorm1d(1024, eps=1e-05, momentum=0.1, affine=True, track_running_stats=True)\n",
       "    )\n",
       "    (3): SE_Connect(\n",
       "      (linear1): Linear(in_features=1024, out_features=512, bias=True)\n",
       "      (linear2): Linear(in_features=512, out_features=1024, bias=True)\n",
       "    )\n",
       "  )\n",
       "  (conv): Conv1d(3072, 3072, kernel_size=(1,), stride=(1,))\n",
       "  (pooling): AttentiveStatsPool(\n",
       "    (linear1): Conv1d(3072, 128, kernel_size=(1,), stride=(1,))\n",
       "    (linear2): Conv1d(128, 3072, kernel_size=(1,), stride=(1,))\n",
       "  )\n",
       "  (bn1): BatchNorm1d(6144, eps=1e-05, momentum=0.1, affine=True, track_running_stats=True)\n",
       "  (linear): Linear(in_features=6144, out_features=192, bias=True)\n",
       "  (bn2): BatchNorm1d(192, eps=1e-05, momentum=0.1, affine=True, track_running_stats=True)\n",
       ")"
      ]
     },
     "execution_count": 247,
     "metadata": {},
     "output_type": "execute_result"
    }
   ],
   "source": [
    "S.cuda()"
   ]
  },
  {
   "cell_type": "code",
   "execution_count": 248,
   "metadata": {},
   "outputs": [],
   "source": [
    "loaded_state = torch.load(model_path, map_location=\"cuda:0\")"
   ]
  },
  {
   "cell_type": "code",
   "execution_count": 249,
   "metadata": {},
   "outputs": [
    {
     "name": "stdout",
     "output_type": "stream",
     "text": [
      "#__L__.W is not in the model.\n"
     ]
    }
   ],
   "source": [
    "self_state = S.state_dict()\n",
    "\n",
    "for name, param in loaded_state['model'].items():\n",
    "    origname = name\n",
    "    if name not in self_state:\n",
    "        name = name.replace(\"__S__.\", \"\")\n",
    "\n",
    "        if name not in self_state:\n",
    "            print(\"#%s is not in the model.\"%origname)\n",
    "            continue\n",
    "\n",
    "    if self_state[name].size() != loaded_state['model'][origname].size():\n",
    "        print(\"#Wrong parameter length: %s, model: %s, loaded: %s\"%(origname, self_state[name].size(), loaded_state[origname].size()))\n",
    "        continue\n",
    "\n",
    "    self_state[name].copy_(param)"
   ]
  },
  {
   "cell_type": "code",
   "execution_count": 250,
   "metadata": {},
   "outputs": [
    {
     "data": {
      "text/plain": [
       "ECAPA_TDNN(\n",
       "  (instancenorm): InstanceNorm1d(40, eps=1e-05, momentum=0.1, affine=False, track_running_stats=False)\n",
       "  (torchfb): Sequential(\n",
       "    (0): PreEmphasis()\n",
       "    (1): MelSpectrogram(\n",
       "      (spectrogram): Spectrogram()\n",
       "      (mel_scale): MelScale()\n",
       "    )\n",
       "  )\n",
       "  (layer1): Conv1dReluBn(\n",
       "    (conv): Conv1d(40, 1024, kernel_size=(5,), stride=(1,), padding=(2,), bias=False)\n",
       "    (bn): BatchNorm1d(1024, eps=1e-05, momentum=0.1, affine=True, track_running_stats=True)\n",
       "  )\n",
       "  (layer2): Sequential(\n",
       "    (0): Conv1dReluBn(\n",
       "      (conv): Conv1d(1024, 1024, kernel_size=(1,), stride=(1,), bias=False)\n",
       "      (bn): BatchNorm1d(1024, eps=1e-05, momentum=0.1, affine=True, track_running_stats=True)\n",
       "    )\n",
       "    (1): Res2Conv1dReluBn(\n",
       "      (convs): ModuleList(\n",
       "        (0): Conv1d(128, 128, kernel_size=(3,), stride=(1,), padding=(2,), dilation=(2,), bias=False)\n",
       "        (1): Conv1d(128, 128, kernel_size=(3,), stride=(1,), padding=(2,), dilation=(2,), bias=False)\n",
       "        (2): Conv1d(128, 128, kernel_size=(3,), stride=(1,), padding=(2,), dilation=(2,), bias=False)\n",
       "        (3): Conv1d(128, 128, kernel_size=(3,), stride=(1,), padding=(2,), dilation=(2,), bias=False)\n",
       "        (4): Conv1d(128, 128, kernel_size=(3,), stride=(1,), padding=(2,), dilation=(2,), bias=False)\n",
       "        (5): Conv1d(128, 128, kernel_size=(3,), stride=(1,), padding=(2,), dilation=(2,), bias=False)\n",
       "        (6): Conv1d(128, 128, kernel_size=(3,), stride=(1,), padding=(2,), dilation=(2,), bias=False)\n",
       "      )\n",
       "      (bns): ModuleList(\n",
       "        (0): BatchNorm1d(128, eps=1e-05, momentum=0.1, affine=True, track_running_stats=True)\n",
       "        (1): BatchNorm1d(128, eps=1e-05, momentum=0.1, affine=True, track_running_stats=True)\n",
       "        (2): BatchNorm1d(128, eps=1e-05, momentum=0.1, affine=True, track_running_stats=True)\n",
       "        (3): BatchNorm1d(128, eps=1e-05, momentum=0.1, affine=True, track_running_stats=True)\n",
       "        (4): BatchNorm1d(128, eps=1e-05, momentum=0.1, affine=True, track_running_stats=True)\n",
       "        (5): BatchNorm1d(128, eps=1e-05, momentum=0.1, affine=True, track_running_stats=True)\n",
       "        (6): BatchNorm1d(128, eps=1e-05, momentum=0.1, affine=True, track_running_stats=True)\n",
       "      )\n",
       "    )\n",
       "    (2): Conv1dReluBn(\n",
       "      (conv): Conv1d(1024, 1024, kernel_size=(1,), stride=(1,), bias=False)\n",
       "      (bn): BatchNorm1d(1024, eps=1e-05, momentum=0.1, affine=True, track_running_stats=True)\n",
       "    )\n",
       "    (3): SE_Connect(\n",
       "      (linear1): Linear(in_features=1024, out_features=512, bias=True)\n",
       "      (linear2): Linear(in_features=512, out_features=1024, bias=True)\n",
       "    )\n",
       "  )\n",
       "  (layer3): Sequential(\n",
       "    (0): Conv1dReluBn(\n",
       "      (conv): Conv1d(1024, 1024, kernel_size=(1,), stride=(1,), bias=False)\n",
       "      (bn): BatchNorm1d(1024, eps=1e-05, momentum=0.1, affine=True, track_running_stats=True)\n",
       "    )\n",
       "    (1): Res2Conv1dReluBn(\n",
       "      (convs): ModuleList(\n",
       "        (0): Conv1d(128, 128, kernel_size=(3,), stride=(1,), padding=(3,), dilation=(3,), bias=False)\n",
       "        (1): Conv1d(128, 128, kernel_size=(3,), stride=(1,), padding=(3,), dilation=(3,), bias=False)\n",
       "        (2): Conv1d(128, 128, kernel_size=(3,), stride=(1,), padding=(3,), dilation=(3,), bias=False)\n",
       "        (3): Conv1d(128, 128, kernel_size=(3,), stride=(1,), padding=(3,), dilation=(3,), bias=False)\n",
       "        (4): Conv1d(128, 128, kernel_size=(3,), stride=(1,), padding=(3,), dilation=(3,), bias=False)\n",
       "        (5): Conv1d(128, 128, kernel_size=(3,), stride=(1,), padding=(3,), dilation=(3,), bias=False)\n",
       "        (6): Conv1d(128, 128, kernel_size=(3,), stride=(1,), padding=(3,), dilation=(3,), bias=False)\n",
       "      )\n",
       "      (bns): ModuleList(\n",
       "        (0): BatchNorm1d(128, eps=1e-05, momentum=0.1, affine=True, track_running_stats=True)\n",
       "        (1): BatchNorm1d(128, eps=1e-05, momentum=0.1, affine=True, track_running_stats=True)\n",
       "        (2): BatchNorm1d(128, eps=1e-05, momentum=0.1, affine=True, track_running_stats=True)\n",
       "        (3): BatchNorm1d(128, eps=1e-05, momentum=0.1, affine=True, track_running_stats=True)\n",
       "        (4): BatchNorm1d(128, eps=1e-05, momentum=0.1, affine=True, track_running_stats=True)\n",
       "        (5): BatchNorm1d(128, eps=1e-05, momentum=0.1, affine=True, track_running_stats=True)\n",
       "        (6): BatchNorm1d(128, eps=1e-05, momentum=0.1, affine=True, track_running_stats=True)\n",
       "      )\n",
       "    )\n",
       "    (2): Conv1dReluBn(\n",
       "      (conv): Conv1d(1024, 1024, kernel_size=(1,), stride=(1,), bias=False)\n",
       "      (bn): BatchNorm1d(1024, eps=1e-05, momentum=0.1, affine=True, track_running_stats=True)\n",
       "    )\n",
       "    (3): SE_Connect(\n",
       "      (linear1): Linear(in_features=1024, out_features=512, bias=True)\n",
       "      (linear2): Linear(in_features=512, out_features=1024, bias=True)\n",
       "    )\n",
       "  )\n",
       "  (layer4): Sequential(\n",
       "    (0): Conv1dReluBn(\n",
       "      (conv): Conv1d(1024, 1024, kernel_size=(1,), stride=(1,), bias=False)\n",
       "      (bn): BatchNorm1d(1024, eps=1e-05, momentum=0.1, affine=True, track_running_stats=True)\n",
       "    )\n",
       "    (1): Res2Conv1dReluBn(\n",
       "      (convs): ModuleList(\n",
       "        (0): Conv1d(128, 128, kernel_size=(3,), stride=(1,), padding=(4,), dilation=(4,), bias=False)\n",
       "        (1): Conv1d(128, 128, kernel_size=(3,), stride=(1,), padding=(4,), dilation=(4,), bias=False)\n",
       "        (2): Conv1d(128, 128, kernel_size=(3,), stride=(1,), padding=(4,), dilation=(4,), bias=False)\n",
       "        (3): Conv1d(128, 128, kernel_size=(3,), stride=(1,), padding=(4,), dilation=(4,), bias=False)\n",
       "        (4): Conv1d(128, 128, kernel_size=(3,), stride=(1,), padding=(4,), dilation=(4,), bias=False)\n",
       "        (5): Conv1d(128, 128, kernel_size=(3,), stride=(1,), padding=(4,), dilation=(4,), bias=False)\n",
       "        (6): Conv1d(128, 128, kernel_size=(3,), stride=(1,), padding=(4,), dilation=(4,), bias=False)\n",
       "      )\n",
       "      (bns): ModuleList(\n",
       "        (0): BatchNorm1d(128, eps=1e-05, momentum=0.1, affine=True, track_running_stats=True)\n",
       "        (1): BatchNorm1d(128, eps=1e-05, momentum=0.1, affine=True, track_running_stats=True)\n",
       "        (2): BatchNorm1d(128, eps=1e-05, momentum=0.1, affine=True, track_running_stats=True)\n",
       "        (3): BatchNorm1d(128, eps=1e-05, momentum=0.1, affine=True, track_running_stats=True)\n",
       "        (4): BatchNorm1d(128, eps=1e-05, momentum=0.1, affine=True, track_running_stats=True)\n",
       "        (5): BatchNorm1d(128, eps=1e-05, momentum=0.1, affine=True, track_running_stats=True)\n",
       "        (6): BatchNorm1d(128, eps=1e-05, momentum=0.1, affine=True, track_running_stats=True)\n",
       "      )\n",
       "    )\n",
       "    (2): Conv1dReluBn(\n",
       "      (conv): Conv1d(1024, 1024, kernel_size=(1,), stride=(1,), bias=False)\n",
       "      (bn): BatchNorm1d(1024, eps=1e-05, momentum=0.1, affine=True, track_running_stats=True)\n",
       "    )\n",
       "    (3): SE_Connect(\n",
       "      (linear1): Linear(in_features=1024, out_features=512, bias=True)\n",
       "      (linear2): Linear(in_features=512, out_features=1024, bias=True)\n",
       "    )\n",
       "  )\n",
       "  (conv): Conv1d(3072, 3072, kernel_size=(1,), stride=(1,))\n",
       "  (pooling): AttentiveStatsPool(\n",
       "    (linear1): Conv1d(3072, 128, kernel_size=(1,), stride=(1,))\n",
       "    (linear2): Conv1d(128, 3072, kernel_size=(1,), stride=(1,))\n",
       "  )\n",
       "  (bn1): BatchNorm1d(6144, eps=1e-05, momentum=0.1, affine=True, track_running_stats=True)\n",
       "  (linear): Linear(in_features=6144, out_features=192, bias=True)\n",
       "  (bn2): BatchNorm1d(192, eps=1e-05, momentum=0.1, affine=True, track_running_stats=True)\n",
       ")"
      ]
     },
     "execution_count": 250,
     "metadata": {},
     "output_type": "execute_result"
    }
   ],
   "source": [
    "S.eval()"
   ]
  },
  {
   "cell_type": "code",
   "execution_count": 251,
   "metadata": {},
   "outputs": [],
   "source": [
    "def audio2emb(audio):\n",
    "    audiosize = audio.shape[0]\n",
    "    max_audio = seg_len\n",
    "    if audiosize <= max_audio:\n",
    "        shortage    = max_audio - audiosize + 1 \n",
    "        audio       = numpy.pad(audio, (0, shortage), 'wrap')\n",
    "    audio = audio[None, :].astype(numpy.float)\n",
    "\n",
    "    inp1 = torch.FloatTensor(audio).cuda()\n",
    "\n",
    "    ref_feat = S.forward(inp1).detach().cpu()\n",
    "    return ref_feat"
   ]
  },
  {
   "cell_type": "code",
   "execution_count": 252,
   "metadata": {},
   "outputs": [],
   "source": [
    "spks_matind2time = {}"
   ]
  },
  {
   "cell_type": "code",
   "execution_count": 253,
   "metadata": {},
   "outputs": [
    {
     "name": "stdout",
     "output_type": "stream",
     "text": [
      "31\n"
     ]
    }
   ],
   "source": [
    "perspk_matind2time = {}\n",
    "count = 0\n",
    "for j in perspk_dict_tmpinsample_seg:\n",
    "    if perspk_dict_tmpinsample_seg[j] == 'unknown':\n",
    "        perspk_matind2time[count] = j\n",
    "        count += 1\n",
    "print(count)"
   ]
  },
  {
   "cell_type": "code",
   "execution_count": 254,
   "metadata": {},
   "outputs": [
    {
     "data": {
      "text/plain": [
       "{0: '7840.31520',\n",
       " 1: '146720.169120',\n",
       " 2: '188960.212960',\n",
       " 3: '200960.231520',\n",
       " 4: '232640.233760',\n",
       " 5: '260800.284800',\n",
       " 6: '272800.296800',\n",
       " 7: '284800.308800',\n",
       " 8: '296800.320800',\n",
       " 9: '308800.332800',\n",
       " 10: '320800.344800',\n",
       " 11: '332800.364640',\n",
       " 12: '365440.389440',\n",
       " 13: '377440.401440',\n",
       " 14: '389440.421920',\n",
       " 15: '531040.555040',\n",
       " 16: '543040.567040',\n",
       " 17: '555040.579040',\n",
       " 18: '567040.591040',\n",
       " 19: '579040.605120',\n",
       " 20: '702080.726080',\n",
       " 21: '714080.738080',\n",
       " 22: '726080.750080',\n",
       " 23: '738080.762080',\n",
       " 24: '750080.774080',\n",
       " 25: '762080.786080',\n",
       " 26: '774080.798080',\n",
       " 27: '786080.810080',\n",
       " 28: '798080.822080',\n",
       " 29: '810080.836000',\n",
       " 30: '920640.951840'}"
      ]
     },
     "execution_count": 254,
     "metadata": {},
     "output_type": "execute_result"
    }
   ],
   "source": [
    "perspk_matind2time"
   ]
  },
  {
   "cell_type": "code",
   "execution_count": 255,
   "metadata": {},
   "outputs": [],
   "source": [
    "matind2time = perspk_matind2time\n",
    "whole_wav = raw_wav\n",
    "embs = None\n",
    "for j in range(len(matind2time)):\n",
    "    start, end = matind2time[j].split('.')\n",
    "    start, end = int(start), int(end)\n",
    "    if embs is not None:\n",
    "        embs = torch.cat([embs, audio2emb(whole_wav[start:end])], dim=0)\n",
    "    else:\n",
    "        embs = audio2emb(whole_wav[start:end])\n",
    "\n",
    "embs_n = F.normalize(embs, p=2, dim=1)\n",
    "similarity = embs_n.mm(embs_n.T)\n",
    "similarity = similarity.numpy()"
   ]
  },
  {
   "cell_type": "code",
   "execution_count": 256,
   "metadata": {},
   "outputs": [],
   "source": [
    "import torch.nn.functional as F\n",
    "import matplotlib.pyplot as plt\n",
    "%matplotlib inline"
   ]
  },
  {
   "cell_type": "code",
   "execution_count": 257,
   "metadata": {},
   "outputs": [
    {
     "data": {
      "text/plain": [
       "<matplotlib.image.AxesImage at 0x7f69f07f3410>"
      ]
     },
     "execution_count": 257,
     "metadata": {},
     "output_type": "execute_result"
    },
    {
     "data": {
      "image/png": "[encoded data removed]",
      "text/plain": [
       "<Figure size 288x288 with 1 Axes>"
      ]
     },
     "metadata": {
      "needs_background": "light"
     },
     "output_type": "display_data"
    }
   ],
   "source": [
    "plt.matshow(similarity)"
   ]
  },
  {
   "cell_type": "markdown",
   "metadata": {},
   "source": [
    "## Spectral Clustering"
   ]
  },
  {
   "cell_type": "code",
   "execution_count": 258,
   "metadata": {},
   "outputs": [],
   "source": [
    "from sklearn.cluster import KMeans"
   ]
  },
  {
   "cell_type": "code",
   "execution_count": 265,
   "metadata": {},
   "outputs": [],
   "source": [
    "def SC(inp_matrix):\n",
    "    # 1 . Construct S and set diagonal elements to 0.\n",
    "    for i in range(inp_matrix.shape[0]):\n",
    "        inp_matrix[i][i] = 0.0\n",
    "    # 2 . Compute Laplacian matrix L and perform normalization\n",
    "    S = inp_matrix\n",
    "    D = numpy.diag(numpy.sum(S, axis=1))\n",
    "    L = D - S\n",
    "    invsqrtD = numpy.diag(1.0 / (numpy.sum(S, axis=1) ** (0.5)))\n",
    "    L_norm = numpy.dot(numpy.dot(invsqrtD, L), invsqrtD)\n",
    "    # 3 . Compute eigenvalues and eigenvectors of L norm\n",
    "    lam, H = numpy.linalg.eig(L_norm)\n",
    "    \n",
    "    # ADDED!\n",
    "    try:\n",
    "        lam = lam.real\n",
    "        H = H.real\n",
    "    except:\n",
    "        pass\n",
    "    \n",
    "    # 4 . Take the k smallest eigenvalues\n",
    "    TH = 0.99\n",
    "#    TH = 0.75\n",
    "#     TH = 0.85\n",
    "    \n",
    "    sort_index = numpy.argsort(lam)\n",
    "    eig_vecs = []\n",
    "    count = 0\n",
    "    for i in sort_index:\n",
    "        if (lam[i] > TH) and (count >= 2):\n",
    "            break\n",
    "        else:\n",
    "            eig_vecs.append(H[:, i])\n",
    "            count += 1\n",
    "\n",
    "    for count, i in enumerate(eig_vecs):\n",
    "        if count == 0:\n",
    "            P = i[:, None]\n",
    "        else:\n",
    "            P = numpy.append(P, i[:, None], axis=1)\n",
    "    # 5. Cluster row vectors y 1 , y 2 , ...y n of P to k classes by the K-means algorithm.            \n",
    "    sp_kmeans = KMeans(n_clusters=P.shape[1]).fit(P)\n",
    "    return sp_kmeans.labels_"
   ]
  },
  {
   "cell_type": "code",
   "execution_count": 259,
   "metadata": {},
   "outputs": [],
   "source": [
    "# 1 . Construct S and set diagonal elements to 0.\n",
    "for i in range(inp_matrix.shape[0]):\n",
    "    inp_matrix[i][i] = 0.0\n",
    "# 2 . Compute Laplacian matrix L and perform normalization\n",
    "S = inp_matrix\n",
    "D = numpy.diag(numpy.sum(S, axis=1))\n",
    "L = D - S\n",
    "invsqrtD = numpy.diag(1.0 / (numpy.sum(S, axis=1) ** (0.5)))\n",
    "L_norm = numpy.dot(numpy.dot(invsqrtD, L), invsqrtD)\n",
    "# 3 . Compute eigenvalues and eigenvectors of L norm\n",
    "lam, H = numpy.linalg.eig(L_norm)\n",
    "\n",
    "# ADDED!\n",
    "try:\n",
    "    lam = lam.real\n",
    "    H = H.real\n",
    "except:\n",
    "    pass\n",
    "\n",
    "# 4 . Take the k smallest eigenvalues\n",
    "TH = 0.98\n",
    "#    TH = 0.75\n",
    "#     TH = 0.85\n",
    "\n",
    "sort_index = numpy.argsort(lam)\n",
    "eig_vecs = []\n",
    "count = 0\n",
    "for i in sort_index:\n",
    "    if (lam[i] > TH) and (count >= 2):\n",
    "        break\n",
    "    else:\n",
    "        eig_vecs.append(H[:, i])\n",
    "        count += 1\n",
    "\n",
    "for count, i in enumerate(eig_vecs):\n",
    "    if count == 0:\n",
    "        P = i[:, None]\n",
    "    else:\n",
    "        P = numpy.append(P, i[:, None], axis=1)\n",
    "# 5. Cluster row vectors y 1 , y 2 , ...y n of P to k classes by the K-means algorithm.            \n",
    "sp_kmeans = KMeans(n_clusters=P.shape[1]).fit(P)"
   ]
  },
  {
   "cell_type": "code",
   "execution_count": 266,
   "metadata": {},
   "outputs": [
    {
     "data": {
      "text/plain": [
       "array([-1.3657085e-08,  9.4425428e-01,  9.7929668e-01,  1.0038573e+00,\n",
       "        1.0226271e+00,  1.0240058e+00,  1.0275466e+00,  1.0289078e+00,\n",
       "        1.0329269e+00,  1.0359396e+00,  1.0371202e+00,  1.0379312e+00,\n",
       "        1.0397278e+00,  1.0411643e+00,  1.0423452e+00,  1.0439607e+00,\n",
       "        1.0446990e+00,  1.0465904e+00,  1.0467386e+00,  1.0476657e+00,\n",
       "        1.0484651e+00,  1.0552598e+00,  1.0503857e+00,  1.0511792e+00,\n",
       "        1.0515214e+00,  1.0532022e+00,  1.0538632e+00,  1.0544771e+00,\n",
       "        1.0543410e+00], dtype=float32)"
      ]
     },
     "execution_count": 266,
     "metadata": {},
     "output_type": "execute_result"
    }
   ],
   "source": [
    "lam"
   ]
  },
  {
   "cell_type": "code",
   "execution_count": 267,
   "metadata": {
    "scrolled": true
   },
   "outputs": [],
   "source": [
    "inp_matrix = (similarity + 1.0) / 2.0\n",
    "spk_clustering_result = SC(inp_matrix)"
   ]
  },
  {
   "cell_type": "code",
   "execution_count": 268,
   "metadata": {},
   "outputs": [
    {
     "data": {
      "text/plain": [
       "<matplotlib.image.AxesImage at 0x7f69f01e7610>"
      ]
     },
     "execution_count": 268,
     "metadata": {},
     "output_type": "execute_result"
    },
    {
     "data": {
      "image/png": "[encoded data removed]",
      "text/plain": [
       "<Figure size 288x288 with 1 Axes>"
      ]
     },
     "metadata": {
      "needs_background": "light"
     },
     "output_type": "display_data"
    }
   ],
   "source": [
    "plt.matshow(similarity)"
   ]
  },
  {
   "cell_type": "code",
   "execution_count": 269,
   "metadata": {
    "scrolled": true
   },
   "outputs": [
    {
     "data": {
      "text/plain": [
       "array([1, 1, 2, 2, 2, 2, 2, 2, 2, 2, 2, 2, 2, 2, 2, 0, 0, 0, 0, 0, 1, 1,\n",
       "       1, 1, 1, 1, 1, 1, 1, 1, 2], dtype=int32)"
      ]
     },
     "execution_count": 269,
     "metadata": {},
     "output_type": "execute_result"
    }
   ],
   "source": [
    "spk_clustering_result"
   ]
  },
  {
   "cell_type": "markdown",
   "metadata": {},
   "source": [
    "## combine detection result"
   ]
  },
  {
   "cell_type": "code",
   "execution_count": 270,
   "metadata": {},
   "outputs": [
    {
     "data": {
      "text/plain": [
       "{'7840.31520': 'unknown',\n",
       " '31520.146720': 'silence',\n",
       " '146720.169120': 'unknown',\n",
       " '169120.188960': 'silence',\n",
       " '188960.212960': 'unknown',\n",
       " '200960.231520': 'unknown',\n",
       " '231520.232640': 'silence',\n",
       " '232640.233760': 'unknown',\n",
       " '233760.260800': 'silence',\n",
       " '260800.284800': 'unknown',\n",
       " '272800.296800': 'unknown',\n",
       " '284800.308800': 'unknown',\n",
       " '296800.320800': 'unknown',\n",
       " '308800.332800': 'unknown',\n",
       " '320800.344800': 'unknown',\n",
       " '332800.364640': 'unknown',\n",
       " '364640.365440': 'silence',\n",
       " '365440.389440': 'unknown',\n",
       " '377440.401440': 'unknown',\n",
       " '389440.421920': 'unknown',\n",
       " '421920.531040': 'silence',\n",
       " '531040.555040': 'unknown',\n",
       " '543040.567040': 'unknown',\n",
       " '555040.579040': 'unknown',\n",
       " '567040.591040': 'unknown',\n",
       " '579040.605120': 'unknown',\n",
       " '605120.702080': 'silence',\n",
       " '702080.726080': 'unknown',\n",
       " '714080.738080': 'unknown',\n",
       " '726080.750080': 'unknown',\n",
       " '738080.762080': 'unknown',\n",
       " '750080.774080': 'unknown',\n",
       " '762080.786080': 'unknown',\n",
       " '774080.798080': 'unknown',\n",
       " '786080.810080': 'unknown',\n",
       " '798080.822080': 'unknown',\n",
       " '810080.836000': 'unknown',\n",
       " '836000.920640': 'silence',\n",
       " '920640.951840': 'unknown',\n",
       " '951840.960000': 'silence'}"
      ]
     },
     "execution_count": 270,
     "metadata": {},
     "output_type": "execute_result"
    }
   ],
   "source": [
    "perspk_dict_tmpinsample_seg"
   ]
  },
  {
   "cell_type": "code",
   "execution_count": 271,
   "metadata": {},
   "outputs": [],
   "source": [
    "tmpinsample2 = perspk_dict_tmpinsample_seg\n",
    "matind2time = perspk_matind2time\n",
    "clustering_result = spk_clustering_result\n",
    "\n",
    "assert len(matind2time) == len(clustering_result)\n",
    "for j in matind2time:\n",
    "    assert matind2time[j] in tmpinsample2.keys()\n",
    "    tmpinsample2[matind2time[j]] = 'speaker'+str(clustering_result[j]+1)\n",
    "for k in tmpinsample2:\n",
    "    assert tmpinsample2[k] != 'unknown'\n"
   ]
  },
  {
   "cell_type": "code",
   "execution_count": 272,
   "metadata": {},
   "outputs": [],
   "source": [
    "whole_start = list(tmpinsample2.keys())[0].split('.')[0]\n",
    "if whole_start != '0':\n",
    "    tmpinsample2['0.'+whole_start] = 'silence'"
   ]
  },
  {
   "cell_type": "code",
   "execution_count": 273,
   "metadata": {},
   "outputs": [
    {
     "data": {
      "text/plain": [
       "{'7840.31520': 'speaker2',\n",
       " '31520.146720': 'silence',\n",
       " '146720.169120': 'speaker2',\n",
       " '169120.188960': 'silence',\n",
       " '188960.212960': 'speaker3',\n",
       " '200960.231520': 'speaker3',\n",
       " '231520.232640': 'silence',\n",
       " '232640.233760': 'speaker3',\n",
       " '233760.260800': 'silence',\n",
       " '260800.284800': 'speaker3',\n",
       " '272800.296800': 'speaker3',\n",
       " '284800.308800': 'speaker3',\n",
       " '296800.320800': 'speaker3',\n",
       " '308800.332800': 'speaker3',\n",
       " '320800.344800': 'speaker3',\n",
       " '332800.364640': 'speaker3',\n",
       " '364640.365440': 'silence',\n",
       " '365440.389440': 'speaker3',\n",
       " '377440.401440': 'speaker3',\n",
       " '389440.421920': 'speaker3',\n",
       " '421920.531040': 'silence',\n",
       " '531040.555040': 'speaker1',\n",
       " '543040.567040': 'speaker1',\n",
       " '555040.579040': 'speaker1',\n",
       " '567040.591040': 'speaker1',\n",
       " '579040.605120': 'speaker1',\n",
       " '605120.702080': 'silence',\n",
       " '702080.726080': 'speaker2',\n",
       " '714080.738080': 'speaker2',\n",
       " '726080.750080': 'speaker2',\n",
       " '738080.762080': 'speaker2',\n",
       " '750080.774080': 'speaker2',\n",
       " '762080.786080': 'speaker2',\n",
       " '774080.798080': 'speaker2',\n",
       " '786080.810080': 'speaker2',\n",
       " '798080.822080': 'speaker2',\n",
       " '810080.836000': 'speaker2',\n",
       " '836000.920640': 'silence',\n",
       " '920640.951840': 'speaker3',\n",
       " '951840.960000': 'silence',\n",
       " '0.7840': 'silence'}"
      ]
     },
     "execution_count": 273,
     "metadata": {},
     "output_type": "execute_result"
    }
   ],
   "source": [
    "tmpinsample2"
   ]
  },
  {
   "cell_type": "markdown",
   "metadata": {},
   "source": [
    "# FINISH"
   ]
  },
  {
   "cell_type": "code",
   "execution_count": 274,
   "metadata": {},
   "outputs": [
    {
     "name": "stdout",
     "output_type": "stream",
     "text": [
      "0.49 1.97 speaker2\n",
      "1.97 9.17 silence\n",
      "9.17 10.57 speaker2\n",
      "10.57 11.81 silence\n",
      "11.81 13.31 speaker3\n",
      "12.56 14.47 speaker3\n",
      "14.47 14.54 silence\n",
      "14.54 14.61 speaker3\n",
      "14.61 16.3 silence\n",
      "16.3 17.8 speaker3\n",
      "17.05 18.55 speaker3\n",
      "17.8 19.3 speaker3\n",
      "18.55 20.05 speaker3\n",
      "19.3 20.8 speaker3\n",
      "20.05 21.55 speaker3\n",
      "20.8 22.79 speaker3\n",
      "22.79 22.84 silence\n",
      "22.84 24.34 speaker3\n",
      "23.59 25.09 speaker3\n",
      "24.34 26.37 speaker3\n",
      "26.37 33.19 silence\n",
      "33.19 34.69 speaker1\n",
      "33.94 35.44 speaker1\n",
      "34.69 36.19 speaker1\n",
      "35.44 36.94 speaker1\n",
      "36.19 37.82 speaker1\n",
      "37.82 43.88 silence\n",
      "43.88 45.38 speaker2\n",
      "44.63 46.13 speaker2\n",
      "45.38 46.88 speaker2\n",
      "46.13 47.63 speaker2\n",
      "46.88 48.38 speaker2\n",
      "47.63 49.13 speaker2\n",
      "48.38 49.88 speaker2\n",
      "49.13 50.63 speaker2\n",
      "49.88 51.38 speaker2\n",
      "50.63 52.25 speaker2\n",
      "52.25 57.54 silence\n",
      "57.54 59.49 speaker3\n",
      "59.49 60.0 silence\n",
      "0.0 0.49 silence\n"
     ]
    }
   ],
   "source": [
    "for i in tmpinsample2:\n",
    "    print(float(i.split('.')[0])/16000, float(i.split('.')[1])/16000, tmpinsample2[i])"
   ]
  }
 ],
 "metadata": {
  "kernelspec": {
   "display_name": "Python 3",
   "language": "python",
   "name": "python3"
  },
  "language_info": {
   "codemirror_mode": {
    "name": "ipython",
    "version": 3
   },
   "file_extension": ".py",
   "mimetype": "text/x-python",
   "name": "python",
   "nbconvert_exporter": "python",
   "pygments_lexer": "ipython3",
   "version": "3.7.7"
  }
 },
 "nbformat": 4,
 "nbformat_minor": 4
}
