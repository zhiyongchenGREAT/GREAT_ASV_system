{
 "cells": [
  {
   "cell_type": "code",
   "execution_count": 6,
   "metadata": {
    "collapsed": true
   },
   "outputs": [],
   "source": [
    "import os"
   ]
  },
  {
   "cell_type": "code",
   "execution_count": 7,
   "metadata": {
    "collapsed": true
   },
   "outputs": [],
   "source": [
    "OPT_DIR = '/Lun0/zhiyong/sdsvc_small_100_dataset'"
   ]
  },
  {
   "cell_type": "code",
   "execution_count": 8,
   "metadata": {},
   "outputs": [],
   "source": [
    "out_f = os.path.join(OPT_DIR, 'mix_1311_smalltrain.csv')\n",
    "s = '/Lun0/zhiyong/sdsvc_small_100_dataset/source_vox_1211_smalltrain.csv'\n",
    "t = '/Lun0/zhiyong/sdsvc_small_100_dataset/target_sdsvc_100_smalltrain.csv'"
   ]
  },
  {
   "cell_type": "code",
   "execution_count": 9,
   "metadata": {},
   "outputs": [
    {
     "data": {
      "text/plain": [
       "1311"
      ]
     },
     "execution_count": 9,
     "metadata": {},
     "output_type": "execute_result"
    }
   ],
   "source": [
    "1211+100"
   ]
  },
  {
   "cell_type": "code",
   "execution_count": 10,
   "metadata": {},
   "outputs": [
    {
     "name": "stdout",
     "output_type": "stream",
     "text": [
      "242200\n",
      "262200\n"
     ]
    }
   ],
   "source": [
    "count = 0\n",
    "with open(out_f, 'w') as out:\n",
    "    with open(s, 'r') as f_in:\n",
    "        for line in f_in:\n",
    "            out.write(line)\n",
    "            count += 1\n",
    "    print(count)\n",
    "    with open(t, 'r') as f_in:\n",
    "        for line in f_in:\n",
    "            out.write(line)\n",
    "            count += 1\n",
    "    print(count)"
   ]
  },
  {
   "cell_type": "code",
   "execution_count": null,
   "metadata": {
    "collapsed": true
   },
   "outputs": [],
   "source": []
  },
  {
   "cell_type": "code",
   "execution_count": 18,
   "metadata": {
    "collapsed": true
   },
   "outputs": [],
   "source": [
    "OPT_DIR = '/Lun0/zhiyong/sdsvc_small_488_dataset'"
   ]
  },
  {
   "cell_type": "code",
   "execution_count": 17,
   "metadata": {},
   "outputs": [
    {
     "data": {
      "text/plain": [
       "1699"
      ]
     },
     "execution_count": 17,
     "metadata": {},
     "output_type": "execute_result"
    }
   ],
   "source": [
    "1211+488"
   ]
  },
  {
   "cell_type": "code",
   "execution_count": 19,
   "metadata": {
    "collapsed": true
   },
   "outputs": [],
   "source": [
    "out_f = os.path.join(OPT_DIR, 'mix_1699_smalltrain.csv')\n",
    "s = '/Lun0/zhiyong/sdsvc_small_488_dataset/source_vox_1211_smalltrain.csv'\n",
    "t = '/Lun0/zhiyong/sdsvc_small_488_dataset/target_sdsvc_488_smalltrain.csv'"
   ]
  },
  {
   "cell_type": "code",
   "execution_count": 20,
   "metadata": {},
   "outputs": [
    {
     "name": "stdout",
     "output_type": "stream",
     "text": [
      "242200\n",
      "339800\n"
     ]
    }
   ],
   "source": [
    "count = 0\n",
    "with open(out_f, 'w') as out:\n",
    "    with open(s, 'r') as f_in:\n",
    "        for line in f_in:\n",
    "            out.write(line)\n",
    "            count += 1\n",
    "    print(count)\n",
    "    with open(t, 'r') as f_in:\n",
    "        for line in f_in:\n",
    "            out.write(line)\n",
    "            count += 1\n",
    "    print(count)"
   ]
  },
  {
   "cell_type": "code",
   "execution_count": 21,
   "metadata": {},
   "outputs": [
    {
     "data": {
      "text/plain": [
       "1699.0"
      ]
     },
     "execution_count": 21,
     "metadata": {},
     "output_type": "execute_result"
    }
   ],
   "source": [
    "339800 / 200"
   ]
  },
  {
   "cell_type": "code",
   "execution_count": null,
   "metadata": {
    "collapsed": true
   },
   "outputs": [],
   "source": []
  },
  {
   "cell_type": "code",
   "execution_count": 11,
   "metadata": {
    "collapsed": true
   },
   "outputs": [],
   "source": [
    "OPT_DIR = '/Lun0/zhiyong/sdsvc_full_488_dataset'"
   ]
  },
  {
   "cell_type": "code",
   "execution_count": 14,
   "metadata": {
    "collapsed": true
   },
   "outputs": [],
   "source": [
    "out_f = os.path.join(OPT_DIR, 'mix_7811_fulltrain.csv')\n",
    "s = '/Lun0/zhiyong/sdsvc_full_488_dataset/source_vox_7323_fulltrain.csv'\n",
    "t = '/Lun0/zhiyong/sdsvc_full_488_dataset/target_sdsvc_488_fulltrain.csv'"
   ]
  },
  {
   "cell_type": "code",
   "execution_count": 13,
   "metadata": {},
   "outputs": [
    {
     "data": {
      "text/plain": [
       "7811"
      ]
     },
     "execution_count": 13,
     "metadata": {},
     "output_type": "execute_result"
    }
   ],
   "source": [
    "7323+488"
   ]
  },
  {
   "cell_type": "code",
   "execution_count": 15,
   "metadata": {},
   "outputs": [
    {
     "name": "stdout",
     "output_type": "stream",
     "text": [
      "10984500\n",
      "11716500\n"
     ]
    }
   ],
   "source": [
    "count = 0\n",
    "with open(out_f, 'w') as out:\n",
    "    with open(s, 'r') as f_in:\n",
    "        for line in f_in:\n",
    "            out.write(line)\n",
    "            count += 1\n",
    "    print(count)\n",
    "    with open(t, 'r') as f_in:\n",
    "        for line in f_in:\n",
    "            out.write(line)\n",
    "            count += 1\n",
    "    print(count)"
   ]
  },
  {
   "cell_type": "code",
   "execution_count": 16,
   "metadata": {},
   "outputs": [
    {
     "data": {
      "text/plain": [
       "1500.0"
      ]
     },
     "execution_count": 16,
     "metadata": {},
     "output_type": "execute_result"
    }
   ],
   "source": [
    "11716500 / 7811"
   ]
  }
 ],
 "metadata": {
  "kernelspec": {
   "display_name": "Python 3",
   "language": "python",
   "name": "python3"
  },
  "language_info": {
   "codemirror_mode": {
    "name": "ipython",
    "version": 3
   },
   "file_extension": ".py",
   "mimetype": "text/x-python",
   "name": "python",
   "nbconvert_exporter": "python",
   "pygments_lexer": "ipython3",
   "version": "3.6.9"
  }
 },
 "nbformat": 4,
 "nbformat_minor": 2
}
