{
 "cells": [
  {
   "cell_type": "code",
   "execution_count": 22,
   "metadata": {
    "scrolled": true
   },
   "outputs": [],
   "source": [
    "%matplotlib inline\n",
    "\n",
    "import librosa\n",
    "import matplotlib.pyplot as plt\n",
    "import librosa.display\n",
    "import numpy as np\n",
    "import torch\n",
    "import os\n",
    "import sys\n",
    "import glob\n",
    "import pickle\n",
    "import copy\n",
    "import random\n",
    "import time\n",
    "import traceback\n",
    "from multiprocessing import Process"
   ]
  },
  {
   "cell_type": "markdown",
   "metadata": {},
   "source": [
    "# Config"
   ]
  },
  {
   "cell_type": "code",
   "execution_count": 23,
   "metadata": {},
   "outputs": [],
   "source": [
    "PROJECT_ROOT = '/workspace/GREAT_ASV_system/'\n",
    "sys.path.append(PROJECT_ROOT)"
   ]
  },
  {
   "cell_type": "code",
   "execution_count": 9,
   "metadata": {},
   "outputs": [],
   "source": [
    "OPT_INDEX = '/workspace/DATASET/server9/STD_musan&rir_info'"
   ]
  },
  {
   "cell_type": "code",
   "execution_count": 11,
   "metadata": {},
   "outputs": [],
   "source": [
    "music_dir = '/workspace/DATASET/server9/musan/music'\n",
    "noise_dir = '/workspace/DATASET/server9/musan/noise'\n",
    "speech_dir = '/workspace/DATASET/server9/musan/speech'\n",
    "rir_dir = '/workspace/DATASET/server9/RIRS_NOISES'\n",
    "\n",
    "music_dict_out = os.path.join(OPT_INDEX, 'music_dict')\n",
    "noise_dict_out = os.path.join(OPT_INDEX, 'noise_dict')\n",
    "babble_dict_out = os.path.join(OPT_INDEX, 'babble_dict')\n",
    "rir_dict_out = os.path.join(OPT_INDEX, 'rir_dict')"
   ]
  },
  {
   "cell_type": "code",
   "execution_count": 18,
   "metadata": {},
   "outputs": [],
   "source": [
    "music_len = os.path.join(OPT_INDEX, 'music_len')\n",
    "noise_len = os.path.join(OPT_INDEX, 'noise_len')\n",
    "babble_len = os.path.join(OPT_INDEX, 'babble_len')"
   ]
  },
  {
   "cell_type": "markdown",
   "metadata": {},
   "source": [
    "# Make file index dict"
   ]
  },
  {
   "cell_type": "code",
   "execution_count": 7,
   "metadata": {},
   "outputs": [],
   "source": [
    "music_dict = {}\n",
    "noise_dict = {}\n",
    "babble_dict = {}\n",
    "rir_dict = {}"
   ]
  },
  {
   "cell_type": "code",
   "execution_count": 13,
   "metadata": {},
   "outputs": [],
   "source": [
    "tmp_dir_list = glob.glob(music_dir+'/*/*.wav')\n",
    "for count, this_dir in enumerate(tmp_dir_list):\n",
    "    music_dict[count] = this_dir\n",
    "with open(music_dict_out, 'wb') as handle:\n",
    "    pickle.dump(music_dict, handle)"
   ]
  },
  {
   "cell_type": "code",
   "execution_count": 14,
   "metadata": {},
   "outputs": [],
   "source": [
    "tmp_dir_list = glob.glob(noise_dir+'/*/*.wav')\n",
    "for count, this_dir in enumerate(tmp_dir_list):\n",
    "    noise_dict[count] = this_dir\n",
    "with open(noise_dict_out, 'wb') as handle:\n",
    "    pickle.dump(noise_dict, handle)"
   ]
  },
  {
   "cell_type": "code",
   "execution_count": 15,
   "metadata": {},
   "outputs": [],
   "source": [
    "tmp_dir_list = glob.glob(speech_dir+'/*/*.wav')\n",
    "for count, this_dir in enumerate(tmp_dir_list):\n",
    "    babble_dict[count] = this_dir\n",
    "with open(babble_dict_out, 'wb') as handle:\n",
    "    pickle.dump(babble_dict, handle)"
   ]
  },
  {
   "cell_type": "code",
   "execution_count": 16,
   "metadata": {},
   "outputs": [],
   "source": [
    "tmp_dir_list = glob.glob(rir_dir+'/simulated_rirs/smallroom/*/*.wav')\n",
    "for count, this_dir in enumerate(tmp_dir_list):\n",
    "    rir_dict[count] = this_dir\n",
    "tmp_dir_list = glob.glob(rir_dir+'/simulated_rirs/mediumroom/*/*.wav')\n",
    "for count_2, this_dir in enumerate(tmp_dir_list):\n",
    "    rir_dict[count +1 + count_2] = this_dir\n",
    "\n",
    "with open(rir_dict_out, 'wb') as handle:\n",
    "    pickle.dump(rir_dict, handle)"
   ]
  },
  {
   "cell_type": "code",
   "execution_count": 17,
   "metadata": {},
   "outputs": [],
   "source": [
    "music_len_dict = {}\n",
    "noise_len_dict = {}\n",
    "babble_len_dict = {}\n",
    "spk2utt_train_len_dict = {}\n",
    "spk2utt_val_len_dict = {}"
   ]
  },
  {
   "cell_type": "code",
   "execution_count": 19,
   "metadata": {},
   "outputs": [],
   "source": [
    "with open(music_dict_out, 'rb') as handle:\n",
    "    music_dict = pickle.load(handle)\n",
    "\n",
    "for i in music_dict:\n",
    "    music_len_dict[i] = librosa.core.load(music_dict[i], sr=16000)[0].shape[0]\n",
    "\n",
    "with open(music_len, 'wb') as handle:\n",
    "    pickle.dump(music_len_dict, handle)"
   ]
  },
  {
   "cell_type": "code",
   "execution_count": 20,
   "metadata": {},
   "outputs": [],
   "source": [
    "with open(noise_dict_out, 'rb') as handle:\n",
    "    noise_dict = pickle.load(handle)\n",
    "\n",
    "for i in noise_dict:\n",
    "    noise_len_dict[i] = librosa.core.load(noise_dict[i], sr=16000)[0].shape[0]\n",
    "\n",
    "with open(noise_len, 'wb') as handle:\n",
    "    pickle.dump(noise_len_dict, handle)"
   ]
  },
  {
   "cell_type": "code",
   "execution_count": 21,
   "metadata": {},
   "outputs": [],
   "source": [
    "with open(babble_dict_out, 'rb') as handle:\n",
    "    babble_dict = pickle.load(handle)\n",
    "\n",
    "for i in babble_dict:\n",
    "    babble_len_dict[i] = librosa.core.load(babble_dict[i], sr=16000)[0].shape[0]\n",
    "\n",
    "with open(babble_len, 'wb') as handle:\n",
    "    pickle.dump(babble_len_dict, handle)"
   ]
  }
 ],
 "metadata": {
  "kernelspec": {
   "display_name": "Python 3",
   "language": "python",
   "name": "python3"
  },
  "language_info": {
   "codemirror_mode": {
    "name": "ipython",
    "version": 3
   },
   "file_extension": ".py",
   "mimetype": "text/x-python",
   "name": "python",
   "nbconvert_exporter": "python",
   "pygments_lexer": "ipython3",
   "version": "3.7.7"
  }
 },
 "nbformat": 4,
 "nbformat_minor": 2
}
