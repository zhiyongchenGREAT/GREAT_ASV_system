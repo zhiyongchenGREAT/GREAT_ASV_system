{
 "cells": [
  {
   "cell_type": "code",
   "execution_count": 1,
   "metadata": {},
   "outputs": [],
   "source": [
    "import os"
   ]
  },
  {
   "cell_type": "markdown",
   "metadata": {},
   "source": [
    "# SRE_SWBD"
   ]
  },
  {
   "cell_type": "code",
   "execution_count": 19,
   "metadata": {},
   "outputs": [],
   "source": [
    "PATH = \"/workspace/kaldi/egs/sre16/v2/data/swbd_sre/wav.scp\"\n",
    "UTT_SPK = \"/workspace/kaldi/egs/sre16/v2/data/swbd_sre/utt2spk\"\n",
    "OUT_DIR_PATH = '/workspace/DATASET/server9/SRE_SWBD_WAV/SRE16_TRAIN'"
   ]
  },
  {
   "cell_type": "code",
   "execution_count": 15,
   "metadata": {},
   "outputs": [],
   "source": [
    "with open(PATH, 'r') as f:\n",
    "    wavscp = f.readlines()"
   ]
  },
  {
   "cell_type": "code",
   "execution_count": 16,
   "metadata": {},
   "outputs": [
    {
     "data": {
      "text/plain": [
       "'100304-sre06-kacg-a sph2pipe -f wav -p -c 1 /workspace/DATASET/server9/SRE06/r108_1_1/train/data/kacg.sph |\\n'"
      ]
     },
     "execution_count": 16,
     "metadata": {},
     "output_type": "execute_result"
    }
   ],
   "source": [
    "wavscp[0]"
   ]
  },
  {
   "cell_type": "code",
   "execution_count": 18,
   "metadata": {},
   "outputs": [
    {
     "data": {
      "text/plain": [
       "91263"
      ]
     },
     "execution_count": 18,
     "metadata": {},
     "output_type": "execute_result"
    }
   ],
   "source": [
    "len(wavscp)"
   ]
  },
  {
   "cell_type": "code",
   "execution_count": 20,
   "metadata": {},
   "outputs": [],
   "source": [
    "with open(UTT_SPK, 'r') as f:\n",
    "    utt2spk = f.readlines()"
   ]
  },
  {
   "cell_type": "code",
   "execution_count": 21,
   "metadata": {},
   "outputs": [
    {
     "data": {
      "text/plain": [
       "91263"
      ]
     },
     "execution_count": 21,
     "metadata": {},
     "output_type": "execute_result"
    }
   ],
   "source": [
    "len(utt2spk)"
   ]
  },
  {
   "cell_type": "code",
   "execution_count": 40,
   "metadata": {},
   "outputs": [],
   "source": [
    "wavscp_dict = {}\n",
    "for i in wavscp:\n",
    "    a = i.split(' ', 1)\n",
    "    assert len(a) == 2\n",
    "    wavscp_dict[a[0]] = a[1][:-1]"
   ]
  },
  {
   "cell_type": "code",
   "execution_count": 28,
   "metadata": {},
   "outputs": [],
   "source": [
    "utt2spk_dict = {}\n",
    "for i in utt2spk:\n",
    "    a = i.split(' ')\n",
    "    assert len(a) == 2\n",
    "    utt2spk_dict[a[0]] = a[1][:-1]"
   ]
  },
  {
   "cell_type": "code",
   "execution_count": null,
   "metadata": {},
   "outputs": [
    {
     "name": "stdout",
     "output_type": "stream",
     "text": [
      "1000\n",
      "2000\n",
      "3000\n",
      "4000\n",
      "5000\n",
      "6000\n",
      "7000\n",
      "8000\n",
      "9000\n",
      "10000\n",
      "11000\n",
      "12000\n",
      "13000\n",
      "14000\n",
      "15000\n",
      "16000\n",
      "17000\n",
      "18000\n",
      "19000\n",
      "20000\n",
      "21000\n",
      "22000\n",
      "23000\n",
      "24000\n",
      "25000\n",
      "26000\n",
      "27000\n",
      "28000\n",
      "29000\n",
      "30000\n",
      "31000\n",
      "32000\n",
      "33000\n",
      "34000\n",
      "35000\n",
      "36000\n",
      "37000\n",
      "38000\n",
      "39000\n",
      "40000\n",
      "41000\n",
      "42000\n",
      "43000\n",
      "44000\n",
      "45000\n",
      "46000\n",
      "47000\n",
      "48000\n",
      "49000\n",
      "50000\n",
      "51000\n",
      "52000\n",
      "53000\n",
      "54000\n",
      "55000\n",
      "56000\n",
      "57000\n",
      "58000\n",
      "59000\n",
      "60000\n",
      "61000\n",
      "62000\n",
      "63000\n",
      "64000\n",
      "65000\n",
      "66000\n",
      "67000\n",
      "68000\n",
      "69000\n",
      "70000\n",
      "71000\n",
      "72000\n",
      "73000\n",
      "74000\n",
      "75000\n",
      "76000\n",
      "77000\n",
      "78000\n",
      "79000\n",
      "80000\n"
     ]
    }
   ],
   "source": [
    "err = []\n",
    "for count, utt in enumerate(wavscp_dict):\n",
    "    spk = utt2spk_dict[utt]\n",
    "    if not os.path.exists(os.path.join(OUT_DIR_PATH, spk)):\n",
    "        os.mkdir(os.path.join(OUT_DIR_PATH, spk))\n",
    "    [a, b] = subprocess.getstatusoutput('. ./path.sh && '+wavscp_dict[utt][:-1]+'> '+os.path.join(OUT_DIR_PATH, spk, utt)+'.wav')    \n",
    "    if a != 0:\n",
    "        err.append(utt)\n",
    "    if (count+1)%1000 == 0:\n",
    "        print(count+1)"
   ]
  },
  {
   "cell_type": "code",
   "execution_count": 66,
   "metadata": {},
   "outputs": [
    {
     "data": {
      "text/plain": [
       "91262"
      ]
     },
     "execution_count": 66,
     "metadata": {},
     "output_type": "execute_result"
    }
   ],
   "source": [
    "count"
   ]
  },
  {
   "cell_type": "code",
   "execution_count": 68,
   "metadata": {},
   "outputs": [
    {
     "data": {
      "text/plain": [
       "['100924-sre06-kbgz-a', '101762-sre06-kbgz-b']"
      ]
     },
     "execution_count": 68,
     "metadata": {},
     "output_type": "execute_result"
    }
   ],
   "source": [
    "err"
   ]
  },
  {
   "cell_type": "markdown",
   "metadata": {},
   "source": [
    "## NOTE: clean the incorrect utt manually (Utt should be 91261)"
   ]
  },
  {
   "cell_type": "markdown",
   "metadata": {},
   "source": [
    "# SRE16 enroll"
   ]
  },
  {
   "cell_type": "code",
   "execution_count": 77,
   "metadata": {},
   "outputs": [],
   "source": [
    "PATH = \"/workspace/kaldi/egs/sre16/v2/data/sre16_eval_enroll/wav.scp\"\n",
    "UTT_SPK = \"/workspace/kaldi/egs/sre16/v2/data/sre16_eval_enroll/utt2spk\"\n",
    "OUT_DIR_PATH = '/workspace/DATASET/server9/SRE16_TEST/Enroll'"
   ]
  },
  {
   "cell_type": "code",
   "execution_count": 78,
   "metadata": {},
   "outputs": [],
   "source": [
    "with open(PATH, 'r') as f:\n",
    "    wavscp = f.readlines()"
   ]
  },
  {
   "cell_type": "code",
   "execution_count": 79,
   "metadata": {},
   "outputs": [
    {
     "data": {
      "text/plain": [
       "'1081_sre16-eeppywd_sre16 sph2pipe -f wav -p -c 1 /workspace/DATASET/server9/LDC2018E30_2016_NIST_Speaker_Recognition_Evaluation_Test_Set/data/eval/R149_0_1/data/enrollment/eeaaeih-eezzfam/eeppywd_sre16.sph |\\n'"
      ]
     },
     "execution_count": 79,
     "metadata": {},
     "output_type": "execute_result"
    }
   ],
   "source": [
    "wavscp[0]"
   ]
  },
  {
   "cell_type": "code",
   "execution_count": 80,
   "metadata": {},
   "outputs": [
    {
     "data": {
      "text/plain": [
       "1202"
      ]
     },
     "execution_count": 80,
     "metadata": {},
     "output_type": "execute_result"
    }
   ],
   "source": [
    "len(wavscp)"
   ]
  },
  {
   "cell_type": "code",
   "execution_count": 81,
   "metadata": {},
   "outputs": [],
   "source": [
    "with open(UTT_SPK, 'r') as f:\n",
    "    utt2spk = f.readlines()"
   ]
  },
  {
   "cell_type": "code",
   "execution_count": 82,
   "metadata": {},
   "outputs": [
    {
     "data": {
      "text/plain": [
       "1202"
      ]
     },
     "execution_count": 82,
     "metadata": {},
     "output_type": "execute_result"
    }
   ],
   "source": [
    "len(utt2spk)"
   ]
  },
  {
   "cell_type": "code",
   "execution_count": 83,
   "metadata": {},
   "outputs": [],
   "source": [
    "wavscp_dict = {}\n",
    "for i in wavscp:\n",
    "    a = i.split(' ', 1)\n",
    "    assert len(a) == 2\n",
    "    wavscp_dict[a[0]] = a[1][:-1]"
   ]
  },
  {
   "cell_type": "code",
   "execution_count": 84,
   "metadata": {},
   "outputs": [],
   "source": [
    "utt2spk_dict = {}\n",
    "for i in utt2spk:\n",
    "    a = i.split(' ')\n",
    "    assert len(a) == 2\n",
    "    utt2spk_dict[a[0]] = a[1][:-1]"
   ]
  },
  {
   "cell_type": "code",
   "execution_count": 86,
   "metadata": {},
   "outputs": [
    {
     "name": "stdout",
     "output_type": "stream",
     "text": [
      "1000\n"
     ]
    }
   ],
   "source": [
    "err = []\n",
    "for count, utt in enumerate(wavscp_dict):\n",
    "    spk = utt2spk_dict[utt]\n",
    "    if not os.path.exists(os.path.join(OUT_DIR_PATH, spk)):\n",
    "        os.mkdir(os.path.join(OUT_DIR_PATH, spk))\n",
    "    [a, b] = subprocess.getstatusoutput('. ./path.sh && '+wavscp_dict[utt][:-1]+'> '+os.path.join(OUT_DIR_PATH, spk, utt)+'.wav')    \n",
    "    if a != 0:\n",
    "        err.append(utt)\n",
    "    if (count+1)%1000 == 0:\n",
    "        print(count+1)"
   ]
  },
  {
   "cell_type": "markdown",
   "metadata": {},
   "source": [
    "# SRE16 test"
   ]
  },
  {
   "cell_type": "code",
   "execution_count": 87,
   "metadata": {},
   "outputs": [],
   "source": [
    "PATH = \"/workspace/kaldi/egs/sre16/v2/data/sre16_eval_test/wav.scp\"\n",
    "# UTT_SPK = \"/workspace/kaldi/egs/sre16/v2/data/sre16_eval_enroll/utt2spk\"\n",
    "OUT_DIR_PATH = '/workspace/DATASET/server9/SRE16_TEST/Eval'"
   ]
  },
  {
   "cell_type": "code",
   "execution_count": 88,
   "metadata": {},
   "outputs": [],
   "source": [
    "with open(PATH, 'r') as f:\n",
    "    wavscp = f.readlines()"
   ]
  },
  {
   "cell_type": "code",
   "execution_count": 89,
   "metadata": {},
   "outputs": [
    {
     "data": {
      "text/plain": [
       "'etaaeye_sre16 sph2pipe -f wav -p -c 1 /workspace/DATASET/server9/LDC2018E30_2016_NIST_Speaker_Recognition_Evaluation_Test_Set/data/eval/R149_0_1/data/test/etaabbz-etmvnjj/etaaeye_sre16.sph |\\n'"
      ]
     },
     "execution_count": 89,
     "metadata": {},
     "output_type": "execute_result"
    }
   ],
   "source": [
    "wavscp[0]"
   ]
  },
  {
   "cell_type": "code",
   "execution_count": 90,
   "metadata": {},
   "outputs": [
    {
     "data": {
      "text/plain": [
       "9294"
      ]
     },
     "execution_count": 90,
     "metadata": {},
     "output_type": "execute_result"
    }
   ],
   "source": [
    "len(wavscp)"
   ]
  },
  {
   "cell_type": "code",
   "execution_count": 91,
   "metadata": {},
   "outputs": [],
   "source": [
    "wavscp_dict = {}\n",
    "for i in wavscp:\n",
    "    a = i.split(' ', 1)\n",
    "    assert len(a) == 2\n",
    "    wavscp_dict[a[0]] = a[1][:-1]"
   ]
  },
  {
   "cell_type": "code",
   "execution_count": 92,
   "metadata": {},
   "outputs": [
    {
     "name": "stdout",
     "output_type": "stream",
     "text": [
      "1000\n",
      "2000\n",
      "3000\n",
      "4000\n",
      "5000\n",
      "6000\n",
      "7000\n",
      "8000\n",
      "9000\n"
     ]
    }
   ],
   "source": [
    "err = []\n",
    "for count, utt in enumerate(wavscp_dict):\n",
    "    [a, b] = subprocess.getstatusoutput('. ./path.sh && '+wavscp_dict[utt][:-1]+'> '+os.path.join(OUT_DIR_PATH, utt)+'.wav')    \n",
    "    if a != 0:\n",
    "        err.append(utt)\n",
    "    if (count+1)%1000 == 0:\n",
    "        print(count+1)"
   ]
  },
  {
   "cell_type": "code",
   "execution_count": 94,
   "metadata": {},
   "outputs": [
    {
     "data": {
      "text/plain": [
       "9293"
      ]
     },
     "execution_count": 94,
     "metadata": {},
     "output_type": "execute_result"
    }
   ],
   "source": [
    "count"
   ]
  },
  {
   "cell_type": "markdown",
   "metadata": {},
   "source": [
    "# SRE16 unlabled"
   ]
  },
  {
   "cell_type": "code",
   "execution_count": 95,
   "metadata": {},
   "outputs": [],
   "source": [
    "PATH = \"/workspace/kaldi/egs/sre16/v2/data/sre16_major/wav.scp\"\n",
    "# UTT_SPK = \"/workspace/kaldi/egs/sre16/v2/data/sre16_eval_enroll/utt2spk\"\n",
    "OUT_DIR_PATH = '/workspace/DATASET/server9/SRE16_TEST/Unlabeled'"
   ]
  },
  {
   "cell_type": "code",
   "execution_count": 96,
   "metadata": {},
   "outputs": [],
   "source": [
    "with open(PATH, 'r') as f:\n",
    "    wavscp = f.readlines()"
   ]
  },
  {
   "cell_type": "code",
   "execution_count": 97,
   "metadata": {},
   "outputs": [
    {
     "data": {
      "text/plain": [
       "'duaaaenv_sre16 sph2pipe -f wav -p -c 1 /workspace/DATASET/server9/LDC2018E47_2016_NIST_Speaker_Recognition_Evaluation_Development_Set/data/unlabeled/major/duaaaenv-duazzvli/duaaaenv_sre16.sph |\\n'"
      ]
     },
     "execution_count": 97,
     "metadata": {},
     "output_type": "execute_result"
    }
   ],
   "source": [
    "wavscp[0]"
   ]
  },
  {
   "cell_type": "code",
   "execution_count": 98,
   "metadata": {},
   "outputs": [
    {
     "data": {
      "text/plain": [
       "2272"
      ]
     },
     "execution_count": 98,
     "metadata": {},
     "output_type": "execute_result"
    }
   ],
   "source": [
    "len(wavscp)"
   ]
  },
  {
   "cell_type": "code",
   "execution_count": 99,
   "metadata": {},
   "outputs": [],
   "source": [
    "wavscp_dict = {}\n",
    "for i in wavscp:\n",
    "    a = i.split(' ', 1)\n",
    "    assert len(a) == 2\n",
    "    wavscp_dict[a[0]] = a[1][:-1]"
   ]
  },
  {
   "cell_type": "code",
   "execution_count": 100,
   "metadata": {},
   "outputs": [
    {
     "name": "stdout",
     "output_type": "stream",
     "text": [
      "1000\n",
      "2000\n"
     ]
    }
   ],
   "source": [
    "err = []\n",
    "for count, utt in enumerate(wavscp_dict):\n",
    "    [a, b] = subprocess.getstatusoutput('. ./path.sh && '+wavscp_dict[utt][:-1]+'> '+os.path.join(OUT_DIR_PATH, utt)+'.wav')    \n",
    "    if a != 0:\n",
    "        err.append(utt)\n",
    "    if (count+1)%1000 == 0:\n",
    "        print(count+1)"
   ]
  },
  {
   "cell_type": "code",
   "execution_count": 94,
   "metadata": {},
   "outputs": [
    {
     "data": {
      "text/plain": [
       "9293"
      ]
     },
     "execution_count": 94,
     "metadata": {},
     "output_type": "execute_result"
    }
   ],
   "source": [
    "count"
   ]
  },
  {
   "cell_type": "markdown",
   "metadata": {},
   "source": [
    "# SRE18 dev enroll"
   ]
  },
  {
   "cell_type": "code",
   "execution_count": 159,
   "metadata": {},
   "outputs": [],
   "source": [
    "PATH = \"/workspace/kaldi/egs/sre16/v2/data/sre18_dev_enroll/wav.scp\"\n",
    "UTT_SPK = \"/workspace/kaldi/egs/sre16/v2/data/sre18_dev_enroll/utt2spk\"\n",
    "OUT_DIR_PATH = '/workspace/DATASET/server9/SRE18_DEV/Enroll'"
   ]
  },
  {
   "cell_type": "code",
   "execution_count": 160,
   "metadata": {},
   "outputs": [],
   "source": [
    "with open(PATH, 'r') as f:\n",
    "    wavscp = f.readlines()"
   ]
  },
  {
   "cell_type": "code",
   "execution_count": 162,
   "metadata": {},
   "outputs": [
    {
     "data": {
      "text/plain": [
       "'1001_sre18-dlrdnskt_sre18 sph2pipe -f wav -p -c 1 /workspace/DATASET/server9/LDC2018E46_2018_NIST_Speaker_Recognition_Evaluation_Development_Set/data/enrollment/dlrdnskt_sre18.sph |\\n'"
      ]
     },
     "execution_count": 162,
     "metadata": {},
     "output_type": "execute_result"
    }
   ],
   "source": [
    "wavscp[0]"
   ]
  },
  {
   "cell_type": "code",
   "execution_count": 163,
   "metadata": {},
   "outputs": [
    {
     "data": {
      "text/plain": [
       "175"
      ]
     },
     "execution_count": 163,
     "metadata": {},
     "output_type": "execute_result"
    }
   ],
   "source": [
    "len(wavscp)"
   ]
  },
  {
   "cell_type": "code",
   "execution_count": 164,
   "metadata": {},
   "outputs": [],
   "source": [
    "with open(UTT_SPK, 'r') as f:\n",
    "    utt2spk = f.readlines()"
   ]
  },
  {
   "cell_type": "code",
   "execution_count": 165,
   "metadata": {},
   "outputs": [
    {
     "data": {
      "text/plain": [
       "175"
      ]
     },
     "execution_count": 165,
     "metadata": {},
     "output_type": "execute_result"
    }
   ],
   "source": [
    "len(utt2spk)"
   ]
  },
  {
   "cell_type": "code",
   "execution_count": 166,
   "metadata": {},
   "outputs": [],
   "source": [
    "wavscp_dict = {}\n",
    "for i in wavscp:\n",
    "    a = i.split(' ', 1)\n",
    "    assert len(a) == 2\n",
    "    wavscp_dict[a[0]] = a[1][:-1]"
   ]
  },
  {
   "cell_type": "code",
   "execution_count": 167,
   "metadata": {},
   "outputs": [],
   "source": [
    "utt2spk_dict = {}\n",
    "for i in utt2spk:\n",
    "    a = i.split(' ')\n",
    "    assert len(a) == 2\n",
    "    utt2spk_dict[a[0]] = a[1][:-1]"
   ]
  },
  {
   "cell_type": "code",
   "execution_count": 168,
   "metadata": {},
   "outputs": [],
   "source": [
    "err = []\n",
    "for count, utt in enumerate(wavscp_dict):\n",
    "    spk = utt2spk_dict[utt]\n",
    "    if not os.path.exists(os.path.join(OUT_DIR_PATH, spk)):\n",
    "        os.mkdir(os.path.join(OUT_DIR_PATH, spk))\n",
    "    [a, b] = subprocess.getstatusoutput('. ./path.sh && '+wavscp_dict[utt][:-1]+'> '+os.path.join(OUT_DIR_PATH, spk, utt)+'.wav')    \n",
    "    if a != 0:\n",
    "        err.append(utt)\n",
    "    if (count+1)%1000 == 0:\n",
    "        print(count+1)"
   ]
  },
  {
   "cell_type": "code",
   "execution_count": 169,
   "metadata": {},
   "outputs": [
    {
     "data": {
      "text/plain": [
       "174"
      ]
     },
     "execution_count": 169,
     "metadata": {},
     "output_type": "execute_result"
    }
   ],
   "source": [
    "count"
   ]
  },
  {
   "cell_type": "code",
   "execution_count": 170,
   "metadata": {},
   "outputs": [
    {
     "data": {
      "text/plain": [
       "[]"
      ]
     },
     "execution_count": 170,
     "metadata": {},
     "output_type": "execute_result"
    }
   ],
   "source": [
    "err"
   ]
  },
  {
   "cell_type": "markdown",
   "metadata": {},
   "source": [
    "# SRE18 dev test"
   ]
  },
  {
   "cell_type": "code",
   "execution_count": 171,
   "metadata": {},
   "outputs": [],
   "source": [
    "PATH = \"/workspace/kaldi/egs/sre16/v2/data/sre18_dev_test/wav.scp\"\n",
    "# UTT_SPK = \"/workspace/kaldi/egs/sre16/v2/data/sre16_eval_enroll/utt2spk\"\n",
    "OUT_DIR_PATH = '/workspace/DATASET/server9/SRE18_DEV/Eval'"
   ]
  },
  {
   "cell_type": "code",
   "execution_count": 172,
   "metadata": {},
   "outputs": [],
   "source": [
    "with open(PATH, 'r') as f:\n",
    "    wavscp = f.readlines()"
   ]
  },
  {
   "cell_type": "code",
   "execution_count": 173,
   "metadata": {},
   "outputs": [
    {
     "data": {
      "text/plain": [
       "'aadxhatk_sre18 sph2pipe -f wav -p -c 1 /workspace/DATASET/server9/LDC2018E46_2018_NIST_Speaker_Recognition_Evaluation_Development_Set/data/test/aadxhatk_sre18.sph |\\n'"
      ]
     },
     "execution_count": 173,
     "metadata": {},
     "output_type": "execute_result"
    }
   ],
   "source": [
    "wavscp[0]"
   ]
  },
  {
   "cell_type": "code",
   "execution_count": 174,
   "metadata": {},
   "outputs": [
    {
     "data": {
      "text/plain": [
       "1566"
      ]
     },
     "execution_count": 174,
     "metadata": {},
     "output_type": "execute_result"
    }
   ],
   "source": [
    "len(wavscp)"
   ]
  },
  {
   "cell_type": "code",
   "execution_count": 175,
   "metadata": {},
   "outputs": [],
   "source": [
    "wavscp_dict = {}\n",
    "for i in wavscp:\n",
    "    a = i.split(' ', 1)\n",
    "    assert len(a) == 2\n",
    "    wavscp_dict[a[0]] = a[1][:-1]"
   ]
  },
  {
   "cell_type": "code",
   "execution_count": 176,
   "metadata": {},
   "outputs": [
    {
     "name": "stdout",
     "output_type": "stream",
     "text": [
      "1000\n"
     ]
    }
   ],
   "source": [
    "err = []\n",
    "for count, utt in enumerate(wavscp_dict):\n",
    "    [a, b] = subprocess.getstatusoutput('. ./path.sh && '+wavscp_dict[utt][:-1]+'> '+os.path.join(OUT_DIR_PATH, utt)+'.wav')    \n",
    "    if a != 0:\n",
    "        err.append(utt)\n",
    "    if (count+1)%1000 == 0:\n",
    "        print(count+1)"
   ]
  },
  {
   "cell_type": "code",
   "execution_count": 177,
   "metadata": {},
   "outputs": [
    {
     "data": {
      "text/plain": [
       "1565"
      ]
     },
     "execution_count": 177,
     "metadata": {},
     "output_type": "execute_result"
    }
   ],
   "source": [
    "count"
   ]
  },
  {
   "cell_type": "code",
   "execution_count": 178,
   "metadata": {},
   "outputs": [
    {
     "data": {
      "text/plain": [
       "[]"
      ]
     },
     "execution_count": 178,
     "metadata": {},
     "output_type": "execute_result"
    }
   ],
   "source": [
    "err"
   ]
  },
  {
   "cell_type": "code",
   "execution_count": null,
   "metadata": {},
   "outputs": [],
   "source": []
  },
  {
   "cell_type": "markdown",
   "metadata": {},
   "source": [
    "# SRE18 test enroll"
   ]
  },
  {
   "cell_type": "code",
   "execution_count": 179,
   "metadata": {},
   "outputs": [],
   "source": [
    "PATH = \"/workspace/kaldi/egs/sre16/v2/data/sre18_test_enroll/wav.scp\"\n",
    "UTT_SPK = \"/workspace/kaldi/egs/sre16/v2/data/sre18_test_enroll/utt2spk\"\n",
    "OUT_DIR_PATH = '/workspace/DATASET/server9/SRE18_TEST/Enroll'"
   ]
  },
  {
   "cell_type": "code",
   "execution_count": 180,
   "metadata": {},
   "outputs": [],
   "source": [
    "with open(PATH, 'r') as f:\n",
    "    wavscp = f.readlines()"
   ]
  },
  {
   "cell_type": "code",
   "execution_count": 181,
   "metadata": {},
   "outputs": [
    {
     "data": {
      "text/plain": [
       "'1126_sre18-yqxltsco_sre18 sph2pipe -f wav -p -c 1 /workspace/DATASET/server9/LDC2018E51/data/enrollment/yqxltsco_sre18.sph |\\n'"
      ]
     },
     "execution_count": 181,
     "metadata": {},
     "output_type": "execute_result"
    }
   ],
   "source": [
    "wavscp[0]"
   ]
  },
  {
   "cell_type": "code",
   "execution_count": 182,
   "metadata": {},
   "outputs": [
    {
     "data": {
      "text/plain": [
       "1316"
      ]
     },
     "execution_count": 182,
     "metadata": {},
     "output_type": "execute_result"
    }
   ],
   "source": [
    "len(wavscp)"
   ]
  },
  {
   "cell_type": "code",
   "execution_count": 183,
   "metadata": {},
   "outputs": [],
   "source": [
    "with open(UTT_SPK, 'r') as f:\n",
    "    utt2spk = f.readlines()"
   ]
  },
  {
   "cell_type": "code",
   "execution_count": 184,
   "metadata": {},
   "outputs": [
    {
     "data": {
      "text/plain": [
       "1316"
      ]
     },
     "execution_count": 184,
     "metadata": {},
     "output_type": "execute_result"
    }
   ],
   "source": [
    "len(utt2spk)"
   ]
  },
  {
   "cell_type": "code",
   "execution_count": 185,
   "metadata": {},
   "outputs": [],
   "source": [
    "wavscp_dict = {}\n",
    "for i in wavscp:\n",
    "    a = i.split(' ', 1)\n",
    "    assert len(a) == 2\n",
    "    wavscp_dict[a[0]] = a[1][:-1]"
   ]
  },
  {
   "cell_type": "code",
   "execution_count": 186,
   "metadata": {},
   "outputs": [],
   "source": [
    "utt2spk_dict = {}\n",
    "for i in utt2spk:\n",
    "    a = i.split(' ')\n",
    "    assert len(a) == 2\n",
    "    utt2spk_dict[a[0]] = a[1][:-1]"
   ]
  },
  {
   "cell_type": "code",
   "execution_count": 187,
   "metadata": {},
   "outputs": [
    {
     "name": "stdout",
     "output_type": "stream",
     "text": [
      "1000\n"
     ]
    }
   ],
   "source": [
    "err = []\n",
    "for count, utt in enumerate(wavscp_dict):\n",
    "    spk = utt2spk_dict[utt]\n",
    "    if not os.path.exists(os.path.join(OUT_DIR_PATH, spk)):\n",
    "        os.mkdir(os.path.join(OUT_DIR_PATH, spk))\n",
    "    [a, b] = subprocess.getstatusoutput('. ./path.sh && '+wavscp_dict[utt][:-1]+'> '+os.path.join(OUT_DIR_PATH, spk, utt)+'.wav')    \n",
    "    if a != 0:\n",
    "        err.append(utt)\n",
    "    if (count+1)%1000 == 0:\n",
    "        print(count+1)"
   ]
  },
  {
   "cell_type": "code",
   "execution_count": 188,
   "metadata": {},
   "outputs": [
    {
     "data": {
      "text/plain": [
       "1315"
      ]
     },
     "execution_count": 188,
     "metadata": {},
     "output_type": "execute_result"
    }
   ],
   "source": [
    "count"
   ]
  },
  {
   "cell_type": "code",
   "execution_count": 189,
   "metadata": {},
   "outputs": [
    {
     "data": {
      "text/plain": [
       "[]"
      ]
     },
     "execution_count": 189,
     "metadata": {},
     "output_type": "execute_result"
    }
   ],
   "source": [
    "err"
   ]
  },
  {
   "cell_type": "markdown",
   "metadata": {},
   "source": [
    "# SRE18 test test"
   ]
  },
  {
   "cell_type": "code",
   "execution_count": 190,
   "metadata": {},
   "outputs": [],
   "source": [
    "# SRE16 unlabled\n",
    "\n",
    "PATH = \"/workspace/kaldi/egs/sre16/v2/data/sre16_major/wav.scp\"\n",
    "# UTT_SPK = \"/workspace/kaldi/egs/sre16/v2/data/sre16_eval_enroll/utt2spk\"\n",
    "OUT_DIR_PATH = '/workspace/DATASET/server9/SRE16_TEST/Unlabeled'"
   ]
  },
  {
   "cell_type": "code",
   "execution_count": 191,
   "metadata": {},
   "outputs": [],
   "source": [
    "with open(PATH, 'r') as f:\n",
    "    wavscp = f.readlines()"
   ]
  },
  {
   "cell_type": "code",
   "execution_count": 192,
   "metadata": {},
   "outputs": [
    {
     "data": {
      "text/plain": [
       "'aaaeuhnc_sre18 sph2pipe -f wav -p -c 1 /workspace/DATASET/server9/LDC2018E51/data/test/aaaeuhnc_sre18.sph |\\n'"
      ]
     },
     "execution_count": 192,
     "metadata": {},
     "output_type": "execute_result"
    }
   ],
   "source": [
    "wavscp[0]"
   ]
  },
  {
   "cell_type": "code",
   "execution_count": 193,
   "metadata": {},
   "outputs": [
    {
     "data": {
      "text/plain": [
       "12135"
      ]
     },
     "execution_count": 193,
     "metadata": {},
     "output_type": "execute_result"
    }
   ],
   "source": [
    "len(wavscp)"
   ]
  },
  {
   "cell_type": "code",
   "execution_count": 194,
   "metadata": {},
   "outputs": [],
   "source": [
    "wavscp_dict = {}\n",
    "for i in wavscp:\n",
    "    a = i.split(' ', 1)\n",
    "    assert len(a) == 2\n",
    "    wavscp_dict[a[0]] = a[1][:-1]"
   ]
  },
  {
   "cell_type": "code",
   "execution_count": 195,
   "metadata": {},
   "outputs": [
    {
     "name": "stdout",
     "output_type": "stream",
     "text": [
      "1000\n",
      "2000\n",
      "3000\n",
      "4000\n",
      "5000\n",
      "6000\n",
      "7000\n",
      "8000\n",
      "9000\n",
      "10000\n",
      "11000\n",
      "12000\n"
     ]
    }
   ],
   "source": [
    "err = []\n",
    "for count, utt in enumerate(wavscp_dict):\n",
    "    [a, b] = subprocess.getstatusoutput('. ./path.sh && '+wavscp_dict[utt][:-1]+'> '+os.path.join(OUT_DIR_PATH, utt)+'.wav')    \n",
    "    if a != 0:\n",
    "        err.append(utt)\n",
    "    if (count+1)%1000 == 0:\n",
    "        print(count+1)"
   ]
  },
  {
   "cell_type": "code",
   "execution_count": 196,
   "metadata": {},
   "outputs": [
    {
     "data": {
      "text/plain": [
       "12134"
      ]
     },
     "execution_count": 196,
     "metadata": {},
     "output_type": "execute_result"
    }
   ],
   "source": [
    "count"
   ]
  },
  {
   "cell_type": "code",
   "execution_count": 197,
   "metadata": {},
   "outputs": [
    {
     "data": {
      "text/plain": [
       "[]"
      ]
     },
     "execution_count": 197,
     "metadata": {},
     "output_type": "execute_result"
    }
   ],
   "source": [
    "err"
   ]
  },
  {
   "cell_type": "markdown",
   "metadata": {},
   "source": [
    "# SRE18 unlabled"
   ]
  },
  {
   "cell_type": "code",
   "execution_count": 198,
   "metadata": {},
   "outputs": [],
   "source": [
    "PATH = \"/workspace/kaldi/egs/sre16/v2/data/sre18_major/wav.scp\"\n",
    "# UTT_SPK = \"/workspace/kaldi/egs/sre16/v2/data/sre16_eval_enroll/utt2spk\"\n",
    "OUT_DIR_PATH = '/workspace/DATASET/server9/SRE18_TEST/Unlabeled'"
   ]
  },
  {
   "cell_type": "code",
   "execution_count": 199,
   "metadata": {},
   "outputs": [],
   "source": [
    "with open(PATH, 'r') as f:\n",
    "    wavscp = f.readlines()"
   ]
  },
  {
   "cell_type": "code",
   "execution_count": 200,
   "metadata": {},
   "outputs": [
    {
     "data": {
      "text/plain": [
       "'aagpzchz_sre18 sph2pipe -f wav -p -c 1 /workspace/DATASET/server9/LDC2018E46_2018_NIST_Speaker_Recognition_Evaluation_Development_Set/data/unlabeled/aagpzchz_sre18.sph |\\n'"
      ]
     },
     "execution_count": 200,
     "metadata": {},
     "output_type": "execute_result"
    }
   ],
   "source": [
    "wavscp[0]"
   ]
  },
  {
   "cell_type": "code",
   "execution_count": 201,
   "metadata": {},
   "outputs": [
    {
     "data": {
      "text/plain": [
       "2332"
      ]
     },
     "execution_count": 201,
     "metadata": {},
     "output_type": "execute_result"
    }
   ],
   "source": [
    "len(wavscp)"
   ]
  },
  {
   "cell_type": "code",
   "execution_count": 202,
   "metadata": {},
   "outputs": [],
   "source": [
    "wavscp_dict = {}\n",
    "for i in wavscp:\n",
    "    a = i.split(' ', 1)\n",
    "    assert len(a) == 2\n",
    "    wavscp_dict[a[0]] = a[1][:-1]"
   ]
  },
  {
   "cell_type": "code",
   "execution_count": 203,
   "metadata": {},
   "outputs": [
    {
     "name": "stdout",
     "output_type": "stream",
     "text": [
      "1000\n",
      "2000\n"
     ]
    }
   ],
   "source": [
    "err = []\n",
    "for count, utt in enumerate(wavscp_dict):\n",
    "    [a, b] = subprocess.getstatusoutput('. ./path.sh && '+wavscp_dict[utt][:-1]+'> '+os.path.join(OUT_DIR_PATH, utt)+'.wav')    \n",
    "    if a != 0:\n",
    "        err.append(utt)\n",
    "    if (count+1)%1000 == 0:\n",
    "        print(count+1)"
   ]
  },
  {
   "cell_type": "code",
   "execution_count": 204,
   "metadata": {},
   "outputs": [
    {
     "data": {
      "text/plain": [
       "2331"
      ]
     },
     "execution_count": 204,
     "metadata": {},
     "output_type": "execute_result"
    }
   ],
   "source": [
    "count"
   ]
  },
  {
   "cell_type": "code",
   "execution_count": 206,
   "metadata": {},
   "outputs": [
    {
     "data": {
      "text/plain": [
       "[]"
      ]
     },
     "execution_count": 206,
     "metadata": {},
     "output_type": "execute_result"
    }
   ],
   "source": [
    "err"
   ]
  },
  {
   "cell_type": "markdown",
   "metadata": {},
   "source": [
    "# SRE18 Unlabel get Label"
   ]
  },
  {
   "cell_type": "code",
   "execution_count": 219,
   "metadata": {},
   "outputs": [],
   "source": [
    "SRE18_DEV_SEG_KEYS = '/workspace/DATASET/server9/LDC2018E46_2018_NIST_Speaker_Recognition_Evaluation_Development_Set/docs/sre18_dev_segment_key.tsv'\n",
    "OUT_DIR_PATH = '/workspace/DATASET/server9/SRE18_TEST/Unlabeled_WeakS'\n",
    "UNLABEL_DIR_PATH = '/workspace/DATASET/server9/SRE18_TEST/Unlabeled'"
   ]
  },
  {
   "cell_type": "code",
   "execution_count": 209,
   "metadata": {},
   "outputs": [],
   "source": [
    "with open(SRE18_DEV_SEG_KEYS, 'r') as f:\n",
    "    segs = f.readlines()"
   ]
  },
  {
   "cell_type": "code",
   "execution_count": 214,
   "metadata": {},
   "outputs": [
    {
     "data": {
      "text/plain": [
       "'segmentid\\tsubjectid\\tgender\\tpartition\\tphone_number\\tspeech_duration\\tdata_source\\n'"
      ]
     },
     "execution_count": 214,
     "metadata": {},
     "output_type": "execute_result"
    }
   ],
   "source": [
    "segs[0]"
   ]
  },
  {
   "cell_type": "code",
   "execution_count": 216,
   "metadata": {},
   "outputs": [
    {
     "data": {
      "text/plain": [
       "['aadxhatk_sre18.sph', '132584', 'male', 'test', '2145lpo', '53.20', 'cmn2\\n']"
      ]
     },
     "execution_count": 216,
     "metadata": {},
     "output_type": "execute_result"
    }
   ],
   "source": [
    "segs[1].split('\\t')"
   ]
  },
  {
   "cell_type": "code",
   "execution_count": 217,
   "metadata": {},
   "outputs": [],
   "source": [
    "utt2spk_dict = {}\n",
    "for count, i in enumerate(segs):\n",
    "    if count == 0:\n",
    "        continue\n",
    "    if i.split('\\t')[3] == 'unlabeled':\n",
    "        utt2spk_dict[i.split('\\t')[0]] = i.split('\\t')[4]"
   ]
  },
  {
   "cell_type": "code",
   "execution_count": 218,
   "metadata": {},
   "outputs": [
    {
     "data": {
      "text/plain": [
       "2332"
      ]
     },
     "execution_count": 218,
     "metadata": {},
     "output_type": "execute_result"
    }
   ],
   "source": [
    "len(utt2spk_dict)"
   ]
  },
  {
   "cell_type": "code",
   "execution_count": 220,
   "metadata": {},
   "outputs": [
    {
     "name": "stdout",
     "output_type": "stream",
     "text": [
      "1000\n",
      "2000\n"
     ]
    }
   ],
   "source": [
    "err = []\n",
    "for count, utt in enumerate(utt2spk_dict):\n",
    "    spk = utt2spk_dict[utt]\n",
    "    if not os.path.exists(os.path.join(OUT_DIR_PATH, spk)):\n",
    "        os.mkdir(os.path.join(OUT_DIR_PATH, spk))\n",
    "    \n",
    "    [a, b] = subprocess.getstatusoutput('cp '+os.path.join(UNLABEL_DIR_PATH, utt[:-4]+'.wav')+' '+\\\n",
    "                                       os.path.join(OUT_DIR_PATH, spk, utt[:-4]+'.wav'))    \n",
    "    if a != 0:\n",
    "        err.append(utt)\n",
    "    if (count+1)%1000 == 0:\n",
    "        print(count+1)"
   ]
  },
  {
   "cell_type": "code",
   "execution_count": 221,
   "metadata": {},
   "outputs": [
    {
     "data": {
      "text/plain": [
       "2331"
      ]
     },
     "execution_count": 221,
     "metadata": {},
     "output_type": "execute_result"
    }
   ],
   "source": [
    "count"
   ]
  },
  {
   "cell_type": "code",
   "execution_count": 222,
   "metadata": {},
   "outputs": [
    {
     "data": {
      "text/plain": [
       "[]"
      ]
     },
     "execution_count": 222,
     "metadata": {},
     "output_type": "execute_result"
    }
   ],
   "source": [
    "err"
   ]
  }
 ],
 "metadata": {
  "kernelspec": {
   "display_name": "Python 3",
   "language": "python",
   "name": "python3"
  },
  "language_info": {
   "codemirror_mode": {
    "name": "ipython",
    "version": 3
   },
   "file_extension": ".py",
   "mimetype": "text/x-python",
   "name": "python",
   "nbconvert_exporter": "python",
   "pygments_lexer": "ipython3",
   "version": "3.7.7"
  }
 },
 "nbformat": 4,
 "nbformat_minor": 4
}
