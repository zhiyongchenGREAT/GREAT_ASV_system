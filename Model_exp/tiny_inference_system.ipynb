{
 "cells": [
  {
   "cell_type": "code",
   "execution_count": 1,
   "metadata": {
    "scrolled": true
   },
   "outputs": [
    {
     "name": "stderr",
     "output_type": "stream",
     "text": [
      "\n",
      "Bad key \"text.kerning_factor\" on line 4 in\n",
      "/opt/conda/lib/python3.7/site-packages/matplotlib/mpl-data/stylelib/_classic_test_patch.mplstyle.\n",
      "You probably need to get an updated matplotlibrc file from\n",
      "https://github.com/matplotlib/matplotlib/blob/v3.1.3/matplotlibrc.template\n",
      "or from the matplotlib source distribution\n"
     ]
    }
   ],
   "source": [
    "import os\n",
    "import matplotlib.pyplot as plt\n",
    "%matplotlib inline"
   ]
  },
  {
   "cell_type": "code",
   "execution_count": 2,
   "metadata": {},
   "outputs": [],
   "source": [
    "import torch\n",
    "import sys\n",
    "import os\n",
    "import torch\n",
    "import numpy\n",
    "import importlib\n",
    "import torch.nn.functional as F\n",
    "from scipy.io import wavfile\n",
    "from collections import defaultdict\n",
    "\n",
    "from sklearn import manifold\n",
    "from torchsummary import summary\n",
    "import time\n",
    "\n",
    "from thop import profile"
   ]
  },
  {
   "cell_type": "code",
   "execution_count": 3,
   "metadata": {},
   "outputs": [],
   "source": [
    "os.environ['CUDA_VISIBLE_DEVICES'] = '2'"
   ]
  },
  {
   "cell_type": "code",
   "execution_count": 4,
   "metadata": {},
   "outputs": [],
   "source": [
    "sys.path.append('/workspace/LOGS_OUTPUT/server9_nvme1/ASV_LOGS_202102/train_dist')\n",
    "sys.path.append('/workspace/GREAT_ASV_system/Model_exp')"
   ]
  },
  {
   "cell_type": "code",
   "execution_count": 5,
   "metadata": {},
   "outputs": [],
   "source": [
    "model_path = '/workspace/LOGS_OUTPUT/server9_nvme1/ASV_LOGS_202102/train_logs_201120/xvector(vox2)/model/model000000134.model'\n",
    "# model_path = '/nvme1/zhiyong/ASV_LOGS_202102/train_logs_201120/xvector(vox2)/model/model000000134.model'"
   ]
  },
  {
   "cell_type": "markdown",
   "metadata": {},
   "source": [
    "# X-vector"
   ]
  },
  {
   "cell_type": "code",
   "execution_count": 6,
   "metadata": {},
   "outputs": [],
   "source": [
    "SpeakerNetModel = importlib.import_module('models.'+'X_vector').__getattribute__('MainModel')"
   ]
  },
  {
   "cell_type": "code",
   "execution_count": 7,
   "metadata": {},
   "outputs": [
    {
     "name": "stdout",
     "output_type": "stream",
     "text": [
      "X_vector.py, Embedding size is 192,  Spec_aug False.\n"
     ]
    }
   ],
   "source": [
    "S = SpeakerNetModel(n_mels=40, nOut=192, spec_aug=False)"
   ]
  },
  {
   "cell_type": "code",
   "execution_count": 8,
   "metadata": {},
   "outputs": [],
   "source": [
    "loaded_state = torch.load(model_path, map_location=\"cuda:0\")"
   ]
  },
  {
   "cell_type": "code",
   "execution_count": 9,
   "metadata": {},
   "outputs": [
    {
     "name": "stdout",
     "output_type": "stream",
     "text": [
      "pass __L__ classerfier W\n"
     ]
    }
   ],
   "source": [
    "self_state = S.state_dict()\n",
    "\n",
    "for name, param in loaded_state['model'].items():\n",
    "    origname = name\n",
    "\n",
    "    ## pass spk clf weight\n",
    "    if '__L__' in name:\n",
    "        print('pass __L__ classerfier W')\n",
    "        continue\n",
    "\n",
    "    ## pass DA weight\n",
    "    if 'DA_module' in name:\n",
    "        print('pass DA_module params:'+name)\n",
    "        continue\n",
    "\n",
    "    if name not in self_state:\n",
    "        name = name.replace(\"__S__.\", \"\")\n",
    "\n",
    "        if name not in self_state:\n",
    "            print(\"#%s is not in the model.\"%origname)\n",
    "            continue\n",
    "\n",
    "    if self_state[name].size() != loaded_state['model'][origname].size():\n",
    "        print(\"#Wrong parameter length: %s, model: %s, loaded: %s\"%(origname, self_state[name].size(), loaded_state['model'][origname].size()))\n",
    "        continue\n",
    "\n",
    "    self_state[name].copy_(param)"
   ]
  },
  {
   "cell_type": "code",
   "execution_count": 10,
   "metadata": {
    "scrolled": true
   },
   "outputs": [
    {
     "data": {
      "text/plain": [
       "Xvector_1L(\n",
       "  (instancenorm): InstanceNorm1d(40, eps=1e-05, momentum=0.1, affine=False, track_running_stats=False)\n",
       "  (torchfb): Sequential(\n",
       "    (0): PreEmphasis()\n",
       "    (1): MelSpectrogram(\n",
       "      (spectrogram): Spectrogram()\n",
       "      (mel_scale): MelScale()\n",
       "    )\n",
       "  )\n",
       "  (tdnn1): Sequential(\n",
       "    (0): Conv1d(40, 512, kernel_size=(5,), stride=(1,))\n",
       "    (1): ReLU(inplace=True)\n",
       "    (2): BatchNorm1d(512, eps=1e-05, momentum=0.1, affine=True, track_running_stats=True)\n",
       "  )\n",
       "  (tdnn2): Sequential(\n",
       "    (0): Conv1d(512, 512, kernel_size=(3,), stride=(1,), dilation=(2,))\n",
       "    (1): ReLU(inplace=True)\n",
       "    (2): BatchNorm1d(512, eps=1e-05, momentum=0.1, affine=True, track_running_stats=True)\n",
       "  )\n",
       "  (tdnn3): Sequential(\n",
       "    (0): Conv1d(512, 512, kernel_size=(3,), stride=(1,), dilation=(3,))\n",
       "    (1): ReLU(inplace=True)\n",
       "    (2): BatchNorm1d(512, eps=1e-05, momentum=0.1, affine=True, track_running_stats=True)\n",
       "  )\n",
       "  (tdnn4): Sequential(\n",
       "    (0): Conv1d(512, 512, kernel_size=(1,), stride=(1,))\n",
       "    (1): ReLU(inplace=True)\n",
       "    (2): BatchNorm1d(512, eps=1e-05, momentum=0.1, affine=True, track_running_stats=True)\n",
       "  )\n",
       "  (tdnn5): Sequential(\n",
       "    (0): Conv1d(512, 1500, kernel_size=(1,), stride=(1,))\n",
       "    (1): ReLU(inplace=True)\n",
       "    (2): BatchNorm1d(1500, eps=1e-05, momentum=0.1, affine=True, track_running_stats=True)\n",
       "  )\n",
       "  (pooling): AttentiveStatsPool(\n",
       "    (linear1): Conv1d(1500, 128, kernel_size=(1,), stride=(1,))\n",
       "    (linear2): Conv1d(128, 1500, kernel_size=(1,), stride=(1,))\n",
       "  )\n",
       "  (embedding_layer1): Sequential(\n",
       "    (linear): Linear(in_features=3000, out_features=192, bias=True)\n",
       "    (batchnorm): BatchNorm1d(192, eps=1e-05, momentum=0.1, affine=True, track_running_stats=True)\n",
       "  )\n",
       ")"
      ]
     },
     "execution_count": 10,
     "metadata": {},
     "output_type": "execute_result"
    }
   ],
   "source": [
    "S.cuda()"
   ]
  },
  {
   "cell_type": "code",
   "execution_count": 11,
   "metadata": {},
   "outputs": [
    {
     "data": {
      "text/plain": [
       "Xvector_1L(\n",
       "  (instancenorm): InstanceNorm1d(40, eps=1e-05, momentum=0.1, affine=False, track_running_stats=False)\n",
       "  (torchfb): Sequential(\n",
       "    (0): PreEmphasis()\n",
       "    (1): MelSpectrogram(\n",
       "      (spectrogram): Spectrogram()\n",
       "      (mel_scale): MelScale()\n",
       "    )\n",
       "  )\n",
       "  (tdnn1): Sequential(\n",
       "    (0): Conv1d(40, 512, kernel_size=(5,), stride=(1,))\n",
       "    (1): ReLU(inplace=True)\n",
       "    (2): BatchNorm1d(512, eps=1e-05, momentum=0.1, affine=True, track_running_stats=True)\n",
       "  )\n",
       "  (tdnn2): Sequential(\n",
       "    (0): Conv1d(512, 512, kernel_size=(3,), stride=(1,), dilation=(2,))\n",
       "    (1): ReLU(inplace=True)\n",
       "    (2): BatchNorm1d(512, eps=1e-05, momentum=0.1, affine=True, track_running_stats=True)\n",
       "  )\n",
       "  (tdnn3): Sequential(\n",
       "    (0): Conv1d(512, 512, kernel_size=(3,), stride=(1,), dilation=(3,))\n",
       "    (1): ReLU(inplace=True)\n",
       "    (2): BatchNorm1d(512, eps=1e-05, momentum=0.1, affine=True, track_running_stats=True)\n",
       "  )\n",
       "  (tdnn4): Sequential(\n",
       "    (0): Conv1d(512, 512, kernel_size=(1,), stride=(1,))\n",
       "    (1): ReLU(inplace=True)\n",
       "    (2): BatchNorm1d(512, eps=1e-05, momentum=0.1, affine=True, track_running_stats=True)\n",
       "  )\n",
       "  (tdnn5): Sequential(\n",
       "    (0): Conv1d(512, 1500, kernel_size=(1,), stride=(1,))\n",
       "    (1): ReLU(inplace=True)\n",
       "    (2): BatchNorm1d(1500, eps=1e-05, momentum=0.1, affine=True, track_running_stats=True)\n",
       "  )\n",
       "  (pooling): AttentiveStatsPool(\n",
       "    (linear1): Conv1d(1500, 128, kernel_size=(1,), stride=(1,))\n",
       "    (linear2): Conv1d(128, 1500, kernel_size=(1,), stride=(1,))\n",
       "  )\n",
       "  (embedding_layer1): Sequential(\n",
       "    (linear): Linear(in_features=3000, out_features=192, bias=True)\n",
       "    (batchnorm): BatchNorm1d(192, eps=1e-05, momentum=0.1, affine=True, track_running_stats=True)\n",
       "  )\n",
       ")"
      ]
     },
     "execution_count": 11,
     "metadata": {},
     "output_type": "execute_result"
    }
   ],
   "source": [
    "S.eval()"
   ]
  },
  {
   "cell_type": "code",
   "execution_count": 12,
   "metadata": {},
   "outputs": [],
   "source": [
    "def loadWAV(filename):\n",
    "\n",
    "    # Maximum audio length\n",
    "    \n",
    "    max_audio = int(0*16000 + 240)\n",
    "\n",
    "    # Read wav file and convert to torch tensor\n",
    "    sample_rate, audio  = wavfile.read(filename)\n",
    "    \n",
    "    audiosize = audio.shape[0]\n",
    "\n",
    "    if audiosize <= max_audio:\n",
    "        shortage    = max_audio - audiosize + 1 \n",
    "        audio       = numpy.pad(audio, (0, shortage), 'wrap')\n",
    "        audiosize   = audio.shape[0]\n",
    "    \n",
    "    feats = []\n",
    "\n",
    "    feats.append(audio)\n",
    "\n",
    "    feat = numpy.stack(feats,axis=0).astype(numpy.float)\n",
    "\n",
    "    return feat"
   ]
  },
  {
   "cell_type": "code",
   "execution_count": 13,
   "metadata": {},
   "outputs": [],
   "source": [
    "test_list = '/workspace/DATASET/server9_ssd/voxceleb/vox_o_triallist.txt'\n",
    "test_path = '/workspace/DATASET/server9_ssd/voxceleb'"
   ]
  },
  {
   "cell_type": "code",
   "execution_count": 14,
   "metadata": {},
   "outputs": [],
   "source": [
    "files = []\n",
    "with open(test_list) as listfile:\n",
    "    while True:\n",
    "        line = listfile.readline()\n",
    "        if (not line):\n",
    "            break\n",
    "\n",
    "        data = line.split();\n",
    "\n",
    "        ## Append random label if missing\n",
    "        if len(data) == 2: data = [random.randint(0,1)] + data\n",
    "\n",
    "        files.append(data[1])\n",
    "        files.append(data[2])\n",
    "\n",
    "setfiles = list(set(files))\n",
    "setfiles.sort()"
   ]
  },
  {
   "cell_type": "code",
   "execution_count": 15,
   "metadata": {},
   "outputs": [
    {
     "data": {
      "text/plain": [
       "4708"
      ]
     },
     "execution_count": 15,
     "metadata": {},
     "output_type": "execute_result"
    }
   ],
   "source": [
    "len(setfiles)"
   ]
  },
  {
   "cell_type": "code",
   "execution_count": 18,
   "metadata": {},
   "outputs": [
    {
     "name": "stdout",
     "output_type": "stream",
     "text": [
      "1\r",
      "0.00654149055480957\n",
      "152.87035754637898\n"
     ]
    }
   ],
   "source": [
    "testcount = 1\n",
    "starttime = time.time()\n",
    "for count, wavline in enumerate(setfiles[:testcount]):\n",
    "    wavline = os.path.join(test_path, wavline)\n",
    "    raw_inp = loadWAV(wavline)\n",
    "    raw_inp = torch.FloatTensor(raw_inp).cuda()\n",
    "    \n",
    "    ref_feat = S.forward(raw_inp).detach().cpu().numpy()\n",
    "    \n",
    "    print((count+1), end='\\r')\n",
    "endtime =time.time()\n",
    "print((endtime-starttime))\n",
    "print(testcount / (endtime-starttime))"
   ]
  },
  {
   "cell_type": "code",
   "execution_count": 21,
   "metadata": {},
   "outputs": [
    {
     "data": {
      "text/plain": [
       "(1, 192)"
      ]
     },
     "execution_count": 21,
     "metadata": {},
     "output_type": "execute_result"
    }
   ],
   "source": [
    "ref_feat.shape"
   ]
  },
  {
   "cell_type": "code",
   "execution_count": 19,
   "metadata": {},
   "outputs": [
    {
     "data": {
      "text/plain": [
       "array([[ 1.59025699e-01, -2.55970925e-01, -1.84751838e-01,\n",
       "         2.04936275e-03, -3.68359476e-01, -7.72498176e-02,\n",
       "         1.18553005e-01, -2.29681715e-01,  2.60705262e-01,\n",
       "        -1.39664844e-01, -4.00144219e-01, -5.78067660e-01,\n",
       "        -2.61265486e-01, -2.01939493e-01, -3.04551840e-01,\n",
       "        -4.08011712e-02, -9.67582986e-02,  2.56850183e-01,\n",
       "        -4.89437103e-01,  2.10375398e-01,  6.70573041e-02,\n",
       "         2.43994966e-03,  1.95706248e-01, -2.71901220e-01,\n",
       "        -3.33187692e-02,  3.20731491e-01, -2.85164863e-01,\n",
       "         9.59827304e-02, -9.19954106e-02,  5.98023795e-02,\n",
       "        -1.71101794e-01,  1.06167681e-04, -2.00814784e-01,\n",
       "         6.85920417e-02, -3.47751379e-02, -1.01280205e-01,\n",
       "        -1.64571288e-03, -6.00561984e-02,  1.44580543e-01,\n",
       "         3.14291596e-01, -8.29275418e-03,  1.74917027e-01,\n",
       "        -1.70172229e-01,  1.32377326e-01, -2.27514446e-01,\n",
       "        -2.29751877e-02,  1.58675700e-01, -1.36593394e-02,\n",
       "        -1.21462695e-01, -4.93786251e-03,  6.92019016e-02,\n",
       "        -1.19844861e-01, -4.58872132e-02, -1.15569569e-01,\n",
       "        -2.62750715e-01, -6.22235388e-02,  2.18886107e-01,\n",
       "        -1.98925704e-01, -5.61619252e-02,  1.32457511e-02,\n",
       "         1.82085276e-01, -2.61522476e-02, -3.22637886e-01,\n",
       "        -1.31113335e-01,  1.08613133e-01, -4.30198200e-02,\n",
       "        -6.82982624e-01, -2.10604906e-01,  9.98790860e-02,\n",
       "         7.52412900e-02, -2.60696143e-01,  5.09772673e-02,\n",
       "        -4.06040549e-01,  7.18451366e-02,  1.23683594e-01,\n",
       "        -3.88375461e-01, -1.62153333e-01,  2.87302643e-01,\n",
       "         4.78924811e-02,  7.73085803e-02,  2.65063465e-01,\n",
       "        -9.90768522e-02,  1.11940969e-03, -4.47489798e-01,\n",
       "         1.15780354e-01, -3.00756395e-01, -2.59873182e-01,\n",
       "        -1.28727376e-01,  1.87597036e-01, -2.87242204e-01,\n",
       "        -2.71508187e-01,  1.35851607e-01,  8.04403797e-02,\n",
       "         2.69488633e-01,  1.61164403e-01, -2.53342807e-01,\n",
       "        -1.65148363e-01, -5.36772050e-02,  2.10305527e-02,\n",
       "         9.82487351e-02,  2.39024833e-02,  1.27156928e-01,\n",
       "         1.46982908e-01,  1.73420712e-01,  3.47584486e-02,\n",
       "         2.94916183e-02, -2.22832456e-01, -1.01873778e-01,\n",
       "         2.43310183e-01,  2.83989221e-01, -2.24333689e-01,\n",
       "         4.45315242e-01, -1.69699222e-01, -8.38437527e-02,\n",
       "         2.20421582e-01,  2.55657267e-02, -5.05670071e-01,\n",
       "        -5.11714555e-02,  9.87166613e-02,  7.55068883e-02,\n",
       "        -2.93692440e-01,  1.57419637e-01,  1.69470951e-01,\n",
       "        -1.63982138e-01, -2.43252367e-01,  2.53269374e-01,\n",
       "         2.29087085e-01,  1.20942928e-01,  1.70335561e-01,\n",
       "         5.62604427e-01,  3.48533601e-01,  2.02866108e-03,\n",
       "        -6.07083403e-02,  7.12458342e-02,  1.78579539e-02,\n",
       "        -2.02557713e-01, -5.51922061e-02, -2.62316316e-01,\n",
       "        -5.81643544e-02,  7.40507916e-02, -1.02318563e-01,\n",
       "        -4.70506459e-01, -5.30825257e-02,  2.18441665e-01,\n",
       "        -2.35044748e-01,  3.18723917e-01, -5.71750514e-02,\n",
       "        -1.00639053e-01,  1.89729393e-01, -5.51666498e-01,\n",
       "         8.41662064e-02,  7.32632726e-02,  6.81849420e-02,\n",
       "        -1.25665963e-01,  1.14136845e-01,  1.11061268e-01,\n",
       "        -5.61925620e-02,  1.74506143e-01, -2.09387735e-01,\n",
       "        -3.61497879e-01,  1.06351912e-01,  3.83960098e-01,\n",
       "         6.23950250e-02,  1.92530647e-01, -1.71807125e-01,\n",
       "        -3.33415002e-01,  1.95440084e-01,  4.72868048e-02,\n",
       "         2.94524461e-01,  3.56422067e-01,  2.76908614e-02,\n",
       "        -3.61102261e-02,  4.21674997e-01, -7.08316565e-02,\n",
       "         1.88736513e-01,  1.97929233e-01,  1.85551137e-01,\n",
       "        -2.59390384e-01,  3.95354390e-01, -2.67608523e-01,\n",
       "        -7.57576451e-02, -7.69270165e-03, -3.40432942e-01,\n",
       "         2.40364566e-01,  5.06968975e-01, -3.91376197e-01,\n",
       "         3.91910691e-03,  2.25467324e-01, -2.39798665e-01,\n",
       "        -3.13227475e-02,  1.22523680e-01,  2.31951162e-01]], dtype=float32)"
      ]
     },
     "execution_count": 19,
     "metadata": {},
     "output_type": "execute_result"
    }
   ],
   "source": [
    "ref_feat"
   ]
  }
 ],
 "metadata": {
  "kernelspec": {
   "display_name": "Python 3",
   "language": "python",
   "name": "python3"
  },
  "language_info": {
   "codemirror_mode": {
    "name": "ipython",
    "version": 3
   },
   "file_extension": ".py",
   "mimetype": "text/x-python",
   "name": "python",
   "nbconvert_exporter": "python",
   "pygments_lexer": "ipython3",
   "version": "3.7.7"
  }
 },
 "nbformat": 4,
 "nbformat_minor": 4
}
