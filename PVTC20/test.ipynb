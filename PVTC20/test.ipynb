{
 "cells": [
  {
   "cell_type": "code",
   "execution_count": 1,
   "metadata": {},
   "outputs": [],
   "source": [
    "TH = 0.5820"
   ]
  },
  {
   "cell_type": "code",
   "execution_count": 2,
   "metadata": {},
   "outputs": [],
   "source": [
    "final_spk_out = '/workspace/DATASET/server9_ssd/PVTC20/task1/spk_scores.txt'\n",
    "final_spk_out_tune = '/workspace/DATASET/server9_ssd/PVTC20/task1/spk_tune_out_2.txt'"
   ]
  },
  {
   "cell_type": "code",
   "execution_count": 3,
   "metadata": {},
   "outputs": [],
   "source": [
    "with open(final_spk_out, 'r') as f:\n",
    "    ori_out = f.readlines()"
   ]
  },
  {
   "cell_type": "code",
   "execution_count": 4,
   "metadata": {},
   "outputs": [
    {
     "data": {
      "text/plain": [
       "'PVTC_task1_0001.wav PVTC_task1_0002.wav PVTC_task1_0003.wav PVTC_task1_0004.wav 0.5597\\n'"
      ]
     },
     "execution_count": 4,
     "metadata": {},
     "output_type": "execute_result"
    }
   ],
   "source": [
    "ori_out[0]"
   ]
  },
  {
   "cell_type": "code",
   "execution_count": 5,
   "metadata": {},
   "outputs": [],
   "source": [
    "with open(final_spk_out_tune, 'w') as f:\n",
    "    for line in ori_out:\n",
    "        line = line[:-1]\n",
    "        score = float(line.split(' ')[-1])\n",
    "        if score > TH:\n",
    "            score = 1\n",
    "        else:\n",
    "            score = 0\n",
    "        data = line.split(' ')\n",
    "        f.write(data[0]+' '+data[1]+' '+data[2]+' '+data[3]+' '+str(score)+'\\n')"
   ]
  }
 ],
 "metadata": {
  "kernelspec": {
   "display_name": "Python 3",
   "language": "python",
   "name": "python3"
  },
  "language_info": {
   "codemirror_mode": {
    "name": "ipython",
    "version": 3
   },
   "file_extension": ".py",
   "mimetype": "text/x-python",
   "name": "python",
   "nbconvert_exporter": "python",
   "pygments_lexer": "ipython3",
   "version": "3.7.7"
  }
 },
 "nbformat": 4,
 "nbformat_minor": 4
}
