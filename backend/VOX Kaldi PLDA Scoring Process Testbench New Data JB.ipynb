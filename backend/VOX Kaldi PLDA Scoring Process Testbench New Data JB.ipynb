{
 "cells": [
  {
   "cell_type": "code",
   "execution_count": 1,
   "metadata": {},
   "outputs": [],
   "source": [
    "import os\n",
    "import sys\n",
    "sys.path.append('/workspace/GREAT_ASV_system/train/')\n",
    "\n",
    "import numpy as np\n",
    "import torch\n",
    "\n",
    "\n",
    "# import vox_model_bank\n",
    "import model_bank\n",
    "from read_data import *\n",
    "from my_dataloader import *\n",
    "# from sklearn.metrics import roc_curve\n"
   ]
  },
  {
   "cell_type": "code",
   "execution_count": 3,
   "metadata": {},
   "outputs": [],
   "source": [
    "model_path = '/workspace/LOGS_OUTPUT/std_server5/train/resnet34_SAP_TAUG_vox/ckpt/vox1test_metric_saver_MINC.model'\n",
    "model_id = 'Resnet34_SAP'\n",
    "model_metric = 'AM_normfree_softmax_anneal_ce_head'"
   ]
  },
  {
   "cell_type": "code",
   "execution_count": 2,
   "metadata": {},
   "outputs": [],
   "source": [
    "component_dir = '/Lun2/rzz/kaldi-master/egs/zhiyong/sdsvc_exp/backend_exp/res34sap'\n",
    "PLDA_DIM = 370\n",
    "PLDA_DATA_NAME = 'plda_data'\n",
    "TEST_DATA_NAME = 'test_data_370'\n",
    "PLDA_PARA_NAME = 'plda_para_370'\n",
    "SCORING_PLDA_NAME = 'score_plda_370'\n",
    "SCORING_COSINE_NAME = 'score_cosine_370'\n",
    "AUX_DATA_NAME = 'aux_data_370'\n",
    "SCORING_AUX_COSINE = 'score_aux_cosine_370'\n",
    "SCORING_AUX_PLDA = 'score_aux_plda_370'"
   ]
  },
  {
   "cell_type": "code",
   "execution_count": 4,
   "metadata": {},
   "outputs": [],
   "source": [
    "if not os.path.isdir(component_dir):\n",
    "    os.makedirs(component_dir)"
   ]
  },
  {
   "cell_type": "markdown",
   "metadata": {},
   "source": [
    "# GPU multiprocess"
   ]
  },
  {
   "cell_type": "code",
   "execution_count": 9,
   "metadata": {
    "collapsed": true
   },
   "outputs": [],
   "source": [
    "from multiprocessing import Process, Manager"
   ]
  },
  {
   "cell_type": "code",
   "execution_count": 10,
   "metadata": {
    "collapsed": true
   },
   "outputs": [],
   "source": [
    "num_p = 28"
   ]
  },
  {
   "cell_type": "code",
   "execution_count": 11,
   "metadata": {
    "collapsed": true
   },
   "outputs": [],
   "source": [
    "train_list = '/Lun0/zhiyong/dataset/plda_full_data.csv'\n",
    "# train_list = '/Lun0/zhiyong/dataset/plda_full_data_noVAD.csv'\n",
    "# train_data = CSVDataSet(train_list)\n",
    "train_data = PickleDataSet(train_list)"
   ]
  },
  {
   "cell_type": "code",
   "execution_count": 12,
   "metadata": {
    "collapsed": true
   },
   "outputs": [],
   "source": [
    "train_data_len = len(train_data)\n",
    "num_per_process = (1276888 // num_p) + 1"
   ]
  },
  {
   "cell_type": "code",
   "execution_count": 13,
   "metadata": {
    "collapsed": true
   },
   "outputs": [],
   "source": [
    "manager = Manager()\n",
    "class_list_new_m = manager.list()"
   ]
  },
  {
   "cell_type": "code",
   "execution_count": 14,
   "metadata": {},
   "outputs": [
    {
     "name": "stdout",
     "output_type": "stream",
     "text": [
      "45604\n",
      "45604\n",
      "45604\n",
      "45604\n",
      "45604\n",
      "45604\n",
      "45604\n",
      "45604\n",
      "45604\n",
      "45604\n",
      "45604\n",
      "45604\n",
      "45604\n",
      "45604\n",
      "45604\n",
      "45604\n",
      "45604\n",
      "45604\n",
      "45604\n",
      "45604\n",
      "45604\n",
      "45604\n",
      "45604\n",
      "45604\n",
      "45604\n",
      "45604\n",
      "45604\n",
      "45580\n"
     ]
    }
   ],
   "source": [
    "data_m = []\n",
    "# class_list_new_m = []\n",
    "for i in range(num_p):\n",
    "    data = torch.utils.data.Subset(train_data, np.arange(i*num_per_process, min((i+1)*num_per_process, train_data_len)))\n",
    "    data_m.append(data)\n",
    "    class_list_new_m.append({})\n",
    "    print(len(data))"
   ]
  },
  {
   "cell_type": "code",
   "execution_count": 22,
   "metadata": {
    "collapsed": true
   },
   "outputs": [],
   "source": [
    "def extract_feature_m(i, train_data, class_list_new_m):\n",
    "#     train_list = '/Lun0/zhiyong/dataset/vox12_kaldi_train_data/vox12_kaldi_train_data.csv'\n",
    "    model_settings = {'in_feat': 30, 'emb_size': 512, 'class_num': 7323, 's': 50, 'm': 0.2, 'anneal_steps': 0, 'HistK_len': 0}\n",
    "\n",
    "    torch.backends.cudnn.benchmark = False\n",
    "    if i < 26:\n",
    "        os.environ['CUDA_VISIBLE_DEVICES'] = str(i%2)\n",
    "    else:\n",
    "        os.environ['CUDA_VISIBLE_DEVICES'] = '0'\n",
    "#     torch.cuda.set_device(i%2)\n",
    "    device = torch.device(\"cuda:0\")\n",
    "\n",
    "#     train_data = CSVDataSet(train_list)\n",
    "#     train_dataloader = DataLoader(dataset=train_data, batch_size = 1, shuffle = False, num_workers = 32, pin_memory=False)\n",
    "\n",
    "    train_dataloader = My_DataLoader(train_data, batch_size=None, shuffle=False, sampler=None,\\\n",
    "    batch_sampler=None, num_workers=8, collate_fn=None,\\\n",
    "    pin_memory=False, drop_last=False, timeout=0,\\\n",
    "    worker_init_fn=None, multiprocessing_context=None)\n",
    "\n",
    "    model = model_bank.get_model(model_id, model_metric, model_settings, None)\n",
    "    checkpoint = torch.load(model_path, map_location='cpu')\n",
    "    model.load_state_dict(checkpoint['model'], strict=True)\n",
    "    model = model.to(device)\n",
    "    model.eval()\n",
    "\n",
    "    class_list_new = {}\n",
    "\n",
    "    for count, (batch_x, batch_y) in enumerate(train_dataloader):\n",
    "        torch.cuda.empty_cache()\n",
    "        batch_x = batch_x.to(device)\n",
    "        label = batch_y[0].split('-')[0]\n",
    "        batch_y = torch.tensor([0]).to(device)\n",
    "        try:\n",
    "            with torch.no_grad():\n",
    "                _, _, emb, _, _ = model(batch_x, batch_y, mod='eval')\n",
    "        except:\n",
    "            print('Proc', str(i), 'EER:', label)\n",
    "            continue\n",
    "    #     _, _, emb, _, _ = model(batch_x, batch_y, mod='eval')\n",
    "\n",
    "        emb = emb.squeeze().data.cpu().numpy()\n",
    "\n",
    "        if label not in class_list_new.keys():\n",
    "            class_list_new[label] = emb[None, :]\n",
    "        else:\n",
    "            class_list_new[label] = np.append(class_list_new[label], emb[None, :], axis=0)\n",
    "\n",
    "        if (count+1) % 10000 == 0:\n",
    "            print('Proc '+ str(i) + ':' + str((count+1) // 10000))\n",
    "    \n",
    "    class_list_new_m[i] = class_list_new\n",
    "    del model, batch_x, batch_y\n",
    "    torch.cuda.empty_cache()"
   ]
  },
  {
   "cell_type": "code",
   "execution_count": 25,
   "metadata": {},
   "outputs": [
    {
     "name": "stdout",
     "output_type": "stream",
     "text": [
      "Using model bank\n",
      "Using model bank\n",
      "Using model bank\n",
      "Using model bank\n",
      "Using model bank\n",
      "Using model bank\n",
      "Using model bank\n",
      "Using model bank\n",
      "Using model bank\n",
      "Using model bank\n",
      "Using model bank\n",
      "Using model bank\n",
      "Using model bank\n",
      "Using model bank\n",
      "Using model bank\n",
      "Using model bank\n",
      "Using model bank\n",
      "Using model bank\n",
      "Using model bank\n",
      "Using model bank\n",
      "Using model bank\n",
      "Using model bank\n",
      "Using model bank\n",
      "Using model bank\n",
      "Using model bank\n",
      "Using model bank\n",
      "Using model bank\n",
      "Using model bank\n",
      "Proc 26:1\n",
      "Proc 24:1\n",
      "Proc 27:1\n",
      "Proc 25:1\n",
      "Proc 22:1\n",
      "Proc 16:1\n",
      "Proc 19:1\n",
      "Proc 20:1\n",
      "Proc 8:1\n",
      "Proc 10:1\n",
      "Proc 14:1\n",
      "Proc 23:1\n",
      "Proc 21:1\n",
      "Proc 18:1\n",
      "Proc 6:1\n",
      "Proc 12:1\n",
      "Proc 13:1\n",
      "Proc 15:1\n",
      "Proc 4:1\n",
      "Proc 2:1\n",
      "Proc 17:1\n",
      "Proc 5:1\n",
      "Proc 7:1\n",
      "Proc 11:1\n",
      "Proc 9:1\n",
      "Proc 3:1\n",
      "Proc 0:1\n",
      "Proc 1:1\n",
      "Proc 26:2\n",
      "Proc 24:2\n",
      "Proc 25:2\n",
      "Proc 27:2\n",
      "Proc 16:2\n",
      "Proc 22:2\n",
      "Proc 20:2\n",
      "Proc 8:2\n",
      "Proc 21:2\n",
      "Proc 14:2\n",
      "Proc 10:2\n",
      "Proc 18:2\n",
      "Proc 12:2\n",
      "Proc 23:2\n",
      "Proc 19:2\n",
      "Proc 15:2\n",
      "Proc 4:2\n",
      "Proc 6:2\n",
      "Proc 13:2\n",
      "Proc 9:2\n",
      "Proc 17:2\n",
      "Proc 0:2\n",
      "Proc 2:2\n",
      "Proc 11:2\n",
      "Proc 7:2\n",
      "Proc 5:2\n",
      "Proc 3:2\n",
      "Proc 1:2\n",
      "Proc 26:3\n",
      "Proc 24:3\n",
      "Proc 25:3\n",
      "Proc 27:3\n",
      "Proc 22:3\n",
      "Proc 20:3\n",
      "Proc 16:3\n",
      "Proc 14:3\n",
      "Proc 21:3\n",
      "Proc 12:3\n",
      "Proc 18:3\n",
      "Proc 8:3\n",
      "Proc 10:3\n",
      "Proc 19:3\n",
      "Proc 23:3\n",
      "Proc 15:3\n",
      "Proc 9:3\n",
      "Proc 4:3\n",
      "Proc 6:3\n",
      "Proc 13:3\n",
      "Proc 0:3\n",
      "Proc 17:3\n",
      "Proc 2:3\n",
      "Proc 7:3\n",
      "Proc 11:3\n",
      "Proc 3:3\n",
      "Proc 5:3\n",
      "Proc 1:3\n",
      "Proc 26:4\n",
      "Proc 24:4\n",
      "Proc 25:4\n",
      "Proc 22:4\n",
      "Proc 27:4\n",
      "Proc 16:4\n",
      "Proc 20:4\n",
      "Proc 14:4\n",
      "Proc 21:4\n",
      "Proc 12:4\n",
      "Proc 18:4\n",
      "Proc 10:4\n",
      "Proc 8:4\n",
      "Proc 19:4\n",
      "Proc 23:4\n",
      "Proc 15:4\n",
      "Proc 13:4\n",
      "Proc 6:4\n",
      "Proc 9:4\n",
      "Proc 4:4\n",
      "Proc 0:4\n",
      "Proc 2:4\n",
      "Proc 7:4\n",
      "Proc 17:4\n",
      "Proc 11:4\n",
      "Proc 5:4\n",
      "Proc 3:4\n",
      "Proc 1:4\n"
     ]
    }
   ],
   "source": [
    "processes = [Process(target = extract_feature_m, args = (i, data_m[i], class_list_new_m)) for i in range(num_p)]\n",
    "[p.start() for p in processes]\n",
    "joined = [p.join() for p in processes]"
   ]
  },
  {
   "cell_type": "code",
   "execution_count": 26,
   "metadata": {},
   "outputs": [
    {
     "data": {
      "text/plain": [
       "1276888"
      ]
     },
     "execution_count": 26,
     "metadata": {},
     "output_type": "execute_result"
    }
   ],
   "source": [
    "count = 0\n",
    "for i in class_list_new_m:\n",
    "    for j in i:\n",
    "        count += len(i[j])\n",
    "count"
   ]
  },
  {
   "cell_type": "code",
   "execution_count": 27,
   "metadata": {
    "collapsed": true
   },
   "outputs": [],
   "source": [
    "class_list_new = class_list_new_m[0]\n",
    "\n",
    "for count, this_list in enumerate(class_list_new_m):\n",
    "    if count == 0:\n",
    "        continue\n",
    "    for this_label in this_list:\n",
    "        if this_label not in class_list_new.keys():\n",
    "            class_list_new[this_label] = this_list[this_label]\n",
    "        else:\n",
    "            class_list_new[this_label] = np.append(class_list_new[this_label], this_list[this_label], axis=0)"
   ]
  },
  {
   "cell_type": "code",
   "execution_count": 28,
   "metadata": {},
   "outputs": [
    {
     "data": {
      "text/plain": [
       "1276888"
      ]
     },
     "execution_count": 28,
     "metadata": {},
     "output_type": "execute_result"
    }
   ],
   "source": [
    "count = 0\n",
    "for i in class_list_new:\n",
    "    count += len(class_list_new[i])\n",
    "count"
   ]
  },
  {
   "cell_type": "code",
   "execution_count": 29,
   "metadata": {
    "collapsed": true
   },
   "outputs": [],
   "source": [
    "nanlist = []\n",
    "for i in class_list_new:\n",
    "    if np.isnan(class_list_new[i]).any():\n",
    "        print(i)\n",
    "        nanlist.append(i)\n",
    "for i in nanlist:\n",
    "    class_list_new.pop(i)"
   ]
  },
  {
   "cell_type": "code",
   "execution_count": 30,
   "metadata": {},
   "outputs": [
    {
     "data": {
      "text/plain": [
       "1276888"
      ]
     },
     "execution_count": 30,
     "metadata": {},
     "output_type": "execute_result"
    }
   ],
   "source": [
    "count"
   ]
  },
  {
   "cell_type": "code",
   "execution_count": 31,
   "metadata": {},
   "outputs": [
    {
     "data": {
      "text/plain": [
       "7323"
      ]
     },
     "execution_count": 31,
     "metadata": {},
     "output_type": "execute_result"
    }
   ],
   "source": [
    "len(class_list_new)"
   ]
  },
  {
   "cell_type": "code",
   "execution_count": 32,
   "metadata": {
    "collapsed": true
   },
   "outputs": [],
   "source": [
    "import pickle\n",
    "out = component_dir+'/'+PLDA_DATA_NAME\n",
    "with open(out, 'wb') as handle:\n",
    "    pickle.dump(class_list_new, handle)"
   ]
  },
  {
   "cell_type": "code",
   "execution_count": 20,
   "metadata": {
    "collapsed": true
   },
   "outputs": [],
   "source": [
    "# class_list_new = {}\n",
    "# for i in class_list:\n",
    "#     class_list_new[i[:-1]] = class_list[i]"
   ]
  },
  {
   "cell_type": "markdown",
   "metadata": {},
   "source": [
    "# PLDA_FIN"
   ]
  },
  {
   "cell_type": "code",
   "execution_count": 22,
   "metadata": {
    "collapsed": true
   },
   "outputs": [],
   "source": [
    "# import os\n",
    "# import sys\n",
    "# sys.path.append('./train')\n",
    "\n",
    "# import numpy as np\n",
    "# import torch\n",
    "\n",
    "\n",
    "# # import vox_model_bank\n",
    "# from train import train_model_new\n",
    "# from train.read_data import *\n",
    "# from train.my_dataloader import *\n",
    "# # from sklearn.metrics import roc_curve"
   ]
  },
  {
   "cell_type": "code",
   "execution_count": 33,
   "metadata": {
    "collapsed": true
   },
   "outputs": [],
   "source": [
    "from kaldi_plda import *\n",
    "from kaldi_lda import *\n",
    "import numpy as np"
   ]
  },
  {
   "cell_type": "code",
   "execution_count": 34,
   "metadata": {
    "collapsed": true
   },
   "outputs": [],
   "source": [
    "import pickle\n",
    "with open(component_dir+'/'+PLDA_DATA_NAME, 'rb') as handle:\n",
    "    class_list_new = pickle.load(handle)"
   ]
  },
  {
   "cell_type": "code",
   "execution_count": 37,
   "metadata": {},
   "outputs": [
    {
     "name": "stdout",
     "output_type": "stream",
     "text": [
      "Norm of mean: 1.9046652386925422\n"
     ]
    }
   ],
   "source": [
    "# Substract global mean\n",
    "global_mean = np.zeros(512)\n",
    "num_utt = 0\n",
    "for count, i in enumerate(class_list_new):\n",
    "    num_utt += class_list_new[i].shape[0]\n",
    "    global_mean += class_list_new[i].shape[0] * np.mean(class_list_new[i], axis=0)\n",
    "    \n",
    "global_mean = (1.0 / num_utt) * global_mean\n",
    "print('Norm of mean:', np.linalg.norm(global_mean))"
   ]
  },
  {
   "cell_type": "code",
   "execution_count": 38,
   "metadata": {
    "collapsed": true
   },
   "outputs": [],
   "source": [
    "for i in class_list_new:\n",
    "    class_list_new[i] = class_list_new[i] - global_mean"
   ]
  },
  {
   "cell_type": "code",
   "execution_count": 39,
   "metadata": {},
   "outputs": [
    {
     "name": "stdout",
     "output_type": "stream",
     "text": [
      "lda norm of global mean: 1.0363030848906236e-07\n"
     ]
    }
   ],
   "source": [
    "lda = LDA(lda_dim=PLDA_DIM, ivector_dim=512)\n",
    "for i in class_list_new:\n",
    "    lda.AccStats(class_list_new[i])\n",
    "print('lda norm of global mean:', lda.GetGlobalMean()[1])"
   ]
  },
  {
   "cell_type": "code",
   "execution_count": 40,
   "metadata": {},
   "outputs": [
    {
     "name": "stdout",
     "output_type": "stream",
     "text": [
      "the input data has norm of mean 1.0363030848906236e-07\n",
      "[7.05680318e+00 6.83084110e+00 6.49589130e+00 6.25103781e+00\n",
      " 6.02699328e+00 5.93644421e+00 5.74553620e+00 5.71113328e+00\n",
      " 5.52863863e+00 5.48530371e+00 5.33798738e+00 5.29171180e+00\n",
      " 5.19417991e+00 5.13465376e+00 5.07992271e+00 5.03656835e+00\n",
      " 4.94590764e+00 4.87222457e+00 4.86027973e+00 4.83695617e+00\n",
      " 4.67446231e+00 4.62048504e+00 4.56140204e+00 4.53129694e+00\n",
      " 4.49590328e+00 4.46416332e+00 4.37204092e+00 4.31959085e+00\n",
      " 4.31300552e+00 4.24568159e+00 4.22761656e+00 4.13339006e+00\n",
      " 4.09174010e+00 4.06669643e+00 4.00950966e+00 3.98957290e+00\n",
      " 3.92033707e+00 3.90857520e+00 3.83256738e+00 3.74048687e+00\n",
      " 3.67952474e+00 3.63867904e+00 3.60639986e+00 3.55344168e+00\n",
      " 3.53629863e+00 3.48462131e+00 3.43491949e+00 3.41205987e+00\n",
      " 3.38153426e+00 3.36127220e+00 3.34227493e+00 3.30985634e+00\n",
      " 3.22345557e+00 3.20170408e+00 3.17643705e+00 3.10434679e+00\n",
      " 3.08763803e+00 3.05436367e+00 3.01382095e+00 2.98352146e+00\n",
      " 2.93198022e+00 2.90411634e+00 2.89903466e+00 2.83804975e+00\n",
      " 2.83351883e+00 2.78605764e+00 2.76421916e+00 2.74960267e+00\n",
      " 2.72184671e+00 2.69137132e+00 2.66338311e+00 2.63234074e+00\n",
      " 2.60219784e+00 2.57916201e+00 2.54094251e+00 2.50943206e+00\n",
      " 2.49625883e+00 2.47388711e+00 2.43530830e+00 2.42782802e+00\n",
      " 2.40034032e+00 2.38407741e+00 2.35199631e+00 2.31963590e+00\n",
      " 2.29363615e+00 2.28313650e+00 2.23608657e+00 2.21853409e+00\n",
      " 2.19684043e+00 2.14596213e+00 2.13420261e+00 2.12014413e+00\n",
      " 2.10439291e+00 2.06883039e+00 2.05822375e+00 2.01022595e+00\n",
      " 1.99369039e+00 1.97317591e+00 1.94283417e+00 1.90353871e+00\n",
      " 1.87266091e+00 1.82212012e+00 1.79120874e+00 1.77931542e+00\n",
      " 1.76385932e+00 1.73636444e+00 1.72209424e+00 1.68983678e+00\n",
      " 1.68067125e+00 1.63594565e+00 1.62080880e+00 1.60219155e+00\n",
      " 1.57460791e+00 1.55914501e+00 1.54711486e+00 1.52296514e+00\n",
      " 1.49303048e+00 1.48645691e+00 1.46302605e+00 1.44177406e+00\n",
      " 1.41063840e+00 1.39109357e+00 1.34906669e+00 1.33973311e+00\n",
      " 1.30432705e+00 1.25813219e+00 1.24786896e+00 1.22109354e+00\n",
      " 1.17852543e+00 1.16385927e+00 1.15515713e+00 1.12614338e+00\n",
      " 1.09951167e+00 1.08985197e+00 1.07348132e+00 1.05523889e+00\n",
      " 1.02161995e+00 1.00762190e+00 9.93792060e-01 9.45702369e-01\n",
      " 9.44586199e-01 9.26228945e-01 8.83398926e-01 8.28087345e-01\n",
      " 8.18886626e-01 7.83129310e-01 7.68436026e-01 7.61940351e-01\n",
      " 7.41613533e-01 7.18352937e-01 6.87489149e-01 6.78282083e-01\n",
      " 6.63211061e-01 5.89789159e-01 5.64599335e-01 5.62415737e-01\n",
      " 5.15598158e-01 4.95816375e-01 4.66256690e-01 3.96909883e-01\n",
      " 3.69744427e-01 3.40163152e-01 3.16658055e-01 2.20342006e-01\n",
      " 1.77412807e-01 1.62348963e-01 1.13433408e-01 1.04143794e-01\n",
      " 9.23012515e-02 6.58251454e-02 5.03778839e-02 4.32825786e-02\n",
      " 3.96143481e-02 2.39915614e-02 2.07418059e-02 1.94120242e-02\n",
      " 1.83273528e-02 1.66401563e-02 1.37179018e-02 1.31433994e-02\n",
      " 1.09389968e-02 1.00937527e-02 9.10398464e-03 8.41884768e-03\n",
      " 8.21084741e-03 7.02544367e-03 6.67112735e-03 5.74895556e-03\n",
      " 5.05565115e-03 4.69090728e-03 4.35393488e-03 4.18306941e-03\n",
      " 3.75041347e-03 3.69952198e-03 3.66422388e-03 3.35833611e-03\n",
      " 3.19666180e-03 3.05606799e-03 2.99444263e-03 2.78763446e-03\n",
      " 2.66529292e-03 2.49253493e-03 2.40373173e-03 2.28956599e-03\n",
      " 2.26859062e-03 2.24107159e-03 2.18416341e-03 2.15291719e-03\n",
      " 2.04664334e-03 1.94030304e-03 1.82721200e-03 1.77794011e-03\n",
      " 1.66097870e-03 1.65769693e-03 1.62021493e-03 1.60019356e-03\n",
      " 1.53859557e-03 1.53278112e-03 1.46885077e-03 1.41467815e-03\n",
      " 1.38346137e-03 1.37021374e-03 1.33519086e-03 1.28631320e-03\n",
      " 1.27506176e-03 1.26278431e-03 1.23741163e-03 1.21681072e-03\n",
      " 1.18913923e-03 1.15499244e-03 1.12259513e-03 1.10034376e-03\n",
      " 1.05677072e-03 1.04647519e-03 1.03127828e-03 1.02111508e-03\n",
      " 1.00223998e-03 9.85524920e-04 9.80106346e-04 9.68459414e-04\n",
      " 9.33999160e-04 9.23698519e-04 9.20974378e-04 9.17141524e-04\n",
      " 8.84159561e-04 8.74858006e-04 8.55983514e-04 8.48933289e-04\n",
      " 8.28119220e-04 8.18546170e-04 8.15102568e-04 8.08212287e-04\n",
      " 7.99599182e-04 7.68249256e-04 7.61137218e-04 7.55893982e-04\n",
      " 7.48146979e-04 7.40816173e-04 7.27943518e-04 7.15833339e-04\n",
      " 7.10598456e-04 7.03241478e-04 7.02368637e-04 6.90800849e-04\n",
      " 6.80590705e-04 6.72903526e-04 6.57635388e-04 6.49746893e-04\n",
      " 6.45237338e-04 6.42866221e-04 6.34058605e-04 6.28318514e-04\n",
      " 6.22107773e-04 6.11596017e-04 5.99638318e-04 5.93325326e-04\n",
      " 5.88482681e-04 5.82386306e-04 5.75183602e-04 5.67868522e-04\n",
      " 5.61815773e-04 5.56771509e-04 5.50629977e-04 5.46127168e-04\n",
      " 5.39479533e-04 5.37195523e-04 5.29377517e-04 5.25238151e-04\n",
      " 5.20466755e-04 5.15755587e-04 5.13007013e-04 5.04392696e-04\n",
      " 4.98673374e-04 4.92546028e-04 4.83500338e-04 4.79392882e-04\n",
      " 4.72728123e-04 4.71333851e-04 4.66654873e-04 4.62322457e-04\n",
      " 4.60794496e-04 4.53667525e-04 4.47987718e-04 4.46014835e-04\n",
      " 4.45595643e-04 4.39109901e-04 4.35613722e-04 4.30444701e-04\n",
      " 4.30182560e-04 4.20627425e-04 4.19086254e-04 4.15973052e-04\n",
      " 4.13851077e-04 4.09014594e-04 4.01637522e-04 3.98569924e-04\n",
      " 3.96372338e-04 3.93473482e-04 3.88920374e-04 3.84525332e-04\n",
      " 3.83094319e-04 3.79112770e-04 3.75933548e-04 3.71423436e-04\n",
      " 3.67388236e-04 3.64947576e-04 3.60667475e-04 3.58881386e-04\n",
      " 3.57143484e-04 3.54678925e-04 3.52840189e-04 3.50678196e-04\n",
      " 3.45737015e-04 3.42976363e-04 3.40594491e-04 3.34789935e-04\n",
      " 3.31510962e-04 3.29608367e-04 3.25898645e-04 3.23909262e-04\n",
      " 3.21648809e-04 3.18641949e-04 3.15748085e-04 3.13868565e-04\n",
      " 3.12520532e-04 3.09975086e-04 3.07609058e-04 3.04071113e-04\n",
      " 2.99649292e-04 2.98961082e-04 2.95848523e-04 2.91514056e-04\n",
      " 2.89553954e-04 2.88080054e-04 2.86978019e-04 2.85790889e-04\n",
      " 2.81522793e-04 2.78452084e-04 2.76677801e-04 2.74736627e-04\n",
      " 2.72291694e-04 2.69016637e-04 2.66375322e-04 2.61664237e-04\n",
      " 2.60022595e-04 2.59334939e-04 2.56349234e-04 2.55048180e-04\n",
      " 2.53753880e-04 2.52140646e-04 2.48606128e-04 2.48212766e-04\n",
      " 2.47165434e-04 2.43765948e-04 2.42008640e-04 2.39822610e-04\n",
      " 2.38660954e-04 2.37075933e-04 2.36069869e-04 2.33401973e-04\n",
      " 2.32448706e-04 2.30621891e-04 2.28526671e-04 2.27324662e-04\n",
      " 2.25867833e-04 2.21125506e-04 2.19034387e-04 2.17363586e-04\n",
      " 2.16665526e-04 2.14226354e-04 2.12317022e-04 2.11291800e-04\n",
      " 2.09242482e-04 2.05985678e-04 2.05502683e-04 2.03685221e-04\n",
      " 2.01540953e-04 1.98977326e-04 1.97528912e-04 1.95837786e-04\n",
      " 1.93676173e-04 1.92914316e-04 1.91101665e-04 1.90053800e-04\n",
      " 1.89083325e-04 1.87531056e-04 1.85586290e-04 1.84323592e-04\n",
      " 1.83101739e-04 1.81501393e-04 1.80049814e-04 1.78555419e-04\n",
      " 1.76193306e-04 1.74783780e-04 1.72962976e-04 1.71416931e-04\n",
      " 1.70843119e-04 1.69859987e-04 1.68036141e-04 1.66888484e-04\n",
      " 1.65510319e-04 1.64789790e-04 1.63810692e-04 1.62057490e-04\n",
      " 1.59725762e-04 1.59271556e-04 1.57199092e-04 1.57092324e-04\n",
      " 1.56423412e-04 1.54964866e-04 1.54653497e-04 1.51569707e-04\n",
      " 1.50612888e-04 1.49233637e-04 1.47224852e-04 1.45938754e-04\n",
      " 1.44476503e-04 1.42043097e-04 1.41778527e-04 1.40479041e-04\n",
      " 1.40076157e-04 1.38331291e-04 1.37310106e-04 1.36596605e-04\n",
      " 1.34435198e-04 1.33882054e-04 1.33266947e-04 1.32711446e-04\n",
      " 1.30067819e-04 1.29793247e-04 1.27911114e-04 1.27098903e-04\n",
      " 1.26034302e-04 1.24405094e-04 1.23727080e-04 1.22662004e-04\n",
      " 1.21400335e-04 1.20391442e-04 1.19596535e-04 1.17460936e-04\n",
      " 1.17011337e-04 1.15996951e-04 1.13873257e-04 1.12385022e-04\n",
      " 1.11649157e-04 1.10978517e-04 1.08692964e-04 1.08419628e-04\n",
      " 1.06770765e-04 1.05409422e-04 1.04993656e-04 1.04410776e-04\n",
      " 1.03344411e-04 1.01700495e-04 1.01232664e-04 9.93222924e-05\n",
      " 9.90268289e-05 9.68806751e-05 9.63340541e-05 9.41458889e-05\n",
      " 9.37702539e-05 9.28431307e-05 9.17365493e-05 9.03632636e-05\n",
      " 8.99159270e-05 8.91915104e-05 8.77297236e-05 8.73203334e-05\n",
      " 8.63909762e-05 8.57917241e-05 8.41827467e-05 8.36264947e-05\n",
      " 8.28049103e-05 8.13278290e-05 8.08000358e-05 7.98797408e-05\n",
      " 7.72193913e-05 7.65770246e-05 7.49783404e-05 7.43201482e-05\n",
      " 7.37504194e-05 7.25998629e-05 7.19328607e-05 6.97400670e-05\n",
      " 6.82447319e-05 6.63968082e-05 6.55760304e-05 6.41982107e-05\n",
      " 6.23893124e-05 6.19869856e-05 6.01781738e-05 5.75896415e-05]\n",
      "[7.86936421 6.99509194 5.84040638 5.17043313 4.70736434 4.12010561\n",
      " 3.92046902 3.58184222 3.38562617 3.20990875 3.05484477 2.89376746\n",
      " 2.72776413 2.63500115 2.40784189 2.38272088 2.28383072 2.24177349\n",
      " 2.19015129 2.09274226 2.05949339 1.97386783 1.88776707 1.81223564\n",
      " 1.79623714 1.73471071 1.70495788 1.65799492 1.62179901 1.61196069\n",
      " 1.56337042 1.51038434 1.47645823 1.45911288 1.44299923 1.4101735\n",
      " 1.40247494 1.3941517  1.3363501  1.3268127  1.30875759 1.25451476\n",
      " 1.24299221 1.23777658 1.2228971  1.20033454 1.19098311 1.18044858\n",
      " 1.14677795 1.11524865 1.11206362 1.09186501 1.08502982 1.06047469\n",
      " 1.05503877 1.03688758 1.0199738  0.99162484 0.97848513 0.96557603\n",
      " 0.95603965 0.94595281 0.92605853 0.89954275 0.89467055 0.88533693\n",
      " 0.86926124 0.85044695 0.8384215  0.83260533 0.83015079 0.82525538\n",
      " 0.8121612  0.81043929 0.80388153 0.79156851 0.781845   0.77515534\n",
      " 0.75873187 0.74820503 0.74284342 0.7398949  0.72894207 0.71221434\n",
      " 0.70811303 0.70043094 0.69841334 0.68203896 0.67505619 0.66529972\n",
      " 0.66079622 0.6543994  0.65382069 0.64482333 0.64239372 0.62294168\n",
      " 0.62143177 0.61524782 0.60791724 0.59985219 0.59777014 0.59369014\n",
      " 0.58935415 0.58192326 0.57158934 0.57033929 0.56316289 0.55316262\n",
      " 0.55002933 0.54544315 0.54396114 0.53660619 0.53400204 0.52998337\n",
      " 0.52914712 0.51922191 0.51446993 0.50914148 0.50170565 0.49809444\n",
      " 0.49388176 0.49338074 0.48513779 0.47582924 0.47436964 0.46889378\n",
      " 0.46648012 0.45572627 0.45307806 0.44967002 0.44376974 0.43963032\n",
      " 0.43741782 0.43420505 0.42576583 0.42086585 0.41765534 0.41235106\n",
      " 0.40908146 0.40527371 0.40368891 0.40009032 0.39984867 0.39526017\n",
      " 0.3934517  0.38591058 0.38162572 0.38026137 0.37814756 0.3719967\n",
      " 0.36830152 0.36420689 0.36283861 0.35872491 0.35332918 0.35093394\n",
      " 0.34884034 0.34589062 0.34504736 0.33781752 0.33733486 0.33526882\n",
      " 0.33125616 0.32942826 0.32257214 0.32003256 0.31857456 0.3171769\n",
      " 0.31435773 0.31260061 0.31123556 0.30639448 0.30605846 0.30230197\n",
      " 0.30132022 0.29699406 0.29334236 0.29037263 0.28586663 0.28464924\n",
      " 0.28337973 0.28186708 0.27986398 0.27624175 0.27435786 0.27191794\n",
      " 0.27047846 0.2673829  0.2668182  0.26437559 0.26204582 0.2604241\n",
      " 0.25980369 0.25526652 0.25423275 0.25170952 0.25000371 0.24857539\n",
      " 0.24564007 0.24480239 0.24284292 0.24157402 0.23982395 0.23865474\n",
      " 0.23680826 0.23513203 0.2329549  0.23160838 0.22972858 0.22849037\n",
      " 0.22705731 0.22565271 0.22381087 0.22228455 0.22134625 0.21984028\n",
      " 0.21890656 0.21599512 0.21310117 0.21210494 0.21032387 0.20933832\n",
      " 0.20790875 0.20752489 0.20711981 0.20501639 0.2017786  0.20135053\n",
      " 0.19884416 0.19811466 0.19731876 0.19531363 0.19502732 0.19417693\n",
      " 0.19200528 0.19087722 0.18956674 0.18808175 0.1864594  0.18561943\n",
      " 0.18462109 0.18369282 0.18245863 0.1809465  0.17986225 0.17873716\n",
      " 0.17826051 0.17601818 0.17519468 0.17389944 0.17268285 0.17204923\n",
      " 0.1705185  0.17035322 0.16799062 0.16767157 0.1651941  0.16458829\n",
      " 0.16406402 0.16255105 0.16171768 0.16099906 0.15973136 0.15914342\n",
      " 0.15788296 0.15682207 0.15640994 0.15531049 0.15429095 0.15392287\n",
      " 0.15382182 0.15216228 0.15079078 0.1496607  0.14833806 0.14703731\n",
      " 0.14673634 0.1464411  0.14510084 0.1445611  0.14401077 0.14318565\n",
      " 0.14259741 0.1412466  0.14077574 0.13929695 0.1391513  0.13886626\n",
      " 0.13773451 0.13718608 0.13670687 0.13531139 0.13459501 0.13358581\n",
      " 0.1329259  0.13247889 0.13148726 0.13037359 0.12939733 0.12906932\n",
      " 0.12803641 0.12781244 0.12734688 0.12637571 0.12539604 0.12444974\n",
      " 0.12356937 0.12336966 0.12215202 0.12191686 0.12185812 0.12100389\n",
      " 0.11992361 0.1198819  0.11814279 0.11769892 0.11754323 0.11670203\n",
      " 0.11557667 0.11537986 0.11481125 0.11435321 0.11379872 0.11329079\n",
      " 0.11292276 0.11183703 0.11136497 0.11051335 0.11020479 0.10968312\n",
      " 0.1094679  0.10918513 0.10879526 0.1074139  0.10679716 0.10608793\n",
      " 0.10552931 0.10493388 0.10432488 0.10396218 0.10362325 0.10291903\n",
      " 0.10211566 0.10159297 0.10096724 0.10033114 0.09999877 0.09947111\n",
      " 0.09854612 0.09816831 0.09781586 0.09758936 0.09678219 0.09653849\n",
      " 0.09618626 0.0956411  0.09503322 0.09471298 0.09399628 0.09376595\n",
      " 0.09320795 0.09265726 0.0918554  0.09170401 0.09153411 0.09095483\n",
      " 0.09074746 0.09017583 0.08956068 0.08914578 0.08825732 0.08798846\n",
      " 0.08773    0.08753031 0.08742589 0.08631073 0.08602497 0.0856922\n",
      " 0.08445405 0.08421137 0.08368853 0.08316061 0.08311589 0.08294522\n",
      " 0.08224486 0.08183348 0.08149224 0.08131093 0.08050441 0.08000095\n",
      " 0.07987703 0.07956373 0.07928599 0.07856671 0.07848907 0.07834418\n",
      " 0.07787776 0.07721713 0.07713372 0.0763171  0.07608346 0.07577196\n",
      " 0.07565857 0.07507008 0.07477652 0.07452862 0.07367068 0.07349339\n",
      " 0.07323414 0.07305283 0.07257179 0.07240986 0.07196754 0.07144852\n",
      " 0.07141092 0.07077713 0.07002546 0.06981726 0.06937958 0.06915675\n",
      " 0.06878817 0.06805772 0.06803807 0.06788527 0.06741788 0.06682936\n",
      " 0.06669614 0.06593501 0.06576899 0.0655396  0.0652566  0.06477217\n",
      " 0.06432869 0.06423541 0.06398709 0.06380557 0.0635485  0.06296067\n",
      " 0.06287626 0.06259684 0.06195802 0.06177724 0.06140479 0.06092277\n",
      " 0.06064729 0.06050255 0.06002106 0.05991814 0.05932563 0.05889463\n",
      " 0.05862232 0.05821189 0.05817599 0.05739493 0.05714036 0.05685437\n",
      " 0.0563359  0.05624329 0.05590714 0.05554639 0.05541598 0.05504224\n",
      " 0.0547623  0.05466114 0.0542561  0.05413551 0.05325724 0.05306581\n",
      " 0.05265455 0.05227791 0.05212794 0.05194227 0.05164458 0.05098195\n",
      " 0.05029954 0.04998414 0.04987977 0.04966841 0.0494703  0.04903516\n",
      " 0.04885162 0.04865536 0.04843307 0.04813076 0.04772657 0.04742306\n",
      " 0.04701575 0.04638935 0.04583361 0.04564234 0.04531726 0.04490986\n",
      " 0.04478699 0.04377218 0.04374415 0.04353576 0.04332519 0.04311155\n",
      " 0.04291038 0.04240191 0.04185647 0.04158621 0.04151022 0.04083501\n",
      " 0.0404456  0.04011675 0.03986833 0.0389632  0.03862998 0.03828167\n",
      " 0.03782874 0.03693441]\n"
     ]
    }
   ],
   "source": [
    "transform = lda.ComputeLdaTransform()"
   ]
  },
  {
   "cell_type": "code",
   "execution_count": 41,
   "metadata": {
    "collapsed": true
   },
   "outputs": [],
   "source": [
    "for i in class_list_new:\n",
    "    class_list_new[i] = class_list_new[i].dot(transform.T)"
   ]
  },
  {
   "cell_type": "code",
   "execution_count": 42,
   "metadata": {
    "collapsed": true
   },
   "outputs": [],
   "source": [
    "# normlize to sqrt(dim)\n",
    "for i in class_list_new:\n",
    "    scale = np.sqrt(PLDA_DIM) / np.linalg.norm(class_list_new[i], axis=1, keepdims=True)\n",
    "    class_list_new[i] = scale * class_list_new[i]"
   ]
  },
  {
   "cell_type": "code",
   "execution_count": 43,
   "metadata": {
    "collapsed": true
   },
   "outputs": [],
   "source": [
    "plda_stats = PldaStats(PLDA_DIM)\n",
    "for i in class_list_new:\n",
    "    plda_stats.add_samples(class_list_new[i])"
   ]
  },
  {
   "cell_type": "code",
   "execution_count": 44,
   "metadata": {
    "scrolled": true
   },
   "outputs": [
    {
     "data": {
      "text/plain": [
       "True"
      ]
     },
     "execution_count": 44,
     "metadata": {},
     "output_type": "execute_result"
    }
   ],
   "source": [
    "plda_stats.sort()\n",
    "plda_stats.is_sorted()"
   ]
  },
  {
   "cell_type": "code",
   "execution_count": 45,
   "metadata": {},
   "outputs": [
    {
     "name": "stdout",
     "output_type": "stream",
     "text": [
      "1 5\n",
      "nllr_x: 410.5065199581329\n",
      "nllr_y: -371.40425287913286\n",
      "normalized_nllr: 39.10226707900005\n",
      "nllr_m: 411.2795475687941\n",
      "nllr_m_2: 411.27954756879467\n",
      "part1_residual -456.1316055350453\n",
      "part2_mean -411.2795475687941\n",
      "normlized_obj -455.8743773204432\n",
      "2 5\n",
      "nllr_x: 237.23228226515957\n",
      "nllr_y: -457.65293252226996\n",
      "normalized_nllr: -220.42065025711042\n",
      "nllr_m: 243.78477531194216\n",
      "nllr_m_2: 243.78477531194218\n",
      "part1_residual -438.72547415264864\n",
      "part2_mean -243.78477531194218\n",
      "normlized_obj -437.60748202051917\n",
      "3 5\n",
      "nllr_x: 234.43450561162115\n",
      "nllr_y: -457.5477137050012\n",
      "normalized_nllr: -223.11320809338005\n",
      "nllr_m: 242.64087607144768\n",
      "nllr_m_2: 242.64087607144745\n",
      "part1_residual -438.72783256888783\n",
      "part2_mean -242.64087607144765\n",
      "normlized_obj -437.60326660661804\n",
      "4 5\n",
      "nllr_x: 234.15237832022436\n",
      "nllr_y: -457.4238974777612\n",
      "normalized_nllr: -223.27151915753686\n",
      "nllr_m: 242.6170850683921\n",
      "nllr_m_2: 242.61708506839204\n",
      "part1_residual -438.72782922989177\n",
      "part2_mean -242.61708506839224\n",
      "normlized_obj -437.603126844487\n",
      "5 5\n",
      "nllr_x: 234.11014103212952\n",
      "nllr_y: -457.40295022176036\n",
      "normalized_nllr: -223.29280918963082\n",
      "nllr_m: 242.61640026378075\n",
      "nllr_m_2: 242.616400263781\n",
      "part1_residual -438.7278253773639\n",
      "part2_mean -242.61640026378075\n",
      "normlized_obj -437.60311908667376\n"
     ]
    }
   ],
   "source": [
    "# test_fin_prior\n",
    "plda_estimator = PldaEstimation(plda_stats)\n",
    "plda_paras = plda_estimator.estimate(iteration=5)"
   ]
  },
  {
   "cell_type": "code",
   "execution_count": 46,
   "metadata": {
    "collapsed": true
   },
   "outputs": [],
   "source": [
    "import pickle\n",
    "out = component_dir+'/'+ PLDA_PARA_NAME\n",
    "with open(out, 'wb') as handle:\n",
    "    pickle.dump(plda_paras, handle)"
   ]
  },
  {
   "cell_type": "code",
   "execution_count": 47,
   "metadata": {
    "collapsed": true
   },
   "outputs": [],
   "source": [
    "import pickle\n",
    "with open(component_dir+'/'+ PLDA_PARA_NAME, 'rb') as handle:\n",
    "    plda_paras = pickle.load(handle)"
   ]
  },
  {
   "cell_type": "code",
   "execution_count": 48,
   "metadata": {
    "collapsed": true
   },
   "outputs": [],
   "source": [
    "plda = PLDA(plda_paras[0], plda_paras[1], plda_paras[2])"
   ]
  },
  {
   "cell_type": "markdown",
   "metadata": {},
   "source": [
    "# Evaluation"
   ]
  },
  {
   "cell_type": "code",
   "execution_count": 6,
   "metadata": {},
   "outputs": [
    {
     "name": "stdout",
     "output_type": "stream",
     "text": [
      "Using model bank\n",
      "500\n",
      "1000\n",
      "1500\n",
      "2000\n",
      "2500\n",
      "3000\n",
      "3500\n",
      "4000\n",
      "4500\n"
     ]
    }
   ],
   "source": [
    "# train_list = '/Lun0/zhiyong/dataset/vox1_kaldi_test/vox1_kaldi_test.csv'\n",
    "train_list = '/workspace/DATASET/server1/dataset/trial_data_csv.csv'\n",
    "test_list = {}\n",
    "model_settings = {'in_feat': 30, 'emb_size': 256, 'class_num': 7323, 's': 50, 'm': 0.2, 'anneal_steps': 0, 'HistK_len': 0}\n",
    "\n",
    "torch.backends.cudnn.benchmark = False\n",
    "os.environ['CUDA_VISIBLE_DEVICES'] = '1'\n",
    "device = torch.device(\"cuda:0\")\n",
    "\n",
    "# train_data = CSVDataSet(train_list)\n",
    "# train_dataloader = DataLoader(dataset=train_data, batch_size = 1, shuffle = False, num_workers = 32, pin_memory=True)\n",
    "train_data = PickleDataSet(train_list)\n",
    "train_dataloader = My_DataLoader(train_data, batch_size=None, shuffle=False, sampler=None,\\\n",
    "batch_sampler=None, num_workers=8, collate_fn=None,\\\n",
    "pin_memory=False, drop_last=False, timeout=0,\\\n",
    "worker_init_fn=None, multiprocessing_context=None)\n",
    "\n",
    "model = model_bank.get_model(model_id, model_metric, model_settings, None)\n",
    "checkpoint = torch.load(model_path, map_location='cpu')\n",
    "model.load_state_dict(checkpoint['model'], strict=True)\n",
    "model = model.to(device)\n",
    "model.eval()\n",
    "\n",
    "for count, (batch_x, batch_y) in enumerate(train_dataloader):\n",
    "    batch_x = batch_x.to(device)\n",
    "    label = batch_y[0]\n",
    "\n",
    "    batch_y = torch.tensor([0]).to(device)\n",
    "    \n",
    "    with torch.no_grad():\n",
    "        _, _, emb, _, _ = model(batch_x, batch_y, mod='eval')\n",
    "\n",
    "    emb = emb.squeeze().data.cpu().numpy()\n",
    "    \n",
    "    if label not in test_list.keys():\n",
    "        test_list[label] = emb[None, :]\n",
    "    else:\n",
    "        print('repeat eer:', label)\n",
    "        break\n",
    "#         test_list[label] = np.append(test_list[label], emb[None, :], axis=0)\n",
    "    \n",
    "    if (count+1) % 500 == 0:\n",
    "        print(count+1)\n",
    "\n",
    "del model, batch_x, batch_y\n",
    "torch.cuda.empty_cache()"
   ]
  },
  {
   "cell_type": "code",
   "execution_count": 7,
   "metadata": {},
   "outputs": [
    {
     "data": {
      "text/plain": [
       "4874"
      ]
     },
     "execution_count": 7,
     "metadata": {},
     "output_type": "execute_result"
    }
   ],
   "source": [
    "count+1"
   ]
  },
  {
   "cell_type": "code",
   "execution_count": 8,
   "metadata": {},
   "outputs": [
    {
     "data": {
      "text/plain": [
       "4874"
      ]
     },
     "execution_count": 8,
     "metadata": {},
     "output_type": "execute_result"
    }
   ],
   "source": [
    "len(test_list)"
   ]
  },
  {
   "cell_type": "code",
   "execution_count": 9,
   "metadata": {},
   "outputs": [],
   "source": [
    "import pickle\n",
    "out = component_dir+'/'+TEST_DATA_NAME\n",
    "with open(out, 'wb') as handle:\n",
    "    pickle.dump(test_list, handle)"
   ]
  },
  {
   "cell_type": "markdown",
   "metadata": {},
   "source": [
    "# aux trial"
   ]
  },
  {
   "cell_type": "code",
   "execution_count": 4,
   "metadata": {},
   "outputs": [
    {
     "name": "stdout",
     "output_type": "stream",
     "text": [
      "Using new training model bank\n",
      "500\n",
      "1000\n",
      "1500\n",
      "2000\n",
      "2500\n",
      "3000\n",
      "3500\n",
      "4000\n",
      "4500\n",
      "5000\n",
      "5500\n",
      "6000\n",
      "6500\n",
      "7000\n",
      "7500\n",
      "8000\n",
      "8500\n",
      "9000\n",
      "9500\n",
      "10000\n",
      "10500\n",
      "11000\n",
      "11500\n",
      "12000\n",
      "12500\n",
      "13000\n",
      "13500\n",
      "14000\n",
      "14500\n",
      "15000\n",
      "15500\n",
      "16000\n",
      "16500\n",
      "17000\n",
      "17500\n",
      "18000\n",
      "18500\n",
      "19000\n",
      "19500\n",
      "20000\n",
      "20500\n",
      "21000\n",
      "21500\n",
      "22000\n",
      "22500\n",
      "23000\n",
      "23500\n",
      "24000\n",
      "24500\n",
      "25000\n",
      "25500\n",
      "26000\n",
      "26500\n",
      "27000\n",
      "27500\n",
      "28000\n",
      "28500\n",
      "29000\n",
      "29500\n",
      "30000\n",
      "30500\n",
      "31000\n",
      "31500\n",
      "32000\n",
      "32500\n",
      "33000\n",
      "33500\n",
      "34000\n",
      "34500\n",
      "35000\n",
      "35500\n",
      "36000\n"
     ]
    }
   ],
   "source": [
    "# train_list = '/Lun0/zhiyong/dataset/vox1_kaldi_test/vox1_kaldi_test.csv'\n",
    "train_list = '/Lun0/zhiyong/dataset/trial_aux_data.csv'\n",
    "test_list = {}\n",
    "model_settings = {'in_feat': 30, 'emb_size': 512, 'class_num': 7323, 's': 50, 'm': 0.2, 'anneal_steps': 0, 'HistK_len': 0}\n",
    "\n",
    "torch.backends.cudnn.benchmark = False\n",
    "os.environ['CUDA_VISIBLE_DEVICES'] = '1'\n",
    "device = torch.device(\"cuda:0\")\n",
    "\n",
    "# train_data = CSVDataSet(train_list)\n",
    "# train_dataloader = DataLoader(dataset=train_data, batch_size = 1, shuffle = False, num_workers = 32, pin_memory=True)\n",
    "train_data = PickleDataSet(train_list)\n",
    "train_dataloader = My_DataLoader(train_data, batch_size=None, shuffle=False, sampler=None,\\\n",
    "batch_sampler=None, num_workers=8, collate_fn=None,\\\n",
    "pin_memory=False, drop_last=False, timeout=0,\\\n",
    "worker_init_fn=None, multiprocessing_context=None)\n",
    "\n",
    "model = train_model_new.get_model(model_id, model_metric, _, model_settings, _)\n",
    "checkpoint = torch.load(model_path, map_location='cpu')\n",
    "model.load_state_dict(checkpoint['model'], strict=True)\n",
    "model = model.to(device)\n",
    "model.eval()\n",
    "\n",
    "for count, (batch_x, batch_y) in enumerate(train_dataloader):\n",
    "    batch_x = batch_x.to(device)\n",
    "    label = batch_y[0]\n",
    "\n",
    "    batch_y = torch.tensor([0]).to(device)\n",
    "    \n",
    "    with torch.no_grad():\n",
    "        _, _, emb, _, _ = model(batch_x, batch_y, mod='eval')\n",
    "\n",
    "    emb = emb.squeeze().data.cpu().numpy()\n",
    "    \n",
    "    if label not in test_list.keys():\n",
    "        test_list[label] = emb[None, :]\n",
    "    else:\n",
    "        print('repeat eer:', label)\n",
    "        break\n",
    "#         test_list[label] = np.append(test_list[label], emb[None, :], axis=0)\n",
    "    \n",
    "    if (count+1) % 500 == 0:\n",
    "        print(count+1)\n",
    "\n",
    "del model, batch_x, batch_y\n",
    "torch.cuda.empty_cache()"
   ]
  },
  {
   "cell_type": "code",
   "execution_count": 5,
   "metadata": {},
   "outputs": [
    {
     "data": {
      "text/plain": [
       "36237"
      ]
     },
     "execution_count": 5,
     "metadata": {},
     "output_type": "execute_result"
    }
   ],
   "source": [
    "count+1"
   ]
  },
  {
   "cell_type": "code",
   "execution_count": 6,
   "metadata": {},
   "outputs": [
    {
     "data": {
      "text/plain": [
       "36237"
      ]
     },
     "execution_count": 6,
     "metadata": {},
     "output_type": "execute_result"
    }
   ],
   "source": [
    "len(test_list)"
   ]
  },
  {
   "cell_type": "code",
   "execution_count": 9,
   "metadata": {
    "collapsed": true
   },
   "outputs": [],
   "source": [
    "import pickle\n",
    "out = component_dir+'/'+AUX_DATA_NAME\n",
    "with open(out, 'wb') as handle:\n",
    "    pickle.dump(test_list, handle)"
   ]
  },
  {
   "cell_type": "code",
   "execution_count": null,
   "metadata": {
    "collapsed": true
   },
   "outputs": [],
   "source": []
  },
  {
   "cell_type": "markdown",
   "metadata": {},
   "source": [
    "# sdsvc dev trial & cos scoring"
   ]
  },
  {
   "cell_type": "code",
   "execution_count": 54,
   "metadata": {},
   "outputs": [
    {
     "name": "stdout",
     "output_type": "stream",
     "text": [
      "Using new training model bank\n",
      "500\n",
      "1000\n",
      "1500\n",
      "2000\n",
      "2500\n",
      "3000\n",
      "3500\n",
      "4000\n",
      "4500\n",
      "5000\n",
      "5500\n",
      "6000\n",
      "6500\n",
      "7000\n",
      "7500\n",
      "8000\n",
      "8500\n",
      "9000\n",
      "9500\n",
      "10000\n",
      "10500\n",
      "11000\n",
      "11500\n",
      "12000\n",
      "12500\n",
      "13000\n",
      "13500\n",
      "14000\n"
     ]
    }
   ],
   "source": [
    "# train_list = '/Lun0/zhiyong/dataset/vox1_kaldi_test/vox1_kaldi_test.csv'\n",
    "train_list = '/Lun0/zhiyong/sdsvc_t2_small_sparse/trial_data_small_csv.csv'\n",
    "test_list = {}\n",
    "model_settings = {'in_feat': 30, 'emb_size': 512, 'class_num': 7323, 's': 50, 'm': 0.2, 'anneal_steps': 0, 'HistK_len': 0}\n",
    "\n",
    "torch.backends.cudnn.benchmark = False\n",
    "os.environ['CUDA_VISIBLE_DEVICES'] = '1'\n",
    "device = torch.device(\"cuda:0\")\n",
    "\n",
    "# train_data = CSVDataSet(train_list)\n",
    "# train_dataloader = DataLoader(dataset=train_data, batch_size = 1, shuffle = False, num_workers = 32, pin_memory=True)\n",
    "train_data = PickleDataSet(train_list)\n",
    "train_dataloader = My_DataLoader(train_data, batch_size=None, shuffle=False, sampler=None,\\\n",
    "batch_sampler=None, num_workers=8, collate_fn=None,\\\n",
    "pin_memory=False, drop_last=False, timeout=0,\\\n",
    "worker_init_fn=None, multiprocessing_context=None)\n",
    "\n",
    "model = train_model_new.get_model(model_id, model_metric, _, model_settings, _)\n",
    "checkpoint = torch.load(model_path, map_location='cpu')\n",
    "model.load_state_dict(checkpoint['model'], strict=True)\n",
    "model = model.to(device)\n",
    "model.eval()\n",
    "\n",
    "for count, (batch_x, batch_y) in enumerate(train_dataloader):\n",
    "    batch_x = batch_x.to(device)\n",
    "    label = batch_y[0]\n",
    "\n",
    "    batch_y = torch.tensor([0]).to(device)\n",
    "    \n",
    "    with torch.no_grad():\n",
    "        _, _, emb, _, _ = model(batch_x, batch_y, mod='eval')\n",
    "\n",
    "    emb = emb.squeeze().data.cpu().numpy()\n",
    "    \n",
    "    if label not in test_list.keys():\n",
    "        test_list[label] = emb[None, :]\n",
    "    else:\n",
    "        print('repeat eer:', label)\n",
    "        break\n",
    "#         test_list[label] = np.append(test_list[label], emb[None, :], axis=0)\n",
    "    \n",
    "    if (count+1) % 500 == 0:\n",
    "        print(count+1)\n",
    "\n",
    "del model, batch_x, batch_y\n",
    "torch.cuda.empty_cache()"
   ]
  },
  {
   "cell_type": "code",
   "execution_count": 55,
   "metadata": {},
   "outputs": [
    {
     "data": {
      "text/plain": [
       "14490"
      ]
     },
     "execution_count": 55,
     "metadata": {},
     "output_type": "execute_result"
    }
   ],
   "source": [
    "count+1"
   ]
  },
  {
   "cell_type": "code",
   "execution_count": 56,
   "metadata": {},
   "outputs": [
    {
     "data": {
      "text/plain": [
       "14490"
      ]
     },
     "execution_count": 56,
     "metadata": {},
     "output_type": "execute_result"
    }
   ],
   "source": [
    "len(test_list)"
   ]
  },
  {
   "cell_type": "code",
   "execution_count": 57,
   "metadata": {
    "collapsed": true
   },
   "outputs": [],
   "source": [
    "import pickle\n",
    "out = component_dir+'/'+'sdscv_trial_data'\n",
    "with open(out, 'wb') as handle:\n",
    "    pickle.dump(test_list, handle)"
   ]
  },
  {
   "cell_type": "code",
   "execution_count": null,
   "metadata": {
    "collapsed": true
   },
   "outputs": [],
   "source": []
  },
  {
   "cell_type": "code",
   "execution_count": 58,
   "metadata": {
    "collapsed": true
   },
   "outputs": [],
   "source": [
    "trail_path = '/Lun0/zhiyong/sdsvc_t2_small_sparse/small_tiral_list'\n",
    "score_out_path = component_dir+'/'+'sdsvc_cos'"
   ]
  },
  {
   "cell_type": "code",
   "execution_count": 59,
   "metadata": {
    "collapsed": true
   },
   "outputs": [],
   "source": [
    "import pickle\n",
    "with open(component_dir+'/'+'sdscv_trial_data', 'rb') as handle:\n",
    "    test_list = pickle.load(handle)"
   ]
  },
  {
   "cell_type": "code",
   "execution_count": 60,
   "metadata": {
    "collapsed": true
   },
   "outputs": [],
   "source": [
    "for i in test_list:\n",
    "    test_list[i] = (1.0 / np.linalg.norm(test_list[i])) * test_list[i]"
   ]
  },
  {
   "cell_type": "code",
   "execution_count": 61,
   "metadata": {},
   "outputs": [
    {
     "name": "stdout",
     "output_type": "stream",
     "text": [
      "trn_172338.wav trn_172362.wav target\n",
      "\n",
      "5000\n",
      "10000\n",
      "15000\n",
      "20000\n",
      "25000\n",
      "30000\n",
      "35000\n",
      "40000\n",
      "45000\n",
      "50000\n",
      "55000\n",
      "60000\n",
      "65000\n",
      "70000\n",
      "75000\n",
      "80000\n",
      "85000\n",
      "90000\n",
      "95000\n",
      "100000\n",
      "105000\n",
      "110000\n",
      "115000\n"
     ]
    }
   ],
   "source": [
    "with open(score_out_path, 'w') as of:\n",
    "    with open(trail_path, 'r') as f:\n",
    "        for count, line in enumerate(f):\n",
    "            if count == 0:\n",
    "                print(line)\n",
    "#                 continue\n",
    "            enroll_emb = test_list[line.split(' ')[0][:-4]].squeeze()\n",
    "            test_emb = test_list[line.split(' ')[1][:-4]].squeeze()\n",
    "            \n",
    "            cosine = np.dot(enroll_emb, test_emb)\n",
    "            \n",
    "            of.write(line.split(' ')[0]+' '+line.split(' ')[1]+' '+str(cosine)+'\\n')\n",
    "            \n",
    "            if (count+1) % 5000 == 0:\n",
    "                print(count+1)"
   ]
  },
  {
   "cell_type": "code",
   "execution_count": 71,
   "metadata": {
    "collapsed": true
   },
   "outputs": [],
   "source": [
    "from my_scorer import scoring\n",
    "from calibrate_scores import calibrating\n",
    "from apply_calibration import applying"
   ]
  },
  {
   "cell_type": "code",
   "execution_count": 63,
   "metadata": {},
   "outputs": [
    {
     "name": "stdout",
     "output_type": "stream",
     "text": [
      "\n",
      "Set\tEER[%]\tmin_C\tact_C\n",
      "OUT\t04.68\t0.389\t1.000\n"
     ]
    }
   ],
   "source": [
    "score_file = component_dir+'/'+'sdsvc_cos'\n",
    "key_file = '/Lun0/zhiyong/sdsvc_t2_small_sparse/small_tiral_list'\n",
    "\n",
    "_ = scoring(score_file, key_file)"
   ]
  },
  {
   "cell_type": "markdown",
   "metadata": {
    "collapsed": true
   },
   "source": [
    "# Scoring"
   ]
  },
  {
   "cell_type": "code",
   "execution_count": 53,
   "metadata": {
    "collapsed": true
   },
   "outputs": [],
   "source": [
    "trail_path = '/Lun0/zhiyong/dataset/vox1_kaldi_test/trials'\n",
    "score_out_path = component_dir+'/'+SCORING_PLDA_NAME"
   ]
  },
  {
   "cell_type": "code",
   "execution_count": 54,
   "metadata": {
    "collapsed": true
   },
   "outputs": [],
   "source": [
    "import pickle\n",
    "with open(component_dir+'/'+TEST_DATA_NAME, 'rb') as handle:\n",
    "    test_list = pickle.load(handle)"
   ]
  },
  {
   "cell_type": "code",
   "execution_count": 55,
   "metadata": {
    "collapsed": true
   },
   "outputs": [],
   "source": [
    "for i in test_list:\n",
    "    test_list[i] = test_list[i].squeeze()\n",
    "    test_list[i] = test_list[i] - global_mean\n",
    "#     test_list[i] = (np.sqrt(512) / np.linalg.norm(test_list[i])) * test_list[i]\n",
    "    test_list[i] = transform.dot(test_list[i])\n",
    "    test_list[i] = (np.sqrt(PLDA_DIM) / np.linalg.norm(test_list[i])) * test_list[i]\n",
    "    test_list[i] = plda.transform_ivector(test_list[i], 1)"
   ]
  },
  {
   "cell_type": "code",
   "execution_count": 56,
   "metadata": {},
   "outputs": [
    {
     "name": "stdout",
     "output_type": "stream",
     "text": [
      "id10270-x6uYqmx31kE-00001.wav id10270-8jEAjG6SegY-00008.wav target\n",
      "\n",
      "5000\n",
      "10000\n",
      "15000\n",
      "20000\n",
      "25000\n",
      "30000\n",
      "35000\n"
     ]
    }
   ],
   "source": [
    "with open(score_out_path, 'w') as of:\n",
    "    with open(trail_path, 'r') as f:\n",
    "        for count, line in enumerate(f):\n",
    "            if count == 0:\n",
    "                print(line)\n",
    "#                 continue\n",
    "            enroll_emb = test_list[line.split(' ')[0][:-4]].squeeze()\n",
    "            test_emb = test_list[line.split(' ')[1][:-4]].squeeze()\n",
    "\n",
    "            cosine = plda.log_likelihood_ratio(enroll_emb, 1, test_emb)\n",
    "            \n",
    "            of.write(line.split(' ')[0]+' '+line.split(' ')[1]+' '+str(cosine)+'\\n')\n",
    "            \n",
    "            if (count+1) % 5000 == 0:\n",
    "                print(count+1)"
   ]
  },
  {
   "cell_type": "code",
   "execution_count": 47,
   "metadata": {
    "collapsed": true
   },
   "outputs": [],
   "source": [
    "# Cosine Scoring"
   ]
  },
  {
   "cell_type": "code",
   "execution_count": 18,
   "metadata": {},
   "outputs": [],
   "source": [
    "trail_path = '/workspace/DATASET/server1/vox1_o_trials'\n",
    "score_out_path = component_dir+'/'+SCORING_COSINE_NAME"
   ]
  },
  {
   "cell_type": "code",
   "execution_count": 19,
   "metadata": {},
   "outputs": [],
   "source": [
    "import pickle\n",
    "with open(component_dir+'/'+TEST_DATA_NAME, 'rb') as handle:\n",
    "    test_list = pickle.load(handle)"
   ]
  },
  {
   "cell_type": "code",
   "execution_count": 20,
   "metadata": {},
   "outputs": [],
   "source": [
    "for i in test_list:\n",
    "    test_list[i] = (1.0 / np.linalg.norm(test_list[i])) * test_list[i]"
   ]
  },
  {
   "cell_type": "code",
   "execution_count": 21,
   "metadata": {},
   "outputs": [
    {
     "name": "stdout",
     "output_type": "stream",
     "text": [
      "id10270-x6uYqmx31kE-00001.wav id10270-8jEAjG6SegY-00008.wav target\n",
      "\n",
      "5000\n",
      "10000\n",
      "15000\n",
      "20000\n",
      "25000\n",
      "30000\n",
      "35000\n"
     ]
    }
   ],
   "source": [
    "with open(score_out_path, 'w') as of:\n",
    "    with open(trail_path, 'r') as f:\n",
    "        for count, line in enumerate(f):\n",
    "            if count == 0:\n",
    "                print(line)\n",
    "#                 continue\n",
    "            enroll_emb = test_list[line.split(' ')[0][:-4]].squeeze()\n",
    "            test_emb = test_list[line.split(' ')[1][:-4]].squeeze()\n",
    "            \n",
    "            cosine = np.dot(enroll_emb, test_emb)\n",
    "            \n",
    "            of.write(line.split(' ')[0]+' '+line.split(' ')[1]+' '+str(cosine)+'\\n')\n",
    "            \n",
    "            if (count+1) % 5000 == 0:\n",
    "                print(count+1)"
   ]
  },
  {
   "cell_type": "code",
   "execution_count": 22,
   "metadata": {},
   "outputs": [
    {
     "name": "stdout",
     "output_type": "stream",
     "text": [
      "37611\n"
     ]
    }
   ],
   "source": [
    "print(count+1)"
   ]
  },
  {
   "cell_type": "code",
   "execution_count": null,
   "metadata": {},
   "outputs": [],
   "source": []
  },
  {
   "cell_type": "code",
   "execution_count": 14,
   "metadata": {},
   "outputs": [],
   "source": [
    "trail_path = '/workspace/DATASET/server1/veri_test2.txt'\n",
    "new_trial_path = '/workspace/DATASET/server1/vox1_o_trials'\n",
    "\n",
    "with open(trail_path, 'r') as f:\n",
    "    lines = f.readlines()"
   ]
  },
  {
   "cell_type": "code",
   "execution_count": 17,
   "metadata": {},
   "outputs": [],
   "source": [
    "with open(new_trial_path, 'w') as f:\n",
    "    for line in lines:\n",
    "        cmp = line[:-1].split(' ')\n",
    "        if cmp[0] == '0':\n",
    "            cmp_a = cmp[1].split('/')\n",
    "            out_1 = cmp_a[0]+'-'+cmp_a[1]+'-'+cmp_a[2]\n",
    "            cmp_b = cmp[2].split('/')\n",
    "            out_2 = cmp_b[0]+'-'+cmp_b[1]+'-'+cmp_b[2]\n",
    "            out_3 = 'nontarget'\n",
    "            out = out_1+' '+out_2+' '+out_3+'\\n'\n",
    "        else:\n",
    "            cmp_a = cmp[1].split('/')\n",
    "            out_1 = cmp_a[0]+'-'+cmp_a[1]+'-'+cmp_a[2]\n",
    "            cmp_b = cmp[2].split('/')\n",
    "            out_2 = cmp_b[0]+'-'+cmp_b[1]+'-'+cmp_b[2]\n",
    "            out_3 = 'target'\n",
    "            out = out_1+' '+out_2+' '+out_3+'\\n'\n",
    "        f.write(out)"
   ]
  },
  {
   "cell_type": "code",
   "execution_count": null,
   "metadata": {
    "collapsed": true
   },
   "outputs": [],
   "source": [
    "# Aux scoring PLDA"
   ]
  },
  {
   "cell_type": "code",
   "execution_count": 37,
   "metadata": {
    "collapsed": true
   },
   "outputs": [],
   "source": [
    "trail_path = '/Lun0/zhiyong/dataset/aux_tiral_list'\n",
    "score_out_path = component_dir+'/'+SCORING_AUX_PLDA"
   ]
  },
  {
   "cell_type": "code",
   "execution_count": 38,
   "metadata": {
    "collapsed": true
   },
   "outputs": [],
   "source": [
    "import pickle\n",
    "with open(component_dir+'/'+AUX_DATA_NAME, 'rb') as handle:\n",
    "    test_list = pickle.load(handle)"
   ]
  },
  {
   "cell_type": "code",
   "execution_count": 39,
   "metadata": {
    "collapsed": true
   },
   "outputs": [],
   "source": [
    "for i in test_list:\n",
    "    test_list[i] = test_list[i].squeeze()\n",
    "    test_list[i] = test_list[i] - global_mean\n",
    "#     test_list[i] = (np.sqrt(512) / np.linalg.norm(test_list[i])) * test_list[i]\n",
    "    test_list[i] = transform.dot(test_list[i])\n",
    "    test_list[i] = (np.sqrt(PLDA_DIM) / np.linalg.norm(test_list[i])) * test_list[i]\n",
    "    test_list[i] = plda.transform_ivector(test_list[i], 1)"
   ]
  },
  {
   "cell_type": "code",
   "execution_count": 40,
   "metadata": {},
   "outputs": [
    {
     "name": "stdout",
     "output_type": "stream",
     "text": [
      "id00562-X7FJ3M3bz3c-00127.wav id00562-9tqfxnIUShw-00071.wav target\n",
      "\n",
      "5000\n",
      "10000\n",
      "15000\n",
      "20000\n",
      "25000\n",
      "30000\n",
      "35000\n",
      "40000\n",
      "45000\n",
      "50000\n",
      "55000\n",
      "60000\n",
      "65000\n",
      "70000\n",
      "75000\n",
      "80000\n",
      "85000\n",
      "90000\n",
      "95000\n",
      "100000\n",
      "105000\n",
      "110000\n",
      "115000\n",
      "120000\n",
      "125000\n",
      "130000\n",
      "135000\n",
      "140000\n",
      "145000\n",
      "150000\n",
      "155000\n",
      "160000\n",
      "165000\n",
      "170000\n",
      "175000\n",
      "180000\n",
      "185000\n",
      "190000\n",
      "195000\n",
      "200000\n",
      "205000\n",
      "210000\n",
      "215000\n",
      "220000\n",
      "225000\n",
      "230000\n",
      "235000\n",
      "240000\n",
      "245000\n",
      "250000\n",
      "255000\n",
      "260000\n",
      "265000\n",
      "270000\n",
      "275000\n",
      "280000\n",
      "285000\n"
     ]
    }
   ],
   "source": [
    "with open(score_out_path, 'w') as of:\n",
    "    with open(trail_path, 'r') as f:\n",
    "        for count, line in enumerate(f):\n",
    "            if count == 0:\n",
    "                print(line)\n",
    "#                 continue\n",
    "            enroll_emb = test_list[line.split(' ')[0][:-4]].squeeze()\n",
    "            test_emb = test_list[line.split(' ')[1][:-4]].squeeze()\n",
    "\n",
    "            cosine = plda.log_likelihood_ratio(enroll_emb, 1, test_emb)\n",
    "            \n",
    "            of.write(line.split(' ')[0]+' '+line.split(' ')[1]+' '+str(cosine)+'\\n')\n",
    "            \n",
    "            if (count+1) % 5000 == 0:\n",
    "                print(count+1)"
   ]
  },
  {
   "cell_type": "code",
   "execution_count": null,
   "metadata": {
    "collapsed": true
   },
   "outputs": [],
   "source": [
    "# Aux scoring cosine"
   ]
  },
  {
   "cell_type": "code",
   "execution_count": 12,
   "metadata": {
    "collapsed": true
   },
   "outputs": [],
   "source": [
    "trail_path = '/Lun0/zhiyong/dataset/aux_tiral_list'\n",
    "score_out_path = component_dir+'/'+SCORING_AUX_COSINE"
   ]
  },
  {
   "cell_type": "code",
   "execution_count": 13,
   "metadata": {
    "collapsed": true
   },
   "outputs": [],
   "source": [
    "import pickle\n",
    "with open(component_dir+'/'+AUX_DATA_NAME, 'rb') as handle:\n",
    "    test_list = pickle.load(handle)"
   ]
  },
  {
   "cell_type": "code",
   "execution_count": 14,
   "metadata": {
    "collapsed": true
   },
   "outputs": [],
   "source": [
    "for i in test_list:\n",
    "    test_list[i] = (1.0 / np.linalg.norm(test_list[i])) * test_list[i]"
   ]
  },
  {
   "cell_type": "code",
   "execution_count": 15,
   "metadata": {},
   "outputs": [
    {
     "name": "stdout",
     "output_type": "stream",
     "text": [
      "id00562-X7FJ3M3bz3c-00127.wav id00562-9tqfxnIUShw-00071.wav target\n",
      "\n",
      "5000\n",
      "10000\n",
      "15000\n",
      "20000\n",
      "25000\n",
      "30000\n",
      "35000\n",
      "40000\n",
      "45000\n",
      "50000\n",
      "55000\n",
      "60000\n",
      "65000\n",
      "70000\n",
      "75000\n",
      "80000\n",
      "85000\n",
      "90000\n",
      "95000\n",
      "100000\n",
      "105000\n",
      "110000\n",
      "115000\n",
      "120000\n",
      "125000\n",
      "130000\n",
      "135000\n",
      "140000\n",
      "145000\n",
      "150000\n",
      "155000\n",
      "160000\n",
      "165000\n",
      "170000\n",
      "175000\n",
      "180000\n",
      "185000\n",
      "190000\n",
      "195000\n",
      "200000\n",
      "205000\n",
      "210000\n",
      "215000\n",
      "220000\n",
      "225000\n",
      "230000\n",
      "235000\n",
      "240000\n",
      "245000\n",
      "250000\n",
      "255000\n",
      "260000\n",
      "265000\n",
      "270000\n",
      "275000\n",
      "280000\n",
      "285000\n"
     ]
    }
   ],
   "source": [
    "with open(score_out_path, 'w') as of:\n",
    "    with open(trail_path, 'r') as f:\n",
    "        for count, line in enumerate(f):\n",
    "            if count == 0:\n",
    "                print(line)\n",
    "#                 continue\n",
    "            enroll_emb = test_list[line.split(' ')[0][:-4]].squeeze()\n",
    "            test_emb = test_list[line.split(' ')[1][:-4]].squeeze()\n",
    "            \n",
    "            cosine = np.dot(enroll_emb, test_emb)\n",
    "            \n",
    "            of.write(line.split(' ')[0]+' '+line.split(' ')[1]+' '+str(cosine)+'\\n')\n",
    "            \n",
    "            if (count+1) % 5000 == 0:\n",
    "                print(count+1)"
   ]
  },
  {
   "cell_type": "markdown",
   "metadata": {
    "collapsed": true
   },
   "source": [
    "# scoring aux"
   ]
  },
  {
   "cell_type": "code",
   "execution_count": 17,
   "metadata": {
    "collapsed": true
   },
   "outputs": [],
   "source": [
    "from my_scorer import scoring\n",
    "from calibrate_scores import calibrating\n",
    "from apply_calibration import applying"
   ]
  },
  {
   "cell_type": "code",
   "execution_count": 41,
   "metadata": {},
   "outputs": [
    {
     "name": "stdout",
     "output_type": "stream",
     "text": [
      "\n",
      "Set\tEER[%]\tmin_C\tact_C\n",
      "OUT\t01.98\t0.216\t0.303\n",
      "Starting point for CLLR is 0.703163\n",
      "Converged linear model with loss 0.12720251288238166\n",
      "\n",
      "Set\tEER[%]\tmin_C\tact_C\n",
      "OUT\t01.98\t0.216\t0.328\n"
     ]
    }
   ],
   "source": [
    "score_file = component_dir+'/'+SCORING_PLDA_NAME\n",
    "key_file = '/Lun0/zhiyong/dataset/vox1_kaldi_test/trials'\n",
    "aux_score_file = component_dir+'/'+ SCORING_AUX_PLDA\n",
    "aux_key_file = '/Lun0/zhiyong/dataset/aux_tiral_list'\n",
    "calib_score_file = score_file+'_calib'\n",
    "linear_model_pth = component_dir+'/'+'calib.pth'\n",
    "\n",
    "_ = scoring(score_file, key_file)\n",
    "calibrating(linear_model_pth, 50, aux_key_file, [aux_score_file])\n",
    "applying(linear_model_pth, [score_file], calib_score_file)\n",
    "_ = scoring(calib_score_file, key_file)"
   ]
  },
  {
   "cell_type": "code",
   "execution_count": 50,
   "metadata": {},
   "outputs": [
    {
     "name": "stdout",
     "output_type": "stream",
     "text": [
      "\n",
      "Set\tEER[%]\tmin_C\tact_C\n",
      "OUT\t02.18\t0.231\t1.000\n",
      "Starting point for CLLR is 0.844346\n",
      "Converged linear model with loss 0.13304337922710377\n",
      "\n",
      "Set\tEER[%]\tmin_C\tact_C\n",
      "OUT\t02.18\t0.231\t0.263\n"
     ]
    }
   ],
   "source": [
    "score_file = component_dir+'/'+SCORING_COSINE_NAME\n",
    "key_file = '/Lun0/zhiyong/dataset/vox1_kaldi_test/trials'\n",
    "aux_score_file = component_dir+'/'+ SCORING_AUX_COSINE\n",
    "aux_key_file = '/Lun0/zhiyong/dataset/aux_tiral_list'\n",
    "calib_score_file = score_file+'_calib'\n",
    "linear_model_pth = component_dir+'/'+'calib.pth'\n",
    "\n",
    "_ = scoring(score_file, key_file)\n",
    "calibrating(linear_model_pth, 50, aux_key_file, [aux_score_file])\n",
    "applying(linear_model_pth, [score_file], calib_score_file)\n",
    "_ = scoring(calib_score_file, key_file)"
   ]
  },
  {
   "cell_type": "markdown",
   "metadata": {},
   "source": [
    "# En aux"
   ]
  },
  {
   "cell_type": "code",
   "execution_count": 42,
   "metadata": {},
   "outputs": [
    {
     "name": "stdout",
     "output_type": "stream",
     "text": [
      "Starting point for CLLR is 0.773755\n",
      "Converged linear model with loss 0.1185242436564276\n",
      "\n",
      "Set\tEER[%]\tmin_C\tact_C\n",
      "OUT\t01.75\t0.205\t0.264\n"
     ]
    }
   ],
   "source": [
    "score_file_1_aux = component_dir+'/'+SCORING_AUX_PLDA\n",
    "score_file_2_aux = component_dir+'/'+SCORING_AUX_COSINE\n",
    "score_file_1 = component_dir+'/'+SCORING_PLDA_NAME\n",
    "score_file_2 = component_dir+'/'+SCORING_COSINE_NAME\n",
    "key_file = '/Lun0/zhiyong/dataset/vox1_kaldi_test/trials'\n",
    "aux_key_file = '/Lun0/zhiyong/dataset/aux_tiral_list'\n",
    "calib_score_file = component_dir+'/'+'fuse_aux'\n",
    "linear_model_pth = component_dir+'/'+'calib.pth'\n",
    "\n",
    "# _ = scoring(score_file, key_file)\n",
    "calibrating(linear_model_pth, 50, aux_key_file, [score_file_1_aux, score_file_2_aux])\n",
    "applying(linear_model_pth, [score_file_1, score_file_2], calib_score_file)\n",
    "_ = scoring(calib_score_file, key_file)"
   ]
  },
  {
   "cell_type": "code",
   "execution_count": 51,
   "metadata": {},
   "outputs": [
    {
     "name": "stdout",
     "output_type": "stream",
     "text": [
      "Starting point for CLLR is 0.704718\n",
      "Converged linear model with loss 0.23705743394532688\n",
      "\n",
      "Set\tEER[%]\tmin_C\tact_C\n",
      "OUT\t01.66\t0.285\t0.454\n"
     ]
    }
   ],
   "source": [
    "score_file_1_aux = component_dir+'/'+SCORING_AUX_PLDA+'_norm'\n",
    "score_file_2_aux = component_dir+'/'+SCORING_AUX_COSINE+'_norm'\n",
    "score_file_1 = component_dir+'/'+SCORING_PLDA_NAME+'_norm'\n",
    "score_file_2 = component_dir+'/'+SCORING_COSINE_NAME+'_norm'\n",
    "key_file = '/Lun0/zhiyong/dataset/vox1_kaldi_test/trials'\n",
    "aux_key_file = '/Lun0/zhiyong/dataset/aux_tiral_list'\n",
    "calib_score_file = component_dir+'/'+'fuse_aux_norm'\n",
    "linear_model_pth = component_dir+'/'+'calib.pth'\n",
    "\n",
    "# _ = scoring(score_file, key_file)\n",
    "calibrating(linear_model_pth, 50, aux_key_file, [score_file_1_aux, score_file_2_aux])\n",
    "applying(linear_model_pth, [score_file_1, score_file_2], calib_score_file)\n",
    "_ = scoring(calib_score_file, key_file)"
   ]
  },
  {
   "cell_type": "code",
   "execution_count": 52,
   "metadata": {},
   "outputs": [
    {
     "name": "stdout",
     "output_type": "stream",
     "text": [
      "Starting point for CLLR is 0.739236\n",
      "Converged linear model with loss 0.09995077823341468\n",
      "\n",
      "Set\tEER[%]\tmin_C\tact_C\n",
      "OUT\t01.61\t0.185\t0.195\n"
     ]
    }
   ],
   "source": [
    "score_file_1_aux = component_dir+'/'+SCORING_AUX_PLDA\n",
    "score_file_2_aux = component_dir+'/'+SCORING_AUX_COSINE\n",
    "score_file_3_aux = component_dir+'/'+SCORING_AUX_PLDA+'_norm'\n",
    "score_file_4_aux = component_dir+'/'+SCORING_AUX_COSINE+'_norm'\n",
    "score_file_1 = component_dir+'/'+SCORING_PLDA_NAME\n",
    "score_file_2 = component_dir+'/'+SCORING_COSINE_NAME\n",
    "score_file_3 = component_dir+'/'+SCORING_PLDA_NAME+'_norm'\n",
    "score_file_4 = component_dir+'/'+SCORING_COSINE_NAME+'_norm'\n",
    "key_file = '/Lun0/zhiyong/dataset/vox1_kaldi_test/trials'\n",
    "aux_key_file = '/Lun0/zhiyong/dataset/aux_tiral_list'\n",
    "calib_score_file = component_dir+'/'+'fuse_aux_4'\n",
    "linear_model_pth = component_dir+'/'+'calib.pth'\n",
    "\n",
    "# _ = scoring(score_file, key_file)\n",
    "calibrating(linear_model_pth, 50, aux_key_file, [score_file_1_aux, score_file_2_aux, score_file_3_aux, score_file_4_aux])\n",
    "applying(linear_model_pth, [score_file_1, score_file_2, score_file_3, score_file_4], calib_score_file)\n",
    "_ = scoring(calib_score_file, key_file)"
   ]
  },
  {
   "cell_type": "markdown",
   "metadata": {},
   "source": [
    "# Score norm aux"
   ]
  },
  {
   "cell_type": "code",
   "execution_count": 44,
   "metadata": {
    "collapsed": true
   },
   "outputs": [],
   "source": [
    "from score_norm_1 import score_norm"
   ]
  },
  {
   "cell_type": "code",
   "execution_count": 59,
   "metadata": {},
   "outputs": [
    {
     "name": "stderr",
     "output_type": "stream",
     "text": [
      "/home/dell/anaconda3/lib/python3.6/site-packages/numpy/core/_methods.py:140: RuntimeWarning: Degrees of freedom <= 0 for slice\n",
      "  keepdims=keepdims)\n",
      "/home/dell/anaconda3/lib/python3.6/site-packages/numpy/core/_methods.py:132: RuntimeWarning: invalid value encountered in double_scalars\n",
      "  ret = ret.dtype.type(ret / rcount)\n"
     ]
    }
   ],
   "source": [
    "ori_score = component_dir+'/'+SCORING_PLDA_NAME\n",
    "norm_score = component_dir+'/'+SCORING_PLDA_NAME+'_norm'\n",
    "score_norm(ori_score, norm_score)"
   ]
  },
  {
   "cell_type": "code",
   "execution_count": 45,
   "metadata": {},
   "outputs": [
    {
     "name": "stderr",
     "output_type": "stream",
     "text": [
      "/home/dell/anaconda3/lib/python3.6/site-packages/numpy/core/_methods.py:140: RuntimeWarning: Degrees of freedom <= 0 for slice\n",
      "  keepdims=keepdims)\n",
      "/home/dell/anaconda3/lib/python3.6/site-packages/numpy/core/_methods.py:132: RuntimeWarning: invalid value encountered in double_scalars\n",
      "  ret = ret.dtype.type(ret / rcount)\n"
     ]
    }
   ],
   "source": [
    "ori_score = component_dir+'/'+SCORING_AUX_PLDA\n",
    "norm_score = component_dir+'/'+SCORING_AUX_PLDA+'_norm'\n",
    "score_norm(ori_score, norm_score)"
   ]
  },
  {
   "cell_type": "code",
   "execution_count": 47,
   "metadata": {},
   "outputs": [
    {
     "name": "stdout",
     "output_type": "stream",
     "text": [
      "\n",
      "Set\tEER[%]\tmin_C\tact_C\n",
      "OUT\t01.88\t0.312\t1.000\n",
      "Starting point for CLLR is 0.698849\n",
      "Converged linear model with loss 0.24405807569514407\n",
      "\n",
      "Set\tEER[%]\tmin_C\tact_C\n",
      "OUT\t01.88\t0.312\t0.524\n"
     ]
    }
   ],
   "source": [
    "score_file = component_dir+'/'+SCORING_PLDA_NAME+'_norm'\n",
    "key_file = '/Lun0/zhiyong/dataset/vox1_kaldi_test/trials'\n",
    "aux_score_file = component_dir+'/'+ SCORING_AUX_PLDA+'_norm'\n",
    "aux_key_file = '/Lun0/zhiyong/dataset/aux_tiral_list'\n",
    "calib_score_file = score_file+'_calib'\n",
    "linear_model_pth = component_dir+'/'+'calib.pth'\n",
    "\n",
    "_ = scoring(score_file, key_file)\n",
    "calibrating(linear_model_pth, 50, aux_key_file, [aux_score_file])\n",
    "applying(linear_model_pth, [score_file], calib_score_file)\n",
    "_ = scoring(calib_score_file, key_file)"
   ]
  },
  {
   "cell_type": "code",
   "execution_count": 61,
   "metadata": {},
   "outputs": [
    {
     "name": "stderr",
     "output_type": "stream",
     "text": [
      "/home/dell/anaconda3/lib/python3.6/site-packages/numpy/core/_methods.py:140: RuntimeWarning: Degrees of freedom <= 0 for slice\n",
      "  keepdims=keepdims)\n",
      "/home/dell/anaconda3/lib/python3.6/site-packages/numpy/core/_methods.py:132: RuntimeWarning: invalid value encountered in double_scalars\n",
      "  ret = ret.dtype.type(ret / rcount)\n"
     ]
    }
   ],
   "source": [
    "ori_score = component_dir+'/'+SCORING_COSINE_NAME\n",
    "norm_score = component_dir+'/'+SCORING_COSINE_NAME+'_norm'\n",
    "score_norm(ori_score, norm_score)"
   ]
  },
  {
   "cell_type": "code",
   "execution_count": 48,
   "metadata": {},
   "outputs": [
    {
     "name": "stderr",
     "output_type": "stream",
     "text": [
      "/home/dell/anaconda3/lib/python3.6/site-packages/numpy/core/_methods.py:140: RuntimeWarning: Degrees of freedom <= 0 for slice\n",
      "  keepdims=keepdims)\n",
      "/home/dell/anaconda3/lib/python3.6/site-packages/numpy/core/_methods.py:132: RuntimeWarning: invalid value encountered in double_scalars\n",
      "  ret = ret.dtype.type(ret / rcount)\n"
     ]
    }
   ],
   "source": [
    "ori_score = component_dir+'/'+SCORING_AUX_COSINE\n",
    "norm_score = component_dir+'/'+SCORING_AUX_COSINE+'_norm'\n",
    "score_norm(ori_score, norm_score)"
   ]
  },
  {
   "cell_type": "code",
   "execution_count": 49,
   "metadata": {},
   "outputs": [
    {
     "name": "stdout",
     "output_type": "stream",
     "text": [
      "\n",
      "Set\tEER[%]\tmin_C\tact_C\n",
      "OUT\t01.81\t0.311\t1.000\n",
      "Starting point for CLLR is 0.710586\n",
      "Converged linear model with loss 0.26639713490619543\n",
      "\n",
      "Set\tEER[%]\tmin_C\tact_C\n",
      "OUT\t01.81\t0.311\t0.635\n"
     ]
    }
   ],
   "source": [
    "score_file = component_dir+'/'+SCORING_COSINE_NAME+'_norm'\n",
    "key_file = '/Lun0/zhiyong/dataset/vox1_kaldi_test/trials'\n",
    "aux_score_file = component_dir+'/'+ SCORING_AUX_COSINE+'_norm'\n",
    "aux_key_file = '/Lun0/zhiyong/dataset/aux_tiral_list'\n",
    "calib_score_file = score_file+'_calib'\n",
    "linear_model_pth = component_dir+'/'+'calib.pth'\n",
    "\n",
    "_ = scoring(score_file, key_file)\n",
    "calibrating(linear_model_pth, 50, aux_key_file, [aux_score_file])\n",
    "applying(linear_model_pth, [score_file], calib_score_file)\n",
    "_ = scoring(calib_score_file, key_file)"
   ]
  },
  {
   "cell_type": "code",
   "execution_count": null,
   "metadata": {
    "collapsed": true
   },
   "outputs": [],
   "source": []
  },
  {
   "cell_type": "markdown",
   "metadata": {
    "collapsed": true
   },
   "source": [
    "# scoring"
   ]
  },
  {
   "cell_type": "code",
   "execution_count": 23,
   "metadata": {},
   "outputs": [],
   "source": [
    "sys.path.append('/workspace/GREAT_ASV_system/score/')\n",
    "\n",
    "from my_scorer import scoring\n",
    "from calibrate_scores import calibrating\n",
    "from apply_calibration import applying"
   ]
  },
  {
   "cell_type": "code",
   "execution_count": 24,
   "metadata": {},
   "outputs": [
    {
     "name": "stdout",
     "output_type": "stream",
     "text": [
      "(0.018242740134028296, 0.19993050806978083, 1.0)\n",
      "Starting point for CLLR is 0.833777\n",
      "Converged linear model with loss 0.07151467749816884\n",
      "(0.018242740134028296, 0.19993050806978083, 1.0)\n"
     ]
    }
   ],
   "source": [
    "score_file = component_dir+'/'+SCORING_COSINE_NAME\n",
    "key_file = '/workspace/DATASET/server1/vox1_o_trials'\n",
    "calib_score_file = score_file+'_calib'\n",
    "linear_model_pth = component_dir+'/'+'calib.pth'\n",
    "config = {'p_target': [0.01, 0.005], 'c_miss': 1, 'c_fa': 1}\n",
    "\n",
    "print(scoring(score_file, key_file, config))\n",
    "calibrating(linear_model_pth, 50, key_file, [score_file])\n",
    "applying(linear_model_pth, [score_file], calib_score_file)\n",
    "print(scoring(score_file, key_file, config))"
   ]
  },
  {
   "cell_type": "code",
   "execution_count": null,
   "metadata": {},
   "outputs": [],
   "source": []
  },
  {
   "cell_type": "code",
   "execution_count": 62,
   "metadata": {},
   "outputs": [],
   "source": [
    "sys.path.append('/Lun2/rzz/kaldi-master/egs/zhiyong/GREAT_ASV_system/score/')\n",
    "\n",
    "from my_scorer import scoring\n",
    "from calibrate_scores import calibrating\n",
    "from apply_calibration import applying"
   ]
  },
  {
   "cell_type": "code",
   "execution_count": 65,
   "metadata": {},
   "outputs": [
    {
     "name": "stdout",
     "output_type": "stream",
     "text": [
      "(0.02104984093319194, 0.26163838812301365, 0.4125662778366914)\n",
      "Starting point for CLLR is 0.326006\n",
      "Converged linear model with loss 0.0862339321029274\n",
      "(0.02104984093319194, 0.26163838812301365, 0.2688229056203606)\n"
     ]
    }
   ],
   "source": [
    "score_file = component_dir+'/'+SCORING_PLDA_NAME\n",
    "key_file = '/Lun0/zhiyong/dataset/vox1_kaldi_test/trials'\n",
    "calib_score_file = score_file+'_calib'\n",
    "linear_model_pth = component_dir+'/'+'calib.pth'\n",
    "config = {'p_target': [0.01, 0.005], 'c_miss': 1, 'c_fa': 1}\n",
    "\n",
    "print(scoring(score_file, key_file, config))\n",
    "calibrating(linear_model_pth, 50, key_file, [score_file])\n",
    "applying(linear_model_pth, [score_file], calib_score_file)\n",
    "print(scoring(calib_score_file, key_file, config))"
   ]
  },
  {
   "cell_type": "code",
   "execution_count": 66,
   "metadata": {},
   "outputs": [
    {
     "name": "stdout",
     "output_type": "stream",
     "text": [
      "(0.02348886532343586, 0.24504241781548108, 1.0)\n",
      "Starting point for CLLR is 0.842628\n",
      "Converged linear model with loss 0.09200133308491727\n",
      "(0.02348886532343586, 0.24504241781548108, 1.0)\n"
     ]
    }
   ],
   "source": [
    "score_file = component_dir+'/'+SCORING_COSINE_NAME\n",
    "key_file = '/Lun0/zhiyong/dataset/vox1_kaldi_test/trials'\n",
    "calib_score_file = score_file+'_calib'\n",
    "linear_model_pth = component_dir+'/'+'calib.pth'\n",
    "config = {'p_target': [0.01, 0.005], 'c_miss': 1, 'c_fa': 1}\n",
    "\n",
    "print(scoring(score_file, key_file, config))\n",
    "calibrating(linear_model_pth, 50, key_file, [score_file])\n",
    "applying(linear_model_pth, [score_file], calib_score_file)\n",
    "print(scoring(score_file, key_file, config))"
   ]
  },
  {
   "cell_type": "markdown",
   "metadata": {},
   "source": [
    "# Score norm"
   ]
  },
  {
   "cell_type": "code",
   "execution_count": 58,
   "metadata": {
    "collapsed": true
   },
   "outputs": [],
   "source": [
    "from score_norm_1 import score_norm"
   ]
  },
  {
   "cell_type": "code",
   "execution_count": 59,
   "metadata": {},
   "outputs": [
    {
     "name": "stderr",
     "output_type": "stream",
     "text": [
      "/home/dell/anaconda3/lib/python3.6/site-packages/numpy/core/_methods.py:140: RuntimeWarning: Degrees of freedom <= 0 for slice\n",
      "  keepdims=keepdims)\n",
      "/home/dell/anaconda3/lib/python3.6/site-packages/numpy/core/_methods.py:132: RuntimeWarning: invalid value encountered in double_scalars\n",
      "  ret = ret.dtype.type(ret / rcount)\n"
     ]
    }
   ],
   "source": [
    "ori_score = component_dir+'/'+SCORING_PLDA_NAME\n",
    "norm_score = component_dir+'/'+SCORING_PLDA_NAME+'_norm'\n",
    "score_norm(ori_score, norm_score)"
   ]
  },
  {
   "cell_type": "code",
   "execution_count": 60,
   "metadata": {},
   "outputs": [
    {
     "name": "stdout",
     "output_type": "stream",
     "text": [
      "\n",
      "Set\tEER[%]\tmin_C\tact_C\n",
      "OUT\t01.88\t0.312\t1.000\n",
      "Starting point for CLLR is 0.538934\n",
      "Converged linear model with loss 0.07954009941343457\n",
      "\n",
      "Set\tEER[%]\tmin_C\tact_C\n",
      "OUT\t01.88\t0.312\t0.334\n"
     ]
    }
   ],
   "source": [
    "score_file = component_dir+'/'+SCORING_PLDA_NAME+'_norm'\n",
    "key_file = '/Lun0/zhiyong/dataset/vox1_kaldi_test/trials'\n",
    "calib_score_file = score_file+'_calib'\n",
    "linear_model_pth = component_dir+'/'+'calib.pth'\n",
    "\n",
    "_ = scoring(score_file, key_file)\n",
    "calibrating(linear_model_pth, 50, key_file, [score_file])\n",
    "applying(linear_model_pth, [score_file], calib_score_file)\n",
    "_ = scoring(calib_score_file, key_file)"
   ]
  },
  {
   "cell_type": "code",
   "execution_count": 61,
   "metadata": {},
   "outputs": [
    {
     "name": "stderr",
     "output_type": "stream",
     "text": [
      "/home/dell/anaconda3/lib/python3.6/site-packages/numpy/core/_methods.py:140: RuntimeWarning: Degrees of freedom <= 0 for slice\n",
      "  keepdims=keepdims)\n",
      "/home/dell/anaconda3/lib/python3.6/site-packages/numpy/core/_methods.py:132: RuntimeWarning: invalid value encountered in double_scalars\n",
      "  ret = ret.dtype.type(ret / rcount)\n"
     ]
    }
   ],
   "source": [
    "ori_score = component_dir+'/'+SCORING_COSINE_NAME\n",
    "norm_score = component_dir+'/'+SCORING_COSINE_NAME+'_norm'\n",
    "score_norm(ori_score, norm_score)"
   ]
  },
  {
   "cell_type": "code",
   "execution_count": 62,
   "metadata": {},
   "outputs": [
    {
     "name": "stdout",
     "output_type": "stream",
     "text": [
      "\n",
      "Set\tEER[%]\tmin_C\tact_C\n",
      "OUT\t01.81\t0.311\t1.000\n",
      "Starting point for CLLR is 0.536303\n",
      "Converged linear model with loss 0.07717334626909308\n",
      "\n",
      "Set\tEER[%]\tmin_C\tact_C\n",
      "OUT\t01.81\t0.311\t0.331\n"
     ]
    }
   ],
   "source": [
    "score_file = component_dir+'/'+SCORING_COSINE_NAME+'_norm'\n",
    "key_file = '/Lun0/zhiyong/dataset/vox1_kaldi_test/trials'\n",
    "calib_score_file = score_file+'_calib'\n",
    "linear_model_pth = component_dir+'/'+'calib.pth'\n",
    "\n",
    "_ = scoring(score_file, key_file)\n",
    "calibrating(linear_model_pth, 50, key_file, [score_file])\n",
    "applying(linear_model_pth, [score_file], calib_score_file)\n",
    "_ = scoring(calib_score_file, key_file)"
   ]
  },
  {
   "cell_type": "markdown",
   "metadata": {},
   "source": [
    "# En"
   ]
  },
  {
   "cell_type": "code",
   "execution_count": 63,
   "metadata": {},
   "outputs": [
    {
     "name": "stdout",
     "output_type": "stream",
     "text": [
      "Starting point for CLLR is 0.581688\n",
      "Converged linear model with loss 0.074283602014203\n",
      "\n",
      "Set\tEER[%]\tmin_C\tact_C\n",
      "OUT\t01.74\t0.204\t0.221\n"
     ]
    }
   ],
   "source": [
    "score_file_1 = component_dir+'/'+SCORING_PLDA_NAME\n",
    "score_file_2 = component_dir+'/'+SCORING_COSINE_NAME\n",
    "key_file = '/Lun0/zhiyong/dataset/vox1_kaldi_test/trials'\n",
    "calib_score_file = component_dir+'/'+'fuse'\n",
    "linear_model_pth = component_dir+'/'+'calib.pth'\n",
    "\n",
    "# _ = scoring(score_file, key_file)\n",
    "calibrating(linear_model_pth, 50, key_file, [score_file_1, score_file_2])\n",
    "applying(linear_model_pth, [score_file_1, score_file_2], calib_score_file)\n",
    "_ = scoring(calib_score_file, key_file)"
   ]
  },
  {
   "cell_type": "code",
   "execution_count": 65,
   "metadata": {},
   "outputs": [
    {
     "name": "stdout",
     "output_type": "stream",
     "text": [
      "Starting point for CLLR is 0.537618\n",
      "Converged linear model with loss 0.0694378887070766\n",
      "\n",
      "Set\tEER[%]\tmin_C\tact_C\n",
      "OUT\t01.61\t0.266\t0.291\n"
     ]
    }
   ],
   "source": [
    "score_file_1 = component_dir+'/'+SCORING_PLDA_NAME+'_norm'\n",
    "score_file_2 = component_dir+'/'+SCORING_COSINE_NAME+'_norm'\n",
    "key_file = '/Lun0/zhiyong/dataset/vox1_kaldi_test/trials'\n",
    "calib_score_file = component_dir+'/'+'fuse_norm'\n",
    "linear_model_pth = component_dir+'/'+'calib.pth'\n",
    "\n",
    "# _ = scoring(score_file, key_file)\n",
    "calibrating(linear_model_pth, 50, key_file, [score_file_1, score_file_2])\n",
    "applying(linear_model_pth, [score_file_1, score_file_2], calib_score_file)\n",
    "_ = scoring(calib_score_file, key_file)"
   ]
  },
  {
   "cell_type": "markdown",
   "metadata": {},
   "source": [
    "# JB"
   ]
  },
  {
   "cell_type": "code",
   "execution_count": 68,
   "metadata": {},
   "outputs": [
    {
     "name": "stderr",
     "output_type": "stream",
     "text": [
      "/home/dell/anaconda3/lib/python3.6/site-packages/sklearn/externals/joblib/__init__.py:15: DeprecationWarning: sklearn.externals.joblib is deprecated in 0.21 and will be removed in 0.23. Please import this functionality directly from joblib, which can be installed with: pip install joblib. If this warning is raised when loading pickled models, you may need to re-serialize those models with scikit-learn 0.21+.\n",
      "  warnings.warn(msg, category=DeprecationWarning)\n"
     ]
    }
   ],
   "source": [
    "from JB import *\n",
    "import numpy as np"
   ]
  },
  {
   "cell_type": "code",
   "execution_count": 69,
   "metadata": {
    "collapsed": true
   },
   "outputs": [],
   "source": [
    "import pickle\n",
    "with open(component_dir+'/'+PLDA_DATA_NAME, 'rb') as handle:\n",
    "    class_list_new = pickle.load(handle)"
   ]
  },
  {
   "cell_type": "code",
   "execution_count": 70,
   "metadata": {
    "collapsed": true
   },
   "outputs": [],
   "source": [
    "count = 0\n",
    "for i in class_list_new:\n",
    "    count += len(class_list_new[i])"
   ]
  },
  {
   "cell_type": "code",
   "execution_count": 71,
   "metadata": {},
   "outputs": [
    {
     "name": "stdout",
     "output_type": "stream",
     "text": [
      "1000\n",
      "2000\n",
      "3000\n",
      "4000\n",
      "5000\n",
      "6000\n",
      "7000\n"
     ]
    }
   ],
   "source": [
    "train_list = np.zeros((1276888, 512))\n",
    "label = []\n",
    "last_pos = 0\n",
    "for count, i in enumerate(class_list_new):\n",
    "    this_len = class_list_new[i].shape[0]\n",
    "    train_list[last_pos:last_pos+this_len] = class_list_new[i]\n",
    "    last_pos = last_pos+this_len\n",
    "    label = label + this_len * [i]\n",
    "    if (count+1) % 1000 == 0:\n",
    "        print(count+1)"
   ]
  },
  {
   "cell_type": "code",
   "execution_count": 75,
   "metadata": {},
   "outputs": [
    {
     "data": {
      "text/plain": [
       "(1276888, 512)"
      ]
     },
     "execution_count": 75,
     "metadata": {},
     "output_type": "execute_result"
    }
   ],
   "source": [
    "train_list.shape"
   ]
  },
  {
   "cell_type": "code",
   "execution_count": 76,
   "metadata": {},
   "outputs": [
    {
     "data": {
      "text/plain": [
       "1276888"
      ]
     },
     "execution_count": 76,
     "metadata": {},
     "output_type": "execute_result"
    }
   ],
   "source": [
    "len(label)"
   ]
  },
  {
   "cell_type": "code",
   "execution_count": 77,
   "metadata": {
    "collapsed": true
   },
   "outputs": [],
   "source": [
    "global_mean = np.mean(train_list, axis=0)"
   ]
  },
  {
   "cell_type": "code",
   "execution_count": 81,
   "metadata": {},
   "outputs": [
    {
     "data": {
      "text/plain": [
       "1.9046652415934415"
      ]
     },
     "execution_count": 81,
     "metadata": {},
     "output_type": "execute_result"
    }
   ],
   "source": [
    "np.linalg.norm(global_mean)"
   ]
  },
  {
   "cell_type": "code",
   "execution_count": 82,
   "metadata": {
    "collapsed": true
   },
   "outputs": [],
   "source": [
    "train_list_centered = train_list - global_mean"
   ]
  },
  {
   "cell_type": "code",
   "execution_count": 83,
   "metadata": {},
   "outputs": [
    {
     "name": "stdout",
     "output_type": "stream",
     "text": [
      "(1276888, 512)\n",
      "prepare done, maxNumberInOneClass= 1002\n",
      "Iterations-0: 0.0010711645996589437\n",
      "Iterations-1: 1.3523100215732059e-05\n",
      "Iterations-2: 2.4056012775033254e-06\n",
      "Iterations-3: 7.342351828003286e-07\n",
      "Iterations-4: 2.8068888850328114e-07\n",
      "Iterations-5: 1.184689619041678e-07\n",
      "Iterations-6: 5.267479095722711e-08\n",
      "Iterations-7: 2.4178416589029948e-08\n",
      "Iterations-8: 1.1338391238278522e-08\n",
      "Iterations-9: 5.399002417915827e-09\n",
      "Iterations-10: 2.6014852098979146e-09\n",
      "Iterations-11: 1.2648995479417483e-09\n",
      "Iterations-12: 6.188518191301809e-10\n",
      "Iterations-13: 3.0677699544240897e-10\n",
      "Iterations-14: 1.5350548541958987e-10\n",
      "Iterations-15: 8.009531443608684e-11\n",
      "Iterations-16: 4.7031017931828334e-11\n",
      "Iterations-17: 3.413629428325939e-11\n",
      "Iterations-18: 3.0268280274376596e-11\n",
      "Iterations-19: 2.927871093020977e-11\n"
     ]
    }
   ],
   "source": [
    "A, G = JointBayesian_Train(train_list_centered, label, fold = component_dir, complete_stats=True)"
   ]
  },
  {
   "cell_type": "code",
   "execution_count": null,
   "metadata": {
    "collapsed": true
   },
   "outputs": [],
   "source": []
  },
  {
   "cell_type": "code",
   "execution_count": 84,
   "metadata": {
    "collapsed": true
   },
   "outputs": [],
   "source": [
    "trail_path = '/Lun0/zhiyong/dataset/vox1_kaldi_test/trials'\n",
    "score_out_path = component_dir+'/'+'JB_score'"
   ]
  },
  {
   "cell_type": "code",
   "execution_count": 85,
   "metadata": {
    "collapsed": true
   },
   "outputs": [],
   "source": [
    "import pickle\n",
    "with open(component_dir+'/'+TEST_DATA_NAME, 'rb') as handle:\n",
    "    test_list = pickle.load(handle)"
   ]
  },
  {
   "cell_type": "code",
   "execution_count": 86,
   "metadata": {
    "collapsed": true
   },
   "outputs": [],
   "source": [
    "for i in test_list:\n",
    "    test_list[i] = test_list[i].squeeze()\n",
    "    test_list[i] = test_list[i] - global_mean\n",
    "#     test_list[i] = transform.dot(test_list[i])\n",
    "#     test_list[i] = (np.sqrt(PLDA_DIM) / np.linalg.norm(test_list[i])) * test_list[i]\n",
    "#     test_list[i] = plda.transform_ivector(test_list[i], 1)"
   ]
  },
  {
   "cell_type": "code",
   "execution_count": 88,
   "metadata": {},
   "outputs": [
    {
     "name": "stdout",
     "output_type": "stream",
     "text": [
      "id10270-x6uYqmx31kE-00001.wav id10270-8jEAjG6SegY-00008.wav target\n",
      "\n",
      "5000\n",
      "10000\n",
      "15000\n",
      "20000\n",
      "25000\n",
      "30000\n",
      "35000\n"
     ]
    }
   ],
   "source": [
    "with open(score_out_path, 'w') as of:\n",
    "    with open(trail_path, 'r') as f:\n",
    "        for count, line in enumerate(f):\n",
    "            if count == 0:\n",
    "                print(line)\n",
    "#                 continue\n",
    "            enroll_emb = test_list[line.split(' ')[0][:-4]].squeeze()\n",
    "            test_emb = test_list[line.split(' ')[1][:-4]].squeeze()\n",
    "\n",
    "            cosine = Verify(A, G, enroll_emb, test_emb)\n",
    "            \n",
    "            of.write(line.split(' ')[0]+' '+line.split(' ')[1]+' '+str(cosine)+'\\n')\n",
    "            \n",
    "            if (count+1) % 5000 == 0:\n",
    "                print(count+1)"
   ]
  },
  {
   "cell_type": "code",
   "execution_count": 89,
   "metadata": {},
   "outputs": [
    {
     "name": "stdout",
     "output_type": "stream",
     "text": [
      "(0.028791092258748652, 0.2808589607635198, 0.592099681866384)\n",
      "Starting point for CLLR is 10.192940\n",
      "(0.028791092258748652, 0.2808589607635198, 0.592099681866384)\n"
     ]
    }
   ],
   "source": [
    "score_file = component_dir+'/'+'JB_score'\n",
    "key_file = '/Lun0/zhiyong/dataset/vox1_kaldi_test/trials'\n",
    "calib_score_file = score_file+'_calib'\n",
    "linear_model_pth = component_dir+'/'+'calib.pth'\n",
    "config = {'p_target': [0.01, 0.005], 'c_miss': 1, 'c_fa': 1}\n",
    "\n",
    "print(scoring(score_file, key_file, config))\n",
    "calibrating(linear_model_pth, 50, key_file, [score_file])\n",
    "applying(linear_model_pth, [score_file], calib_score_file)\n",
    "print(scoring(score_file, key_file, config))"
   ]
  },
  {
   "cell_type": "code",
   "execution_count": null,
   "metadata": {
    "collapsed": true
   },
   "outputs": [],
   "source": []
  },
  {
   "cell_type": "markdown",
   "metadata": {},
   "source": [
    "# LDA-JB"
   ]
  },
  {
   "cell_type": "code",
   "execution_count": 115,
   "metadata": {},
   "outputs": [],
   "source": [
    "from JB_tmp import *\n",
    "import numpy as np"
   ]
  },
  {
   "cell_type": "code",
   "execution_count": 116,
   "metadata": {},
   "outputs": [],
   "source": [
    "import pickle\n",
    "with open(component_dir+'/'+PLDA_DATA_NAME, 'rb') as handle:\n",
    "    class_list_new = pickle.load(handle)"
   ]
  },
  {
   "cell_type": "code",
   "execution_count": 117,
   "metadata": {
    "collapsed": true
   },
   "outputs": [],
   "source": [
    "count = 0\n",
    "for i in class_list_new:\n",
    "    count += len(class_list_new[i])"
   ]
  },
  {
   "cell_type": "code",
   "execution_count": 118,
   "metadata": {},
   "outputs": [
    {
     "name": "stdout",
     "output_type": "stream",
     "text": [
      "Norm of mean: 1.9046652386925422\n"
     ]
    }
   ],
   "source": [
    "# Substract global mean\n",
    "global_mean = np.zeros(512)\n",
    "num_utt = 0\n",
    "for count, i in enumerate(class_list_new):\n",
    "    num_utt += class_list_new[i].shape[0]\n",
    "    global_mean += class_list_new[i].shape[0] * np.mean(class_list_new[i], axis=0)\n",
    "    \n",
    "global_mean = (1.0 / num_utt) * global_mean\n",
    "print('Norm of mean:', np.linalg.norm(global_mean))"
   ]
  },
  {
   "cell_type": "code",
   "execution_count": 119,
   "metadata": {
    "collapsed": true
   },
   "outputs": [],
   "source": [
    "for i in class_list_new:\n",
    "    class_list_new[i] = class_list_new[i] - global_mean"
   ]
  },
  {
   "cell_type": "code",
   "execution_count": 120,
   "metadata": {
    "collapsed": true
   },
   "outputs": [],
   "source": [
    "PLDA_DIM = 512"
   ]
  },
  {
   "cell_type": "code",
   "execution_count": 121,
   "metadata": {},
   "outputs": [
    {
     "name": "stdout",
     "output_type": "stream",
     "text": [
      "lda norm of global mean: 1.0363030848906236e-07\n"
     ]
    }
   ],
   "source": [
    "lda = LDA(lda_dim=PLDA_DIM, ivector_dim=512)\n",
    "for i in class_list_new:\n",
    "    lda.AccStats(class_list_new[i])\n",
    "print('lda norm of global mean:', lda.GetGlobalMean()[1])"
   ]
  },
  {
   "cell_type": "code",
   "execution_count": 122,
   "metadata": {},
   "outputs": [
    {
     "name": "stdout",
     "output_type": "stream",
     "text": [
      "the input data has norm of mean 1.0363030848906236e-07\n",
      "[7.05680318e+00 6.83084110e+00 6.49589130e+00 6.25103781e+00\n",
      " 6.02699328e+00 5.93644421e+00 5.74553620e+00 5.71113328e+00\n",
      " 5.52863863e+00 5.48530371e+00 5.33798738e+00 5.29171180e+00\n",
      " 5.19417991e+00 5.13465376e+00 5.07992271e+00 5.03656835e+00\n",
      " 4.94590764e+00 4.87222457e+00 4.86027973e+00 4.83695617e+00\n",
      " 4.67446231e+00 4.62048504e+00 4.56140204e+00 4.53129694e+00\n",
      " 4.49590328e+00 4.46416332e+00 4.37204092e+00 4.31959085e+00\n",
      " 4.31300552e+00 4.24568159e+00 4.22761656e+00 4.13339006e+00\n",
      " 4.09174010e+00 4.06669643e+00 4.00950966e+00 3.98957290e+00\n",
      " 3.92033707e+00 3.90857520e+00 3.83256738e+00 3.74048687e+00\n",
      " 3.67952474e+00 3.63867904e+00 3.60639986e+00 3.55344168e+00\n",
      " 3.53629863e+00 3.48462131e+00 3.43491949e+00 3.41205987e+00\n",
      " 3.38153426e+00 3.36127220e+00 3.34227493e+00 3.30985634e+00\n",
      " 3.22345557e+00 3.20170408e+00 3.17643705e+00 3.10434679e+00\n",
      " 3.08763803e+00 3.05436367e+00 3.01382095e+00 2.98352146e+00\n",
      " 2.93198022e+00 2.90411634e+00 2.89903466e+00 2.83804975e+00\n",
      " 2.83351883e+00 2.78605764e+00 2.76421916e+00 2.74960267e+00\n",
      " 2.72184671e+00 2.69137132e+00 2.66338311e+00 2.63234074e+00\n",
      " 2.60219784e+00 2.57916201e+00 2.54094251e+00 2.50943206e+00\n",
      " 2.49625883e+00 2.47388711e+00 2.43530830e+00 2.42782802e+00\n",
      " 2.40034032e+00 2.38407741e+00 2.35199631e+00 2.31963590e+00\n",
      " 2.29363615e+00 2.28313650e+00 2.23608657e+00 2.21853409e+00\n",
      " 2.19684043e+00 2.14596213e+00 2.13420261e+00 2.12014413e+00\n",
      " 2.10439291e+00 2.06883039e+00 2.05822375e+00 2.01022595e+00\n",
      " 1.99369039e+00 1.97317591e+00 1.94283417e+00 1.90353871e+00\n",
      " 1.87266091e+00 1.82212012e+00 1.79120874e+00 1.77931542e+00\n",
      " 1.76385932e+00 1.73636444e+00 1.72209424e+00 1.68983678e+00\n",
      " 1.68067125e+00 1.63594565e+00 1.62080880e+00 1.60219155e+00\n",
      " 1.57460791e+00 1.55914501e+00 1.54711486e+00 1.52296514e+00\n",
      " 1.49303048e+00 1.48645691e+00 1.46302605e+00 1.44177406e+00\n",
      " 1.41063840e+00 1.39109357e+00 1.34906669e+00 1.33973311e+00\n",
      " 1.30432705e+00 1.25813219e+00 1.24786896e+00 1.22109354e+00\n",
      " 1.17852543e+00 1.16385927e+00 1.15515713e+00 1.12614338e+00\n",
      " 1.09951167e+00 1.08985197e+00 1.07348132e+00 1.05523889e+00\n",
      " 1.02161995e+00 1.00762190e+00 9.93792060e-01 9.45702369e-01\n",
      " 9.44586199e-01 9.26228945e-01 8.83398926e-01 8.28087345e-01\n",
      " 8.18886626e-01 7.83129310e-01 7.68436026e-01 7.61940351e-01\n",
      " 7.41613533e-01 7.18352937e-01 6.87489149e-01 6.78282083e-01\n",
      " 6.63211061e-01 5.89789159e-01 5.64599335e-01 5.62415737e-01\n",
      " 5.15598158e-01 4.95816375e-01 4.66256690e-01 3.96909883e-01\n",
      " 3.69744427e-01 3.40163152e-01 3.16658055e-01 2.20342006e-01\n",
      " 1.77412807e-01 1.62348963e-01 1.13433408e-01 1.04143794e-01\n",
      " 9.23012515e-02 6.58251454e-02 5.03778839e-02 4.32825786e-02\n",
      " 3.96143481e-02 2.39915614e-02 2.07418059e-02 1.94120242e-02\n",
      " 1.83273528e-02 1.66401563e-02 1.37179018e-02 1.31433994e-02\n",
      " 1.09389968e-02 1.00937527e-02 9.10398464e-03 8.41884768e-03\n",
      " 8.21084741e-03 7.02544367e-03 6.67112735e-03 5.74895556e-03\n",
      " 5.05565115e-03 4.69090728e-03 4.35393488e-03 4.18306941e-03\n",
      " 3.75041347e-03 3.69952198e-03 3.66422388e-03 3.35833611e-03\n",
      " 3.19666180e-03 3.05606799e-03 2.99444263e-03 2.78763446e-03\n",
      " 2.66529292e-03 2.49253493e-03 2.40373173e-03 2.28956599e-03\n",
      " 2.26859062e-03 2.24107159e-03 2.18416341e-03 2.15291719e-03\n",
      " 2.04664334e-03 1.94030304e-03 1.82721200e-03 1.77794011e-03\n",
      " 1.66097870e-03 1.65769693e-03 1.62021493e-03 1.60019356e-03\n",
      " 1.53859557e-03 1.53278112e-03 1.46885077e-03 1.41467815e-03\n",
      " 1.38346137e-03 1.37021374e-03 1.33519086e-03 1.28631320e-03\n",
      " 1.27506176e-03 1.26278431e-03 1.23741163e-03 1.21681072e-03\n",
      " 1.18913923e-03 1.15499244e-03 1.12259513e-03 1.10034376e-03\n",
      " 1.05677072e-03 1.04647519e-03 1.03127828e-03 1.02111508e-03\n",
      " 1.00223998e-03 9.85524920e-04 9.80106346e-04 9.68459414e-04\n",
      " 9.33999160e-04 9.23698519e-04 9.20974378e-04 9.17141524e-04\n",
      " 8.84159561e-04 8.74858006e-04 8.55983514e-04 8.48933289e-04\n",
      " 8.28119220e-04 8.18546170e-04 8.15102568e-04 8.08212287e-04\n",
      " 7.99599182e-04 7.68249256e-04 7.61137218e-04 7.55893982e-04\n",
      " 7.48146979e-04 7.40816173e-04 7.27943518e-04 7.15833339e-04\n",
      " 7.10598456e-04 7.03241478e-04 7.02368637e-04 6.90800849e-04\n",
      " 6.80590705e-04 6.72903526e-04 6.57635388e-04 6.49746893e-04\n",
      " 6.45237338e-04 6.42866221e-04 6.34058605e-04 6.28318514e-04\n",
      " 6.22107773e-04 6.11596017e-04 5.99638318e-04 5.93325326e-04\n",
      " 5.88482681e-04 5.82386306e-04 5.75183602e-04 5.67868522e-04\n",
      " 5.61815773e-04 5.56771509e-04 5.50629977e-04 5.46127168e-04\n",
      " 5.39479533e-04 5.37195523e-04 5.29377517e-04 5.25238151e-04\n",
      " 5.20466755e-04 5.15755587e-04 5.13007013e-04 5.04392696e-04\n",
      " 4.98673374e-04 4.92546028e-04 4.83500338e-04 4.79392882e-04\n",
      " 4.72728123e-04 4.71333851e-04 4.66654873e-04 4.62322457e-04\n",
      " 4.60794496e-04 4.53667525e-04 4.47987718e-04 4.46014835e-04\n",
      " 4.45595643e-04 4.39109901e-04 4.35613722e-04 4.30444701e-04\n",
      " 4.30182560e-04 4.20627425e-04 4.19086254e-04 4.15973052e-04\n",
      " 4.13851077e-04 4.09014594e-04 4.01637522e-04 3.98569924e-04\n",
      " 3.96372338e-04 3.93473482e-04 3.88920374e-04 3.84525332e-04\n",
      " 3.83094319e-04 3.79112770e-04 3.75933548e-04 3.71423436e-04\n",
      " 3.67388236e-04 3.64947576e-04 3.60667475e-04 3.58881386e-04\n",
      " 3.57143484e-04 3.54678925e-04 3.52840189e-04 3.50678196e-04\n",
      " 3.45737015e-04 3.42976363e-04 3.40594491e-04 3.34789935e-04\n",
      " 3.31510962e-04 3.29608367e-04 3.25898645e-04 3.23909262e-04\n",
      " 3.21648809e-04 3.18641949e-04 3.15748085e-04 3.13868565e-04\n",
      " 3.12520532e-04 3.09975086e-04 3.07609058e-04 3.04071113e-04\n",
      " 2.99649292e-04 2.98961082e-04 2.95848523e-04 2.91514056e-04\n",
      " 2.89553954e-04 2.88080054e-04 2.86978019e-04 2.85790889e-04\n",
      " 2.81522793e-04 2.78452084e-04 2.76677801e-04 2.74736627e-04\n",
      " 2.72291694e-04 2.69016637e-04 2.66375322e-04 2.61664237e-04\n",
      " 2.60022595e-04 2.59334939e-04 2.56349234e-04 2.55048180e-04\n",
      " 2.53753880e-04 2.52140646e-04 2.48606128e-04 2.48212766e-04\n",
      " 2.47165434e-04 2.43765948e-04 2.42008640e-04 2.39822610e-04\n",
      " 2.38660954e-04 2.37075933e-04 2.36069869e-04 2.33401973e-04\n",
      " 2.32448706e-04 2.30621891e-04 2.28526671e-04 2.27324662e-04\n",
      " 2.25867833e-04 2.21125506e-04 2.19034387e-04 2.17363586e-04\n",
      " 2.16665526e-04 2.14226354e-04 2.12317022e-04 2.11291800e-04\n",
      " 2.09242482e-04 2.05985678e-04 2.05502683e-04 2.03685221e-04\n",
      " 2.01540953e-04 1.98977326e-04 1.97528912e-04 1.95837786e-04\n",
      " 1.93676173e-04 1.92914316e-04 1.91101665e-04 1.90053800e-04\n",
      " 1.89083325e-04 1.87531056e-04 1.85586290e-04 1.84323592e-04\n",
      " 1.83101739e-04 1.81501393e-04 1.80049814e-04 1.78555419e-04\n",
      " 1.76193306e-04 1.74783780e-04 1.72962976e-04 1.71416931e-04\n",
      " 1.70843119e-04 1.69859987e-04 1.68036141e-04 1.66888484e-04\n",
      " 1.65510319e-04 1.64789790e-04 1.63810692e-04 1.62057490e-04\n",
      " 1.59725762e-04 1.59271556e-04 1.57199092e-04 1.57092324e-04\n",
      " 1.56423412e-04 1.54964866e-04 1.54653497e-04 1.51569707e-04\n",
      " 1.50612888e-04 1.49233637e-04 1.47224852e-04 1.45938754e-04\n",
      " 1.44476503e-04 1.42043097e-04 1.41778527e-04 1.40479041e-04\n",
      " 1.40076157e-04 1.38331291e-04 1.37310106e-04 1.36596605e-04\n",
      " 1.34435198e-04 1.33882054e-04 1.33266947e-04 1.32711446e-04\n",
      " 1.30067819e-04 1.29793247e-04 1.27911114e-04 1.27098903e-04\n",
      " 1.26034302e-04 1.24405094e-04 1.23727080e-04 1.22662004e-04\n",
      " 1.21400335e-04 1.20391442e-04 1.19596535e-04 1.17460936e-04\n",
      " 1.17011337e-04 1.15996951e-04 1.13873257e-04 1.12385022e-04\n",
      " 1.11649157e-04 1.10978517e-04 1.08692964e-04 1.08419628e-04\n",
      " 1.06770765e-04 1.05409422e-04 1.04993656e-04 1.04410776e-04\n",
      " 1.03344411e-04 1.01700495e-04 1.01232664e-04 9.93222924e-05\n",
      " 9.90268289e-05 9.68806751e-05 9.63340541e-05 9.41458889e-05\n",
      " 9.37702539e-05 9.28431307e-05 9.17365493e-05 9.03632636e-05\n",
      " 8.99159270e-05 8.91915104e-05 8.77297236e-05 8.73203334e-05\n",
      " 8.63909762e-05 8.57917241e-05 8.41827467e-05 8.36264947e-05\n",
      " 8.28049103e-05 8.13278290e-05 8.08000358e-05 7.98797408e-05\n",
      " 7.72193913e-05 7.65770246e-05 7.49783404e-05 7.43201482e-05\n",
      " 7.37504194e-05 7.25998629e-05 7.19328607e-05 6.97400670e-05\n",
      " 6.82447319e-05 6.63968082e-05 6.55760304e-05 6.41982107e-05\n",
      " 6.23893124e-05 6.19869856e-05 6.01781738e-05 5.75896415e-05]\n",
      "[7.86936421 6.99509194 5.84040638 5.17043313 4.70736434 4.12010561\n",
      " 3.92046902 3.58184222 3.38562617 3.20990875 3.05484477 2.89376746\n",
      " 2.72776413 2.63500115 2.40784189 2.38272088 2.28383072 2.24177349\n",
      " 2.19015129 2.09274226 2.05949339 1.97386783 1.88776707 1.81223564\n",
      " 1.79623714 1.73471071 1.70495788 1.65799492 1.62179901 1.61196069\n",
      " 1.56337042 1.51038434 1.47645823 1.45911288 1.44299923 1.4101735\n",
      " 1.40247494 1.3941517  1.3363501  1.3268127  1.30875759 1.25451476\n",
      " 1.24299221 1.23777658 1.2228971  1.20033454 1.19098311 1.18044858\n",
      " 1.14677795 1.11524865 1.11206362 1.09186501 1.08502982 1.06047469\n",
      " 1.05503877 1.03688758 1.0199738  0.99162484 0.97848513 0.96557603\n",
      " 0.95603965 0.94595281 0.92605853 0.89954275 0.89467055 0.88533693\n",
      " 0.86926124 0.85044695 0.8384215  0.83260533 0.83015079 0.82525538\n",
      " 0.8121612  0.81043929 0.80388153 0.79156851 0.781845   0.77515534\n",
      " 0.75873187 0.74820503 0.74284342 0.7398949  0.72894207 0.71221434\n",
      " 0.70811303 0.70043094 0.69841334 0.68203896 0.67505619 0.66529972\n",
      " 0.66079622 0.6543994  0.65382069 0.64482333 0.64239372 0.62294168\n",
      " 0.62143177 0.61524782 0.60791724 0.59985219 0.59777014 0.59369014\n",
      " 0.58935415 0.58192326 0.57158934 0.57033929 0.56316289 0.55316262\n",
      " 0.55002933 0.54544315 0.54396114 0.53660619 0.53400204 0.52998337\n",
      " 0.52914712 0.51922191 0.51446993 0.50914148 0.50170565 0.49809444\n",
      " 0.49388176 0.49338074 0.48513779 0.47582924 0.47436964 0.46889378\n",
      " 0.46648012 0.45572627 0.45307806 0.44967002 0.44376974 0.43963032\n",
      " 0.43741782 0.43420505 0.42576583 0.42086585 0.41765534 0.41235106\n",
      " 0.40908146 0.40527371 0.40368891 0.40009032 0.39984867 0.39526017\n",
      " 0.3934517  0.38591058 0.38162572 0.38026137 0.37814756 0.3719967\n",
      " 0.36830152 0.36420689 0.36283861 0.35872491 0.35332918 0.35093394\n",
      " 0.34884034 0.34589062 0.34504736 0.33781752 0.33733486 0.33526882\n",
      " 0.33125616 0.32942826 0.32257214 0.32003256 0.31857456 0.3171769\n",
      " 0.31435773 0.31260061 0.31123556 0.30639448 0.30605846 0.30230197\n",
      " 0.30132022 0.29699406 0.29334236 0.29037263 0.28586663 0.28464924\n",
      " 0.28337973 0.28186708 0.27986398 0.27624175 0.27435786 0.27191794\n",
      " 0.27047846 0.2673829  0.2668182  0.26437559 0.26204582 0.2604241\n",
      " 0.25980369 0.25526652 0.25423275 0.25170952 0.25000371 0.24857539\n",
      " 0.24564007 0.24480239 0.24284292 0.24157402 0.23982395 0.23865474\n",
      " 0.23680826 0.23513203 0.2329549  0.23160838 0.22972858 0.22849037\n",
      " 0.22705731 0.22565271 0.22381087 0.22228455 0.22134625 0.21984028\n",
      " 0.21890656 0.21599512 0.21310117 0.21210494 0.21032387 0.20933832\n",
      " 0.20790875 0.20752489 0.20711981 0.20501639 0.2017786  0.20135053\n",
      " 0.19884416 0.19811466 0.19731876 0.19531363 0.19502732 0.19417693\n",
      " 0.19200528 0.19087722 0.18956674 0.18808175 0.1864594  0.18561943\n",
      " 0.18462109 0.18369282 0.18245863 0.1809465  0.17986225 0.17873716\n",
      " 0.17826051 0.17601818 0.17519468 0.17389944 0.17268285 0.17204923\n",
      " 0.1705185  0.17035322 0.16799062 0.16767157 0.1651941  0.16458829\n",
      " 0.16406402 0.16255105 0.16171768 0.16099906 0.15973136 0.15914342\n",
      " 0.15788296 0.15682207 0.15640994 0.15531049 0.15429095 0.15392287\n",
      " 0.15382182 0.15216228 0.15079078 0.1496607  0.14833806 0.14703731\n",
      " 0.14673634 0.1464411  0.14510084 0.1445611  0.14401077 0.14318565\n",
      " 0.14259741 0.1412466  0.14077574 0.13929695 0.1391513  0.13886626\n",
      " 0.13773451 0.13718608 0.13670687 0.13531139 0.13459501 0.13358581\n",
      " 0.1329259  0.13247889 0.13148726 0.13037359 0.12939733 0.12906932\n",
      " 0.12803641 0.12781244 0.12734688 0.12637571 0.12539604 0.12444974\n",
      " 0.12356937 0.12336966 0.12215202 0.12191686 0.12185812 0.12100389\n",
      " 0.11992361 0.1198819  0.11814279 0.11769892 0.11754323 0.11670203\n",
      " 0.11557667 0.11537986 0.11481125 0.11435321 0.11379872 0.11329079\n",
      " 0.11292276 0.11183703 0.11136497 0.11051335 0.11020479 0.10968312\n",
      " 0.1094679  0.10918513 0.10879526 0.1074139  0.10679716 0.10608793\n",
      " 0.10552931 0.10493388 0.10432488 0.10396218 0.10362325 0.10291903\n",
      " 0.10211566 0.10159297 0.10096724 0.10033114 0.09999877 0.09947111\n",
      " 0.09854612 0.09816831 0.09781586 0.09758936 0.09678219 0.09653849\n",
      " 0.09618626 0.0956411  0.09503322 0.09471298 0.09399628 0.09376595\n",
      " 0.09320795 0.09265726 0.0918554  0.09170401 0.09153411 0.09095483\n",
      " 0.09074746 0.09017583 0.08956068 0.08914578 0.08825732 0.08798846\n",
      " 0.08773    0.08753031 0.08742589 0.08631073 0.08602497 0.0856922\n",
      " 0.08445405 0.08421137 0.08368853 0.08316061 0.08311589 0.08294522\n",
      " 0.08224486 0.08183348 0.08149224 0.08131093 0.08050441 0.08000095\n",
      " 0.07987703 0.07956373 0.07928599 0.07856671 0.07848907 0.07834418\n",
      " 0.07787776 0.07721713 0.07713372 0.0763171  0.07608346 0.07577196\n",
      " 0.07565857 0.07507008 0.07477652 0.07452862 0.07367068 0.07349339\n",
      " 0.07323414 0.07305283 0.07257179 0.07240986 0.07196754 0.07144852\n",
      " 0.07141092 0.07077713 0.07002546 0.06981726 0.06937958 0.06915675\n",
      " 0.06878817 0.06805772 0.06803807 0.06788527 0.06741788 0.06682936\n",
      " 0.06669614 0.06593501 0.06576899 0.0655396  0.0652566  0.06477217\n",
      " 0.06432869 0.06423541 0.06398709 0.06380557 0.0635485  0.06296067\n",
      " 0.06287626 0.06259684 0.06195802 0.06177724 0.06140479 0.06092277\n",
      " 0.06064729 0.06050255 0.06002106 0.05991814 0.05932563 0.05889463\n",
      " 0.05862232 0.05821189 0.05817599 0.05739493 0.05714036 0.05685437\n",
      " 0.0563359  0.05624329 0.05590714 0.05554639 0.05541598 0.05504224\n",
      " 0.0547623  0.05466114 0.0542561  0.05413551 0.05325724 0.05306581\n",
      " 0.05265455 0.05227791 0.05212794 0.05194227 0.05164458 0.05098195\n",
      " 0.05029954 0.04998414 0.04987977 0.04966841 0.0494703  0.04903516\n",
      " 0.04885162 0.04865536 0.04843307 0.04813076 0.04772657 0.04742306\n",
      " 0.04701575 0.04638935 0.04583361 0.04564234 0.04531726 0.04490986\n",
      " 0.04478699 0.04377218 0.04374415 0.04353576 0.04332519 0.04311155\n",
      " 0.04291038 0.04240191 0.04185647 0.04158621 0.04151022 0.04083501\n",
      " 0.0404456  0.04011675 0.03986833 0.0389632  0.03862998 0.03828167\n",
      " 0.03782874 0.03693441]\n"
     ]
    }
   ],
   "source": [
    "transform = lda.ComputeLdaTransform()"
   ]
  },
  {
   "cell_type": "code",
   "execution_count": 123,
   "metadata": {
    "collapsed": true
   },
   "outputs": [],
   "source": [
    "for i in class_list_new:\n",
    "    class_list_new[i] = class_list_new[i].dot(transform.T)"
   ]
  },
  {
   "cell_type": "code",
   "execution_count": 124,
   "metadata": {
    "collapsed": true
   },
   "outputs": [],
   "source": [
    "# normlize to sqrt(dim)\n",
    "for i in class_list_new:\n",
    "    scale = np.sqrt(PLDA_DIM) / np.linalg.norm(class_list_new[i], axis=1, keepdims=True)\n",
    "    class_list_new[i] = scale * class_list_new[i]"
   ]
  },
  {
   "cell_type": "code",
   "execution_count": 125,
   "metadata": {},
   "outputs": [
    {
     "name": "stdout",
     "output_type": "stream",
     "text": [
      "1000\n",
      "2000\n",
      "3000\n",
      "4000\n",
      "5000\n",
      "6000\n",
      "7000\n"
     ]
    }
   ],
   "source": [
    "train_list = np.zeros((1276888, PLDA_DIM))\n",
    "label = []\n",
    "last_pos = 0\n",
    "for count, i in enumerate(class_list_new):\n",
    "    this_len = class_list_new[i].shape[0]\n",
    "    train_list[last_pos:last_pos+this_len] = class_list_new[i]\n",
    "    last_pos = last_pos+this_len\n",
    "    label = label + this_len * [i]\n",
    "    if (count+1) % 1000 == 0:\n",
    "        print(count+1)"
   ]
  },
  {
   "cell_type": "code",
   "execution_count": 126,
   "metadata": {},
   "outputs": [
    {
     "data": {
      "text/plain": [
       "(1276888, 512)"
      ]
     },
     "execution_count": 126,
     "metadata": {},
     "output_type": "execute_result"
    }
   ],
   "source": [
    "train_list.shape"
   ]
  },
  {
   "cell_type": "code",
   "execution_count": 127,
   "metadata": {},
   "outputs": [
    {
     "data": {
      "text/plain": [
       "1276888"
      ]
     },
     "execution_count": 127,
     "metadata": {},
     "output_type": "execute_result"
    }
   ],
   "source": [
    "len(label)"
   ]
  },
  {
   "cell_type": "code",
   "execution_count": 128,
   "metadata": {},
   "outputs": [
    {
     "name": "stdout",
     "output_type": "stream",
     "text": [
      "(1276888, 512)\n",
      "prepare done, maxNumberInOneClass= 1002\n",
      "Iterations-0: 0.0013375771781835597\n",
      "Iterations-1: 0.00020715537950710702\n",
      "Iterations-2: 8.002533716710512e-05\n",
      "Convergence:  2 8.002533716710512e-05\n"
     ]
    }
   ],
   "source": [
    "A, G = JointBayesian_Train(train_list, label, fold = component_dir, complete_stats=True)"
   ]
  },
  {
   "cell_type": "code",
   "execution_count": null,
   "metadata": {
    "collapsed": true
   },
   "outputs": [],
   "source": []
  },
  {
   "cell_type": "code",
   "execution_count": 129,
   "metadata": {
    "collapsed": true
   },
   "outputs": [],
   "source": [
    "trail_path = '/Lun0/zhiyong/dataset/vox1_kaldi_test/trials'\n",
    "score_out_path = component_dir+'/'+'JB_lda_512_score'"
   ]
  },
  {
   "cell_type": "code",
   "execution_count": 130,
   "metadata": {
    "collapsed": true
   },
   "outputs": [],
   "source": [
    "import pickle\n",
    "with open(component_dir+'/'+TEST_DATA_NAME, 'rb') as handle:\n",
    "    test_list = pickle.load(handle)"
   ]
  },
  {
   "cell_type": "code",
   "execution_count": 131,
   "metadata": {
    "collapsed": true
   },
   "outputs": [],
   "source": [
    "for i in test_list:\n",
    "    test_list[i] = test_list[i].squeeze()\n",
    "    test_list[i] = test_list[i] - global_mean\n",
    "    test_list[i] = transform.dot(test_list[i])\n",
    "    test_list[i] = (np.sqrt(PLDA_DIM) / np.linalg.norm(test_list[i])) * test_list[i]"
   ]
  },
  {
   "cell_type": "code",
   "execution_count": 132,
   "metadata": {},
   "outputs": [
    {
     "name": "stdout",
     "output_type": "stream",
     "text": [
      "id10270-x6uYqmx31kE-00001.wav id10270-8jEAjG6SegY-00008.wav target\n",
      "\n",
      "5000\n",
      "10000\n",
      "15000\n",
      "20000\n",
      "25000\n",
      "30000\n",
      "35000\n"
     ]
    }
   ],
   "source": [
    "with open(score_out_path, 'w') as of:\n",
    "    with open(trail_path, 'r') as f:\n",
    "        for count, line in enumerate(f):\n",
    "            if count == 0:\n",
    "                print(line)\n",
    "#                 continue\n",
    "            enroll_emb = test_list[line.split(' ')[0][:-4]].squeeze()\n",
    "            test_emb = test_list[line.split(' ')[1][:-4]].squeeze()\n",
    "\n",
    "            cosine = Verify(A, G, enroll_emb, test_emb)\n",
    "            \n",
    "            of.write(line.split(' ')[0]+' '+line.split(' ')[1]+' '+str(cosine)+'\\n')\n",
    "            \n",
    "            if (count+1) % 5000 == 0:\n",
    "                print(count+1)"
   ]
  },
  {
   "cell_type": "code",
   "execution_count": 110,
   "metadata": {},
   "outputs": [
    {
     "name": "stdout",
     "output_type": "stream",
     "text": [
      "(0.020837751855779407, 0.26558854718982505, 0.5770943796394485)\n",
      "Starting point for CLLR is 10.179847\n",
      "(0.020837751855779407, 0.26558854718982505, 0.5770943796394485)\n"
     ]
    }
   ],
   "source": [
    "score_file = component_dir+'/'+'JB_lda_score'\n",
    "key_file = '/Lun0/zhiyong/dataset/vox1_kaldi_test/trials'\n",
    "calib_score_file = score_file+'_calib'\n",
    "linear_model_pth = component_dir+'/'+'calib.pth'\n",
    "config = {'p_target': [0.01, 0.005], 'c_miss': 1, 'c_fa': 1}\n",
    "\n",
    "print(scoring(score_file, key_file, config))\n",
    "calibrating(linear_model_pth, 50, key_file, [score_file])\n",
    "applying(linear_model_pth, [score_file], calib_score_file)\n",
    "print(scoring(score_file, key_file, config))"
   ]
  },
  {
   "cell_type": "code",
   "execution_count": 133,
   "metadata": {},
   "outputs": [
    {
     "name": "stdout",
     "output_type": "stream",
     "text": [
      "(0.01993637327677622, 0.26134676564156306, 0.5799575821845175)\n",
      "Starting point for CLLR is 10.246580\n",
      "(0.01993637327677622, 0.26134676564156306, 0.5799575821845175)\n"
     ]
    }
   ],
   "source": [
    "score_file = component_dir+'/'+'JB_lda_512_score'\n",
    "key_file = '/Lun0/zhiyong/dataset/vox1_kaldi_test/trials'\n",
    "calib_score_file = score_file+'_calib'\n",
    "linear_model_pth = component_dir+'/'+'calib.pth'\n",
    "config = {'p_target': [0.01, 0.005], 'c_miss': 1, 'c_fa': 1}\n",
    "\n",
    "print(scoring(score_file, key_file, config))\n",
    "calibrating(linear_model_pth, 50, key_file, [score_file])\n",
    "applying(linear_model_pth, [score_file], calib_score_file)\n",
    "print(scoring(score_file, key_file, config))"
   ]
  }
 ],
 "metadata": {
  "kernelspec": {
   "display_name": "Python 3",
   "language": "python",
   "name": "python3"
  },
  "language_info": {
   "codemirror_mode": {
    "name": "ipython",
    "version": 3
   },
   "file_extension": ".py",
   "mimetype": "text/x-python",
   "name": "python",
   "nbconvert_exporter": "python",
   "pygments_lexer": "ipython3",
   "version": "3.7.7"
  }
 },
 "nbformat": 4,
 "nbformat_minor": 2
}
