{
 "cells": [
  {
   "cell_type": "code",
   "execution_count": 2,
   "metadata": {},
   "outputs": [
    {
     "name": "stderr",
     "output_type": "stream",
     "text": [
      "/home/dell/anaconda3/lib/python3.6/site-packages/h5py/__init__.py:36: FutureWarning: Conversion of the second argument of issubdtype from `float` to `np.floating` is deprecated. In future, it will be treated as `np.float64 == np.dtype(float).type`.\n",
      "  from ._conv import register_converters as _register_converters\n"
     ]
    }
   ],
   "source": [
    "import os\n",
    "import sys\n",
    "sys.path.append('../train')\n",
    "\n",
    "import numpy as np\n",
    "import torch\n",
    "\n",
    "\n",
    "import model_bank\n",
    "from read_data import *\n",
    "from my_dataloader import *"
   ]
  },
  {
   "cell_type": "code",
   "execution_count": 5,
   "metadata": {
    "collapsed": true
   },
   "outputs": [],
   "source": [
    "component_dir = '../../sdsvc_exp/backend_exp/sdsvc_fusion'"
   ]
  },
  {
   "cell_type": "code",
   "execution_count": 6,
   "metadata": {
    "collapsed": true
   },
   "outputs": [],
   "source": [
    "if not os.path.isdir(component_dir):\n",
    "    os.makedirs(component_dir)"
   ]
  },
  {
   "cell_type": "code",
   "execution_count": 9,
   "metadata": {
    "collapsed": true
   },
   "outputs": [],
   "source": [
    "sdsvc_trial_list = '/Lun0/zhiyong/sdsvc_small_100_dataset/sdsvc_trial_list.csv'\n",
    "sdsvc_trial_keys = '/Lun0/zhiyong/sdsvc_small_100_dataset/sdsvc_trial_keys.csv'"
   ]
  },
  {
   "cell_type": "markdown",
   "metadata": {},
   "source": [
    "# model 1"
   ]
  },
  {
   "cell_type": "code",
   "execution_count": 10,
   "metadata": {
    "collapsed": true
   },
   "outputs": [],
   "source": [
    "AUX_DATA_NAME_1 = 'AUX_DATA_1'"
   ]
  },
  {
   "cell_type": "code",
   "execution_count": 11,
   "metadata": {
    "collapsed": true
   },
   "outputs": [],
   "source": [
    "model_path = '/Lun2/rzz/kaldi-master/egs/zhiyong/sre19/exp/Standard_ETDNN_plus/ckpt/min_eer.model'\n",
    "model_id = 'Standard_ETDNN_plus'\n",
    "model_metric = 'AM_normfree_softmax_anneal_ce_head'"
   ]
  },
  {
   "cell_type": "code",
   "execution_count": 13,
   "metadata": {},
   "outputs": [
    {
     "name": "stdout",
     "output_type": "stream",
     "text": [
      "Using model bank\n",
      "500\n",
      "1000\n",
      "1500\n",
      "2000\n",
      "2500\n",
      "3000\n",
      "3500\n",
      "4000\n",
      "4500\n",
      "5000\n",
      "5500\n",
      "6000\n",
      "6500\n",
      "7000\n",
      "7500\n",
      "8000\n",
      "8500\n",
      "9000\n",
      "9500\n",
      "10000\n",
      "10500\n",
      "11000\n",
      "11500\n",
      "12000\n",
      "12500\n",
      "13000\n",
      "13500\n",
      "14000\n"
     ]
    }
   ],
   "source": [
    "# train_list = '/Lun0/zhiyong/dataset/vox1_kaldi_test/vox1_kaldi_test.csv'\n",
    "train_list = sdsvc_trial_list\n",
    "test_list = {}\n",
    "model_settings = {'in_feat': 30, 'emb_size': 512, 'class_num': 10249, 's': 50, 'm': 0.2, 'anneal_steps': 0, 'HistK_len': 0}\n",
    "\n",
    "torch.backends.cudnn.benchmark = False\n",
    "os.environ['CUDA_VISIBLE_DEVICES'] = '1'\n",
    "device = torch.device(\"cuda:0\")\n",
    "\n",
    "# train_data = CSVDataSet(train_list)\n",
    "# train_dataloader = DataLoader(dataset=train_data, batch_size = 1, shuffle = False, num_workers = 32, pin_memory=True)\n",
    "train_data = PickleDataSet(train_list)\n",
    "train_dataloader = My_DataLoader(train_data, batch_size=None, shuffle=False, sampler=None,\\\n",
    "batch_sampler=None, num_workers=8, collate_fn=None,\\\n",
    "pin_memory=False, drop_last=False, timeout=0,\\\n",
    "worker_init_fn=None, multiprocessing_context=None)\n",
    "\n",
    "model = model_bank.get_model(model_id, model_metric, model_settings, _)\n",
    "checkpoint = torch.load(model_path, map_location='cpu')\n",
    "model.load_state_dict(checkpoint['model'], strict=True)\n",
    "model = model.to(device)\n",
    "model.eval()\n",
    "\n",
    "for count, (batch_x, batch_y) in enumerate(train_dataloader):\n",
    "    batch_x = batch_x.to(device)\n",
    "    label = batch_y[0]\n",
    "\n",
    "    batch_y = torch.tensor([0]).to(device)\n",
    "    \n",
    "    with torch.no_grad():\n",
    "        _, _, emb, _, _ = model(batch_x, batch_y, mod='eval')\n",
    "\n",
    "    emb = emb.squeeze().data.cpu().numpy()\n",
    "    \n",
    "    if label not in test_list.keys():\n",
    "        test_list[label] = emb[None, :]\n",
    "    else:\n",
    "        print('repeat eer:', label)\n",
    "        break\n",
    "#         test_list[label] = np.append(test_list[label], emb[None, :], axis=0)\n",
    "    \n",
    "    if (count+1) % 500 == 0:\n",
    "        print(count+1)\n",
    "\n",
    "del model, batch_x, batch_y\n",
    "torch.cuda.empty_cache()"
   ]
  },
  {
   "cell_type": "code",
   "execution_count": 14,
   "metadata": {},
   "outputs": [
    {
     "data": {
      "text/plain": [
       "14490"
      ]
     },
     "execution_count": 14,
     "metadata": {},
     "output_type": "execute_result"
    }
   ],
   "source": [
    "count+1"
   ]
  },
  {
   "cell_type": "code",
   "execution_count": 15,
   "metadata": {},
   "outputs": [
    {
     "data": {
      "text/plain": [
       "14490"
      ]
     },
     "execution_count": 15,
     "metadata": {},
     "output_type": "execute_result"
    }
   ],
   "source": [
    "len(test_list)"
   ]
  },
  {
   "cell_type": "code",
   "execution_count": 16,
   "metadata": {
    "collapsed": true
   },
   "outputs": [],
   "source": [
    "import pickle\n",
    "out = component_dir+'/'+AUX_DATA_NAME_1\n",
    "with open(out, 'wb') as handle:\n",
    "    pickle.dump(test_list, handle)"
   ]
  },
  {
   "cell_type": "markdown",
   "metadata": {},
   "source": [
    "# model 2"
   ]
  },
  {
   "cell_type": "code",
   "execution_count": 17,
   "metadata": {
    "collapsed": true
   },
   "outputs": [],
   "source": [
    "AUX_DATA_NAME_2 = 'AUX_DATA_2'"
   ]
  },
  {
   "cell_type": "code",
   "execution_count": 18,
   "metadata": {
    "collapsed": true
   },
   "outputs": [],
   "source": [
    "model_path = '/Lun2/rzz/kaldi-master/egs/zhiyong/sre19/exp/Standard_ETDNN/ckpt/min_eer.model'\n",
    "model_id = 'Standard_ETDNN'\n",
    "model_metric = 'AM_normfree_softmax_anneal_ce_head'"
   ]
  },
  {
   "cell_type": "code",
   "execution_count": 19,
   "metadata": {},
   "outputs": [
    {
     "name": "stdout",
     "output_type": "stream",
     "text": [
      "Using model bank\n",
      "500\n",
      "1000\n",
      "1500\n",
      "2000\n",
      "2500\n",
      "3000\n",
      "3500\n",
      "4000\n",
      "4500\n",
      "5000\n",
      "5500\n",
      "6000\n",
      "6500\n",
      "7000\n",
      "7500\n",
      "8000\n",
      "8500\n",
      "9000\n",
      "9500\n",
      "10000\n",
      "10500\n",
      "11000\n",
      "11500\n",
      "12000\n",
      "12500\n",
      "13000\n",
      "13500\n",
      "14000\n"
     ]
    }
   ],
   "source": [
    "# train_list = '/Lun0/zhiyong/dataset/vox1_kaldi_test/vox1_kaldi_test.csv'\n",
    "train_list = sdsvc_trial_list\n",
    "test_list = {}\n",
    "model_settings = {'in_feat': 30, 'emb_size': 512, 'class_num': 10249, 's': 50, 'm': 0.2, 'anneal_steps': 0, 'HistK_len': 0}\n",
    "\n",
    "torch.backends.cudnn.benchmark = False\n",
    "os.environ['CUDA_VISIBLE_DEVICES'] = '1'\n",
    "device = torch.device(\"cuda:0\")\n",
    "\n",
    "# train_data = CSVDataSet(train_list)\n",
    "# train_dataloader = DataLoader(dataset=train_data, batch_size = 1, shuffle = False, num_workers = 32, pin_memory=True)\n",
    "train_data = PickleDataSet(train_list)\n",
    "train_dataloader = My_DataLoader(train_data, batch_size=None, shuffle=False, sampler=None,\\\n",
    "batch_sampler=None, num_workers=8, collate_fn=None,\\\n",
    "pin_memory=False, drop_last=False, timeout=0,\\\n",
    "worker_init_fn=None, multiprocessing_context=None)\n",
    "\n",
    "model = model_bank.get_model(model_id, model_metric, model_settings, _)\n",
    "checkpoint = torch.load(model_path, map_location='cpu')\n",
    "model.load_state_dict(checkpoint['model'], strict=True)\n",
    "model = model.to(device)\n",
    "model.eval()\n",
    "\n",
    "for count, (batch_x, batch_y) in enumerate(train_dataloader):\n",
    "    batch_x = batch_x.to(device)\n",
    "    label = batch_y[0]\n",
    "\n",
    "    batch_y = torch.tensor([0]).to(device)\n",
    "    \n",
    "    with torch.no_grad():\n",
    "        _, _, emb, _, _ = model(batch_x, batch_y, mod='eval')\n",
    "\n",
    "    emb = emb.squeeze().data.cpu().numpy()\n",
    "    \n",
    "    if label not in test_list.keys():\n",
    "        test_list[label] = emb[None, :]\n",
    "    else:\n",
    "        print('repeat eer:', label)\n",
    "        break\n",
    "#         test_list[label] = np.append(test_list[label], emb[None, :], axis=0)\n",
    "    \n",
    "    if (count+1) % 500 == 0:\n",
    "        print(count+1)\n",
    "\n",
    "del model, batch_x, batch_y\n",
    "torch.cuda.empty_cache()"
   ]
  },
  {
   "cell_type": "code",
   "execution_count": 20,
   "metadata": {},
   "outputs": [
    {
     "data": {
      "text/plain": [
       "14490"
      ]
     },
     "execution_count": 20,
     "metadata": {},
     "output_type": "execute_result"
    }
   ],
   "source": [
    "count+1"
   ]
  },
  {
   "cell_type": "code",
   "execution_count": 21,
   "metadata": {},
   "outputs": [
    {
     "data": {
      "text/plain": [
       "14490"
      ]
     },
     "execution_count": 21,
     "metadata": {},
     "output_type": "execute_result"
    }
   ],
   "source": [
    "len(test_list)"
   ]
  },
  {
   "cell_type": "code",
   "execution_count": 22,
   "metadata": {
    "collapsed": true
   },
   "outputs": [],
   "source": [
    "import pickle\n",
    "out = component_dir+'/'+AUX_DATA_NAME_2\n",
    "with open(out, 'wb') as handle:\n",
    "    pickle.dump(test_list, handle)"
   ]
  },
  {
   "cell_type": "markdown",
   "metadata": {},
   "source": [
    "# model 3"
   ]
  },
  {
   "cell_type": "code",
   "execution_count": 23,
   "metadata": {
    "collapsed": true
   },
   "outputs": [],
   "source": [
    "AUX_DATA_NAME_3 = 'AUX_DATA_3'"
   ]
  },
  {
   "cell_type": "code",
   "execution_count": 24,
   "metadata": {
    "collapsed": true
   },
   "outputs": [],
   "source": [
    "model_path = '/Lun2/rzz/kaldi-master/egs/zhiyong/sre19/exp/Xvector_1L_fullevad_sparse/ckpt/min_eer.model'\n",
    "model_id = 'Xvector_SAP_1L'\n",
    "model_metric = 'AM_normfree_softmax_anneal_ce_head'"
   ]
  },
  {
   "cell_type": "code",
   "execution_count": 25,
   "metadata": {},
   "outputs": [
    {
     "name": "stdout",
     "output_type": "stream",
     "text": [
      "Using model bank\n",
      "500\n",
      "1000\n",
      "1500\n",
      "2000\n",
      "2500\n",
      "3000\n",
      "3500\n",
      "4000\n",
      "4500\n",
      "5000\n",
      "5500\n",
      "6000\n",
      "6500\n",
      "7000\n",
      "7500\n",
      "8000\n",
      "8500\n",
      "9000\n",
      "9500\n",
      "10000\n",
      "10500\n",
      "11000\n",
      "11500\n",
      "12000\n",
      "12500\n",
      "13000\n",
      "13500\n",
      "14000\n"
     ]
    }
   ],
   "source": [
    "# train_list = '/Lun0/zhiyong/dataset/vox1_kaldi_test/vox1_kaldi_test.csv'\n",
    "train_list = sdsvc_trial_list\n",
    "test_list = {}\n",
    "model_settings = {'in_feat': 30, 'emb_size': 512, 'class_num': 10249, 's': 50, 'm': 0.2, 'anneal_steps': 0, 'HistK_len': 0}\n",
    "\n",
    "torch.backends.cudnn.benchmark = False\n",
    "os.environ['CUDA_VISIBLE_DEVICES'] = '1'\n",
    "device = torch.device(\"cuda:0\")\n",
    "\n",
    "# train_data = CSVDataSet(train_list)\n",
    "# train_dataloader = DataLoader(dataset=train_data, batch_size = 1, shuffle = False, num_workers = 32, pin_memory=True)\n",
    "train_data = PickleDataSet(train_list)\n",
    "train_dataloader = My_DataLoader(train_data, batch_size=None, shuffle=False, sampler=None,\\\n",
    "batch_sampler=None, num_workers=8, collate_fn=None,\\\n",
    "pin_memory=False, drop_last=False, timeout=0,\\\n",
    "worker_init_fn=None, multiprocessing_context=None)\n",
    "\n",
    "model = model_bank.get_model(model_id, model_metric, model_settings, _)\n",
    "checkpoint = torch.load(model_path, map_location='cpu')\n",
    "model.load_state_dict(checkpoint['model'], strict=True)\n",
    "model = model.to(device)\n",
    "model.eval()\n",
    "\n",
    "for count, (batch_x, batch_y) in enumerate(train_dataloader):\n",
    "    batch_x = batch_x.to(device)\n",
    "    label = batch_y[0]\n",
    "\n",
    "    batch_y = torch.tensor([0]).to(device)\n",
    "    \n",
    "    with torch.no_grad():\n",
    "        _, _, emb, _, _ = model(batch_x, batch_y, mod='eval')\n",
    "\n",
    "    emb = emb.squeeze().data.cpu().numpy()\n",
    "    \n",
    "    if label not in test_list.keys():\n",
    "        test_list[label] = emb[None, :]\n",
    "    else:\n",
    "        print('repeat eer:', label)\n",
    "        break\n",
    "#         test_list[label] = np.append(test_list[label], emb[None, :], axis=0)\n",
    "    \n",
    "    if (count+1) % 500 == 0:\n",
    "        print(count+1)\n",
    "\n",
    "del model, batch_x, batch_y\n",
    "torch.cuda.empty_cache()"
   ]
  },
  {
   "cell_type": "code",
   "execution_count": 26,
   "metadata": {},
   "outputs": [
    {
     "data": {
      "text/plain": [
       "14490"
      ]
     },
     "execution_count": 26,
     "metadata": {},
     "output_type": "execute_result"
    }
   ],
   "source": [
    "count+1"
   ]
  },
  {
   "cell_type": "code",
   "execution_count": 27,
   "metadata": {},
   "outputs": [
    {
     "data": {
      "text/plain": [
       "14490"
      ]
     },
     "execution_count": 27,
     "metadata": {},
     "output_type": "execute_result"
    }
   ],
   "source": [
    "len(test_list)"
   ]
  },
  {
   "cell_type": "code",
   "execution_count": 28,
   "metadata": {
    "collapsed": true
   },
   "outputs": [],
   "source": [
    "import pickle\n",
    "out = component_dir+'/'+AUX_DATA_NAME_3\n",
    "with open(out, 'wb') as handle:\n",
    "    pickle.dump(test_list, handle)"
   ]
  },
  {
   "cell_type": "markdown",
   "metadata": {},
   "source": [
    "# model 4"
   ]
  },
  {
   "cell_type": "code",
   "execution_count": 29,
   "metadata": {
    "collapsed": true
   },
   "outputs": [],
   "source": [
    "AUX_DATA_NAME_4 = 'AUX_DATA_4'"
   ]
  },
  {
   "cell_type": "code",
   "execution_count": 30,
   "metadata": {
    "collapsed": true
   },
   "outputs": [],
   "source": [
    "model_path = '/Lun2/rzz/kaldi-master/egs/zhiyong/sre19/exp/Xvector_1L_fullevad/ckpt/min_eer.model'\n",
    "model_id = 'Xvector_SAP_1L'\n",
    "model_metric = 'AM_normfree_softmax_anneal_ce_head'"
   ]
  },
  {
   "cell_type": "code",
   "execution_count": 31,
   "metadata": {},
   "outputs": [
    {
     "name": "stdout",
     "output_type": "stream",
     "text": [
      "Using model bank\n",
      "500\n",
      "1000\n",
      "1500\n",
      "2000\n",
      "2500\n",
      "3000\n",
      "3500\n",
      "4000\n",
      "4500\n",
      "5000\n",
      "5500\n",
      "6000\n",
      "6500\n",
      "7000\n",
      "7500\n",
      "8000\n",
      "8500\n",
      "9000\n",
      "9500\n",
      "10000\n",
      "10500\n",
      "11000\n",
      "11500\n",
      "12000\n",
      "12500\n",
      "13000\n",
      "13500\n",
      "14000\n"
     ]
    }
   ],
   "source": [
    "# train_list = '/Lun0/zhiyong/dataset/vox1_kaldi_test/vox1_kaldi_test.csv'\n",
    "train_list = sdsvc_trial_list\n",
    "test_list = {}\n",
    "model_settings = {'in_feat': 30, 'emb_size': 512, 'class_num': 10249, 's': 50, 'm': 0.2, 'anneal_steps': 0, 'HistK_len': 0}\n",
    "\n",
    "torch.backends.cudnn.benchmark = False\n",
    "os.environ['CUDA_VISIBLE_DEVICES'] = '1'\n",
    "device = torch.device(\"cuda:0\")\n",
    "\n",
    "# train_data = CSVDataSet(train_list)\n",
    "# train_dataloader = DataLoader(dataset=train_data, batch_size = 1, shuffle = False, num_workers = 32, pin_memory=True)\n",
    "train_data = PickleDataSet(train_list)\n",
    "train_dataloader = My_DataLoader(train_data, batch_size=None, shuffle=False, sampler=None,\\\n",
    "batch_sampler=None, num_workers=8, collate_fn=None,\\\n",
    "pin_memory=False, drop_last=False, timeout=0,\\\n",
    "worker_init_fn=None, multiprocessing_context=None)\n",
    "\n",
    "model = model_bank.get_model(model_id, model_metric, model_settings, _)\n",
    "checkpoint = torch.load(model_path, map_location='cpu')\n",
    "model.load_state_dict(checkpoint['model'], strict=True)\n",
    "model = model.to(device)\n",
    "model.eval()\n",
    "\n",
    "for count, (batch_x, batch_y) in enumerate(train_dataloader):\n",
    "    batch_x = batch_x.to(device)\n",
    "    label = batch_y[0]\n",
    "\n",
    "    batch_y = torch.tensor([0]).to(device)\n",
    "    \n",
    "    with torch.no_grad():\n",
    "        _, _, emb, _, _ = model(batch_x, batch_y, mod='eval')\n",
    "\n",
    "    emb = emb.squeeze().data.cpu().numpy()\n",
    "    \n",
    "    if label not in test_list.keys():\n",
    "        test_list[label] = emb[None, :]\n",
    "    else:\n",
    "        print('repeat eer:', label)\n",
    "        break\n",
    "#         test_list[label] = np.append(test_list[label], emb[None, :], axis=0)\n",
    "    \n",
    "    if (count+1) % 500 == 0:\n",
    "        print(count+1)\n",
    "\n",
    "del model, batch_x, batch_y\n",
    "torch.cuda.empty_cache()"
   ]
  },
  {
   "cell_type": "code",
   "execution_count": 32,
   "metadata": {},
   "outputs": [
    {
     "data": {
      "text/plain": [
       "14490"
      ]
     },
     "execution_count": 32,
     "metadata": {},
     "output_type": "execute_result"
    }
   ],
   "source": [
    "count+1"
   ]
  },
  {
   "cell_type": "code",
   "execution_count": 33,
   "metadata": {},
   "outputs": [
    {
     "data": {
      "text/plain": [
       "14490"
      ]
     },
     "execution_count": 33,
     "metadata": {},
     "output_type": "execute_result"
    }
   ],
   "source": [
    "len(test_list)"
   ]
  },
  {
   "cell_type": "code",
   "execution_count": 34,
   "metadata": {
    "collapsed": true
   },
   "outputs": [],
   "source": [
    "import pickle\n",
    "out = component_dir+'/'+AUX_DATA_NAME_4\n",
    "with open(out, 'wb') as handle:\n",
    "    pickle.dump(test_list, handle)"
   ]
  },
  {
   "cell_type": "markdown",
   "metadata": {},
   "source": [
    "# Ori score"
   ]
  },
  {
   "cell_type": "code",
   "execution_count": 55,
   "metadata": {
    "collapsed": true
   },
   "outputs": [],
   "source": [
    "score_1 = '/Lun2/rzz/kaldi-master/egs/zhiyong/sdsvc_exp/backend_exp/Standard_ETDNN_plus_c/score_cosine'\n",
    "score_2 = '/Lun2/rzz/kaldi-master/egs/zhiyong/sre19/sdsvc_fullmix_etdnn/score_cosine_370'\n",
    "score_3 = '/Lun2/rzz/kaldi-master/egs/zhiyong/sre19/sdsvc_fullmix_sparse/score_cosine_370'\n",
    "score_4 = '/Lun2/rzz/kaldi-master/egs/zhiyong/sre19/sdsvc_fullmix_end/score_cosine_370'"
   ]
  },
  {
   "cell_type": "markdown",
   "metadata": {},
   "source": [
    "# Aux score"
   ]
  },
  {
   "cell_type": "code",
   "execution_count": null,
   "metadata": {
    "collapsed": true
   },
   "outputs": [],
   "source": [
    "# model 1"
   ]
  },
  {
   "cell_type": "code",
   "execution_count": 35,
   "metadata": {
    "collapsed": true
   },
   "outputs": [],
   "source": [
    "SCORING_AUX_COSINE_1 = 'score_aux_cosine_1'\n",
    "trail_path = sdsvc_trial_keys\n",
    "score_out_path = component_dir+'/'+SCORING_AUX_COSINE_1"
   ]
  },
  {
   "cell_type": "code",
   "execution_count": 36,
   "metadata": {
    "collapsed": true
   },
   "outputs": [],
   "source": [
    "import pickle\n",
    "with open(component_dir+'/'+AUX_DATA_NAME_1, 'rb') as handle:\n",
    "    test_list = pickle.load(handle)"
   ]
  },
  {
   "cell_type": "code",
   "execution_count": 37,
   "metadata": {
    "collapsed": true
   },
   "outputs": [],
   "source": [
    "for i in test_list:\n",
    "    test_list[i] = (1.0 / np.linalg.norm(test_list[i])) * test_list[i]"
   ]
  },
  {
   "cell_type": "code",
   "execution_count": 38,
   "metadata": {},
   "outputs": [
    {
     "name": "stdout",
     "output_type": "stream",
     "text": [
      "trn_172338.wav trn_172362.wav target\n",
      "\n",
      "5000\n",
      "10000\n",
      "15000\n",
      "20000\n",
      "25000\n",
      "30000\n",
      "35000\n",
      "40000\n",
      "45000\n",
      "50000\n",
      "55000\n",
      "60000\n",
      "65000\n",
      "70000\n",
      "75000\n",
      "80000\n",
      "85000\n",
      "90000\n",
      "95000\n",
      "100000\n",
      "105000\n",
      "110000\n",
      "115000\n"
     ]
    }
   ],
   "source": [
    "with open(score_out_path, 'w') as of:\n",
    "    with open(trail_path, 'r') as f:\n",
    "        for count, line in enumerate(f):\n",
    "            if count == 0:\n",
    "                print(line)\n",
    "#                 continue\n",
    "            enroll_emb = test_list[line.split(' ')[0][:-4]].squeeze()\n",
    "            test_emb = test_list[line.split(' ')[1][:-4]].squeeze()\n",
    "            \n",
    "            cosine = np.dot(enroll_emb, test_emb)\n",
    "            \n",
    "            of.write(line.split(' ')[0]+' '+line.split(' ')[1]+' '+str(cosine)+'\\n')\n",
    "            \n",
    "            if (count+1) % 5000 == 0:\n",
    "                print(count+1)"
   ]
  },
  {
   "cell_type": "code",
   "execution_count": null,
   "metadata": {
    "collapsed": true
   },
   "outputs": [],
   "source": [
    "# model 2"
   ]
  },
  {
   "cell_type": "code",
   "execution_count": 39,
   "metadata": {
    "collapsed": true
   },
   "outputs": [],
   "source": [
    "SCORING_AUX_COSINE_2 = 'score_aux_cosine_2'\n",
    "trail_path = sdsvc_trial_keys\n",
    "score_out_path = component_dir+'/'+SCORING_AUX_COSINE_2"
   ]
  },
  {
   "cell_type": "code",
   "execution_count": 40,
   "metadata": {
    "collapsed": true
   },
   "outputs": [],
   "source": [
    "import pickle\n",
    "with open(component_dir+'/'+AUX_DATA_NAME_2, 'rb') as handle:\n",
    "    test_list = pickle.load(handle)"
   ]
  },
  {
   "cell_type": "code",
   "execution_count": 41,
   "metadata": {
    "collapsed": true
   },
   "outputs": [],
   "source": [
    "for i in test_list:\n",
    "    test_list[i] = (1.0 / np.linalg.norm(test_list[i])) * test_list[i]"
   ]
  },
  {
   "cell_type": "code",
   "execution_count": 42,
   "metadata": {},
   "outputs": [
    {
     "name": "stdout",
     "output_type": "stream",
     "text": [
      "trn_172338.wav trn_172362.wav target\n",
      "\n",
      "5000\n",
      "10000\n",
      "15000\n",
      "20000\n",
      "25000\n",
      "30000\n",
      "35000\n",
      "40000\n",
      "45000\n",
      "50000\n",
      "55000\n",
      "60000\n",
      "65000\n",
      "70000\n",
      "75000\n",
      "80000\n",
      "85000\n",
      "90000\n",
      "95000\n",
      "100000\n",
      "105000\n",
      "110000\n",
      "115000\n"
     ]
    }
   ],
   "source": [
    "with open(score_out_path, 'w') as of:\n",
    "    with open(trail_path, 'r') as f:\n",
    "        for count, line in enumerate(f):\n",
    "            if count == 0:\n",
    "                print(line)\n",
    "#                 continue\n",
    "            enroll_emb = test_list[line.split(' ')[0][:-4]].squeeze()\n",
    "            test_emb = test_list[line.split(' ')[1][:-4]].squeeze()\n",
    "            \n",
    "            cosine = np.dot(enroll_emb, test_emb)\n",
    "            \n",
    "            of.write(line.split(' ')[0]+' '+line.split(' ')[1]+' '+str(cosine)+'\\n')\n",
    "            \n",
    "            if (count+1) % 5000 == 0:\n",
    "                print(count+1)"
   ]
  },
  {
   "cell_type": "code",
   "execution_count": null,
   "metadata": {
    "collapsed": true
   },
   "outputs": [],
   "source": [
    "# model 3"
   ]
  },
  {
   "cell_type": "code",
   "execution_count": 43,
   "metadata": {
    "collapsed": true
   },
   "outputs": [],
   "source": [
    "SCORING_AUX_COSINE_3 = 'score_aux_cosine_3'\n",
    "trail_path = sdsvc_trial_keys\n",
    "score_out_path = component_dir+'/'+SCORING_AUX_COSINE_3"
   ]
  },
  {
   "cell_type": "code",
   "execution_count": 44,
   "metadata": {
    "collapsed": true
   },
   "outputs": [],
   "source": [
    "import pickle\n",
    "with open(component_dir+'/'+AUX_DATA_NAME_3, 'rb') as handle:\n",
    "    test_list = pickle.load(handle)"
   ]
  },
  {
   "cell_type": "code",
   "execution_count": 45,
   "metadata": {
    "collapsed": true
   },
   "outputs": [],
   "source": [
    "for i in test_list:\n",
    "    test_list[i] = (1.0 / np.linalg.norm(test_list[i])) * test_list[i]"
   ]
  },
  {
   "cell_type": "code",
   "execution_count": 46,
   "metadata": {},
   "outputs": [
    {
     "name": "stdout",
     "output_type": "stream",
     "text": [
      "trn_172338.wav trn_172362.wav target\n",
      "\n",
      "5000\n",
      "10000\n",
      "15000\n",
      "20000\n",
      "25000\n",
      "30000\n",
      "35000\n",
      "40000\n",
      "45000\n",
      "50000\n",
      "55000\n",
      "60000\n",
      "65000\n",
      "70000\n",
      "75000\n",
      "80000\n",
      "85000\n",
      "90000\n",
      "95000\n",
      "100000\n",
      "105000\n",
      "110000\n",
      "115000\n"
     ]
    }
   ],
   "source": [
    "with open(score_out_path, 'w') as of:\n",
    "    with open(trail_path, 'r') as f:\n",
    "        for count, line in enumerate(f):\n",
    "            if count == 0:\n",
    "                print(line)\n",
    "#                 continue\n",
    "            enroll_emb = test_list[line.split(' ')[0][:-4]].squeeze()\n",
    "            test_emb = test_list[line.split(' ')[1][:-4]].squeeze()\n",
    "            \n",
    "            cosine = np.dot(enroll_emb, test_emb)\n",
    "            \n",
    "            of.write(line.split(' ')[0]+' '+line.split(' ')[1]+' '+str(cosine)+'\\n')\n",
    "            \n",
    "            if (count+1) % 5000 == 0:\n",
    "                print(count+1)"
   ]
  },
  {
   "cell_type": "code",
   "execution_count": null,
   "metadata": {
    "collapsed": true
   },
   "outputs": [],
   "source": [
    "# model 4"
   ]
  },
  {
   "cell_type": "code",
   "execution_count": 47,
   "metadata": {
    "collapsed": true
   },
   "outputs": [],
   "source": [
    "SCORING_AUX_COSINE_4 = 'score_aux_cosine_4'\n",
    "trail_path = sdsvc_trial_keys\n",
    "score_out_path = component_dir+'/'+SCORING_AUX_COSINE_4"
   ]
  },
  {
   "cell_type": "code",
   "execution_count": 48,
   "metadata": {
    "collapsed": true
   },
   "outputs": [],
   "source": [
    "import pickle\n",
    "with open(component_dir+'/'+AUX_DATA_NAME_4, 'rb') as handle:\n",
    "    test_list = pickle.load(handle)"
   ]
  },
  {
   "cell_type": "code",
   "execution_count": 49,
   "metadata": {
    "collapsed": true
   },
   "outputs": [],
   "source": [
    "for i in test_list:\n",
    "    test_list[i] = (1.0 / np.linalg.norm(test_list[i])) * test_list[i]"
   ]
  },
  {
   "cell_type": "code",
   "execution_count": 50,
   "metadata": {},
   "outputs": [
    {
     "name": "stdout",
     "output_type": "stream",
     "text": [
      "trn_172338.wav trn_172362.wav target\n",
      "\n",
      "5000\n",
      "10000\n",
      "15000\n",
      "20000\n",
      "25000\n",
      "30000\n",
      "35000\n",
      "40000\n",
      "45000\n",
      "50000\n",
      "55000\n",
      "60000\n",
      "65000\n",
      "70000\n",
      "75000\n",
      "80000\n",
      "85000\n",
      "90000\n",
      "95000\n",
      "100000\n",
      "105000\n",
      "110000\n",
      "115000\n"
     ]
    }
   ],
   "source": [
    "with open(score_out_path, 'w') as of:\n",
    "    with open(trail_path, 'r') as f:\n",
    "        for count, line in enumerate(f):\n",
    "            if count == 0:\n",
    "                print(line)\n",
    "#                 continue\n",
    "            enroll_emb = test_list[line.split(' ')[0][:-4]].squeeze()\n",
    "            test_emb = test_list[line.split(' ')[1][:-4]].squeeze()\n",
    "            \n",
    "            cosine = np.dot(enroll_emb, test_emb)\n",
    "            \n",
    "            of.write(line.split(' ')[0]+' '+line.split(' ')[1]+' '+str(cosine)+'\\n')\n",
    "            \n",
    "            if (count+1) % 5000 == 0:\n",
    "                print(count+1)"
   ]
  },
  {
   "cell_type": "markdown",
   "metadata": {},
   "source": [
    "# fusion"
   ]
  },
  {
   "cell_type": "code",
   "execution_count": 65,
   "metadata": {},
   "outputs": [
    {
     "data": {
      "text/plain": [
       "<module 'score.apply_calibration' from '../score/apply_calibration.py'>"
      ]
     },
     "execution_count": 65,
     "metadata": {},
     "output_type": "execute_result"
    }
   ],
   "source": [
    "from score import *\n",
    "import score.apply_calibration as apply_calibration\n",
    "import importlib\n",
    "importlib.reload(apply_calibration)"
   ]
  },
  {
   "cell_type": "code",
   "execution_count": 53,
   "metadata": {
    "collapsed": true
   },
   "outputs": [],
   "source": [
    "aux_score_file_1 = component_dir+'/'+ SCORING_AUX_COSINE_1\n",
    "aux_score_file_2 = component_dir+'/'+ SCORING_AUX_COSINE_2\n",
    "aux_score_file_3 = component_dir+'/'+ SCORING_AUX_COSINE_3\n",
    "aux_score_file_4 = component_dir+'/'+ SCORING_AUX_COSINE_4"
   ]
  },
  {
   "cell_type": "code",
   "execution_count": 67,
   "metadata": {},
   "outputs": [],
   "source": [
    "aux_key_file = sdsvc_trial_keys\n",
    "calib_score_file = component_dir+'/'+'fusion'\n",
    "linear_model_pth = component_dir+'/'+'calib.pth'\n",
    "\n",
    "# calibrating(linear_model_pth, 50, aux_key_file, [aux_score_file_1, aux_score_file_2, aux_score_file_3, aux_score_file_4])\n",
    "apply_calibration.applying_tmp(linear_model_pth, [score_1, score_2, score_3, score_4], calib_score_file)"
   ]
  },
  {
   "cell_type": "code",
   "execution_count": null,
   "metadata": {
    "collapsed": true
   },
   "outputs": [],
   "source": []
  }
 ],
 "metadata": {
  "kernelspec": {
   "display_name": "Python 3",
   "language": "python",
   "name": "python3"
  },
  "language_info": {
   "codemirror_mode": {
    "name": "ipython",
    "version": 3
   },
   "file_extension": ".py",
   "mimetype": "text/x-python",
   "name": "python",
   "nbconvert_exporter": "python",
   "pygments_lexer": "ipython3",
   "version": "3.6.9"
  }
 },
 "nbformat": 4,
 "nbformat_minor": 2
}
