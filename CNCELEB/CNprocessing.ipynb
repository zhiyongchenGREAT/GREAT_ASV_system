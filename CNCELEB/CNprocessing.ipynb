{
 "cells": [
  {
   "cell_type": "code",
   "execution_count": 1,
   "metadata": {},
   "outputs": [],
   "source": [
    "import os\n",
    "import numpy as np\n",
    "import glob"
   ]
  },
  {
   "cell_type": "code",
   "execution_count": 2,
   "metadata": {},
   "outputs": [],
   "source": [
    "DATASET_DIR = '/workspace/DATASET/server9_ssd/cnceleb/CN-Celeb'"
   ]
  },
  {
   "cell_type": "code",
   "execution_count": 4,
   "metadata": {},
   "outputs": [],
   "source": [
    "DEV_LIST = DATASET_DIR + '/dev/dev.lst'"
   ]
  },
  {
   "cell_type": "code",
   "execution_count": 6,
   "metadata": {},
   "outputs": [],
   "source": [
    "with open(DEV_LIST, 'r') as f:\n",
    "    lines = f.readlines()"
   ]
  },
  {
   "cell_type": "code",
   "execution_count": 9,
   "metadata": {},
   "outputs": [
    {
     "data": {
      "text/plain": [
       "800"
      ]
     },
     "execution_count": 9,
     "metadata": {},
     "output_type": "execute_result"
    }
   ],
   "source": [
    "len(lines)"
   ]
  },
  {
   "cell_type": "code",
   "execution_count": 11,
   "metadata": {},
   "outputs": [],
   "source": [
    "TRAIN_LIST_OUT = os.path.join(DATASET_DIR, 'train_CN_800.txt')\n",
    "ENROLL_LIST_OUT = os.path.join(DATASET_DIR, 'train_CN_enroll.txt')\n",
    "TRAIL_LIST_OUT = os.path.join(DATASET_DIR, 'train_CN_trials.txt')"
   ]
  },
  {
   "cell_type": "code",
   "execution_count": 15,
   "metadata": {},
   "outputs": [
    {
     "name": "stdout",
     "output_type": "stream",
     "text": [
      "800\n"
     ]
    }
   ],
   "source": [
    "with open(TRAIN_LIST_OUT, 'w') as f:\n",
    "    for count, i in enumerate(lines):\n",
    "        i = i[:-1]\n",
    "        base_dir = os.path.join(DATASET_DIR, 'data', i)\n",
    "        out_lines = glob.glob(base_dir+'/*')\n",
    "        for j in out_lines:\n",
    "            j = j.split('/')[-1]\n",
    "            f.write(i+ ' data/'+i+'/' + j +'\\n')\n",
    "\n",
    "print(count+1)"
   ]
  },
  {
   "cell_type": "code",
   "execution_count": 24,
   "metadata": {},
   "outputs": [],
   "source": [
    "ORI_ENROLL_LIST = os.path.join(DATASET_DIR, 'eval', 'lists', 'enroll.lst')\n",
    "ORI_TRIAL_LIST = os.path.join(DATASET_DIR, 'eval', 'lists', 'trials.lst')"
   ]
  },
  {
   "cell_type": "code",
   "execution_count": 17,
   "metadata": {},
   "outputs": [],
   "source": [
    "OUT_ENROLL_LIST = os.path.join(DATASET_DIR, 'CNCELEB_enroll.txt')\n",
    "OUT_TRIALS_LIST = os.path.join(DATASET_DIR, 'CNCELEB_trials.txt')"
   ]
  },
  {
   "cell_type": "code",
   "execution_count": 20,
   "metadata": {},
   "outputs": [],
   "source": [
    "with open(ORI_ENROLL_LIST, 'r') as f:\n",
    "    lines = f.readlines()"
   ]
  },
  {
   "cell_type": "code",
   "execution_count": 21,
   "metadata": {},
   "outputs": [
    {
     "data": {
      "text/plain": [
       "200"
      ]
     },
     "execution_count": 21,
     "metadata": {},
     "output_type": "execute_result"
    }
   ],
   "source": [
    "len(lines)"
   ]
  },
  {
   "cell_type": "code",
   "execution_count": 22,
   "metadata": {},
   "outputs": [],
   "source": [
    "with open(OUT_ENROLL_LIST, 'w') as f:\n",
    "    for i in lines:\n",
    "        i = i[:-1]\n",
    "        data = i.split(' ')\n",
    "        out_line = data[0] + ' eval/'+ data[1] + '\\n'\n",
    "        f.write(out_line)"
   ]
  },
  {
   "cell_type": "code",
   "execution_count": 26,
   "metadata": {},
   "outputs": [],
   "source": [
    "with open(ORI_TRIAL_LIST, 'r') as f:\n",
    "    lines = f.readlines()"
   ]
  },
  {
   "cell_type": "code",
   "execution_count": 27,
   "metadata": {},
   "outputs": [
    {
     "data": {
      "text/plain": [
       "3604800"
      ]
     },
     "execution_count": 27,
     "metadata": {},
     "output_type": "execute_result"
    }
   ],
   "source": [
    "len(lines)"
   ]
  },
  {
   "cell_type": "code",
   "execution_count": 28,
   "metadata": {},
   "outputs": [],
   "source": [
    "with open(OUT_TRIALS_LIST, 'w') as f:\n",
    "    for i in lines:\n",
    "        i = i[:-1]\n",
    "        data = i.split(' ')\n",
    "        out_line = data[2] +' '+ data[0] + ' eval/'+ data[1] + '\\n'\n",
    "        f.write(out_line)"
   ]
  },
  {
   "cell_type": "code",
   "execution_count": null,
   "metadata": {},
   "outputs": [],
   "source": [
    "# clean trials"
   ]
  },
  {
   "cell_type": "code",
   "execution_count": 1,
   "metadata": {},
   "outputs": [],
   "source": [
    "with open('/workspace/DATASET/server9_ssd/CN-Celeb/CNCELEB_trials.txt', 'r') as f:\n",
    "    lines = f.readlines()"
   ]
  },
  {
   "cell_type": "code",
   "execution_count": 2,
   "metadata": {},
   "outputs": [],
   "source": [
    "wav_list = []\n",
    "for i in lines:\n",
    "    i = i[:-1]\n",
    "    wav_list.append(i.split(' ')[-1])"
   ]
  },
  {
   "cell_type": "code",
   "execution_count": 3,
   "metadata": {},
   "outputs": [],
   "source": [
    "wav_list = list(set(wav_list))"
   ]
  },
  {
   "cell_type": "code",
   "execution_count": 4,
   "metadata": {},
   "outputs": [
    {
     "data": {
      "text/plain": [
       "18024"
      ]
     },
     "execution_count": 4,
     "metadata": {},
     "output_type": "execute_result"
    }
   ],
   "source": [
    "len(wav_list)"
   ]
  },
  {
   "cell_type": "code",
   "execution_count": 5,
   "metadata": {},
   "outputs": [
    {
     "data": {
      "text/plain": [
       "'eval/test/id00852-singing-05-004.wav'"
      ]
     },
     "execution_count": 5,
     "metadata": {},
     "output_type": "execute_result"
    }
   ],
   "source": [
    "wav_list[0]"
   ]
  },
  {
   "cell_type": "code",
   "execution_count": 6,
   "metadata": {},
   "outputs": [],
   "source": [
    "import os\n",
    "import numpy as np\n",
    "import glob\n",
    "from scipy.io import wavfile\n",
    "import time\n",
    "# import warning"
   ]
  },
  {
   "cell_type": "code",
   "execution_count": 7,
   "metadata": {},
   "outputs": [
    {
     "name": "stdout",
     "output_type": "stream",
     "text": [
      "eval/test/id00847-singing-01-103.wav\n",
      "eval/test/id00897-singing-01-001.wav\n",
      "eval/test/id00990-singing-01-005.wav\n",
      "eval/test/id00842-entertainment-01-001.wav\n",
      "eval/test/id00925-interview-05-019.wav\n",
      "eval/test/id00847-singing-01-126.wav\n",
      "eval/test/id00925-singing-02-001.wav\n",
      "eval/test/id00953-interview-05-005.wav\n",
      "eval/test/id00958-interview-01-002.wav\n",
      "eval/test/id00918-drama-01-008.wav\n",
      "eval/test/id00852-interview-07-020.wav\n",
      "eval/test/id00897-vlog-01-027.wav\n",
      "eval/test/id00869-speech-01-009.wav\n",
      "eval/test/id00917-interview-01-003.wav\n",
      "eval/test/id00892-entertainment-02-006.wav\n",
      "eval/test/id00973-interview-01-013.wav\n",
      "eval/test/id00918-drama-03-014.wav\n",
      "eval/test/id00852-singing-01-006.wav\n",
      "eval/test/id00852-singing-03-017.wav\n",
      "eval/test/id00814-speech-01-002.wav\n",
      "eval/test/id00985-entertainment-01-004.wav\n"
     ]
    },
    {
     "name": "stderr",
     "output_type": "stream",
     "text": [
      "/opt/conda/lib/python3.7/site-packages/ipykernel_launcher.py:8: WavFileWarning: Chunk (non-data) not understood, skipping it.\n",
      "  \n"
     ]
    },
    {
     "name": "stdout",
     "output_type": "stream",
     "text": [
      "eval/test/id00869-interview-01-018.wav\n",
      "eval/test/id00844-live_broadcast-02-058.wav\n",
      "eval/test/id00897-vlog-01-030.wav\n",
      "eval/test/id00899-interview-01-008.wav\n",
      "eval/test/id00860-speech-01-023.wav\n",
      "eval/test/id00918-drama-03-004.wav\n",
      "eval/test/id00819-entertainment-01-002.wav\n",
      "eval/test/id00915-live_broadcast-01-011.wav\n",
      "eval/test/id00917-entertainment-02-001.wav\n",
      "eval/test/id00915-live_broadcast-08-004.wav\n",
      "eval/test/id00918-drama-03-003.wav\n",
      "eval/test/id00869-interview-01-011.wav\n",
      "eval/test/id00810-entertainment-03-008.wav\n",
      "eval/test/id00809-singing-01-002.wav\n",
      "eval/test/id00874-entertainment-08-006.wav\n",
      "eval/test/id00954-singing-02-003.wav\n",
      "eval/test/id00910-singing-02-005.wav\n",
      "eval/test/id00972-entertainment-01-042.wav\n",
      "eval/test/id00892-entertainment-02-002.wav\n",
      "eval/test/id00917-interview-02-018.wav\n",
      "eval/test/id00929-singing-02-003.wav\n",
      "eval/test/id00977-speech-01-005.wav\n",
      "eval/test/id00918-drama-03-001.wav\n",
      "eval/test/id00838-singing-01-033.wav\n",
      "eval/test/id00892-entertainment-03-010.wav\n",
      "eval/test/id00994-entertainment-01-001.wav\n",
      "eval/test/id00935-interview-10-002.wav\n",
      "eval/test/id00913-singing-01-006.wav\n",
      "eval/test/id00892-entertainment-02-017.wav\n",
      "eval/test/id00806-interview-03-051.wav\n",
      "eval/test/id00969-vlog-01-016.wav\n",
      "eval/test/id00956-interview-02-075.wav\n",
      "eval/test/id00852-speech-01-024.wav\n",
      "eval/test/id00956-singing-03-012.wav\n",
      "eval/test/id00954-singing-02-002.wav\n",
      "eval/test/id00892-entertainment-01-003.wav\n",
      "eval/test/id00922-interview-04-022.wav\n",
      "eval/test/id00924-speech-06-004.wav\n",
      "eval/test/id00915-interview-01-007.wav\n",
      "eval/test/id00876-advertisement-01-002.wav\n",
      "eval/test/id00979-singing-03-004.wav\n",
      "eval/test/id00971-singing-01-003.wav\n",
      "eval/test/id00918-drama-03-002.wav\n",
      "eval/test/id00994-entertainment-01-012.wav\n",
      "eval/test/id00838-singing-01-040.wav\n",
      "eval/test/id00892-entertainment-02-008.wav\n",
      "eval/test/id00971-singing-01-027.wav\n",
      "eval/test/id00929-singing-02-001.wav\n",
      "eval/test/id00953-interview-04-007.wav\n",
      "eval/test/id00861-entertainment-01-024.wav\n",
      "eval/test/id00892-entertainment-02-030.wav\n",
      "eval/test/id00994-entertainment-03-018.wav\n",
      "eval/test/id00952-entertainment-04-005.wav\n",
      "eval/test/id00868-drama-01-021.wav\n",
      "eval/test/id00828-interview-01-004.wav\n",
      "eval/test/id00802-drama-02-006.wav\n",
      "eval/test/id00838-singing-01-087.wav\n",
      "eval/test/id00896-singing-01-014.wav\n",
      "eval/test/id00997-singing-01-001.wav\n",
      "eval/test/id00954-singing-01-003.wav\n",
      "eval/test/id00897-vlog-01-026.wav\n",
      "eval/test/id00891-interview-03-014.wav\n",
      "eval/test/id00912-entertainment-03-009.wav\n",
      "eval/test/id00939-speech-02-042.wav\n",
      "eval/test/id00918-drama-03-019.wav\n",
      "eval/test/id00921-singing-02-003.wav\n",
      "eval/test/id00944-entertainment-01-002.wav\n",
      "eval/test/id00875-singing-01-011.wav\n",
      "eval/test/id00892-entertainment-01-004.wav\n",
      "eval/test/id00808-vlog-06-002.wav\n",
      "eval/test/id00876-entertainment-01-002.wav\n",
      "eval/test/id00937-singing-03-003.wav\n",
      "eval/test/id00847-singing-01-144.wav\n",
      "eval/test/id00847-singing-01-141.wav\n",
      "eval/test/id00852-singing-05-015.wav\n",
      "eval/test/id00852-singing-03-020.wav\n",
      "eval/test/id00971-singing-01-007.wav\n",
      "eval/test/id00941-play-01-013.wav\n",
      "eval/test/id00859-live_broadcast-02-024.wav\n",
      "eval/test/id00985-entertainment-04-006.wav\n",
      "eval/test/id00917-entertainment-03-003.wav\n",
      "eval/test/id00918-drama-02-007.wav\n",
      "eval/test/id00842-entertainment-06-003.wav\n",
      "eval/test/id00899-entertainment-01-024.wav\n",
      "eval/test/id00939-entertainment-01-069.wav\n",
      "eval/test/id00892-entertainment-01-011.wav\n",
      "eval/test/id00895-singing-02-012.wav\n",
      "eval/test/id00892-entertainment-03-004.wav\n",
      "eval/test/id00892-entertainment-01-008.wav\n",
      "eval/test/id00893-singing-05-003.wav\n",
      "eval/test/id00810-entertainment-03-002.wav\n",
      "eval/test/id00853-singing-03-006.wav\n",
      "eval/test/id00843-interview-01-021.wav\n",
      "eval/test/id00918-singing-01-001.wav\n",
      "eval/test/id00948-drama-01-002.wav\n",
      "eval/test/id00915-live_broadcast-01-004.wav\n",
      "eval/test/id00897-vlog-01-025.wav\n",
      "eval/test/id00962-speech-01-003.wav\n",
      "eval/test/id00897-vlog-01-050.wav\n",
      "eval/test/id00985-entertainment-05-024.wav\n",
      "eval/test/id00993-drama-03-004.wav\n",
      "eval/test/id00899-singing-05-004.wav\n",
      "eval/test/id00979-interview-04-041.wav\n",
      "eval/test/id00888-singing-02-062.wav\n",
      "eval/test/id00847-singing-01-149.wav\n",
      "eval/test/id00994-entertainment-03-027.wav\n",
      "eval/test/id00953-interview-02-003.wav\n",
      "eval/test/id00944-entertainment-01-006.wav\n",
      "eval/test/id00842-entertainment-01-003.wav\n",
      "eval/test/id00985-entertainment-05-004.wav\n",
      "eval/test/id00809-interview-01-007.wav\n",
      "eval/test/id00892-entertainment-02-027.wav\n",
      "eval/test/id00844-live_broadcast-01-001.wav\n",
      "eval/test/id00967-entertainment-01-002.wav\n",
      "eval/test/id00850-singing-06-008.wav\n",
      "eval/test/id00844-live_broadcast-02-027.wav\n",
      "eval/test/id00955-drama-02-015.wav\n",
      "eval/test/id00806-interview-03-003.wav\n",
      "eval/test/id00892-entertainment-03-012.wav\n",
      "eval/test/id00860-speech-01-006.wav\n",
      "eval/test/id00861-drama-01-002.wav\n",
      "eval/test/id00844-live_broadcast-02-034.wav\n",
      "eval/test/id00910-singing-03-004.wav\n",
      "eval/test/id00892-entertainment-02-026.wav\n",
      "eval/test/id00868-drama-01-023.wav\n",
      "eval/test/id00806-interview-03-001.wav\n",
      "eval/test/id00910-singing-02-002.wav\n",
      "eval/test/id00892-entertainment-02-011.wav\n",
      "eval/test/id00998-interview-09-002.wav\n",
      "eval/test/id00859-live_broadcast-01-038.wav\n",
      "eval/test/id00853-singing-02-002.wav\n",
      "eval/test/id00918-drama-03-015.wav\n",
      "eval/test/id00838-singing-01-114.wav\n",
      "eval/test/id00912-entertainment-03-026.wav\n",
      "eval/test/id00819-singing-01-001.wav\n",
      "eval/test/id00994-entertainment-03-023.wav\n",
      "eval/test/id00971-singing-01-082.wav\n",
      "eval/test/id00806-interview-03-086.wav\n",
      "eval/test/id00852-singing-05-045.wav\n",
      "eval/test/id00888-interview-01-065.wav\n",
      "eval/test/id00918-drama-03-020.wav\n",
      "eval/test/id00925-entertainment-01-003.wav\n",
      "eval/test/id00860-speech-01-015.wav\n",
      "eval/test/id00876-entertainment-01-003.wav\n",
      "eval/test/id00893-singing-03-003.wav\n",
      "eval/test/id00918-drama-03-017.wav\n",
      "eval/test/id00939-speech-03-090.wav\n",
      "eval/test/id00876-live_broadcast-01-001.wav\n",
      "eval/test/id00907-singing-01-006.wav\n",
      "eval/test/id00918-drama-03-009.wav\n",
      "eval/test/id00892-entertainment-02-014.wav\n",
      "eval/test/id00838-singing-01-089.wav\n",
      "eval/test/id00854-interview-03-005.wav\n",
      "eval/test/id00840-singing-01-001.wav\n",
      "eval/test/id00819-vlog-02-070.wav\n",
      "eval/test/id00861-entertainment-01-015.wav\n",
      "eval/test/id00915-live_broadcast-09-008.wav\n",
      "eval/test/id00880-entertainment-04-006.wav\n",
      "eval/test/id00895-singing-02-011.wav\n",
      "eval/test/id00838-singing-01-077.wav\n",
      "eval/test/id00918-drama-02-011.wav\n",
      "eval/test/id00993-drama-02-004.wav\n",
      "eval/test/id00956-singing-07-002.wav\n",
      "eval/test/id00921-singing-05-001.wav\n",
      "eval/test/id00819-singing-03-007.wav\n",
      "eval/test/id00918-drama-03-012.wav\n",
      "eval/test/id00899-entertainment-01-006.wav\n",
      "eval/test/id00897-vlog-01-052.wav\n",
      "eval/test/id00852-singing-05-038.wav\n",
      "eval/test/id00958-singing-01-008.wav\n",
      "eval/test/id00956-singing-02-018.wav\n",
      "eval/test/id00859-live_broadcast-01-157.wav\n",
      "eval/test/id00897-vlog-01-016.wav\n",
      "eval/test/id00844-entertainment-01-013.wav\n",
      "eval/test/id00897-singing-01-011.wav\n",
      "eval/test/id00850-singing-01-009.wav\n",
      "eval/test/id00971-singing-01-011.wav\n",
      "eval/test/id00912-entertainment-03-021.wav\n",
      "eval/test/id00888-interview-01-036.wav\n",
      "eval/test/id00844-entertainment-01-052.wav\n",
      "eval/test/id00892-entertainment-01-005.wav\n",
      "eval/test/id00949-speech-04-035.wav\n",
      "eval/test/id00922-interview-01-044.wav\n",
      "eval/test/id00892-entertainment-02-016.wav\n",
      "eval/test/id00915-live_broadcast-01-013.wav\n",
      "eval/test/id00956-live_broadcast-01-006.wav\n",
      "eval/test/id00971-singing-01-002.wav\n",
      "eval/test/id00877-recitation-03-001.wav\n",
      "eval/test/id00876-advertisement-01-001.wav\n",
      "eval/test/id00892-entertainment-03-009.wav\n",
      "eval/test/id00918-drama-03-022.wav\n",
      "eval/test/id00896-singing-01-010.wav\n",
      "eval/test/id00847-singing-01-168.wav\n",
      "eval/test/id00985-entertainment-03-037.wav\n",
      "eval/test/id00925-interview-08-091.wav\n",
      "eval/test/id00822-entertainment-01-006.wav\n",
      "eval/test/id00875-interview-01-004.wav\n",
      "eval/test/id00813-movie-01-024.wav\n",
      "eval/test/id00819-singing-01-015.wav\n",
      "eval/test/id00935-interview-01-001.wav\n",
      "eval/test/id00814-speech-01-016.wav\n",
      "eval/test/id00804-interview-01-022.wav\n",
      "eval/test/id00852-singing-02-004.wav\n",
      "eval/test/id00847-singing-01-152.wav\n",
      "eval/test/id00897-vlog-01-045.wav\n",
      "eval/test/id00888-interview-01-069.wav\n",
      "eval/test/id00892-entertainment-03-015.wav\n",
      "eval/test/id00892-entertainment-03-001.wav\n",
      "eval/test/id00966-interview-01-006.wav\n",
      "eval/test/id00806-interview-03-046.wav\n",
      "eval/test/id00819-singing-01-009.wav\n",
      "eval/test/id00918-drama-01-006.wav\n"
     ]
    },
    {
     "name": "stdout",
     "output_type": "stream",
     "text": [
      "eval/test/id00819-singing-01-010.wav\n",
      "eval/test/id00847-singing-01-164.wav\n",
      "eval/test/id00876-advertisement-01-003.wav\n",
      "eval/test/id00949-speech-03-009.wav\n",
      "eval/test/id00819-singing-03-002.wav\n",
      "eval/test/id00915-live_broadcast-01-003.wav\n",
      "eval/test/id00888-interview-01-055.wav\n",
      "eval/test/id00918-drama-03-006.wav\n",
      "eval/test/id00802-drama-02-022.wav\n",
      "eval/test/id00888-interview-01-008.wav\n",
      "eval/test/id00918-drama-03-005.wav\n",
      "eval/test/id00996-singing-01-002.wav\n",
      "eval/test/id00847-singing-01-183.wav\n",
      "eval/test/id00966-interview-01-004.wav\n",
      "eval/test/id00861-drama-01-009.wav\n",
      "eval/test/id00975-live_broadcast-01-012.wav\n",
      "eval/test/id00841-speech-01-005.wav\n",
      "eval/test/id00892-entertainment-02-013.wav\n",
      "eval/test/id00844-entertainment-01-054.wav\n",
      "eval/test/id00949-speech-04-006.wav\n",
      "eval/test/id00994-entertainment-03-015.wav\n",
      "eval/test/id00918-drama-03-016.wav\n",
      "eval/test/id00859-live_broadcast-01-138.wav\n",
      "eval/test/id00918-drama-02-013.wav\n",
      "eval/test/id00917-entertainment-03-001.wav\n",
      "eval/test/id00847-singing-01-138.wav\n",
      "eval/test/id00915-live_broadcast-08-012.wav\n",
      "eval/test/id00858-speech-08-005.wav\n",
      "eval/test/id00906-interview-01-002.wav\n",
      "eval/test/id00918-drama-03-018.wav\n",
      "eval/test/id00819-singing-01-011.wav\n",
      "eval/test/id00953-interview-05-009.wav\n",
      "eval/test/id00918-drama-02-008.wav\n",
      "eval/test/id00918-drama-01-003.wav\n",
      "eval/test/id00892-entertainment-01-010.wav\n",
      "eval/test/id00847-singing-01-040.wav\n",
      "eval/test/id00925-interview-04-038.wav\n",
      "eval/test/id00976-singing-02-003.wav\n",
      "eval/test/id00892-entertainment-02-004.wav\n",
      "eval/test/id00890-interview-06-003.wav\n",
      "eval/test/id00985-speech-02-020.wav\n",
      "eval/test/id00813-interview-04-005.wav\n",
      "eval/test/id00968-entertainment-02-005.wav\n",
      "eval/test/id00892-entertainment-02-001.wav\n",
      "eval/test/id00905-interview-04-004.wav\n",
      "eval/test/id00971-singing-01-006.wav\n",
      "eval/test/id00918-drama-02-005.wav\n",
      "eval/test/id00872-interview-02-001.wav\n",
      "eval/test/id00918-drama-02-001.wav\n",
      "eval/test/id00995-live_broadcast-01-002.wav\n",
      "eval/test/id00892-entertainment-01-006.wav\n",
      "eval/test/id00877-recitation-03-023.wav\n",
      "eval/test/id00955-drama-02-018.wav\n",
      "eval/test/id00897-vlog-01-054.wav\n",
      "eval/test/id00819-vlog-02-017.wav\n",
      "eval/test/id00965-interview-04-005.wav\n",
      "eval/test/id00994-entertainment-03-028.wav\n",
      "eval/test/id00822-entertainment-01-008.wav\n",
      "eval/test/id00885-entertainment-02-009.wav\n",
      "eval/test/id00838-singing-01-111.wav\n",
      "eval/test/id00924-speech-09-001.wav\n",
      "eval/test/id00881-interview-01-002.wav\n",
      "eval/test/id00918-drama-01-007.wav\n",
      "eval/test/id00896-singing-01-024.wav\n",
      "eval/test/id00865-interview-01-001.wav\n",
      "eval/test/id00844-live_broadcast-02-029.wav\n",
      "eval/test/id00845-interview-02-005.wav\n",
      "eval/test/id00892-entertainment-02-010.wav\n",
      "eval/test/id00836-singing-02-005.wav\n",
      "eval/test/id00956-singing-03-009.wav\n",
      "eval/test/id00859-interview-02-012.wav\n",
      "eval/test/id00971-singing-01-033.wav\n",
      "eval/test/id00852-singing-03-011.wav\n",
      "eval/test/id00985-speech-02-026.wav\n",
      "eval/test/id00897-vlog-01-056.wav\n",
      "eval/test/id00896-singing-01-025.wav\n",
      "eval/test/id00956-singing-05-013.wav\n",
      "eval/test/id00852-interview-04-005.wav\n",
      "eval/test/id00869-interview-01-004.wav\n",
      "eval/test/id00876-live_broadcast-01-002.wav\n",
      "eval/test/id00939-speech-01-043.wav\n",
      "eval/test/id00939-speech-01-084.wav\n",
      "eval/test/id00852-singing-03-022.wav\n",
      "eval/test/id00990-singing-02-002.wav\n",
      "eval/test/id00854-interview-02-013.wav\n",
      "eval/test/id00889-interview-02-035.wav\n",
      "eval/test/id00892-entertainment-02-028.wav\n",
      "eval/test/id00998-interview-02-012.wav\n",
      "eval/test/id00956-interview-01-051.wav\n",
      "eval/test/id00924-speech-06-017.wav\n",
      "eval/test/id00897-vlog-01-046.wav\n",
      "eval/test/id00895-singing-02-004.wav\n",
      "eval/test/id00904-singing-03-014.wav\n",
      "eval/test/id00896-singing-01-008.wav\n",
      "eval/test/id00859-live_broadcast-01-132.wav\n",
      "eval/test/id00956-singing-05-011.wav\n",
      "eval/test/id00918-drama-03-010.wav\n",
      "eval/test/id00847-singing-01-158.wav\n",
      "eval/test/id00918-drama-03-021.wav\n",
      "eval/test/id00888-singing-01-014.wav\n",
      "eval/test/id00819-singing-01-004.wav\n",
      "eval/test/id00892-entertainment-03-006.wav\n",
      "eval/test/id00918-drama-02-002.wav\n",
      "eval/test/id00972-entertainment-01-049.wav\n",
      "eval/test/id00899-interview-01-018.wav\n",
      "eval/test/id00918-drama-02-009.wav\n",
      "eval/test/id00966-interview-01-012.wav\n",
      "eval/test/id00802-speech-01-021.wav\n",
      "eval/test/id00892-entertainment-02-022.wav\n",
      "eval/test/id00918-drama-01-002.wav\n",
      "eval/test/id00876-live_broadcast-01-003.wav\n",
      "eval/test/id00971-singing-01-067.wav\n",
      "eval/test/id00915-entertainment-03-001.wav\n",
      "eval/test/id00838-singing-01-060.wav\n",
      "eval/test/id00918-drama-02-010.wav\n",
      "eval/test/id00807-live_broadcast-01-006.wav\n",
      "eval/test/id00876-entertainment-01-004.wav\n",
      "eval/test/id00844-entertainment-01-004.wav\n",
      "eval/test/id00835-singing-01-005.wav\n",
      "eval/test/id00852-interview-01-002.wav\n",
      "eval/test/id00996-singing-01-001.wav\n",
      "eval/test/id00974-interview-02-003.wav\n",
      "eval/test/id00892-entertainment-01-002.wav\n",
      "eval/test/id00913-interview-04-020.wav\n",
      "eval/test/id00915-interview-02-021.wav\n",
      "eval/test/id00956-singing-03-003.wav\n",
      "eval/test/id00913-singing-02-003.wav\n",
      "eval/test/id00892-entertainment-02-007.wav\n",
      "eval/test/id00994-entertainment-01-003.wav\n",
      "eval/test/id00939-speech-02-068.wav\n",
      "eval/test/id00881-interview-01-007.wav\n",
      "eval/test/id00974-interview-02-029.wav\n",
      "eval/test/id00806-interview-03-065.wav\n",
      "eval/test/id00852-singing-03-019.wav\n",
      "eval/test/id00907-vlog-02-002.wav\n",
      "eval/test/id00884-interview-01-007.wav\n",
      "eval/test/id00939-speech-01-046.wav\n",
      "eval/test/id00918-drama-03-013.wav\n",
      "eval/test/id00863-singing-01-004.wav\n",
      "eval/test/id00819-singing-01-007.wav\n",
      "eval/test/id00974-interview-02-033.wav\n",
      "eval/test/id00868-drama-01-005.wav\n",
      "eval/test/id00939-speech-01-002.wav\n",
      "eval/test/id00917-interview-01-082.wav\n",
      "eval/test/id00887-speech-01-002.wav\n",
      "eval/test/id00974-interview-02-045.wav\n",
      "eval/test/id00887-speech-02-018.wav\n",
      "eval/test/id00953-interview-02-001.wav\n",
      "eval/test/id00845-interview-02-030.wav\n",
      "eval/test/id00956-singing-05-007.wav\n",
      "eval/test/id00962-interview-01-002.wav\n",
      "eval/test/id00892-entertainment-02-021.wav\n",
      "eval/test/id00897-vlog-01-007.wav\n",
      "eval/test/id00949-speech-03-013.wav\n",
      "eval/test/id00910-singing-02-007.wav\n",
      "eval/test/id00863-singing-01-003.wav\n",
      "eval/test/id00917-interview-01-022.wav\n",
      "eval/test/id00918-drama-03-008.wav\n",
      "eval/test/id00956-interview-02-081.wav\n",
      "eval/test/id00891-interview-01-020.wav\n",
      "eval/test/id00985-entertainment-04-008.wav\n",
      "eval/test/id00918-drama-01-005.wav\n",
      "eval/test/id00842-entertainment-05-006.wav\n",
      "eval/test/id00897-vlog-01-020.wav\n",
      "eval/test/id00892-entertainment-03-013.wav\n",
      "eval/test/id00859-interview-02-002.wav\n",
      "eval/test/id00944-entertainment-01-003.wav\n",
      "eval/test/id00922-interview-01-010.wav\n",
      "eval/test/id00910-singing-02-004.wav\n",
      "eval/test/id00971-singing-01-068.wav\n",
      "eval/test/id00905-entertainment-02-003.wav\n",
      "eval/test/id00897-vlog-01-049.wav\n",
      "eval/test/id00979-singing-03-009.wav\n",
      "eval/test/id00842-entertainment-01-002.wav\n",
      "eval/test/id00852-singing-01-005.wav\n",
      "eval/test/id00934-interview-02-006.wav\n",
      "eval/test/id00975-live_broadcast-05-066.wav\n",
      "eval/test/id00918-drama-02-015.wav\n",
      "eval/test/id00852-singing-03-024.wav\n",
      "eval/test/id00939-speech-02-018.wav\n",
      "eval/test/id00974-interview-02-013.wav\n",
      "eval/test/id00874-entertainment-02-001.wav\n",
      "eval/test/id00900-entertainment-03-021.wav\n",
      "eval/test/id00922-interview-04-016.wav\n",
      "eval/test/id00838-singing-01-102.wav\n",
      "eval/test/id00889-interview-02-015.wav\n",
      "eval/test/id00922-interview-06-023.wav\n",
      "eval/test/id00806-interview-03-030.wav\n",
      "eval/test/id00997-singing-01-010.wav\n",
      "eval/test/id00853-singing-02-004.wav\n",
      "eval/test/id00925-interview-05-023.wav\n",
      "eval/test/id00847-singing-01-051.wav\n",
      "eval/test/id00891-interview-01-007.wav\n",
      "eval/test/id00892-entertainment-01-001.wav\n",
      "eval/test/id00838-singing-01-044.wav\n",
      "eval/test/id00899-interview-01-002.wav\n",
      "eval/test/id00808-vlog-07-005.wav\n",
      "eval/test/id00962-speech-03-002.wav\n",
      "eval/test/id00918-drama-01-004.wav\n",
      "eval/test/id00922-interview-01-054.wav\n",
      "eval/test/id00897-vlog-01-011.wav\n",
      "eval/test/id00892-entertainment-02-029.wav\n",
      "eval/test/id00892-entertainment-02-003.wav\n",
      "eval/test/id00904-singing-01-013.wav\n",
      "eval/test/id00953-interview-02-018.wav\n",
      "eval/test/id00922-interview-05-003.wav\n",
      "eval/test/id00838-singing-01-054.wav\n",
      "eval/test/id00939-speech-03-019.wav\n",
      "eval/test/id00889-interview-02-030.wav\n",
      "eval/test/id00939-speech-01-004.wav\n",
      "eval/test/id00999-interview-02-036.wav\n",
      "eval/test/id00888-singing-02-042.wav\n",
      "eval/test/id00888-interview-01-006.wav\n",
      "eval/test/id00897-vlog-01-019.wav\n",
      "eval/test/id00874-entertainment-13-006.wav\n",
      "eval/test/id00847-singing-01-170.wav\n",
      "eval/test/id00965-interview-10-022.wav\n",
      "eval/test/id00841-interview-02-078.wav\n",
      "eval/test/id00847-singing-01-018.wav\n",
      "eval/test/id00918-drama-02-004.wav\n",
      "eval/test/id00819-singing-03-012.wav\n",
      "eval/test/id00854-interview-03-001.wav\n",
      "eval/test/id00915-live_broadcast-08-008.wav\n",
      "eval/test/id00892-entertainment-02-012.wav\n",
      "eval/test/id00976-singing-03-006.wav\n",
      "eval/test/id00854-entertainment-03-011.wav\n",
      "eval/test/id00956-singing-02-017.wav\n"
     ]
    },
    {
     "name": "stdout",
     "output_type": "stream",
     "text": [
      "eval/test/id00892-entertainment-02-018.wav\n",
      "eval/test/id00904-singing-04-007.wav\n",
      "eval/test/id00939-speech-02-093.wav\n",
      "eval/test/id00915-interview-02-002.wav\n",
      "eval/test/id00892-entertainment-01-007.wav\n",
      "eval/test/id00889-entertainment-01-001.wav\n",
      "eval/test/id00819-singing-03-009.wav\n",
      "eval/test/id00892-entertainment-02-020.wav\n",
      "eval/test/id00939-speech-02-041.wav\n",
      "eval/test/id00975-live_broadcast-02-012.wav\n",
      "eval/test/id00956-interview-02-066.wav\n",
      "eval/test/id00892-entertainment-03-007.wav\n",
      "eval/test/id00956-singing-07-003.wav\n",
      "eval/test/id00847-entertainment-01-006.wav\n",
      "eval/test/id00979-interview-04-052.wav\n",
      "eval/test/id00806-interview-03-040.wav\n",
      "eval/test/id00875-interview-01-012.wav\n",
      "eval/test/id00847-singing-01-159.wav\n",
      "eval/test/id00838-singing-01-105.wav\n",
      "eval/test/id00859-interview-02-006.wav\n",
      "eval/test/id00847-singing-01-137.wav\n",
      "eval/test/id00846-singing-01-011.wav\n",
      "eval/test/id00974-interview-02-054.wav\n",
      "eval/test/id00955-drama-02-017.wav\n",
      "eval/test/id00918-drama-02-006.wav\n",
      "eval/test/id00888-singing-01-013.wav\n",
      "eval/test/id00892-entertainment-03-002.wav\n",
      "eval/test/id00944-entertainment-01-001.wav\n",
      "eval/test/id00892-entertainment-02-015.wav\n",
      "eval/test/id00905-entertainment-02-004.wav\n",
      "eval/test/id00819-vlog-02-096.wav\n",
      "eval/test/id00956-singing-03-014.wav\n",
      "eval/test/id00975-live_broadcast-02-028.wav\n",
      "eval/test/id00968-interview-02-002.wav\n",
      "eval/test/id00900-entertainment-03-008.wav\n",
      "eval/test/id00844-live_broadcast-01-080.wav\n",
      "eval/test/id00841-interview-02-021.wav\n",
      "eval/test/id00920-entertainment-02-006.wav\n",
      "eval/test/id00918-drama-02-012.wav\n",
      "eval/test/id00951-singing-01-010.wav\n",
      "eval/test/id00852-singing-03-016.wav\n",
      "eval/test/id00810-entertainment-03-007.wav\n",
      "eval/test/id00838-singing-01-093.wav\n",
      "eval/test/id00908-singing-03-007.wav\n",
      "eval/test/id00859-live_broadcast-01-168.wav\n",
      "eval/test/id00974-interview-02-020.wav\n",
      "eval/test/id00806-interview-03-085.wav\n",
      "eval/test/id00838-singing-01-082.wav\n",
      "eval/test/id00853-singing-03-005.wav\n",
      "eval/test/id00837-entertainment-01-005.wav\n",
      "eval/test/id00845-entertainment-02-005.wav\n",
      "eval/test/id00877-recitation-03-026.wav\n",
      "eval/test/id00852-singing-03-012.wav\n",
      "eval/test/id00843-interview-03-016.wav\n",
      "eval/test/id00921-movie-01-011.wav\n",
      "eval/test/id00892-entertainment-02-019.wav\n",
      "eval/test/id00806-interview-03-041.wav\n",
      "eval/test/id00892-entertainment-03-011.wav\n",
      "eval/test/id00897-vlog-01-033.wav\n",
      "eval/test/id00860-speech-01-011.wav\n",
      "eval/test/id00868-drama-01-003.wav\n",
      "eval/test/id00976-interview-01-004.wav\n",
      "eval/test/id00954-singing-01-006.wav\n",
      "eval/test/id00899-singing-01-005.wav\n",
      "eval/test/id00915-live_broadcast-01-001.wav\n",
      "eval/test/id00802-drama-02-014.wav\n",
      "eval/test/id00888-interview-01-021.wav\n",
      "eval/test/id00868-drama-01-019.wav\n",
      "eval/test/id00877-recitation-03-003.wav\n",
      "eval/test/id00892-entertainment-02-023.wav\n",
      "eval/test/id00869-interview-01-014.wav\n",
      "eval/test/id00892-entertainment-03-005.wav\n",
      "eval/test/id00976-singing-02-005.wav\n",
      "eval/test/id00877-recitation-03-021.wav\n",
      "eval/test/id00969-entertainment-05-001.wav\n",
      "eval/test/id00918-drama-03-011.wav\n",
      "eval/test/id00892-entertainment-02-009.wav\n",
      "eval/test/id00918-drama-03-007.wav\n",
      "eval/test/id00847-singing-01-174.wav\n",
      "eval/test/id00838-singing-01-128.wav\n",
      "eval/test/id00918-drama-02-003.wav\n",
      "eval/test/id00971-singing-01-031.wav\n",
      "eval/test/id00999-interview-02-018.wav\n",
      "eval/test/id00881-interview-01-016.wav\n",
      "eval/test/id00861-entertainment-01-005.wav\n",
      "eval/test/id00842-entertainment-05-012.wav\n",
      "eval/test/id00888-singing-02-069.wav\n",
      "eval/test/id00897-vlog-01-017.wav\n",
      "eval/test/id00980-entertainment-05-008.wav\n",
      "eval/test/id00892-entertainment-02-025.wav\n",
      "eval/test/id00806-interview-03-059.wav\n",
      "eval/test/id00922-interview-01-047.wav\n",
      "eval/test/id00912-entertainment-03-030.wav\n",
      "eval/test/id00852-singing-03-009.wav\n"
     ]
    }
   ],
   "source": [
    "index_list = []\n",
    "outlier_list = []\n",
    "for count, i in enumerate(wav_list):\n",
    "    \n",
    "    wav_path = os.path.join('/workspace/DATASET/server9_ssd/CN-Celeb', i)\n",
    "    \n",
    "\n",
    "    a, b = wavfile.read(wav_path)\n",
    "    if b[0]>2:\n",
    "#         print(b[0])\n",
    "        print(i)\n",
    "        outlier_list.append(i)\n",
    "        index_list.append(count)\n",
    "        \n",
    "    if b[0]<-2:\n",
    "#         print(b[0])\n",
    "        print(i)\n",
    "        outlier_list.append(i)\n",
    "        index_list.append(count)\n",
    "        \n",
    "    if a!=16000:\n",
    "        print(wav_path)\n",
    "        break\n",
    "    \n",
    "#     print(count)\n",
    "#     time.sleep(0.1)\n",
    "    "
   ]
  },
  {
   "cell_type": "code",
   "execution_count": 8,
   "metadata": {},
   "outputs": [
    {
     "data": {
      "text/plain": [
       "554"
      ]
     },
     "execution_count": 8,
     "metadata": {},
     "output_type": "execute_result"
    }
   ],
   "source": [
    "len(index_list)"
   ]
  },
  {
   "cell_type": "code",
   "execution_count": 9,
   "metadata": {},
   "outputs": [
    {
     "data": {
      "text/plain": [
       "554"
      ]
     },
     "execution_count": 9,
     "metadata": {},
     "output_type": "execute_result"
    }
   ],
   "source": [
    "len(outlier_list)"
   ]
  },
  {
   "cell_type": "code",
   "execution_count": 10,
   "metadata": {},
   "outputs": [],
   "source": [
    "outlier_list.append('eval/test/id00892-entertainment-02-024.wav')"
   ]
  },
  {
   "cell_type": "code",
   "execution_count": 11,
   "metadata": {},
   "outputs": [],
   "source": [
    "wav_list_new = []\n",
    "for count, i in enumerate(wav_list):\n",
    "    if count in index_list:\n",
    "        continue\n",
    "    wav_list_new.append(i)\n",
    "    "
   ]
  },
  {
   "cell_type": "code",
   "execution_count": 12,
   "metadata": {},
   "outputs": [
    {
     "data": {
      "text/plain": [
       "17470"
      ]
     },
     "execution_count": 12,
     "metadata": {},
     "output_type": "execute_result"
    }
   ],
   "source": [
    "len(wav_list_new)"
   ]
  },
  {
   "cell_type": "code",
   "execution_count": 20,
   "metadata": {},
   "outputs": [
    {
     "name": "stderr",
     "output_type": "stream",
     "text": [
      "/opt/conda/lib/python3.7/site-packages/ipykernel_launcher.py:1: WavFileWarning: Chunk (non-data) not understood, skipping it.\n",
      "  \"\"\"Entry point for launching an IPython kernel.\n"
     ]
    },
    {
     "data": {
      "text/plain": [
       "(16000, array([   1,  231,  627, ...,  -82, -105,  -54], dtype=int16))"
      ]
     },
     "execution_count": 20,
     "metadata": {},
     "output_type": "execute_result"
    }
   ],
   "source": [
    "wavfile.read('/workspace/DATASET/server9_ssd/CN-Celeb/eval/test/id00892-entertainment-02-024.wav')"
   ]
  },
  {
   "cell_type": "code",
   "execution_count": 13,
   "metadata": {},
   "outputs": [
    {
     "name": "stdout",
     "output_type": "stream",
     "text": [
      "706\n"
     ]
    }
   ],
   "source": [
    "for count, i in enumerate(wav_list_new):\n",
    "    if i == 'eval/test/id00892-entertainment-02-024.wav':\n",
    "        print(count)"
   ]
  },
  {
   "cell_type": "code",
   "execution_count": 14,
   "metadata": {},
   "outputs": [
    {
     "data": {
      "text/plain": [
       "'eval/test/id00892-entertainment-02-024.wav'"
      ]
     },
     "execution_count": 14,
     "metadata": {},
     "output_type": "execute_result"
    }
   ],
   "source": [
    "wav_list_new[706]"
   ]
  },
  {
   "cell_type": "code",
   "execution_count": 15,
   "metadata": {},
   "outputs": [
    {
     "data": {
      "text/plain": [
       "'eval/test/id00892-entertainment-02-024.wav'"
      ]
     },
     "execution_count": 15,
     "metadata": {},
     "output_type": "execute_result"
    }
   ],
   "source": [
    "wav_list_new.pop(706)"
   ]
  },
  {
   "cell_type": "code",
   "execution_count": 16,
   "metadata": {},
   "outputs": [],
   "source": [
    "len_list = []\n",
    "for count, i in enumerate(wav_list_new):\n",
    "    \n",
    "    wav_path = os.path.join('/workspace/DATASET/server9_ssd/CN-Celeb', i)\n",
    "    a, b = wavfile.read(wav_path)\n",
    "    \n",
    "    len_list.append(len(b))\n",
    "    \n",
    "    if a!=16000:\n",
    "        print(wav_path)\n",
    "        break\n",
    "    "
   ]
  },
  {
   "cell_type": "code",
   "execution_count": 17,
   "metadata": {},
   "outputs": [
    {
     "data": {
      "text/plain": [
       "17469"
      ]
     },
     "execution_count": 17,
     "metadata": {},
     "output_type": "execute_result"
    }
   ],
   "source": [
    "len(len_list)"
   ]
  },
  {
   "cell_type": "code",
   "execution_count": 28,
   "metadata": {},
   "outputs": [],
   "source": [
    "a = np.argsort(len_list)"
   ]
  },
  {
   "cell_type": "code",
   "execution_count": 40,
   "metadata": {},
   "outputs": [
    {
     "data": {
      "text/plain": [
       "array([ 4443,  5341,  6278, 14753, 14875,  9770,  6519,  5710, 16699,\n",
       "        1900,  9306,   375,  5845,  4117,  5530, 13123,  1369,   421,\n",
       "        4645,  6699, 12036,  9637,  3958,  8133,  1323, 12888,  6011,\n",
       "       11896,  2928, 10083, 12312,  5519, 14046, 15756, 12043, 17230,\n",
       "        5992,  5450, 10399, 13661,   853,  1245,    17, 14188, 13932,\n",
       "        1268, 10160,  6846,  1576,  4783, 12907,  5038, 14125,  6763,\n",
       "        8148,  3719,   402, 11954,  2365, 10028, 16553,  6957,  9024,\n",
       "        5569,  8738,  8108, 14162, 14236,  6327, 12228, 12990,  2988,\n",
       "        8011,   428, 10211, 16353,  7578, 15954,   773, 13009, 17078,\n",
       "       13796, 17067,  6061,  4828,  4229, 17335,  4397, 10997, 12462,\n",
       "        1024,  6157, 11510,  2225,  3603, 12955, 13501, 16577, 13878,\n",
       "        4031, 15566,  4366, 12213, 13514, 14221,  7033,  8359, 15098,\n",
       "        3464,   488,   849,  3709,   467, 12671,  1902, 14703,  5619,\n",
       "        4750, 16574, 15867])"
      ]
     },
     "execution_count": 40,
     "metadata": {},
     "output_type": "execute_result"
    }
   ],
   "source": [
    "a[-120:]"
   ]
  },
  {
   "cell_type": "code",
   "execution_count": 41,
   "metadata": {},
   "outputs": [
    {
     "data": {
      "text/plain": [
       "67.7094375"
      ]
     },
     "execution_count": 41,
     "metadata": {},
     "output_type": "execute_result"
    }
   ],
   "source": [
    "len_list[4443] / 16000"
   ]
  },
  {
   "cell_type": "code",
   "execution_count": 43,
   "metadata": {},
   "outputs": [],
   "source": [
    "for i in a[-120:]:\n",
    "    outlier_list.append(wav_list_new[i])"
   ]
  },
  {
   "cell_type": "code",
   "execution_count": 51,
   "metadata": {},
   "outputs": [
    {
     "data": {
      "text/plain": [
       "675"
      ]
     },
     "execution_count": 51,
     "metadata": {},
     "output_type": "execute_result"
    }
   ],
   "source": [
    "len(outlier_list)"
   ]
  },
  {
   "cell_type": "code",
   "execution_count": null,
   "metadata": {},
   "outputs": [],
   "source": []
  },
  {
   "cell_type": "code",
   "execution_count": 45,
   "metadata": {},
   "outputs": [],
   "source": [
    "OUT_TRIALS_LIST_CLEAN = '/workspace/DATASET/server9_ssd/CN-Celeb/CNCELEB_trials_clean.txt'"
   ]
  },
  {
   "cell_type": "code",
   "execution_count": 46,
   "metadata": {},
   "outputs": [
    {
     "data": {
      "text/plain": [
       "3604800"
      ]
     },
     "execution_count": 46,
     "metadata": {},
     "output_type": "execute_result"
    }
   ],
   "source": [
    "len(lines)"
   ]
  },
  {
   "cell_type": "code",
   "execution_count": 48,
   "metadata": {},
   "outputs": [
    {
     "name": "stdout",
     "output_type": "stream",
     "text": [
      "360\r"
     ]
    }
   ],
   "source": [
    "new_lines = []\n",
    "for count, i in enumerate(lines):\n",
    "    data = i[:-1].split(' ')\n",
    "    if data[2] not in outlier_list:\n",
    "        new_lines.append(i)\n",
    "    if (count%10000)==0:\n",
    "        print(count//10000, end='\\r')"
   ]
  },
  {
   "cell_type": "code",
   "execution_count": 50,
   "metadata": {},
   "outputs": [
    {
     "data": {
      "text/plain": [
       "3469800"
      ]
     },
     "execution_count": 50,
     "metadata": {},
     "output_type": "execute_result"
    }
   ],
   "source": [
    "len(new_lines)"
   ]
  },
  {
   "cell_type": "code",
   "execution_count": 52,
   "metadata": {},
   "outputs": [],
   "source": [
    "with open(OUT_TRIALS_LIST_CLEAN, 'w') as f:\n",
    "    for i in new_lines:\n",
    "        f.write(i)"
   ]
  }
 ],
 "metadata": {
  "kernelspec": {
   "display_name": "Python 3",
   "language": "python",
   "name": "python3"
  },
  "language_info": {
   "codemirror_mode": {
    "name": "ipython",
    "version": 3
   },
   "file_extension": ".py",
   "mimetype": "text/x-python",
   "name": "python",
   "nbconvert_exporter": "python",
   "pygments_lexer": "ipython3",
   "version": "3.7.7"
  }
 },
 "nbformat": 4,
 "nbformat_minor": 4
}
