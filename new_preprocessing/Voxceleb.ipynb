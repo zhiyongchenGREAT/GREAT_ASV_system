{
 "cells": [
  {
   "cell_type": "code",
   "execution_count": 49,
   "metadata": {},
   "outputs": [],
   "source": [
    "import os\n",
    "import numpy as np\n",
    "import glob"
   ]
  },
  {
   "cell_type": "markdown",
   "metadata": {},
   "source": [
    "# vox2 train"
   ]
  },
  {
   "cell_type": "code",
   "execution_count": 20,
   "metadata": {},
   "outputs": [],
   "source": [
    "out_path = os.path.join('/workspace/DATASET/server9_ssd/voxceleb', 'vox2_trainlist.txt')"
   ]
  },
  {
   "cell_type": "code",
   "execution_count": 21,
   "metadata": {},
   "outputs": [],
   "source": [
    "dirs = glob.glob('/workspace/DATASET/server9_ssd/voxceleb/vox2/dev/aac/**/*.wav', recursive = True)"
   ]
  },
  {
   "cell_type": "code",
   "execution_count": 22,
   "metadata": {},
   "outputs": [
    {
     "data": {
      "text/plain": [
       "'/workspace/DATASET/server9_ssd/voxceleb/vox2/dev/aac/id08954/j_ulgJU3Jmk/00030.wav'"
      ]
     },
     "execution_count": 22,
     "metadata": {},
     "output_type": "execute_result"
    }
   ],
   "source": [
    "dirs[0]"
   ]
  },
  {
   "cell_type": "code",
   "execution_count": 23,
   "metadata": {},
   "outputs": [
    {
     "data": {
      "text/plain": [
       "1092009"
      ]
     },
     "execution_count": 23,
     "metadata": {},
     "output_type": "execute_result"
    }
   ],
   "source": [
    "len(dirs)"
   ]
  },
  {
   "cell_type": "code",
   "execution_count": 24,
   "metadata": {},
   "outputs": [
    {
     "name": "stdout",
     "output_type": "stream",
     "text": [
      "1092009\n"
     ]
    }
   ],
   "source": [
    "spk_utt_dict = {}\n",
    "for count, line in enumerate(dirs):\n",
    "    data = line.split('/')\n",
    "    label = data[8]\n",
    "    path = data[5]\n",
    "    for i in data[6:]:\n",
    "        path+='/'+i\n",
    "    if label not in spk_utt_dict.keys():\n",
    "        spk_utt_dict[label] = [path]\n",
    "    else:\n",
    "        spk_utt_dict[label].append(path)\n",
    "\n",
    "print(count+1)"
   ]
  },
  {
   "cell_type": "code",
   "execution_count": 25,
   "metadata": {},
   "outputs": [
    {
     "data": {
      "text/plain": [
       "5994"
      ]
     },
     "execution_count": 25,
     "metadata": {},
     "output_type": "execute_result"
    }
   ],
   "source": [
    "len(spk_utt_dict.keys())"
   ]
  },
  {
   "cell_type": "code",
   "execution_count": 26,
   "metadata": {},
   "outputs": [
    {
     "data": {
      "text/plain": [
       "1092009"
      ]
     },
     "execution_count": 26,
     "metadata": {},
     "output_type": "execute_result"
    }
   ],
   "source": [
    "count = 0\n",
    "for i in spk_utt_dict:\n",
    "    count += len(spk_utt_dict[i])\n",
    "count"
   ]
  },
  {
   "cell_type": "code",
   "execution_count": 27,
   "metadata": {},
   "outputs": [],
   "source": [
    "spk_sorted = np.sort(list(spk_utt_dict.keys()))"
   ]
  },
  {
   "cell_type": "code",
   "execution_count": 28,
   "metadata": {},
   "outputs": [],
   "source": [
    "out  = open(out_path, 'w')\n",
    "for spk in spk_sorted:\n",
    "    for path in spk_utt_dict[spk]:\n",
    "        out_line = spk + ' ' + path + '\\n'\n",
    "        out.write(out_line)\n",
    "out.flush()\n",
    "out.close()"
   ]
  },
  {
   "cell_type": "markdown",
   "metadata": {},
   "source": [
    "# vox-o trial list"
   ]
  },
  {
   "cell_type": "code",
   "execution_count": 56,
   "metadata": {
    "scrolled": true
   },
   "outputs": [],
   "source": [
    "out_path = os.path.join('/workspace/DATASET/server9_ssd/voxceleb', 'vox_o_triallist.txt')"
   ]
  },
  {
   "cell_type": "code",
   "execution_count": 57,
   "metadata": {},
   "outputs": [],
   "source": [
    "ori = os.path.join('/workspace/DATASET/server9_ssd/voxceleb', 'veri_test2.txt')"
   ]
  },
  {
   "cell_type": "code",
   "execution_count": 58,
   "metadata": {},
   "outputs": [],
   "source": [
    "with open(ori, 'r') as f:\n",
    "    lines = f.readlines()"
   ]
  },
  {
   "cell_type": "code",
   "execution_count": 59,
   "metadata": {},
   "outputs": [
    {
     "data": {
      "text/plain": [
       "37611"
      ]
     },
     "execution_count": 59,
     "metadata": {},
     "output_type": "execute_result"
    }
   ],
   "source": [
    "len(lines)"
   ]
  },
  {
   "cell_type": "code",
   "execution_count": 60,
   "metadata": {},
   "outputs": [
    {
     "data": {
      "text/plain": [
       "'1 id10270/x6uYqmx31kE/00001.wav id10270/8jEAjG6SegY/00008.wav\\n'"
      ]
     },
     "execution_count": 60,
     "metadata": {},
     "output_type": "execute_result"
    }
   ],
   "source": [
    "lines[0]"
   ]
  },
  {
   "cell_type": "code",
   "execution_count": 61,
   "metadata": {},
   "outputs": [],
   "source": [
    "out = open(out_path, 'w')\n",
    "for count, line in enumerate(lines):\n",
    "    data = line[:-1].split(' ')\n",
    "    utt1 = os.path.join('/workspace/DATASET/server9_ssd/voxceleb/vox1/test/wav', data[1])\n",
    "    utt2 = os.path.join('/workspace/DATASET/server9_ssd/voxceleb/vox1/test/wav', data[2])\n",
    "    if not (os.path.exists(utt1) and os.path.exists(utt2)):\n",
    "        print(utt1)\n",
    "        print(utt2)\n",
    "        break\n",
    "    out.write(data[0]+' '+'vox1/test/wav/'+data[1]+' '+'vox1/test/wav/'+data[2]+'\\n')\n",
    "count+1\n",
    "out.flush()\n",
    "out.close()"
   ]
  },
  {
   "cell_type": "markdown",
   "metadata": {},
   "source": [
    "# vox-e trial list"
   ]
  },
  {
   "cell_type": "code",
   "execution_count": 29,
   "metadata": {
    "scrolled": true
   },
   "outputs": [],
   "source": [
    "out_path = os.path.join('/workspace/DATASET/server9_ssd/voxceleb', 'vox_e_triallist.txt')"
   ]
  },
  {
   "cell_type": "code",
   "execution_count": 30,
   "metadata": {},
   "outputs": [],
   "source": [
    "ori = os.path.join('/workspace/DATASET/server9_ssd/voxceleb', 'list_test_all2.txt')"
   ]
  },
  {
   "cell_type": "code",
   "execution_count": 31,
   "metadata": {},
   "outputs": [],
   "source": [
    "with open(ori, 'r') as f:\n",
    "    lines = f.readlines()"
   ]
  },
  {
   "cell_type": "code",
   "execution_count": 32,
   "metadata": {},
   "outputs": [
    {
     "data": {
      "text/plain": [
       "579818"
      ]
     },
     "execution_count": 32,
     "metadata": {},
     "output_type": "execute_result"
    }
   ],
   "source": [
    "len(lines)"
   ]
  },
  {
   "cell_type": "code",
   "execution_count": 33,
   "metadata": {},
   "outputs": [
    {
     "data": {
      "text/plain": [
       "'1 id10001/Y8hIVOBuels/00001.wav id10001/1zcIwhmdeo4/00001.wav\\n'"
      ]
     },
     "execution_count": 33,
     "metadata": {},
     "output_type": "execute_result"
    }
   ],
   "source": [
    "lines[0]"
   ]
  },
  {
   "cell_type": "code",
   "execution_count": 39,
   "metadata": {},
   "outputs": [],
   "source": [
    "out = open(out_path, 'w')\n",
    "for count, line in enumerate(lines):\n",
    "    data = line[:-1].split(' ')\n",
    "    utt1 = os.path.join('/workspace/DATASET/server9_ssd/voxceleb/vox1/dev/wav', data[1])\n",
    "    if not os.path.exists(utt1):\n",
    "        utt1 = os.path.join('/workspace/DATASET/server9_ssd/voxceleb/vox1/test/wav', data[1])\n",
    "        if not os.path.exists(utt1):\n",
    "            print(utt1)\n",
    "            break\n",
    "    utt2 = os.path.join('/workspace/DATASET/server9_ssd/voxceleb/vox1/dev/wav', data[2])\n",
    "    if not os.path.exists(utt2):\n",
    "        utt2 = os.path.join('/workspace/DATASET/server9_ssd/voxceleb/vox1/test/wav', data[2])\n",
    "        if not os.path.exists(utt2):\n",
    "            print(utt2)\n",
    "            break    \n",
    "    out.write(data[0]+' '+utt1[40:]+' '+utt2[40:]+'\\n')\n",
    "count+1\n",
    "out.flush()\n",
    "out.close()"
   ]
  },
  {
   "cell_type": "code",
   "execution_count": 41,
   "metadata": {},
   "outputs": [
    {
     "data": {
      "text/plain": [
       "579818"
      ]
     },
     "execution_count": 41,
     "metadata": {},
     "output_type": "execute_result"
    }
   ],
   "source": [
    "count+1"
   ]
  },
  {
   "cell_type": "markdown",
   "metadata": {},
   "source": [
    "# vox-h trial list"
   ]
  },
  {
   "cell_type": "code",
   "execution_count": 42,
   "metadata": {
    "scrolled": true
   },
   "outputs": [],
   "source": [
    "out_path = os.path.join('/workspace/DATASET/server9_ssd/voxceleb', 'vox_h_triallist.txt')"
   ]
  },
  {
   "cell_type": "code",
   "execution_count": 43,
   "metadata": {},
   "outputs": [],
   "source": [
    "ori = os.path.join('/workspace/DATASET/server9_ssd/voxceleb', 'list_test_hard2.txt')"
   ]
  },
  {
   "cell_type": "code",
   "execution_count": 44,
   "metadata": {},
   "outputs": [],
   "source": [
    "with open(ori, 'r') as f:\n",
    "    lines = f.readlines()"
   ]
  },
  {
   "cell_type": "code",
   "execution_count": 45,
   "metadata": {},
   "outputs": [
    {
     "data": {
      "text/plain": [
       "550894"
      ]
     },
     "execution_count": 45,
     "metadata": {},
     "output_type": "execute_result"
    }
   ],
   "source": [
    "len(lines)"
   ]
  },
  {
   "cell_type": "code",
   "execution_count": 46,
   "metadata": {},
   "outputs": [
    {
     "data": {
      "text/plain": [
       "'1 id10001/Y8hIVOBuels/00001.wav id10001/utrA-v8pPm4/00001.wav\\n'"
      ]
     },
     "execution_count": 46,
     "metadata": {},
     "output_type": "execute_result"
    }
   ],
   "source": [
    "lines[0]"
   ]
  },
  {
   "cell_type": "code",
   "execution_count": 47,
   "metadata": {},
   "outputs": [],
   "source": [
    "out = open(out_path, 'w')\n",
    "for count, line in enumerate(lines):\n",
    "    data = line[:-1].split(' ')\n",
    "    utt1 = os.path.join('/workspace/DATASET/server9_ssd/voxceleb/vox1/dev/wav', data[1])\n",
    "    if not os.path.exists(utt1):\n",
    "        utt1 = os.path.join('/workspace/DATASET/server9_ssd/voxceleb/vox1/test/wav', data[1])\n",
    "        if not os.path.exists(utt1):\n",
    "            print(utt1)\n",
    "            break\n",
    "    utt2 = os.path.join('/workspace/DATASET/server9_ssd/voxceleb/vox1/dev/wav', data[2])\n",
    "    if not os.path.exists(utt2):\n",
    "        utt2 = os.path.join('/workspace/DATASET/server9_ssd/voxceleb/vox1/test/wav', data[2])\n",
    "        if not os.path.exists(utt2):\n",
    "            print(utt2)\n",
    "            break    \n",
    "    out.write(data[0]+' '+utt1[40:]+' '+utt2[40:]+'\\n')\n",
    "count+1\n",
    "out.flush()\n",
    "out.close()"
   ]
  },
  {
   "cell_type": "code",
   "execution_count": 48,
   "metadata": {},
   "outputs": [
    {
     "data": {
      "text/plain": [
       "550894"
      ]
     },
     "execution_count": 48,
     "metadata": {},
     "output_type": "execute_result"
    }
   ],
   "source": [
    "count+1"
   ]
  },
  {
   "cell_type": "markdown",
   "metadata": {},
   "source": [
    "# voxsrc2020 dev trial list"
   ]
  },
  {
   "cell_type": "code",
   "execution_count": 62,
   "metadata": {},
   "outputs": [],
   "source": [
    "out_path = os.path.join('/workspace/DATASET/server9_ssd/voxceleb', 'voxsrc2020_dev_triallist.txt')"
   ]
  },
  {
   "cell_type": "code",
   "execution_count": 63,
   "metadata": {},
   "outputs": [],
   "source": [
    "ori = os.path.join('/workspace/DATASET/server9_ssd/voxceleb', 'voxsrc2020_dev_pairs.txt')"
   ]
  },
  {
   "cell_type": "code",
   "execution_count": 64,
   "metadata": {},
   "outputs": [],
   "source": [
    "with open(ori, 'r') as f:\n",
    "    lines = f.readlines()"
   ]
  },
  {
   "cell_type": "code",
   "execution_count": 65,
   "metadata": {},
   "outputs": [
    {
     "data": {
      "text/plain": [
       "263486"
      ]
     },
     "execution_count": 65,
     "metadata": {},
     "output_type": "execute_result"
    }
   ],
   "source": [
    "len(lines)"
   ]
  },
  {
   "cell_type": "code",
   "execution_count": 66,
   "metadata": {},
   "outputs": [
    {
     "data": {
      "text/plain": [
       "'1 voxceleb1/id10136/kDIpLcekk9Q/00011.wav voxceleb1/id10136/kTkrpBqwqJs/00001.wav\\n'"
      ]
     },
     "execution_count": 66,
     "metadata": {},
     "output_type": "execute_result"
    }
   ],
   "source": [
    "lines[0]"
   ]
  },
  {
   "cell_type": "code",
   "execution_count": 67,
   "metadata": {},
   "outputs": [],
   "source": [
    "a = lines[0].split(' ')[1]"
   ]
  },
  {
   "cell_type": "code",
   "execution_count": 72,
   "metadata": {},
   "outputs": [
    {
     "data": {
      "text/plain": [
       "'id10136/kDIpLcekk9Q/00011.wav'"
      ]
     },
     "execution_count": 72,
     "metadata": {},
     "output_type": "execute_result"
    }
   ],
   "source": [
    "b = a.split('/')[1]\n",
    "for i in a.split('/')[2:]:\n",
    "    b+='/'+i\n",
    "b"
   ]
  },
  {
   "cell_type": "code",
   "execution_count": 79,
   "metadata": {},
   "outputs": [],
   "source": [
    "out = open(out_path, 'w')\n",
    "for count, line in enumerate(lines):\n",
    "    data = line[:-1].split(' ')\n",
    "    out1 = None\n",
    "    out2 = None\n",
    "    \n",
    "    if data[1].split('/')[0] == 'voxceleb1_cd':\n",
    "        data[1] = data[1]\n",
    "        utt1 = os.path.join('/workspace/DATASET/server9_ssd/voxceleb', data[1])\n",
    "        if not os.path.exists(utt1):\n",
    "            print(utt1)\n",
    "            break\n",
    "        out1 = data[1]\n",
    "    else:\n",
    "        tmp_line = data[1].split('/')[1]\n",
    "        for i in data[1].split('/')[2:]:\n",
    "            tmp_line+='/'+i\n",
    "        data[1] = tmp_line\n",
    "\n",
    "        utt1 = os.path.join('/workspace/DATASET/server9_ssd/voxceleb/vox1/dev/wav', data[1])\n",
    "        if not os.path.exists(utt1):\n",
    "            utt1 = os.path.join('/workspace/DATASET/server9_ssd/voxceleb/vox1/test/wav', data[1])\n",
    "            if not os.path.exists(utt1):\n",
    "                print(utt1)\n",
    "                break\n",
    "        out1 = utt1[40:]\n",
    "        \n",
    "    if data[2].split('/')[0] == 'voxceleb1_cd':\n",
    "        data[2] = data[2]\n",
    "        utt2 = os.path.join('/workspace/DATASET/server9_ssd/voxceleb', data[2])\n",
    "        if not os.path.exists(utt2):\n",
    "            print(utt2)\n",
    "            break\n",
    "        out2 = data[2]\n",
    "    else:\n",
    "        tmp_line = data[2].split('/')[1]\n",
    "        for i in data[2].split('/')[2:]:\n",
    "            tmp_line+='/'+i\n",
    "        data[2] = tmp_line\n",
    "\n",
    "        utt2 = os.path.join('/workspace/DATASET/server9_ssd/voxceleb/vox1/dev/wav', data[2])\n",
    "        if not os.path.exists(utt2):\n",
    "            utt2 = os.path.join('/workspace/DATASET/server9_ssd/voxceleb/vox1/test/wav', data[2])\n",
    "            if not os.path.exists(utt2):\n",
    "                print(utt2)\n",
    "                break\n",
    "        out2 = utt2[40:]\n",
    "        \n",
    "    \n",
    "#     utt1 = os.path.join('/workspace/DATASET/server9_ssd/voxceleb/vox1/dev/wav', data[1])\n",
    "#     if not os.path.exists(utt1):\n",
    "#         utt1 = os.path.join('/workspace/DATASET/server9_ssd/voxceleb/vox1/test/wav', data[1])\n",
    "#         if not os.path.exists(utt1):\n",
    "#             print(utt1)\n",
    "#             break\n",
    "#     utt2 = os.path.join('/workspace/DATASET/server9_ssd/voxceleb/vox1/dev/wav', data[2])\n",
    "#     if not os.path.exists(utt2):\n",
    "#         utt2 = os.path.join('/workspace/DATASET/server9_ssd/voxceleb/vox1/test/wav', data[2])\n",
    "#         if not os.path.exists(utt2):\n",
    "#             print(utt2)\n",
    "#             break\n",
    "    out.write(data[0]+' '+out1+' '+out2+'\\n')\n",
    "count+1\n",
    "out.flush()\n",
    "out.close()"
   ]
  },
  {
   "cell_type": "code",
   "execution_count": 80,
   "metadata": {},
   "outputs": [
    {
     "data": {
      "text/plain": [
       "263486"
      ]
     },
     "execution_count": 80,
     "metadata": {},
     "output_type": "execute_result"
    }
   ],
   "source": [
    "count+1"
   ]
  }
 ],
 "metadata": {
  "kernelspec": {
   "display_name": "Python 3",
   "language": "python",
   "name": "python3"
  },
  "language_info": {
   "codemirror_mode": {
    "name": "ipython",
    "version": 3
   },
   "file_extension": ".py",
   "mimetype": "text/x-python",
   "name": "python",
   "nbconvert_exporter": "python",
   "pygments_lexer": "ipython3",
   "version": "3.7.7"
  }
 },
 "nbformat": 4,
 "nbformat_minor": 4
}
