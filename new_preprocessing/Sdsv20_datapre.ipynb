{
 "cells": [
  {
   "cell_type": "code",
   "execution_count": 1,
   "metadata": {},
   "outputs": [],
   "source": [
    "import os\n",
    "import numpy as np\n",
    "import random"
   ]
  },
  {
   "cell_type": "code",
   "execution_count": 6,
   "metadata": {},
   "outputs": [],
   "source": [
    "# sdsv_eval_ori = '/workspace/DATASET/server9_ssd/sdsv20/task2_evaluation'\n",
    "# sdsv_enroll_ori = '/workspace/DATASET/server9_ssd/sdsv20/task2_enrollment'\n",
    "# sdsv_train_ori = '/workspace/DATASET/server9_ssd/sdsv20/task2_train'\n",
    "# sdsv_docs = '/workspace/DATASET/server9_ssd/sdsv20/docs'"
   ]
  },
  {
   "cell_type": "markdown",
   "metadata": {},
   "source": [
    "# train"
   ]
  },
  {
   "cell_type": "code",
   "execution_count": 4,
   "metadata": {},
   "outputs": [],
   "source": [
    "out_path = os.path.join('/workspace/DATASET/server9_ssd/sdsv20', 'sdsv20_trainlist.txt')"
   ]
  },
  {
   "cell_type": "code",
   "execution_count": 7,
   "metadata": {},
   "outputs": [],
   "source": [
    "with open(os.path.join('/workspace/DATASET/server9_ssd/sdsv20/docs', 'train_labels.txt'), 'r') as f:\n",
    "    lines = f.readlines()"
   ]
  },
  {
   "cell_type": "code",
   "execution_count": 8,
   "metadata": {},
   "outputs": [
    {
     "data": {
      "text/plain": [
       "85765"
      ]
     },
     "execution_count": 8,
     "metadata": {},
     "output_type": "execute_result"
    }
   ],
   "source": [
    "len(lines)"
   ]
  },
  {
   "cell_type": "code",
   "execution_count": 9,
   "metadata": {},
   "outputs": [
    {
     "data": {
      "text/plain": [
       "'train-file-id speaker-id\\n'"
      ]
     },
     "execution_count": 9,
     "metadata": {},
     "output_type": "execute_result"
    }
   ],
   "source": [
    "lines[0]"
   ]
  },
  {
   "cell_type": "code",
   "execution_count": 11,
   "metadata": {},
   "outputs": [
    {
     "data": {
      "text/plain": [
       "'trn_101064 spk_001000\\n'"
      ]
     },
     "execution_count": 11,
     "metadata": {},
     "output_type": "execute_result"
    }
   ],
   "source": [
    "lines[1]"
   ]
  },
  {
   "cell_type": "code",
   "execution_count": 10,
   "metadata": {},
   "outputs": [
    {
     "data": {
      "text/plain": [
       "'trn_186827 spk_001587\\n'"
      ]
     },
     "execution_count": 10,
     "metadata": {},
     "output_type": "execute_result"
    }
   ],
   "source": [
    "lines[-1]"
   ]
  },
  {
   "cell_type": "code",
   "execution_count": 12,
   "metadata": {},
   "outputs": [],
   "source": [
    "lines = lines[1:]"
   ]
  },
  {
   "cell_type": "code",
   "execution_count": 13,
   "metadata": {},
   "outputs": [
    {
     "data": {
      "text/plain": [
       "85764"
      ]
     },
     "execution_count": 13,
     "metadata": {},
     "output_type": "execute_result"
    }
   ],
   "source": [
    "len(lines)"
   ]
  },
  {
   "cell_type": "code",
   "execution_count": 18,
   "metadata": {},
   "outputs": [
    {
     "name": "stdout",
     "output_type": "stream",
     "text": [
      "85764\n"
     ]
    }
   ],
   "source": [
    "out = open(out_path, 'w')\n",
    "for count, line in enumerate(lines):\n",
    "    data = line[:-1].split(' ')\n",
    "    label = data[1]\n",
    "    path = os.path.join('/workspace/DATASET/server9_ssd/sdsv20/task2_train/wav/train', data[0]+'.wav')\n",
    "    if not os.path.exists(path):\n",
    "        print(path)\n",
    "        break\n",
    "    out_line = label+' '+os.path.join('task2_train/wav/train', data[0]+'.wav')+'\\n'\n",
    "    out.write(out_line)\n",
    "out.close()\n",
    "print(count+1)"
   ]
  },
  {
   "cell_type": "markdown",
   "metadata": {},
   "source": [
    "# train 488"
   ]
  },
  {
   "cell_type": "code",
   "execution_count": 57,
   "metadata": {},
   "outputs": [],
   "source": [
    "out_path = os.path.join('/workspace/DATASET/server9_ssd/sdsv20', 'sdsv20_trainlist488.txt')"
   ]
  },
  {
   "cell_type": "code",
   "execution_count": 20,
   "metadata": {},
   "outputs": [],
   "source": [
    "with open(os.path.join('/workspace/DATASET/server9_ssd/sdsv20', 'sdsv20_trainlist.txt'), 'r') as f:\n",
    "    lines = f.readlines()"
   ]
  },
  {
   "cell_type": "code",
   "execution_count": 21,
   "metadata": {
    "scrolled": true
   },
   "outputs": [
    {
     "data": {
      "text/plain": [
       "85764"
      ]
     },
     "execution_count": 21,
     "metadata": {},
     "output_type": "execute_result"
    }
   ],
   "source": [
    "len(lines)"
   ]
  },
  {
   "cell_type": "code",
   "execution_count": 24,
   "metadata": {},
   "outputs": [],
   "source": [
    "label = []\n",
    "for line in lines:\n",
    "    label.append(line.split(' ')[0])"
   ]
  },
  {
   "cell_type": "code",
   "execution_count": 25,
   "metadata": {},
   "outputs": [
    {
     "data": {
      "text/plain": [
       "85764"
      ]
     },
     "execution_count": 25,
     "metadata": {},
     "output_type": "execute_result"
    }
   ],
   "source": [
    "len(label)"
   ]
  },
  {
   "cell_type": "code",
   "execution_count": 26,
   "metadata": {},
   "outputs": [],
   "source": [
    "label = set(label)"
   ]
  },
  {
   "cell_type": "code",
   "execution_count": 27,
   "metadata": {},
   "outputs": [
    {
     "data": {
      "text/plain": [
       "588"
      ]
     },
     "execution_count": 27,
     "metadata": {},
     "output_type": "execute_result"
    }
   ],
   "source": [
    "len(label)"
   ]
  },
  {
   "cell_type": "code",
   "execution_count": 29,
   "metadata": {},
   "outputs": [],
   "source": [
    "label = list(label)"
   ]
  },
  {
   "cell_type": "code",
   "execution_count": 49,
   "metadata": {},
   "outputs": [
    {
     "data": {
      "text/plain": [
       "array(['spk_001000', 'spk_001001', 'spk_001002', 'spk_001003',\n",
       "       'spk_001004', 'spk_001005', 'spk_001006', 'spk_001007',\n",
       "       'spk_001008', 'spk_001009', 'spk_001010', 'spk_001011',\n",
       "       'spk_001012', 'spk_001013', 'spk_001014', 'spk_001015',\n",
       "       'spk_001016', 'spk_001017', 'spk_001018', 'spk_001019',\n",
       "       'spk_001020', 'spk_001021', 'spk_001022', 'spk_001023',\n",
       "       'spk_001024', 'spk_001025', 'spk_001026', 'spk_001027',\n",
       "       'spk_001028', 'spk_001029', 'spk_001030', 'spk_001031',\n",
       "       'spk_001032', 'spk_001033', 'spk_001034', 'spk_001035',\n",
       "       'spk_001036', 'spk_001037', 'spk_001038', 'spk_001039',\n",
       "       'spk_001040', 'spk_001041', 'spk_001042', 'spk_001043',\n",
       "       'spk_001044', 'spk_001045', 'spk_001046', 'spk_001047',\n",
       "       'spk_001048', 'spk_001049', 'spk_001050', 'spk_001051',\n",
       "       'spk_001052', 'spk_001053', 'spk_001054', 'spk_001055',\n",
       "       'spk_001056', 'spk_001057', 'spk_001058', 'spk_001059',\n",
       "       'spk_001060', 'spk_001061', 'spk_001062', 'spk_001063',\n",
       "       'spk_001064', 'spk_001065', 'spk_001066', 'spk_001067',\n",
       "       'spk_001068', 'spk_001069', 'spk_001070', 'spk_001071',\n",
       "       'spk_001072', 'spk_001073', 'spk_001074', 'spk_001075',\n",
       "       'spk_001076', 'spk_001077', 'spk_001078', 'spk_001079',\n",
       "       'spk_001080', 'spk_001081', 'spk_001082', 'spk_001083',\n",
       "       'spk_001084', 'spk_001085', 'spk_001086', 'spk_001087',\n",
       "       'spk_001088', 'spk_001089', 'spk_001090', 'spk_001091',\n",
       "       'spk_001092', 'spk_001093', 'spk_001094', 'spk_001095',\n",
       "       'spk_001096', 'spk_001097', 'spk_001098', 'spk_001099',\n",
       "       'spk_001100', 'spk_001101', 'spk_001102', 'spk_001103',\n",
       "       'spk_001104', 'spk_001105', 'spk_001106', 'spk_001107',\n",
       "       'spk_001108', 'spk_001109', 'spk_001110', 'spk_001111',\n",
       "       'spk_001112', 'spk_001113', 'spk_001114', 'spk_001115',\n",
       "       'spk_001116', 'spk_001117', 'spk_001118', 'spk_001119',\n",
       "       'spk_001120', 'spk_001121', 'spk_001122', 'spk_001123',\n",
       "       'spk_001124', 'spk_001125', 'spk_001126', 'spk_001127',\n",
       "       'spk_001128', 'spk_001129', 'spk_001130', 'spk_001131',\n",
       "       'spk_001132', 'spk_001133', 'spk_001134', 'spk_001135',\n",
       "       'spk_001136', 'spk_001137', 'spk_001138', 'spk_001139',\n",
       "       'spk_001140', 'spk_001141', 'spk_001142', 'spk_001143',\n",
       "       'spk_001144', 'spk_001145', 'spk_001146', 'spk_001147',\n",
       "       'spk_001148', 'spk_001149', 'spk_001150', 'spk_001151',\n",
       "       'spk_001152', 'spk_001153', 'spk_001154', 'spk_001155',\n",
       "       'spk_001156', 'spk_001157', 'spk_001158', 'spk_001159',\n",
       "       'spk_001160', 'spk_001161', 'spk_001162', 'spk_001163',\n",
       "       'spk_001164', 'spk_001165', 'spk_001166', 'spk_001167',\n",
       "       'spk_001168', 'spk_001169', 'spk_001170', 'spk_001171',\n",
       "       'spk_001172', 'spk_001173', 'spk_001174', 'spk_001175',\n",
       "       'spk_001176', 'spk_001177', 'spk_001178', 'spk_001179',\n",
       "       'spk_001180', 'spk_001181', 'spk_001182', 'spk_001183',\n",
       "       'spk_001184', 'spk_001185', 'spk_001186', 'spk_001187',\n",
       "       'spk_001188', 'spk_001189', 'spk_001190', 'spk_001191',\n",
       "       'spk_001192', 'spk_001193', 'spk_001194', 'spk_001195',\n",
       "       'spk_001196', 'spk_001197', 'spk_001198', 'spk_001199',\n",
       "       'spk_001200', 'spk_001201', 'spk_001202', 'spk_001203',\n",
       "       'spk_001204', 'spk_001205', 'spk_001206', 'spk_001207',\n",
       "       'spk_001208', 'spk_001209', 'spk_001210', 'spk_001211',\n",
       "       'spk_001212', 'spk_001213', 'spk_001214', 'spk_001215',\n",
       "       'spk_001216', 'spk_001217', 'spk_001218', 'spk_001219',\n",
       "       'spk_001220', 'spk_001221', 'spk_001222', 'spk_001223',\n",
       "       'spk_001224', 'spk_001225', 'spk_001226', 'spk_001227',\n",
       "       'spk_001228', 'spk_001229', 'spk_001230', 'spk_001231',\n",
       "       'spk_001232', 'spk_001233', 'spk_001234', 'spk_001235',\n",
       "       'spk_001236', 'spk_001237', 'spk_001238', 'spk_001239',\n",
       "       'spk_001240', 'spk_001241', 'spk_001242', 'spk_001243',\n",
       "       'spk_001244', 'spk_001245', 'spk_001246', 'spk_001247',\n",
       "       'spk_001248', 'spk_001249', 'spk_001250', 'spk_001251',\n",
       "       'spk_001252', 'spk_001253', 'spk_001254', 'spk_001255',\n",
       "       'spk_001256', 'spk_001257', 'spk_001258', 'spk_001259',\n",
       "       'spk_001260', 'spk_001261', 'spk_001262', 'spk_001263',\n",
       "       'spk_001264', 'spk_001265', 'spk_001266', 'spk_001267',\n",
       "       'spk_001268', 'spk_001269', 'spk_001270', 'spk_001271',\n",
       "       'spk_001272', 'spk_001273', 'spk_001274', 'spk_001275',\n",
       "       'spk_001276', 'spk_001277', 'spk_001278', 'spk_001279',\n",
       "       'spk_001280', 'spk_001281', 'spk_001282', 'spk_001283',\n",
       "       'spk_001284', 'spk_001285', 'spk_001286', 'spk_001287',\n",
       "       'spk_001288', 'spk_001289', 'spk_001290', 'spk_001291',\n",
       "       'spk_001292', 'spk_001293', 'spk_001294', 'spk_001295',\n",
       "       'spk_001296', 'spk_001297', 'spk_001298', 'spk_001299',\n",
       "       'spk_001300', 'spk_001301', 'spk_001302', 'spk_001303',\n",
       "       'spk_001304', 'spk_001305', 'spk_001306', 'spk_001307',\n",
       "       'spk_001308', 'spk_001309', 'spk_001310', 'spk_001311',\n",
       "       'spk_001312', 'spk_001313', 'spk_001314', 'spk_001315',\n",
       "       'spk_001316', 'spk_001317', 'spk_001318', 'spk_001319',\n",
       "       'spk_001320', 'spk_001321', 'spk_001322', 'spk_001323',\n",
       "       'spk_001324', 'spk_001325', 'spk_001326', 'spk_001327',\n",
       "       'spk_001328', 'spk_001329', 'spk_001330', 'spk_001331',\n",
       "       'spk_001332', 'spk_001333', 'spk_001334', 'spk_001335',\n",
       "       'spk_001336', 'spk_001337', 'spk_001338', 'spk_001339',\n",
       "       'spk_001340', 'spk_001341', 'spk_001342', 'spk_001343',\n",
       "       'spk_001344', 'spk_001345', 'spk_001346', 'spk_001347',\n",
       "       'spk_001348', 'spk_001349', 'spk_001350', 'spk_001351',\n",
       "       'spk_001352', 'spk_001353', 'spk_001354', 'spk_001355',\n",
       "       'spk_001356', 'spk_001357', 'spk_001358', 'spk_001359',\n",
       "       'spk_001360', 'spk_001361', 'spk_001362', 'spk_001363',\n",
       "       'spk_001364', 'spk_001365', 'spk_001366', 'spk_001367',\n",
       "       'spk_001368', 'spk_001369', 'spk_001370', 'spk_001371',\n",
       "       'spk_001372', 'spk_001373', 'spk_001374', 'spk_001375',\n",
       "       'spk_001376', 'spk_001377', 'spk_001378', 'spk_001379',\n",
       "       'spk_001380', 'spk_001381', 'spk_001382', 'spk_001383',\n",
       "       'spk_001384', 'spk_001385', 'spk_001386', 'spk_001387',\n",
       "       'spk_001388', 'spk_001389', 'spk_001390', 'spk_001391',\n",
       "       'spk_001392', 'spk_001393', 'spk_001394', 'spk_001395',\n",
       "       'spk_001396', 'spk_001397', 'spk_001398', 'spk_001399',\n",
       "       'spk_001400', 'spk_001401', 'spk_001402', 'spk_001403',\n",
       "       'spk_001404', 'spk_001405', 'spk_001406', 'spk_001407',\n",
       "       'spk_001408', 'spk_001409', 'spk_001410', 'spk_001411',\n",
       "       'spk_001412', 'spk_001413', 'spk_001414', 'spk_001415',\n",
       "       'spk_001416', 'spk_001417', 'spk_001418', 'spk_001419',\n",
       "       'spk_001420', 'spk_001421', 'spk_001422', 'spk_001423',\n",
       "       'spk_001424', 'spk_001425', 'spk_001426', 'spk_001427',\n",
       "       'spk_001428', 'spk_001429', 'spk_001430', 'spk_001431',\n",
       "       'spk_001432', 'spk_001433', 'spk_001434', 'spk_001435',\n",
       "       'spk_001436', 'spk_001437', 'spk_001438', 'spk_001439',\n",
       "       'spk_001440', 'spk_001441', 'spk_001442', 'spk_001443',\n",
       "       'spk_001444', 'spk_001445', 'spk_001446', 'spk_001447',\n",
       "       'spk_001448', 'spk_001449', 'spk_001450', 'spk_001451',\n",
       "       'spk_001452', 'spk_001453', 'spk_001454', 'spk_001455',\n",
       "       'spk_001456', 'spk_001457', 'spk_001458', 'spk_001459',\n",
       "       'spk_001460', 'spk_001461', 'spk_001462', 'spk_001463',\n",
       "       'spk_001464', 'spk_001465', 'spk_001466', 'spk_001467',\n",
       "       'spk_001468', 'spk_001469', 'spk_001470', 'spk_001471',\n",
       "       'spk_001472', 'spk_001473', 'spk_001474', 'spk_001475',\n",
       "       'spk_001476', 'spk_001477', 'spk_001478', 'spk_001479',\n",
       "       'spk_001480', 'spk_001481', 'spk_001482', 'spk_001483',\n",
       "       'spk_001484', 'spk_001485', 'spk_001486', 'spk_001487',\n",
       "       'spk_001488', 'spk_001489', 'spk_001490', 'spk_001491',\n",
       "       'spk_001492', 'spk_001493', 'spk_001494', 'spk_001495',\n",
       "       'spk_001496', 'spk_001497', 'spk_001498', 'spk_001499',\n",
       "       'spk_001500', 'spk_001501', 'spk_001502', 'spk_001503',\n",
       "       'spk_001504', 'spk_001505', 'spk_001506', 'spk_001507',\n",
       "       'spk_001508', 'spk_001509', 'spk_001510', 'spk_001511',\n",
       "       'spk_001512', 'spk_001513', 'spk_001514', 'spk_001515',\n",
       "       'spk_001516', 'spk_001517', 'spk_001518', 'spk_001519',\n",
       "       'spk_001520', 'spk_001521', 'spk_001522', 'spk_001523',\n",
       "       'spk_001524', 'spk_001525', 'spk_001526', 'spk_001527',\n",
       "       'spk_001528', 'spk_001529', 'spk_001530', 'spk_001531',\n",
       "       'spk_001532', 'spk_001533', 'spk_001534', 'spk_001535',\n",
       "       'spk_001536', 'spk_001537', 'spk_001538', 'spk_001539',\n",
       "       'spk_001540', 'spk_001541', 'spk_001542', 'spk_001543',\n",
       "       'spk_001544', 'spk_001545', 'spk_001546', 'spk_001547',\n",
       "       'spk_001548', 'spk_001549', 'spk_001550', 'spk_001551',\n",
       "       'spk_001552', 'spk_001553', 'spk_001554', 'spk_001555',\n",
       "       'spk_001556', 'spk_001557', 'spk_001558', 'spk_001559',\n",
       "       'spk_001560', 'spk_001561', 'spk_001562', 'spk_001563',\n",
       "       'spk_001564', 'spk_001565', 'spk_001566', 'spk_001567',\n",
       "       'spk_001568', 'spk_001569', 'spk_001570', 'spk_001571',\n",
       "       'spk_001572', 'spk_001573', 'spk_001574', 'spk_001575',\n",
       "       'spk_001576', 'spk_001577', 'spk_001578', 'spk_001579',\n",
       "       'spk_001580', 'spk_001581', 'spk_001582', 'spk_001583',\n",
       "       'spk_001584', 'spk_001585', 'spk_001586', 'spk_001587'],\n",
       "      dtype='<U10')"
      ]
     },
     "execution_count": 49,
     "metadata": {},
     "output_type": "execute_result"
    }
   ],
   "source": [
    "np.sort(label)"
   ]
  },
  {
   "cell_type": "code",
   "execution_count": 52,
   "metadata": {},
   "outputs": [],
   "source": [
    "label_train = np.sort(label)[:488]\n",
    "label_ver = np.sort(label)[488:]"
   ]
  },
  {
   "cell_type": "code",
   "execution_count": 53,
   "metadata": {},
   "outputs": [
    {
     "data": {
      "text/plain": [
       "array(['spk_001000', 'spk_001001', 'spk_001002', 'spk_001003',\n",
       "       'spk_001004', 'spk_001005', 'spk_001006', 'spk_001007',\n",
       "       'spk_001008', 'spk_001009', 'spk_001010', 'spk_001011',\n",
       "       'spk_001012', 'spk_001013', 'spk_001014', 'spk_001015',\n",
       "       'spk_001016', 'spk_001017', 'spk_001018', 'spk_001019',\n",
       "       'spk_001020', 'spk_001021', 'spk_001022', 'spk_001023',\n",
       "       'spk_001024', 'spk_001025', 'spk_001026', 'spk_001027',\n",
       "       'spk_001028', 'spk_001029', 'spk_001030', 'spk_001031',\n",
       "       'spk_001032', 'spk_001033', 'spk_001034', 'spk_001035',\n",
       "       'spk_001036', 'spk_001037', 'spk_001038', 'spk_001039',\n",
       "       'spk_001040', 'spk_001041', 'spk_001042', 'spk_001043',\n",
       "       'spk_001044', 'spk_001045', 'spk_001046', 'spk_001047',\n",
       "       'spk_001048', 'spk_001049', 'spk_001050', 'spk_001051',\n",
       "       'spk_001052', 'spk_001053', 'spk_001054', 'spk_001055',\n",
       "       'spk_001056', 'spk_001057', 'spk_001058', 'spk_001059',\n",
       "       'spk_001060', 'spk_001061', 'spk_001062', 'spk_001063',\n",
       "       'spk_001064', 'spk_001065', 'spk_001066', 'spk_001067',\n",
       "       'spk_001068', 'spk_001069', 'spk_001070', 'spk_001071',\n",
       "       'spk_001072', 'spk_001073', 'spk_001074', 'spk_001075',\n",
       "       'spk_001076', 'spk_001077', 'spk_001078', 'spk_001079',\n",
       "       'spk_001080', 'spk_001081', 'spk_001082', 'spk_001083',\n",
       "       'spk_001084', 'spk_001085', 'spk_001086', 'spk_001087',\n",
       "       'spk_001088', 'spk_001089', 'spk_001090', 'spk_001091',\n",
       "       'spk_001092', 'spk_001093', 'spk_001094', 'spk_001095',\n",
       "       'spk_001096', 'spk_001097', 'spk_001098', 'spk_001099',\n",
       "       'spk_001100', 'spk_001101', 'spk_001102', 'spk_001103',\n",
       "       'spk_001104', 'spk_001105', 'spk_001106', 'spk_001107',\n",
       "       'spk_001108', 'spk_001109', 'spk_001110', 'spk_001111',\n",
       "       'spk_001112', 'spk_001113', 'spk_001114', 'spk_001115',\n",
       "       'spk_001116', 'spk_001117', 'spk_001118', 'spk_001119',\n",
       "       'spk_001120', 'spk_001121', 'spk_001122', 'spk_001123',\n",
       "       'spk_001124', 'spk_001125', 'spk_001126', 'spk_001127',\n",
       "       'spk_001128', 'spk_001129', 'spk_001130', 'spk_001131',\n",
       "       'spk_001132', 'spk_001133', 'spk_001134', 'spk_001135',\n",
       "       'spk_001136', 'spk_001137', 'spk_001138', 'spk_001139',\n",
       "       'spk_001140', 'spk_001141', 'spk_001142', 'spk_001143',\n",
       "       'spk_001144', 'spk_001145', 'spk_001146', 'spk_001147',\n",
       "       'spk_001148', 'spk_001149', 'spk_001150', 'spk_001151',\n",
       "       'spk_001152', 'spk_001153', 'spk_001154', 'spk_001155',\n",
       "       'spk_001156', 'spk_001157', 'spk_001158', 'spk_001159',\n",
       "       'spk_001160', 'spk_001161', 'spk_001162', 'spk_001163',\n",
       "       'spk_001164', 'spk_001165', 'spk_001166', 'spk_001167',\n",
       "       'spk_001168', 'spk_001169', 'spk_001170', 'spk_001171',\n",
       "       'spk_001172', 'spk_001173', 'spk_001174', 'spk_001175',\n",
       "       'spk_001176', 'spk_001177', 'spk_001178', 'spk_001179',\n",
       "       'spk_001180', 'spk_001181', 'spk_001182', 'spk_001183',\n",
       "       'spk_001184', 'spk_001185', 'spk_001186', 'spk_001187',\n",
       "       'spk_001188', 'spk_001189', 'spk_001190', 'spk_001191',\n",
       "       'spk_001192', 'spk_001193', 'spk_001194', 'spk_001195',\n",
       "       'spk_001196', 'spk_001197', 'spk_001198', 'spk_001199',\n",
       "       'spk_001200', 'spk_001201', 'spk_001202', 'spk_001203',\n",
       "       'spk_001204', 'spk_001205', 'spk_001206', 'spk_001207',\n",
       "       'spk_001208', 'spk_001209', 'spk_001210', 'spk_001211',\n",
       "       'spk_001212', 'spk_001213', 'spk_001214', 'spk_001215',\n",
       "       'spk_001216', 'spk_001217', 'spk_001218', 'spk_001219',\n",
       "       'spk_001220', 'spk_001221', 'spk_001222', 'spk_001223',\n",
       "       'spk_001224', 'spk_001225', 'spk_001226', 'spk_001227',\n",
       "       'spk_001228', 'spk_001229', 'spk_001230', 'spk_001231',\n",
       "       'spk_001232', 'spk_001233', 'spk_001234', 'spk_001235',\n",
       "       'spk_001236', 'spk_001237', 'spk_001238', 'spk_001239',\n",
       "       'spk_001240', 'spk_001241', 'spk_001242', 'spk_001243',\n",
       "       'spk_001244', 'spk_001245', 'spk_001246', 'spk_001247',\n",
       "       'spk_001248', 'spk_001249', 'spk_001250', 'spk_001251',\n",
       "       'spk_001252', 'spk_001253', 'spk_001254', 'spk_001255',\n",
       "       'spk_001256', 'spk_001257', 'spk_001258', 'spk_001259',\n",
       "       'spk_001260', 'spk_001261', 'spk_001262', 'spk_001263',\n",
       "       'spk_001264', 'spk_001265', 'spk_001266', 'spk_001267',\n",
       "       'spk_001268', 'spk_001269', 'spk_001270', 'spk_001271',\n",
       "       'spk_001272', 'spk_001273', 'spk_001274', 'spk_001275',\n",
       "       'spk_001276', 'spk_001277', 'spk_001278', 'spk_001279',\n",
       "       'spk_001280', 'spk_001281', 'spk_001282', 'spk_001283',\n",
       "       'spk_001284', 'spk_001285', 'spk_001286', 'spk_001287',\n",
       "       'spk_001288', 'spk_001289', 'spk_001290', 'spk_001291',\n",
       "       'spk_001292', 'spk_001293', 'spk_001294', 'spk_001295',\n",
       "       'spk_001296', 'spk_001297', 'spk_001298', 'spk_001299',\n",
       "       'spk_001300', 'spk_001301', 'spk_001302', 'spk_001303',\n",
       "       'spk_001304', 'spk_001305', 'spk_001306', 'spk_001307',\n",
       "       'spk_001308', 'spk_001309', 'spk_001310', 'spk_001311',\n",
       "       'spk_001312', 'spk_001313', 'spk_001314', 'spk_001315',\n",
       "       'spk_001316', 'spk_001317', 'spk_001318', 'spk_001319',\n",
       "       'spk_001320', 'spk_001321', 'spk_001322', 'spk_001323',\n",
       "       'spk_001324', 'spk_001325', 'spk_001326', 'spk_001327',\n",
       "       'spk_001328', 'spk_001329', 'spk_001330', 'spk_001331',\n",
       "       'spk_001332', 'spk_001333', 'spk_001334', 'spk_001335',\n",
       "       'spk_001336', 'spk_001337', 'spk_001338', 'spk_001339',\n",
       "       'spk_001340', 'spk_001341', 'spk_001342', 'spk_001343',\n",
       "       'spk_001344', 'spk_001345', 'spk_001346', 'spk_001347',\n",
       "       'spk_001348', 'spk_001349', 'spk_001350', 'spk_001351',\n",
       "       'spk_001352', 'spk_001353', 'spk_001354', 'spk_001355',\n",
       "       'spk_001356', 'spk_001357', 'spk_001358', 'spk_001359',\n",
       "       'spk_001360', 'spk_001361', 'spk_001362', 'spk_001363',\n",
       "       'spk_001364', 'spk_001365', 'spk_001366', 'spk_001367',\n",
       "       'spk_001368', 'spk_001369', 'spk_001370', 'spk_001371',\n",
       "       'spk_001372', 'spk_001373', 'spk_001374', 'spk_001375',\n",
       "       'spk_001376', 'spk_001377', 'spk_001378', 'spk_001379',\n",
       "       'spk_001380', 'spk_001381', 'spk_001382', 'spk_001383',\n",
       "       'spk_001384', 'spk_001385', 'spk_001386', 'spk_001387',\n",
       "       'spk_001388', 'spk_001389', 'spk_001390', 'spk_001391',\n",
       "       'spk_001392', 'spk_001393', 'spk_001394', 'spk_001395',\n",
       "       'spk_001396', 'spk_001397', 'spk_001398', 'spk_001399',\n",
       "       'spk_001400', 'spk_001401', 'spk_001402', 'spk_001403',\n",
       "       'spk_001404', 'spk_001405', 'spk_001406', 'spk_001407',\n",
       "       'spk_001408', 'spk_001409', 'spk_001410', 'spk_001411',\n",
       "       'spk_001412', 'spk_001413', 'spk_001414', 'spk_001415',\n",
       "       'spk_001416', 'spk_001417', 'spk_001418', 'spk_001419',\n",
       "       'spk_001420', 'spk_001421', 'spk_001422', 'spk_001423',\n",
       "       'spk_001424', 'spk_001425', 'spk_001426', 'spk_001427',\n",
       "       'spk_001428', 'spk_001429', 'spk_001430', 'spk_001431',\n",
       "       'spk_001432', 'spk_001433', 'spk_001434', 'spk_001435',\n",
       "       'spk_001436', 'spk_001437', 'spk_001438', 'spk_001439',\n",
       "       'spk_001440', 'spk_001441', 'spk_001442', 'spk_001443',\n",
       "       'spk_001444', 'spk_001445', 'spk_001446', 'spk_001447',\n",
       "       'spk_001448', 'spk_001449', 'spk_001450', 'spk_001451',\n",
       "       'spk_001452', 'spk_001453', 'spk_001454', 'spk_001455',\n",
       "       'spk_001456', 'spk_001457', 'spk_001458', 'spk_001459',\n",
       "       'spk_001460', 'spk_001461', 'spk_001462', 'spk_001463',\n",
       "       'spk_001464', 'spk_001465', 'spk_001466', 'spk_001467',\n",
       "       'spk_001468', 'spk_001469', 'spk_001470', 'spk_001471',\n",
       "       'spk_001472', 'spk_001473', 'spk_001474', 'spk_001475',\n",
       "       'spk_001476', 'spk_001477', 'spk_001478', 'spk_001479',\n",
       "       'spk_001480', 'spk_001481', 'spk_001482', 'spk_001483',\n",
       "       'spk_001484', 'spk_001485', 'spk_001486', 'spk_001487'],\n",
       "      dtype='<U10')"
      ]
     },
     "execution_count": 53,
     "metadata": {},
     "output_type": "execute_result"
    }
   ],
   "source": [
    "label_train"
   ]
  },
  {
   "cell_type": "code",
   "execution_count": 54,
   "metadata": {},
   "outputs": [
    {
     "data": {
      "text/plain": [
       "488"
      ]
     },
     "execution_count": 54,
     "metadata": {},
     "output_type": "execute_result"
    }
   ],
   "source": [
    "len(label_train)"
   ]
  },
  {
   "cell_type": "code",
   "execution_count": 56,
   "metadata": {},
   "outputs": [],
   "source": [
    "with open(os.path.join('/workspace/DATASET/server9_ssd/sdsv20', 'sm_trainlabelpart.log'), 'w') as f:\n",
    "    [f.write(i+'\\n') for i in label_train]\n",
    "with open(os.path.join('/workspace/DATASET/server9_ssd/sdsv20', 'sm_verlabelpart.log'), 'w') as f:\n",
    "    [f.write(i+'\\n') for i in label_ver]"
   ]
  },
  {
   "cell_type": "code",
   "execution_count": 58,
   "metadata": {},
   "outputs": [],
   "source": [
    "out = open(out_path, 'w')\n",
    "with open(os.path.join('/workspace/DATASET/server9_ssd/sdsv20', 'sdsv20_trainlist.txt'), 'r') as f:\n",
    "    lines = f.readlines()\n",
    "for line in lines:\n",
    "    label = line.split(' ')[0]\n",
    "    if label not in label_train:\n",
    "        continue\n",
    "    else:\n",
    "        out.write(line)\n",
    "out.close()"
   ]
  },
  {
   "cell_type": "markdown",
   "metadata": {},
   "source": [
    "# Enroll"
   ]
  },
  {
   "cell_type": "code",
   "execution_count": 60,
   "metadata": {},
   "outputs": [],
   "source": [
    "out_path = os.path.join('/workspace/DATASET/server9_ssd/sdsv20', 'sdsv20_enrolllist.txt')"
   ]
  },
  {
   "cell_type": "code",
   "execution_count": 61,
   "metadata": {},
   "outputs": [],
   "source": [
    "with open(os.path.join('/workspace/DATASET/server9_ssd/sdsv20/docs', 'model_enrollment.txt'), 'r') as f:\n",
    "    lines = f.readlines()"
   ]
  },
  {
   "cell_type": "code",
   "execution_count": 62,
   "metadata": {},
   "outputs": [
    {
     "data": {
      "text/plain": [
       "'model-id enroll-file-ids ...\\n'"
      ]
     },
     "execution_count": 62,
     "metadata": {},
     "output_type": "execute_result"
    }
   ],
   "source": [
    "lines[0]"
   ]
  },
  {
   "cell_type": "code",
   "execution_count": 63,
   "metadata": {},
   "outputs": [
    {
     "data": {
      "text/plain": [
       "'model_30555 enr_078961 enr_078962 enr_078963\\n'"
      ]
     },
     "execution_count": 63,
     "metadata": {},
     "output_type": "execute_result"
    }
   ],
   "source": [
    "lines[-1]"
   ]
  },
  {
   "cell_type": "code",
   "execution_count": 64,
   "metadata": {},
   "outputs": [],
   "source": [
    "lines = lines[1:]"
   ]
  },
  {
   "cell_type": "code",
   "execution_count": 65,
   "metadata": {},
   "outputs": [
    {
     "data": {
      "text/plain": [
       "15555"
      ]
     },
     "execution_count": 65,
     "metadata": {},
     "output_type": "execute_result"
    }
   ],
   "source": [
    "len(lines)"
   ]
  },
  {
   "cell_type": "code",
   "execution_count": 67,
   "metadata": {},
   "outputs": [
    {
     "name": "stdout",
     "output_type": "stream",
     "text": [
      "15555\n"
     ]
    }
   ],
   "source": [
    "out = open(out_path, 'w')\n",
    "for count, line in enumerate(lines):\n",
    "    data = line[:-1].split(' ')\n",
    "    label = data[0]\n",
    "    out_line = label\n",
    "    for i in data[1:]:\n",
    "        path = os.path.join('/workspace/DATASET/server9_ssd/sdsv20/task2_enrollment/wav/enrollment', i+'.wav')\n",
    "        if not os.path.exists(path):\n",
    "            print(path)\n",
    "            break\n",
    "        out_line = out_line+' '+os.path.join('task2_enrollment/wav/enrollment', i+'.wav')\n",
    "    out.write(out_line+'\\n')\n",
    "out.close()\n",
    "print(count+1)"
   ]
  },
  {
   "cell_type": "markdown",
   "metadata": {},
   "source": [
    "# Trials"
   ]
  },
  {
   "cell_type": "code",
   "execution_count": 2,
   "metadata": {},
   "outputs": [],
   "source": [
    "out_path = os.path.join('/workspace/DATASET/server9_ssd/sdsv20', 'sdsv20_triallist.txt')"
   ]
  },
  {
   "cell_type": "code",
   "execution_count": 3,
   "metadata": {},
   "outputs": [],
   "source": [
    "with open(os.path.join('/workspace/DATASET/server9_ssd/sdsv20/docs', 'trials.txt'), 'r') as f:\n",
    "    lines = f.readlines()"
   ]
  },
  {
   "cell_type": "code",
   "execution_count": 4,
   "metadata": {},
   "outputs": [
    {
     "data": {
      "text/plain": [
       "'model-id evaluation-file-id\\n'"
      ]
     },
     "execution_count": 4,
     "metadata": {},
     "output_type": "execute_result"
    }
   ],
   "source": [
    "lines[0]"
   ]
  },
  {
   "cell_type": "code",
   "execution_count": 5,
   "metadata": {},
   "outputs": [
    {
     "data": {
      "text/plain": [
       "'model_30555 evl_069534\\n'"
      ]
     },
     "execution_count": 5,
     "metadata": {},
     "output_type": "execute_result"
    }
   ],
   "source": [
    "lines[-1]"
   ]
  },
  {
   "cell_type": "code",
   "execution_count": 6,
   "metadata": {},
   "outputs": [],
   "source": [
    "lines = lines[1:]"
   ]
  },
  {
   "cell_type": "code",
   "execution_count": 7,
   "metadata": {},
   "outputs": [
    {
     "data": {
      "text/plain": [
       "13198024"
      ]
     },
     "execution_count": 7,
     "metadata": {},
     "output_type": "execute_result"
    }
   ],
   "source": [
    "len(lines)"
   ]
  },
  {
   "cell_type": "code",
   "execution_count": 8,
   "metadata": {},
   "outputs": [
    {
     "name": "stdout",
     "output_type": "stream",
     "text": [
      "13198024\n"
     ]
    }
   ],
   "source": [
    "out = open(out_path, 'w')\n",
    "\n",
    "for count, line in enumerate(lines):\n",
    "    data = line[:-1].split(' ')\n",
    "    model = data[0]\n",
    "\n",
    "    path = os.path.join('/workspace/DATASET/server9_ssd/sdsv20/task2_evaluation', data[1]+'.wav')\n",
    "    if not os.path.exists(path):\n",
    "        print(path)\n",
    "        break\n",
    "    out_line = model+' '+os.path.join('task2_evaluation', data[1]+'.wav')\n",
    "    out.write(out_line+'\\n')\n",
    "    \n",
    "out.close()\n",
    "print(count+1)"
   ]
  },
  {
   "cell_type": "markdown",
   "metadata": {},
   "source": [
    "# Small Trials(list only)"
   ]
  },
  {
   "cell_type": "code",
   "execution_count": 155,
   "metadata": {},
   "outputs": [],
   "source": [
    "out_path = os.path.join('/workspace/DATASET/server9_ssd/sdsv20', 'sdsv20_triallist488_listonly.txt')"
   ]
  },
  {
   "cell_type": "code",
   "execution_count": 76,
   "metadata": {},
   "outputs": [],
   "source": [
    "with open(os.path.join('/workspace/DATASET/server9_ssd/sdsv20', 'sdsv20_trainlist.txt'), 'r') as f:\n",
    "    lines = f.readlines()\n",
    "with open(os.path.join('/workspace/DATASET/server9_ssd/sdsv20', 'sm_verlabelpart.log'), 'r') as f:\n",
    "    label_ver = f.readlines()"
   ]
  },
  {
   "cell_type": "code",
   "execution_count": 84,
   "metadata": {},
   "outputs": [
    {
     "data": {
      "text/plain": [
       "'spk_001000 task2_train/wav/train/trn_101064.wav\\n'"
      ]
     },
     "execution_count": 84,
     "metadata": {},
     "output_type": "execute_result"
    }
   ],
   "source": [
    "lines[0]"
   ]
  },
  {
   "cell_type": "code",
   "execution_count": 85,
   "metadata": {},
   "outputs": [
    {
     "data": {
      "text/plain": [
       "'spk_001488\\n'"
      ]
     },
     "execution_count": 85,
     "metadata": {},
     "output_type": "execute_result"
    }
   ],
   "source": [
    "label_ver[0]"
   ]
  },
  {
   "cell_type": "code",
   "execution_count": 86,
   "metadata": {},
   "outputs": [],
   "source": [
    "label_ver = [i[:-1] for i in label_ver]"
   ]
  },
  {
   "cell_type": "code",
   "execution_count": 88,
   "metadata": {},
   "outputs": [
    {
     "data": {
      "text/plain": [
       "'spk_001488'"
      ]
     },
     "execution_count": 88,
     "metadata": {},
     "output_type": "execute_result"
    }
   ],
   "source": [
    "label_ver[0]"
   ]
  },
  {
   "cell_type": "code",
   "execution_count": 89,
   "metadata": {},
   "outputs": [
    {
     "data": {
      "text/plain": [
       "100"
      ]
     },
     "execution_count": 89,
     "metadata": {},
     "output_type": "execute_result"
    }
   ],
   "source": [
    "len(label_ver)"
   ]
  },
  {
   "cell_type": "code",
   "execution_count": 100,
   "metadata": {},
   "outputs": [],
   "source": [
    "ver_spk_dict = {}\n",
    "for line in lines:\n",
    "    label = line.split(' ')[0]\n",
    "    if label not in label_ver:\n",
    "        continue\n",
    "    else:\n",
    "        if label not in ver_spk_dict.keys():\n",
    "            ver_spk_dict[label] = [line.split(' ')[1][:-1]]\n",
    "        else:\n",
    "            ver_spk_dict[label].append(line.split(' ')[1][:-1])"
   ]
  },
  {
   "cell_type": "code",
   "execution_count": 105,
   "metadata": {},
   "outputs": [],
   "source": [
    "ver_len_count = []\n",
    "for i in ver_spk_dict:\n",
    "    ver_len_count.append(len(ver_spk_dict[i]))"
   ]
  },
  {
   "cell_type": "code",
   "execution_count": 115,
   "metadata": {},
   "outputs": [
    {
     "name": "stdout",
     "output_type": "stream",
     "text": [
      "37\n",
      "369\n",
      "14490\n"
     ]
    }
   ],
   "source": [
    "print(min(ver_len_count))\n",
    "print(max(ver_len_count))\n",
    "count_total = 0\n",
    "for i in ver_len_count:\n",
    "    count_total += i\n",
    "print(count_total)"
   ]
  },
  {
   "cell_type": "code",
   "execution_count": 110,
   "metadata": {},
   "outputs": [
    {
     "data": {
      "text/plain": [
       "dict_keys(['spk_001488', 'spk_001489', 'spk_001490', 'spk_001491', 'spk_001492', 'spk_001493', 'spk_001494', 'spk_001495', 'spk_001496', 'spk_001497', 'spk_001498', 'spk_001499', 'spk_001500', 'spk_001501', 'spk_001502', 'spk_001503', 'spk_001504', 'spk_001505', 'spk_001506', 'spk_001507', 'spk_001508', 'spk_001509', 'spk_001510', 'spk_001511', 'spk_001512', 'spk_001513', 'spk_001514', 'spk_001515', 'spk_001516', 'spk_001517', 'spk_001518', 'spk_001519', 'spk_001520', 'spk_001521', 'spk_001522', 'spk_001523', 'spk_001524', 'spk_001525', 'spk_001526', 'spk_001527', 'spk_001528', 'spk_001529', 'spk_001530', 'spk_001531', 'spk_001532', 'spk_001533', 'spk_001534', 'spk_001535', 'spk_001536', 'spk_001537', 'spk_001538', 'spk_001539', 'spk_001540', 'spk_001541', 'spk_001542', 'spk_001543', 'spk_001544', 'spk_001545', 'spk_001546', 'spk_001547', 'spk_001548', 'spk_001549', 'spk_001550', 'spk_001551', 'spk_001552', 'spk_001553', 'spk_001554', 'spk_001555', 'spk_001556', 'spk_001557', 'spk_001558', 'spk_001559', 'spk_001560', 'spk_001561', 'spk_001562', 'spk_001563', 'spk_001564', 'spk_001565', 'spk_001566', 'spk_001567', 'spk_001568', 'spk_001569', 'spk_001570', 'spk_001571', 'spk_001572', 'spk_001573', 'spk_001574', 'spk_001575', 'spk_001576', 'spk_001577', 'spk_001578', 'spk_001579', 'spk_001580', 'spk_001581', 'spk_001582', 'spk_001583', 'spk_001584', 'spk_001585', 'spk_001586', 'spk_001587'])"
      ]
     },
     "execution_count": 110,
     "metadata": {},
     "output_type": "execute_result"
    }
   ],
   "source": [
    "ver_spk_dict.keys()"
   ]
  },
  {
   "cell_type": "code",
   "execution_count": 122,
   "metadata": {},
   "outputs": [
    {
     "name": "stdout",
     "output_type": "stream",
     "text": [
      "14490\n"
     ]
    }
   ],
   "source": [
    "ver_utt_dict = {}\n",
    "for i in ver_spk_dict:\n",
    "    for j in ver_spk_dict[i]:\n",
    "        ver_utt_dict[j] = i\n",
    "print(len(ver_utt_dict))"
   ]
  },
  {
   "cell_type": "code",
   "execution_count": 126,
   "metadata": {},
   "outputs": [],
   "source": [
    "all_utt = list(ver_utt_dict.keys())"
   ]
  },
  {
   "cell_type": "code",
   "execution_count": 156,
   "metadata": {},
   "outputs": [],
   "source": [
    "# list only trials strategy"
   ]
  },
  {
   "cell_type": "code",
   "execution_count": 119,
   "metadata": {},
   "outputs": [],
   "source": [
    "# \n",
    "#  [[0 0 0\n",
    "#    1 0 0\n",
    "#    1 1 0]]\n",
    "# we first find N * N / 2 - N non-repeated pairs and then filter them to target numbers.\n",
    "#"
   ]
  },
  {
   "cell_type": "code",
   "execution_count": 145,
   "metadata": {},
   "outputs": [],
   "source": [
    "all_trial_list_1 = []\n",
    "all_trial_list_0 = []\n",
    "for i in range(count_total):\n",
    "    for j in range(count_total):\n",
    "        if i > j:\n",
    "            utt1 = all_utt[i]\n",
    "            utt2 = all_utt[j]\n",
    "            lab1 = ver_utt_dict[utt1]\n",
    "            lab2 = ver_utt_dict[utt2]\n",
    "            if lab1 == lab2:\n",
    "                ans = '1'\n",
    "                all_trial_list_1.append(ans+' '+utt1+' '+utt2)\n",
    "            else:\n",
    "                ans = '0'\n",
    "                all_trial_list_0.append(ans+' '+utt1+' '+utt2)"
   ]
  },
  {
   "cell_type": "code",
   "execution_count": 143,
   "metadata": {},
   "outputs": [
    {
     "data": {
      "text/plain": [
       "104972805.0"
      ]
     },
     "execution_count": 143,
     "metadata": {},
     "output_type": "execute_result"
    }
   ],
   "source": [
    "14490 * 14490 / 2 - 14490 / 2"
   ]
  },
  {
   "cell_type": "code",
   "execution_count": 146,
   "metadata": {},
   "outputs": [
    {
     "name": "stdout",
     "output_type": "stream",
     "text": [
      "1269536\n",
      "103703269\n"
     ]
    },
    {
     "data": {
      "text/plain": [
       "104972805"
      ]
     },
     "execution_count": 146,
     "metadata": {},
     "output_type": "execute_result"
    }
   ],
   "source": [
    "print(len(all_trial_list_1))\n",
    "print(len(all_trial_list_0))\n",
    "len(all_trial_list_1) + len(all_trial_list_0)"
   ]
  },
  {
   "cell_type": "code",
   "execution_count": null,
   "metadata": {},
   "outputs": [],
   "source": [
    "# we use all target trials and sample same num of non-target trials"
   ]
  },
  {
   "cell_type": "code",
   "execution_count": 154,
   "metadata": {},
   "outputs": [],
   "source": [
    "random.shuffle(all_trial_list_0)"
   ]
  },
  {
   "cell_type": "code",
   "execution_count": 157,
   "metadata": {},
   "outputs": [
    {
     "name": "stdout",
     "output_type": "stream",
     "text": [
      "2539072\n"
     ]
    }
   ],
   "source": [
    "out = open(out_path, 'w')\n",
    "\n",
    "for count, line in enumerate(all_trial_list_1):\n",
    "    out_line = line\n",
    "    out.write(out_line+'\\n')\n",
    "    \n",
    "    line_0 = all_trial_list_0[count]\n",
    "    out_line = line_0\n",
    "    out.write(out_line+'\\n')\n",
    "    \n",
    "    \n",
    "out.close()\n",
    "print((count+1)*2)"
   ]
  },
  {
   "cell_type": "code",
   "execution_count": 158,
   "metadata": {},
   "outputs": [
    {
     "data": {
      "text/plain": [
       "2539072"
      ]
     },
     "execution_count": 158,
     "metadata": {},
     "output_type": "execute_result"
    }
   ],
   "source": [
    "1269536 * 2"
   ]
  }
 ],
 "metadata": {
  "kernelspec": {
   "display_name": "Python 3",
   "language": "python",
   "name": "python3"
  },
  "language_info": {
   "codemirror_mode": {
    "name": "ipython",
    "version": 3
   },
   "file_extension": ".py",
   "mimetype": "text/x-python",
   "name": "python",
   "nbconvert_exporter": "python",
   "pygments_lexer": "ipython3",
   "version": "3.7.7"
  }
 },
 "nbformat": 4,
 "nbformat_minor": 4
}
