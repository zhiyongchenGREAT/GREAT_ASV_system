{
 "cells": [
  {
   "cell_type": "code",
   "execution_count": 1,
   "metadata": {},
   "outputs": [],
   "source": [
    "import os"
   ]
  },
  {
   "cell_type": "markdown",
   "metadata": {},
   "source": [
    "# 5994+488(6482)"
   ]
  },
  {
   "cell_type": "code",
   "execution_count": 3,
   "metadata": {},
   "outputs": [],
   "source": [
    "vox_train = '/workspace/DATASET/server9_ssd/voxceleb/vox2_trainlist.txt'\n",
    "sdsv_train = '/workspace/DATASET/server9_ssd/sdsv20/sdsv20_trainlist488.txt'\n",
    "out = '/workspace/DATASET/server9_ssd/sdsv_voxceleb_da/vox2sdsv20_488.txt'"
   ]
  },
  {
   "cell_type": "code",
   "execution_count": 17,
   "metadata": {},
   "outputs": [],
   "source": [
    "with open(vox_train, 'r') as f:\n",
    "    vox_lines = f.readlines()"
   ]
  },
  {
   "cell_type": "code",
   "execution_count": 18,
   "metadata": {},
   "outputs": [],
   "source": [
    "with open(sdsv_train, 'r') as f:\n",
    "    sdsv_lines = f.readlines()"
   ]
  },
  {
   "cell_type": "code",
   "execution_count": 19,
   "metadata": {},
   "outputs": [
    {
     "data": {
      "text/plain": [
       "1092009"
      ]
     },
     "execution_count": 19,
     "metadata": {},
     "output_type": "execute_result"
    }
   ],
   "source": [
    "len(vox_lines)"
   ]
  },
  {
   "cell_type": "code",
   "execution_count": 20,
   "metadata": {},
   "outputs": [
    {
     "data": {
      "text/plain": [
       "71274"
      ]
     },
     "execution_count": 20,
     "metadata": {},
     "output_type": "execute_result"
    }
   ],
   "source": [
    "len(sdsv_lines)"
   ]
  },
  {
   "cell_type": "code",
   "execution_count": 21,
   "metadata": {},
   "outputs": [],
   "source": [
    "for count, i in enumerate(vox_lines):\n",
    "    a, b = i.split(' ')\n",
    "    vox_lines[count] = a+' '+'0'+' '+b"
   ]
  },
  {
   "cell_type": "code",
   "execution_count": 22,
   "metadata": {},
   "outputs": [],
   "source": [
    "for count, i in enumerate(sdsv_lines):\n",
    "    a, b = i.split(' ')\n",
    "    sdsv_lines[count] = a+' '+'1'+' '+b"
   ]
  },
  {
   "cell_type": "code",
   "execution_count": 27,
   "metadata": {},
   "outputs": [],
   "source": [
    "vox_sdsv = vox_lines + sdsv_lines"
   ]
  },
  {
   "cell_type": "code",
   "execution_count": 28,
   "metadata": {},
   "outputs": [],
   "source": [
    "with open(out, 'w') as f:\n",
    "    for i in vox_sdsv:\n",
    "        f.write(i)"
   ]
  },
  {
   "cell_type": "markdown",
   "metadata": {},
   "source": [
    "# 5994+488(6482) balance (split)"
   ]
  },
  {
   "cell_type": "code",
   "execution_count": 2,
   "metadata": {},
   "outputs": [],
   "source": [
    "vox_train = '/workspace/DATASET/server9_ssd/voxceleb/vox2_trainlist.txt'\n",
    "sdsv_train = '/workspace/DATASET/server9_ssd/sdsv20/sdsv20_trainlist488.txt'\n",
    "vox_out = '/workspace/DATASET/server9_ssd/sdsv_voxceleb_da/vox2_trainlist_da.txt'\n",
    "sdsv_out = '/workspace/DATASET/server9_ssd/sdsv_voxceleb_da/sdsv20_trainlist_da.txt'"
   ]
  },
  {
   "cell_type": "code",
   "execution_count": 3,
   "metadata": {},
   "outputs": [],
   "source": [
    "with open(vox_train, 'r') as f:\n",
    "    vox_lines = f.readlines()"
   ]
  },
  {
   "cell_type": "code",
   "execution_count": 4,
   "metadata": {},
   "outputs": [],
   "source": [
    "with open(sdsv_train, 'r') as f:\n",
    "    sdsv_lines = f.readlines()"
   ]
  },
  {
   "cell_type": "code",
   "execution_count": 5,
   "metadata": {},
   "outputs": [
    {
     "data": {
      "text/plain": [
       "1092009"
      ]
     },
     "execution_count": 5,
     "metadata": {},
     "output_type": "execute_result"
    }
   ],
   "source": [
    "len(vox_lines)"
   ]
  },
  {
   "cell_type": "code",
   "execution_count": 6,
   "metadata": {},
   "outputs": [
    {
     "data": {
      "text/plain": [
       "71274"
      ]
     },
     "execution_count": 6,
     "metadata": {},
     "output_type": "execute_result"
    }
   ],
   "source": [
    "len(sdsv_lines)"
   ]
  },
  {
   "cell_type": "code",
   "execution_count": 7,
   "metadata": {},
   "outputs": [],
   "source": [
    "for count, i in enumerate(vox_lines):\n",
    "    a, b = i.split(' ')\n",
    "    vox_lines[count] = a+' '+'0'+' '+b"
   ]
  },
  {
   "cell_type": "code",
   "execution_count": 8,
   "metadata": {},
   "outputs": [],
   "source": [
    "for count, i in enumerate(sdsv_lines):\n",
    "    a, b = i.split(' ')\n",
    "    sdsv_lines[count] = a+' '+'1'+' '+b"
   ]
  },
  {
   "cell_type": "code",
   "execution_count": 9,
   "metadata": {},
   "outputs": [],
   "source": [
    "with open(vox_out, 'w') as f:\n",
    "    for i in vox_lines:\n",
    "        f.write(i)"
   ]
  },
  {
   "cell_type": "code",
   "execution_count": 10,
   "metadata": {},
   "outputs": [],
   "source": [
    "with open(sdsv_out, 'w') as f:\n",
    "    for i in sdsv_lines:\n",
    "        f.write(i)"
   ]
  },
  {
   "cell_type": "markdown",
   "metadata": {},
   "source": [
    "# 5994+1211+488(7693)"
   ]
  },
  {
   "cell_type": "code",
   "execution_count": 2,
   "metadata": {},
   "outputs": [],
   "source": [
    "vox_train = '/workspace/DATASET/server9_ssd/voxceleb/vox2_trainlist.txt'\n",
    "vox1_train = '/workspace/DATASET/server9_ssd/voxceleb/vox1_trainlist.txt'\n",
    "sdsv_train = '/workspace/DATASET/server9_ssd/sdsv20/sdsv20_trainlist488.txt'\n",
    "out = '/workspace/DATASET/server9_ssd/sdsv_voxceleb_da/vox1vox2sdsv20_488.txt'"
   ]
  },
  {
   "cell_type": "code",
   "execution_count": 3,
   "metadata": {},
   "outputs": [],
   "source": [
    "with open(vox_train, 'r') as f:\n",
    "    vox_lines = f.readlines()"
   ]
  },
  {
   "cell_type": "code",
   "execution_count": 4,
   "metadata": {},
   "outputs": [],
   "source": [
    "with open(vox1_train, 'r') as f:\n",
    "    vox1_lines = f.readlines()"
   ]
  },
  {
   "cell_type": "code",
   "execution_count": 17,
   "metadata": {},
   "outputs": [],
   "source": [
    "with open(sdsv_train, 'r') as f:\n",
    "    sdsv_lines = f.readlines()"
   ]
  },
  {
   "cell_type": "code",
   "execution_count": 6,
   "metadata": {},
   "outputs": [
    {
     "data": {
      "text/plain": [
       "1092009"
      ]
     },
     "execution_count": 6,
     "metadata": {},
     "output_type": "execute_result"
    }
   ],
   "source": [
    "len(vox_lines)"
   ]
  },
  {
   "cell_type": "code",
   "execution_count": 7,
   "metadata": {},
   "outputs": [
    {
     "data": {
      "text/plain": [
       "148642"
      ]
     },
     "execution_count": 7,
     "metadata": {},
     "output_type": "execute_result"
    }
   ],
   "source": [
    "len(vox1_lines)"
   ]
  },
  {
   "cell_type": "code",
   "execution_count": 8,
   "metadata": {},
   "outputs": [
    {
     "data": {
      "text/plain": [
       "71274"
      ]
     },
     "execution_count": 8,
     "metadata": {},
     "output_type": "execute_result"
    }
   ],
   "source": [
    "len(sdsv_lines)"
   ]
  },
  {
   "cell_type": "code",
   "execution_count": 9,
   "metadata": {},
   "outputs": [],
   "source": [
    "for count, i in enumerate(vox_lines):\n",
    "    a, b = i.split(' ')\n",
    "    vox_lines[count] = a+' '+'0'+' '+b"
   ]
  },
  {
   "cell_type": "code",
   "execution_count": 10,
   "metadata": {},
   "outputs": [],
   "source": [
    "for count, i in enumerate(vox1_lines):\n",
    "    a, b = i.split(' ')\n",
    "    vox1_lines[count] = a+' '+'0'+' '+b"
   ]
  },
  {
   "cell_type": "code",
   "execution_count": 18,
   "metadata": {},
   "outputs": [],
   "source": [
    "for count, i in enumerate(sdsv_lines):\n",
    "    a, b = i.split(' ')\n",
    "    sdsv_lines[count] = a+' '+'1'+' '+b"
   ]
  },
  {
   "cell_type": "code",
   "execution_count": 19,
   "metadata": {},
   "outputs": [],
   "source": [
    "vox_vox1_sdsv = vox_lines + vox1_lines + sdsv_lines"
   ]
  },
  {
   "cell_type": "code",
   "execution_count": 20,
   "metadata": {},
   "outputs": [],
   "source": [
    "with open(out, 'w') as f:\n",
    "    for i in vox_vox1_sdsv:\n",
    "        f.write(i)"
   ]
  },
  {
   "cell_type": "code",
   "execution_count": null,
   "metadata": {},
   "outputs": [],
   "source": []
  }
 ],
 "metadata": {
  "kernelspec": {
   "display_name": "Python 3",
   "language": "python",
   "name": "python3"
  },
  "language_info": {
   "codemirror_mode": {
    "name": "ipython",
    "version": 3
   },
   "file_extension": ".py",
   "mimetype": "text/x-python",
   "name": "python",
   "nbconvert_exporter": "python",
   "pygments_lexer": "ipython3",
   "version": "3.7.7"
  }
 },
 "nbformat": 4,
 "nbformat_minor": 4
}
